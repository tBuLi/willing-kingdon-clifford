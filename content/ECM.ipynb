{
 "cells": [
  {
   "cell_type": "code",
   "execution_count": 1,
   "id": "54927fb8-eeb7-4ab9-9caa-6eddd4d6babc",
   "metadata": {
    "editable": true,
    "slideshow": {
     "slide_type": "slide"
    },
    "tags": []
   },
   "outputs": [
    {
     "data": {
      "application/vnd.jupyter.widget-view+json": {
       "model_id": "d8103470db4c46b28c183fa1c16d25b7",
       "version_major": 2,
       "version_minor": 0
      },
      "text/plain": [
       "VBox(children=(FloatSlider(value=4.329777002067039, max=10.0, min=-10.0, step=0.01), FloatSlider(value=-6.4183…"
      ]
     },
     "execution_count": 1,
     "metadata": {},
     "output_type": "execute_result"
    }
   ],
   "source": [
    "from kingdon import Algebra\n",
    "import ipywidgets\n",
    "from functools import partial\n",
    "\n",
    "DistSlider = partial(ipywidgets.FloatSlider, min=-10, max=10, step=0.01, readout=True, readout_format='.2f')\n",
    "\n",
    "ac_widget = DistSlider(value=4.329777002067039)\n",
    "bd_widget = DistSlider(value=-6.418389614876762)\n",
    "\n",
    "alg = Algebra(2, 0, 1)\n",
    "locals().update(alg.blades)\n",
    "\n",
    "# Construct points and lines from coefficients\n",
    "point = lambda x, y: (e0 + x*e1 + y*e2).dual()\n",
    "line = lambda a, b, c: a*e1 + b*e2 + c*e0\n",
    "\n",
    "# The formulas for projection and rejection are the same for all elements of geometry in PGA\n",
    "project = lambda a, b: (a | b) / b\n",
    "reject = lambda a, b: (a | b)\n",
    "\n",
    "A = point(1, 1)\n",
    "B = point(-1, 1)\n",
    "C = point(-1, -1)\n",
    "AC = A & C\n",
    "\n",
    "graph = alg.graph(\n",
    "    0xD0FFE1, [A,B,C],\n",
    "    0x882288, project(B, AC), \"project B onto AC\",\n",
    "    0x882288, project(AC, B), \"project AC onto B\",\n",
    "    0x008844, reject(AC, B),  \"reject AC from B\",\n",
    "    0x00AA88, AC, \"AC\",\n",
    "    0x224488, A, \"A\", B, \"B\", C, \"C\",\n",
    "    lineWidth=3, grid=1, labels=1\n",
    ")\n",
    "ipywidgets.VBox([ac_widget, bd_widget, graph])"
   ]
  },
  {
   "cell_type": "code",
   "execution_count": null,
   "id": "aff833d1-cc98-4ae6-93f5-bfc247aada30",
   "metadata": {},
   "outputs": [],
   "source": []
  }
 ],
 "metadata": {
  "kernelspec": {
   "display_name": "Python 3 (ipykernel)",
   "language": "python",
   "name": "python3"
  },
  "language_info": {
   "codemirror_mode": {
    "name": "ipython",
    "version": 3
   },
   "file_extension": ".py",
   "mimetype": "text/x-python",
   "name": "python",
   "nbconvert_exporter": "python",
   "pygments_lexer": "ipython3",
   "version": "3.10.14"
  }
 },
 "nbformat": 4,
 "nbformat_minor": 5
}
