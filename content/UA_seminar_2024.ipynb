{
 "cells": [
  {
   "cell_type": "code",
   "execution_count": 1,
   "id": "8bbbfc53-0ecb-421b-8e46-601d83ea3b83",
   "metadata": {
    "ExecuteTime": {
     "end_time": "2024-11-24T10:39:44.614288Z",
     "start_time": "2024-11-24T10:39:42.516274Z"
    },
    "editable": true,
    "slideshow": {
     "slide_type": "skip"
    },
    "tags": []
   },
   "outputs": [
    {
     "name": "stdout",
     "output_type": "stream",
     "text": [
      "Note: you may need to restart the kernel to use updated packages.\n"
     ]
    }
   ],
   "source": [
    "%pip install -q kingdon anywidget==0.9.13 ipywidgets==8.1.3"
   ]
  },
  {
   "cell_type": "markdown",
   "id": "bd7bccfa-9785-4fea-b91e-da424f7b9efd",
   "metadata": {
    "editable": true,
    "slideshow": {
     "slide_type": "slide"
    },
    "tags": []
   },
   "source": [
    "# Geometric Gauges: \n",
    "# Plane and Simple\n",
    "\n",
    "**<p style=\"text-align: right;\">Martin Roelfs</p>**\n",
    "<p style=\"text-align: right;\">University of Antwerp</p>"
   ]
  },
  {
   "cell_type": "code",
   "execution_count": 2,
   "id": "9ca11294-7da6-4229-bc57-b99cea30f2d4",
   "metadata": {
    "ExecuteTime": {
     "end_time": "2024-11-24T10:39:44.676660Z",
     "start_time": "2024-11-24T10:39:44.654972Z"
    }
   },
   "outputs": [
    {
     "data": {
      "application/javascript": [
       "require(\n",
       "    {\n",
       "      // it makes sense to wait a little bit when you are loading\n",
       "      // reveal from a cdn in a slow connection environment\n",
       "      waitSeconds: 15\n",
       "    },\n",
       "    [\n",
       "      \"https://unpkg.com/reveal.js@4.0.2/dist/reveal.js\",\n",
       "      \"https://unpkg.com/reveal.js@4.0.2/plugin/notes/notes.js\"\n",
       "    ],\n",
       "\n",
       "    function(Reveal, RevealNotes){\n",
       "        function broadcast(event) {\n",
       "            var cur = Reveal.getIndices();\n",
       "            console.log('current', cur);\n",
       "            var iFrames = [...document.querySelectorAll('iframe')].filter(x=>x.src);\n",
       "            iFrames.forEach(iFrame=>iFrame.contentWindow.postMessage([cur.h, cur.v, cur.f]+'',\"*\"));\n",
       "            \n",
       "        };\n",
       "        \n",
       "        Reveal.addEventListener('fragmentshown', broadcast);\n",
       "        Reveal.addEventListener('fragmenthidden', broadcast);\n",
       "        Reveal.addEventListener('slidetransitionend', broadcast);\n",
       "    }\n",
       ");\n"
      ],
      "text/plain": [
       "<IPython.core.display.Javascript object>"
      ]
     },
     "metadata": {},
     "output_type": "display_data"
    }
   ],
   "source": [
    "%%js\n",
    "require(\n",
    "    {\n",
    "      // it makes sense to wait a little bit when you are loading\n",
    "      // reveal from a cdn in a slow connection environment\n",
    "      waitSeconds: 15\n",
    "    },\n",
    "    [\n",
    "      \"https://unpkg.com/reveal.js@4.0.2/dist/reveal.js\",\n",
    "      \"https://unpkg.com/reveal.js@4.0.2/plugin/notes/notes.js\"\n",
    "    ],\n",
    "\n",
    "    function(Reveal, RevealNotes){\n",
    "        function broadcast(event) {\n",
    "            var cur = Reveal.getIndices();\n",
    "            console.log('current', cur);\n",
    "            var iFrames = [...document.querySelectorAll('iframe')].filter(x=>x.src);\n",
    "            iFrames.forEach(iFrame=>iFrame.contentWindow.postMessage([cur.h, cur.v, cur.f]+'',\"*\"));\n",
    "            \n",
    "        };\n",
    "        \n",
    "        Reveal.addEventListener('fragmentshown', broadcast);\n",
    "        Reveal.addEventListener('fragmenthidden', broadcast);\n",
    "        Reveal.addEventListener('slidetransitionend', broadcast);\n",
    "    }\n",
    ");"
   ]
  },
  {
   "cell_type": "code",
   "execution_count": 3,
   "id": "79c0a81f-1313-48ed-a9b5-40f84c486f83",
   "metadata": {
    "ExecuteTime": {
     "end_time": "2024-11-24T10:39:46.084702Z",
     "start_time": "2024-11-24T10:39:45.114917Z"
    }
   },
   "outputs": [
    {
     "data": {
      "application/vnd.jupyter.widget-view+json": {
       "model_id": "99ab980290764e9884aa5c726344b7aa",
       "version_major": 2,
       "version_minor": 1
      },
      "text/plain": [
       "FragmentWidget(state=[0, 0])"
      ]
     },
     "execution_count": 3,
     "metadata": {},
     "output_type": "execute_result"
    }
   ],
   "source": [
    "import reveal_widgets\n",
    "\n",
    "fragment_widget = reveal_widgets.FragmentWidget()\n",
    "fragment_widget"
   ]
  },
  {
   "cell_type": "code",
   "execution_count": 4,
   "id": "a074071a-026c-433d-ba52-28dc29f3d9ec",
   "metadata": {
    "ExecuteTime": {
     "end_time": "2024-11-24T10:41:39.396780Z",
     "start_time": "2024-11-24T10:41:39.388849Z"
    },
    "editable": true,
    "slideshow": {
     "slide_type": ""
    },
    "tags": []
   },
   "outputs": [],
   "source": [
    "import ipywidgets as ipy\n",
    "\n",
    "from animations import (\n",
    "    refl_1d_graph_func_0,\n",
    "    refl_1d_graph_func_1,\n",
    "    refl_1d_graph_func_2,\n",
    "    refl_1d_graph_func_3,\n",
    "    refl_2d_graph_func,\n",
    "    birefl_graph_func,\n",
    "    point_refl_graph_func,\n",
    "    birefl_gauge_rot_func,\n",
    "    birefl_gauge_trans_func,\n",
    "    points_gp_graph_func,\n",
    "    sw_graph_func,\n",
    "    proj_graph_func,\n",
    "    birefl_iden_graph_func,\n",
    "    birefl_point_graph_func,\n",
    "    lens_graph_func_0,\n",
    "    lens_graph_func_1,\n",
    "    lens_graph_func_2,\n",
    "    lens_graph_func_3,\n",
    ")\n",
    "from animations.config import alg3d, animated_options, options, clrs"
   ]
  },
  {
   "cell_type": "markdown",
   "id": "fd51a160-a212-4913-b6e6-ed0b298a0be6",
   "metadata": {
    "editable": true,
    "slideshow": {
     "slide_type": "subslide"
    },
    "tags": []
   },
   "source": [
    "## Introduction\n",
    "\n",
    "- About Reflections\n",
    "  - Geometric properties of reflections\n",
    "  - Rediscovery of Clifford (Geometric) Algebras as the Algebra of (Euclidean) Geometry\n",
    "- Dimension Agnostic Thinking\n",
    "- Geometric Gauges\n",
    "  - Cartan-Dieudonné Theorem\n",
    "  - Invariant Decomposition Theorem\n",
    "- Spinors"
   ]
  },
  {
   "cell_type": "markdown",
   "id": "d4b5f6d8-3b2a-4380-92ff-4945bfcf3e87",
   "metadata": {
    "editable": true,
    "slideshow": {
     "slide_type": "slide"
    },
    "tags": []
   },
   "source": [
    "## Point-Reflections in $d \\geq 1$ dimension(s)\n",
    "\n",
    "Consider reflections in $1$ dimension.\n",
    "<span class=\"fragment\" data-fragment-index=\"0\">In $1$ dimension, a single point-reflection transforms all points on the line apart from the point in which we reflect.<span class=\"fragment\">\n"
   ]
  },
  {
   "cell_type": "code",
   "execution_count": 5,
   "id": "73cade8e-f43c-48c4-894b-a7a1539973ff",
   "metadata": {
    "ExecuteTime": {
     "end_time": "2024-11-24T10:39:55.081842Z",
     "start_time": "2024-11-24T10:39:55.068679Z"
    },
    "editable": true,
    "slideshow": {
     "slide_type": ""
    },
    "tags": []
   },
   "outputs": [
    {
     "data": {
      "application/vnd.jupyter.widget-view+json": {
       "model_id": "96d5ee89114f4252ae1df73814f691e4",
       "version_major": 2,
       "version_minor": 1
      },
      "text/plain": [
       "GraphWidget(cayley=[['1', 'e0', 'e1', 'e2', 'e3', 'e01', 'e02', 'e03', 'e12', 'e13', 'e23', 'e012', 'e013', 'e…"
      ]
     },
     "execution_count": 5,
     "metadata": {},
     "output_type": "execute_result"
    }
   ],
   "source": [
    "def refl_1d_graph_func():\n",
    "    if fragment_widget.fragment == -1:\n",
    "        return refl_1d_graph_func_0()\n",
    "    if fragment_widget.fragment == 0:\n",
    "        return refl_1d_graph_func_1()\n",
    "    elif fragment_widget.fragment == 1:\n",
    "        return refl_1d_graph_func_2()\n",
    "    return refl_1d_graph_func_3()\n",
    "\n",
    "alg3d.graph(\n",
    "    refl_1d_graph_func,\n",
    "    **animated_options\n",
    ")"
   ]
  },
  {
   "cell_type": "markdown",
   "id": "0c382594-6cf5-4367-abc2-0c41c03d2319",
   "metadata": {
    "editable": true,
    "slideshow": {
     "slide_type": ""
    },
    "tags": []
   },
   "source": [
    "<span class=\"fragment\" data-fragment-index=\"1\">Two point-reflections on the line make a translation along the line over <i>twice the distance between the points</i>.</span>\n",
    "\n",
    "**<p class=\"fragment\" data-fragment-index=\"2\" style=\"text-align: center;\">But how do you know this scenario was 1d?</p>**"
   ]
  },
  {
   "cell_type": "markdown",
   "id": "fb8e8a7d-16db-4f8f-8a2c-8cb14576b51d",
   "metadata": {
    "editable": true,
    "slideshow": {
     "slide_type": "subslide"
    },
    "tags": []
   },
   "source": [
    "## Line-Reflections in $d \\geq 2$ dimensions\n",
    "\n",
    "In $2$ or more dimensions, a single line-reflection transforms the entire space except for the $1$ dimensional subspace in which we reflect."
   ]
  },
  {
   "cell_type": "code",
   "execution_count": 6,
   "id": "087f3420-7fd9-45b9-9a1e-20616d0a8acb",
   "metadata": {
    "ExecuteTime": {
     "end_time": "2024-11-24T10:39:57.240128Z",
     "start_time": "2024-11-24T10:39:57.213074Z"
    },
    "editable": true,
    "slideshow": {
     "slide_type": ""
    },
    "tags": []
   },
   "outputs": [
    {
     "data": {
      "application/vnd.jupyter.widget-view+json": {
       "model_id": "64c04e18142f43c393c800d19a55d243",
       "version_major": 2,
       "version_minor": 1
      },
      "text/plain": [
       "GraphWidget(cayley=[['1', 'e0', 'e1', 'e2', 'e3', 'e01', 'e02', 'e03', 'e12', 'e13', 'e23', 'e012', 'e013', 'e…"
      ]
     },
     "execution_count": 6,
     "metadata": {},
     "output_type": "execute_result"
    }
   ],
   "source": [
    "alg3d.graph(\n",
    "    refl_2d_graph_func,\n",
    "    **options\n",
    ")"
   ]
  },
  {
   "cell_type": "markdown",
   "id": "d3c00217-4c20-4737-b8f4-7cf0f7da3acf",
   "metadata": {
    "editable": true,
    "slideshow": {
     "slide_type": "subslide"
    },
    "tags": []
   },
   "source": [
    "## Bireflections\n",
    "\n",
    "Two reflections can form a translation, a rotation, or a boost, *over twice the distance between the reflections*. These are all examples of **bireflections**."
   ]
  },
  {
   "cell_type": "code",
   "execution_count": 7,
   "id": "e0739f96-af14-4fbf-a914-3a1158a67ecc",
   "metadata": {
    "ExecuteTime": {
     "end_time": "2024-11-24T10:39:59.053875Z",
     "start_time": "2024-11-24T10:39:59.020827Z"
    },
    "editable": true,
    "slideshow": {
     "slide_type": ""
    },
    "tags": []
   },
   "outputs": [
    {
     "data": {
      "application/vnd.jupyter.widget-view+json": {
       "model_id": "347cf75c0cdd4423a4145fa15248f8e1",
       "version_major": 2,
       "version_minor": 0
      },
      "text/plain": [
       "GridspecLayout(children=(GraphWidget(cayley=[['1', 'e0', 'e1', 'e2', 'e3', 'e01', 'e02', 'e03', 'e12', 'e13', …"
      ]
     },
     "execution_count": 7,
     "metadata": {},
     "output_type": "execute_result"
    }
   ],
   "source": [
    "grid_bireflections = ipy.GridspecLayout(1, 2)\n",
    "grid_bireflections[0, 0] = alg3d.graph(\n",
    "    birefl_gauge_rot_func,\n",
    "    **animated_options,\n",
    "    height='300px'\n",
    ")\n",
    "grid_bireflections[0, 1] = alg3d.graph(\n",
    "    birefl_gauge_trans_func,\n",
    "    **animated_options,\n",
    "    height='300px'\n",
    ")\n",
    "grid_bireflections"
   ]
  },
  {
   "cell_type": "markdown",
   "id": "060c57de-1360-478e-84ba-1bc2561c3da2",
   "metadata": {
    "editable": true,
    "slideshow": {
     "slide_type": "fragment"
    },
    "tags": []
   },
   "source": [
    "Given the input and output shape, you could reconstruct the bireflection between them. However, *you could never know which specific reflections were used to make that bireflection!* "
   ]
  },
  {
   "cell_type": "markdown",
   "id": "b6fe67c7-2b5a-4488-9f0c-886aad887d6d",
   "metadata": {
    "editable": true,
    "slideshow": {
     "slide_type": ""
    },
    "tags": []
   },
   "source": [
    "**<p style=\"text-align: center;\">Bireflections have a gauge degree of freedom!</p>**"
   ]
  },
  {
   "cell_type": "markdown",
   "id": "f80cb5b9-6a82-4299-a320-99bd45b7827d",
   "metadata": {
    "editable": true,
    "slideshow": {
     "slide_type": "subslide"
    },
    "tags": []
   },
   "source": [
    "## Bireflections: Honorable Mentions"
   ]
  },
  {
   "cell_type": "code",
   "execution_count": 8,
   "id": "39f3929c-5b83-48ed-ad26-5d461b708092",
   "metadata": {
    "ExecuteTime": {
     "end_time": "2024-11-24T10:40:02.237260Z",
     "start_time": "2024-11-24T10:40:02.202659Z"
    },
    "editable": true,
    "slideshow": {
     "slide_type": ""
    },
    "tags": []
   },
   "outputs": [
    {
     "data": {
      "application/vnd.jupyter.widget-view+json": {
       "model_id": "95b2a735e87042268f89c58d52e63920",
       "version_major": 2,
       "version_minor": 0
      },
      "text/plain": [
       "GridspecLayout(children=(GraphWidget(cayley=[['1', 'e0', 'e1', 'e2', 'e3', 'e01', 'e02', 'e03', 'e12', 'e13', …"
      ]
     },
     "execution_count": 8,
     "metadata": {},
     "output_type": "execute_result"
    }
   ],
   "source": [
    "grid_honorable = ipy.GridspecLayout(1, 2, height='300px')\n",
    "grid_honorable[0, 0] = alg3d.graph(\n",
    "    birefl_iden_graph_func,\n",
    "    **animated_options,\n",
    "    height='300px'\n",
    ")\n",
    "grid_honorable[0, 1] = alg3d.graph(\n",
    "    birefl_point_graph_func,\n",
    "    **animated_options,\n",
    "    height='300px'\n",
    ")\n",
    "grid_honorable"
   ]
  },
  {
   "cell_type": "code",
   "execution_count": 9,
   "id": "80d785eb-8df3-49dd-9b64-ec2bdffd2c26",
   "metadata": {
    "ExecuteTime": {
     "end_time": "2024-11-24T10:40:03.909192Z",
     "start_time": "2024-11-24T10:40:03.897668Z"
    },
    "editable": true,
    "slideshow": {
     "slide_type": ""
    },
    "tags": []
   },
   "outputs": [],
   "source": [
    "# grid = ipy.GridspecLayout(1, 2)\n",
    "# grid[0, 0] = alg3d.graph(\n",
    "#     birefl_graph_func,\n",
    "#     **options\n",
    "# )\n",
    "# grid[0, 1] = alg3d.graph(\n",
    "#     point_refl_graph_func,\n",
    "#     **options\n",
    "# )\n",
    "# grid"
   ]
  },
  {
   "cell_type": "markdown",
   "id": "91b14d34-1271-4964-94d0-a1cb3318042d",
   "metadata": {
    "editable": true,
    "slideshow": {
     "slide_type": "fragment"
    },
    "tags": []
   },
   "source": [
    "- Identity is an even number of identical reflections since reflections are involutary.\n",
    "  > Identity is a $2k$-reflection"
   ]
  },
  {
   "cell_type": "markdown",
   "id": "2e19e2a8-6ee4-436c-ba80-f3270323de21",
   "metadata": {
    "editable": true,
    "slideshow": {
     "slide_type": "fragment"
    },
    "tags": []
   },
   "source": [
    "- Two orthogonal line-reflections are identical to a point-reflection.          \n",
    "  > A point **is** two orthogonal lines!"
   ]
  },
  {
   "cell_type": "markdown",
   "id": "649e3050-7c77-4539-a322-fc2bc5a8023e",
   "metadata": {
    "editable": true,
    "slideshow": {
     "slide_type": "subslide"
    },
    "tags": []
   },
   "source": [
    "## Product between two points\n",
    "\n",
    "The product between two points $a$ and $b$: $R = ab$."
   ]
  },
  {
   "cell_type": "code",
   "execution_count": 10,
   "id": "580eaf97-c693-4874-a66c-993bd1d671dc",
   "metadata": {
    "ExecuteTime": {
     "end_time": "2024-11-24T10:40:05.727159Z",
     "start_time": "2024-11-24T10:40:05.700596Z"
    },
    "editable": true,
    "slideshow": {
     "slide_type": ""
    },
    "tags": []
   },
   "outputs": [
    {
     "data": {
      "application/vnd.jupyter.widget-view+json": {
       "model_id": "0718767ef2ee45a8a99346e5bdb0279e",
       "version_major": 2,
       "version_minor": 0
      },
      "text/plain": [
       "VBox(children=(FloatSlider(value=0.0, max=1.0, min=-1.0, readout_format='.1f', step=0.05), FloatSlider(value=0…"
      ]
     },
     "execution_count": 10,
     "metadata": {},
     "output_type": "execute_result"
    }
   ],
   "source": [
    "from animations.points_gp_graph import p1_slider, p2_slider\n",
    "\n",
    "points_gp_graph = alg3d.graph(\n",
    "    points_gp_graph_func,\n",
    "    **animated_options,\n",
    ")\n",
    "\n",
    "ipy.VBox([p1_slider, p2_slider, points_gp_graph])"
   ]
  },
  {
   "cell_type": "markdown",
   "id": "2c908c9b-e9ac-4eb1-ad31-ad9d9b6ef751",
   "metadata": {
    "editable": true,
    "slideshow": {
     "slide_type": "fragment"
    },
    "tags": []
   },
   "source": [
    "The product of two points is a translation along the line $a \\vee b$! In fact, it is **twice** the translation from $a$ to $b$. This is the same as in 1 dimension!"
   ]
  },
  {
   "cell_type": "markdown",
   "id": "f70e0174-c19b-425a-b4e3-d5e16907a960",
   "metadata": {
    "editable": true,
    "slideshow": {
     "slide_type": "subslide"
    },
    "tags": []
   },
   "source": [
    "## Formulating (a realization of) Geometry\n",
    "\n",
    "<ul>\n",
    "    <li>Reflections are involutary: $r^2 = \\pm 1$. <b>This goes for point-, line-, plane-reflections alike</b>.</li>\n",
    "    <li class=\"fragment\">In a Clifford (Geometric) Algebra, products of orthogonal vectors square to scalars:\n",
    "$$ A = v_1 \\wedge v_2 \\wedge \\cdots \\wedge v_k \\implies A^2 \\in \\mathbb{R} $$</li>\n",
    "    <li class=\"fragment\">It is well-known that the products of vectors in a Clifford Algebra $\\mathbb{R}_{p,q,r}$ are elements of $\\text{Pin}(p,q,r)$.</li>\n",
    "</ul>\n"
   ]
  },
  {
   "cell_type": "markdown",
   "id": "6c99d6e4-f9a2-495b-af3a-24385595e0e0",
   "metadata": {
    "editable": true,
    "slideshow": {
     "slide_type": "fragment"
    },
    "tags": []
   },
   "source": [
    "These statements result in an algebraic representation of the aforementioned geometrical concepts if\n",
    "> The grade-1 vectors are identified with hyperplanes, instead of with arrows pointing at points!"
   ]
  },
  {
   "cell_type": "markdown",
   "id": "166b5bcc-a43d-4c74-806b-09b4fdc90ae5",
   "metadata": {
    "editable": true,
    "slideshow": {
     "slide_type": "subslide"
    },
    "tags": []
   },
   "source": [
    "## Formulating (a realization of) Geometry\n",
    "\n",
    "The equation of a hyperplane in $\\mathbb{R}^{p,q}$ \n",
    "    $$ a_1 x_1 + a_2 x_2 + \\ldots + a_n x_n + b = 0$$\n",
    "with $n = p + q$\n",
    "can be represented as a vector $v$ in a Clifford algebra of dimension $d=n+1$:\n",
    "$$ v = a_1 \\mathbf{e}_1 + a_2 \\mathbf{e}_2 + \\ldots + a_n \\mathbf{e}_n + b \\mathbf{e}_0,$$\n",
    "where $\\mathbf{e}_i$ are the basis vectors of the algebra.\n",
    "\n",
    "<span class=\"fragment\">\n",
    "Depending on the sign of $\\mathbf{e}_0$ we get different geometries:\n",
    "    <ul>\n",
    "        <li>$\\mathbf{e}_0^2 = 1$: Elliptic Projective Geometric Algebra (PGA)</li>\n",
    "        <li>$\\mathbf{e}_0^2 = -1$: Hyperbolic PGA</li>\n",
    "        <li class=\"fragment r-frame\">$\\mathbf{e}_0^2 = 0$: <b>Euclidean</b> PGA</li>\n",
    "    </ul>\n",
    "</span>\n",
    "\n",
    "<p class=\"fragment\">\n",
    "Intuition for $\\mathbf{e}_0^2 = 0$: it represents the (hyper)plane at infinity, in which you cannot reflect.\n",
    "</p>\n"
   ]
  },
  {
   "cell_type": "markdown",
   "id": "9e11bcc8-5283-4ac5-a445-8ab08f4e31c2",
   "metadata": {
    "editable": true,
    "slideshow": {
     "slide_type": "subslide"
    },
    "tags": []
   },
   "source": [
    "## Algebra of Geometry\n",
    "\n",
    "<!--<iframe src=\"https://enkimute.github.io/ganja.js/examples/coffeeshop.html#8lN3hOoNj&fullscreen\" width=\"100%\" height=\"300px\" frameBorder=\"0\" alt=\"iframe\"></iframe>-->\n",
    "<img src=\"https://s3.amazonaws.com/media-p.slid.es/uploads/1013487/images/9831082/pasted-from-clipboard.png\" alt=\"algebra_of_geometry\" />\n"
   ]
  },
  {
   "cell_type": "markdown",
   "id": "30997d0d-03cf-415e-a1b8-74614a34fc89",
   "metadata": {
    "editable": true,
    "slideshow": {
     "slide_type": "fragment"
    },
    "tags": []
   },
   "source": [
    "**<p style=\"text-align: center;\">Points are not some boring zero-dimensional quantity that is hardly worth mentioning;<br> rather they have internal structure and a local $\\text{Spin}(p,q)$ gauge group. </p>**"
   ]
  },
  {
   "cell_type": "markdown",
   "id": "fec5e724-42af-480f-935b-5f0e3ce177cb",
   "metadata": {
    "editable": true,
    "slideshow": {
     "slide_type": "subslide"
    },
    "tags": []
   },
   "source": [
    "## Dimension Agnostic Thinking\n",
    "\n",
    "<span class=\"r-stack\">\n",
    "<h4 class=\"fragment current-visible\" data-fragment-index=\"1\">Thin Lens (Paraxial Approx.): Imaging a point in 2D</h3>\n",
    "<h4 class=\"fragment current-visible\" data-fragment-index=\"2\">Thin Lens (Paraxial Approx.): Imaging a point in 3D Spherical lens</h3>\n",
    "<h4 class=\"fragment current-visible\" data-fragment-index=\"3\">Thin Lens (Paraxial Approx.): Imaging a line  in 3D Spherical lens</h3>\n",
    "<h4 class=\"fragment\" data-fragment-index=\"4\">Thin Lens (Paraxial Approx.): Imaging a point in 3D Cylindrical lens</h3>\n",
    "</span>"
   ]
  },
  {
   "cell_type": "code",
   "execution_count": 11,
   "id": "63ade504-296d-41ce-b099-3dc9963c595f",
   "metadata": {
    "ExecuteTime": {
     "end_time": "2024-11-24T10:40:13.637698Z",
     "start_time": "2024-11-24T10:40:13.593508Z"
    },
    "editable": true,
    "slideshow": {
     "slide_type": ""
    },
    "tags": []
   },
   "outputs": [
    {
     "data": {
      "application/vnd.jupyter.widget-view+json": {
       "model_id": "da2e70922c954288898430641fe291c0",
       "version_major": 2,
       "version_minor": 0
      },
      "text/plain": [
       "GridspecLayout(children=(GraphWidget(cayley=[['1', 'e0', 'e1', 'e2', 'e3', 'e01', 'e02', 'e03', 'e12', 'e13', …"
      ]
     },
     "execution_count": 11,
     "metadata": {},
     "output_type": "execute_result"
    }
   ],
   "source": [
    "lens_code = ipy.HTML(\"\"\"\n",
    "<link rel=\"stylesheet\" href=\"https://github.com/hakimel/reveal.js/tree/master/plugin/highlight/monokai.css\" />\n",
    "<script src=\"https://github.com/hakimel/reveal.js/tree/master/plugin/highlight/highlight.js\"></script>\n",
    "<script>\n",
    "  Reveal.initialize({\n",
    "    plugins: [RevealHighlight],\n",
    "  });\n",
    "</script>\n",
    "\n",
    "<div class=\"r-stack\">\n",
    "<pre class=\"fragment current-visible\" data-fragment-index=\"0\"><code data-trim data-noescape>\n",
    "d = 2\n",
    "alg = Algebra(d, 0, 1)\n",
    "globals().update(alg.blades)\n",
    "\n",
    "# Properties of the lens\n",
    "lens = e1\n",
    "center_point = e0.dual()\n",
    "focal = (e0 + -0.8*e1).dual()\n",
    "center = e0.dual()\n",
    "\n",
    "# object to image\n",
    "world = (e0 - 2*e1 - e2).dual()\n",
    "\n",
    "wc = world & center\n",
    "wf = world & focal\n",
    "wfl = wf ^ lens\n",
    "wfl_dot_l = wfl | (center_point & wfl)\n",
    "img = wfl_dot_l ^ wc\n",
    "</code></pre>\n",
    "\n",
    "<pre class=\"fragment current-visible\" data-fragment-index=\"1\"><code data-trim data-noescape data-line-numbers=\"7\">\n",
    "<b>d = 3</b>\n",
    "alg = Algebra(d, 0, 1)\n",
    "globals().update(alg.blades)\n",
    "\n",
    "# Properties of the lens\n",
    "lens = e1\n",
    "center_point = e0.dual()\n",
    "focal = (e0 + -0.8*e1).dual()\n",
    "center = e0.dual()\n",
    "\n",
    "# object to image\n",
    "world = (e0 - 2*e1 - e2).dual()\n",
    "\n",
    "wc = world & center\n",
    "wf = world & focal\n",
    "wfl = wf ^ lens\n",
    "wfl_dot_l = wfl | (center_point & wfl)\n",
    "img = wfl_dot_l ^ wc\n",
    "</code></pre>\n",
    "\n",
    "<pre class=\"fragment current-visible\" data-fragment-index=\"2\"><code data-trim data-noescape data-line-numbers=\"7\">\n",
    "d = 3\n",
    "alg = Algebra(d, 0, 1)\n",
    "globals().update(alg.blades)\n",
    "\n",
    "# Properties of the lens\n",
    "lens = e1\n",
    "center_point = e0.dual()\n",
    "focal = (e0 + -0.8*e1).dual()\n",
    "center = e0.dual()\n",
    "\n",
    "# object to image\n",
    "<b>world = (e12 + 2*e02 - e01).dual()</b>\n",
    "\n",
    "wc = world & center\n",
    "wf = world & focal\n",
    "wfl = wf ^ lens\n",
    "wfl_dot_l = wfl | (center_point & wfl)\n",
    "img = wfl_dot_l ^ wc\n",
    "</code></pre>\n",
    "\n",
    "</code></pre>\n",
    "<pre class=\"fragment\" data-fragment-index=\"3\"><code data-trim data-noescape data-line-numbers=\"7\">\n",
    "d = 3\n",
    "alg = Algebra(d, 0, 1)\n",
    "globals().update(alg.blades)\n",
    "\n",
    "# Properties of the lens\n",
    "lens = e1\n",
    "center_point = e0.dual()\n",
    "<b>focal = e12 + 0.8*e02\n",
    "center = e12</b>\n",
    "\n",
    "# object to image\n",
    "world = (e0 - 2*e1 - e2).dual()\n",
    "\n",
    "wc = world & center\n",
    "wf = world & focal\n",
    "wfl = wf ^ lens\n",
    "wfl_dot_l = wfl | (center_point & wfl)\n",
    "img = wfl_dot_l ^ wc\n",
    "</code></pre>\n",
    "</div>\n",
    "\n",
    "<div style=\"display: flex; text-justify: auto;\">\n",
    "    <p style=\"vertical-align: middle;\">These animations run live! Scan to convince yourself!</p>\n",
    "    <img src=\"https://github.com/tBuLi/willing-kingdon-clifford/blob/main/content/img/ex_3dpga_thinlens_qr.png?raw=true\"/>\n",
    "</div>\n",
    "\"\"\"\n",
    ")\n",
    "\n",
    "def lens_graph_func():\n",
    "    if fragment_widget.fragment == 1:\n",
    "        return lens_graph_func_1()\n",
    "    if fragment_widget.fragment == 2:\n",
    "        return lens_graph_func_2()\n",
    "    elif fragment_widget.fragment == 3:\n",
    "        return lens_graph_func_3()\n",
    "    return lens_graph_func_0()\n",
    "\n",
    "lens_graph = alg3d.graph(\n",
    "    lens_graph_func,\n",
    "    **animated_options,\n",
    "    camera=alg3d.evenmv(e=1, e13=0.1, e23=-0.1).normalized(),\n",
    "    height='400px',\n",
    "    width='600px'\n",
    ")\n",
    "grid_lens = ipy.GridspecLayout(1, 2)\n",
    "grid_lens[0, 0] = lens_graph\n",
    "grid_lens[0, 1] = lens_code\n",
    "grid_lens"
   ]
  },
  {
   "cell_type": "markdown",
   "id": "bcb5f0af-2ca1-4951-9c50-0f3c2395308e",
   "metadata": {
    "editable": true,
    "slideshow": {
     "slide_type": "slide"
    },
    "tags": []
   },
   "source": [
    "# Geometric Gauges Supercharge Intuition\n",
    "\n",
    "**Geometric Gauges** are the mechanism behind \n",
    "- all products between geometric elements (points, lines, planes etc.).\n",
    "    - projection: $(U \\cdot X) U^{-1}$.\n",
    "    - conjugation: $U X U^{-1}$ where $U \\in \\text{Pin}(p,q,r)$ and $X \\in \\mathbb{R}_{p,q,r}$.\n",
    "- the famous *Cartan-Dieudonné theorem*.\n",
    "- the *invariant decomposition theorem*.\n",
    "\n",
    "Geometric Gauges allow one to answer complicated algebraic questions by levering ones visual cortex."
   ]
  },
  {
   "cell_type": "markdown",
   "id": "845a605f-23b2-483b-8932-30d6eb623346",
   "metadata": {
    "editable": true,
    "slideshow": {
     "slide_type": "subslide"
    },
    "tags": []
   },
   "source": [
    "## Cartan-Dieudonné theorem\n",
    "\n",
    "**Geometric Gauges** are also the geometric mechanism behind the famous *Cartan-Dieudonné theorem*:\n",
    "> Every orthogonal transformation in an $n$-dimensional embedding space is composed from at most $n$ reflections. \n",
    "\n",
    "<iframe class=\"fragement\" src=\"https://enkimute.github.io/ganja.js/examples/coffeeshop.html#Mqs0ezNVP&fullscreen\" width=\"100%\" height=\"300px\" frameBorder=\"0\" scrolling=\"no\"></iframe>"
   ]
  },
  {
   "cell_type": "markdown",
   "id": "71a8707b-0e48-464b-bfc9-c8331ae26063",
   "metadata": {
    "editable": true,
    "slideshow": {
     "slide_type": "subslide"
    },
    "tags": []
   },
   "source": [
    "## Invariant Decomposition Theorem\n",
    "\n",
    "<iframe src=\"https://enkimute.github.io/ganja.js/examples/coffeeshop.html#ffeKS-07k&fullscreen\" width=\"100%\" height=\"375px\" frameBorder=\"0\" alt=\"iframe\"></iframe>\n",
    "<span class=\"fragment\"></span>\n",
    "<span class=\"fragment\"></span>\n",
    "<span class=\"fragment\"></span>\n",
    "<span class=\"fragment\"></span>\n",
    "<span class=\"fragment\"></span>"
   ]
  },
  {
   "cell_type": "markdown",
   "id": "8f383d72-ad9b-4be2-b168-88dc4466dcd8",
   "metadata": {
    "editable": true,
    "slideshow": {
     "slide_type": "fragment"
    },
    "tags": []
   },
   "source": [
    "> Every two dimensional trireflection can be decomposed as a translation along a line followed or preceded by a reflection in the same line."
   ]
  },
  {
   "cell_type": "markdown",
   "id": "63f8ab11-a835-4943-842f-055070268fbc",
   "metadata": {
    "editable": true,
    "slideshow": {
     "slide_type": "subslide"
    },
    "tags": []
   },
   "source": [
    "## Mozzi-Chasles' Theorem\n",
    "\n",
    "<img src=\"https://s3.amazonaws.com/media-p.slid.es/uploads/1142925/images/10389778/figure_chasles_new.PNG\"></img>\n",
    "\n",
    "<div class=\"r-stack\">\n",
    "    <blockquote class=\"fragment current-visible\" data-fragment-index=\"0\" style=\"text-align: center;\">\n",
    "      Every three dimensional rigid body motion can be decomposed into a translation along a line followed or preceded by a rotation around the same line.\n",
    "    </blockquote>\n",
    "  <blockquote class=\"fragment current-visible\" style=\"text-align: center;\"/>\n",
    "      Every <b>three dimensional rigid body motion</b> can be decomposed into a translation along a line followed or preceded by a rotation around the same line.\n",
    "  </blockquote>\n",
    "    <blockquote class=\"fragment current-visible\" style=\"text-align: center;\"/>\n",
    "      Every <u>quadreflection</u> can be decomposed into a translation along a line <b>followed or preceded</b> by a rotation around the same line.\n",
    "  </blockquote>\n",
    "  <blockquote class=\"fragment current-visible\" style=\"text-align: center;\"/>\n",
    "      Every <u>quadreflection</u> can be decomposed into a <u>commuting</u> <b>rotation and translation</b>.\n",
    "  </blockquote>\n",
    "  <blockquote class=\"fragment\" style=\"text-align: center;\"/>\n",
    "      Every <u>quadreflection</u> can be decomposed into <u>commuting</u> <u>bireflections</u>.\n",
    "  </blockquote>\n",
    "</div>"
   ]
  },
  {
   "cell_type": "markdown",
   "id": "a84a1e90-b40b-49cd-9c0f-16972ed74687",
   "metadata": {
    "editable": true,
    "slideshow": {
     "slide_type": "slide"
    },
    "tags": []
   },
   "source": [
    "# Invariant Decomposition\n",
    "\n",
    "**Cartan-Dieudonné**: \n",
    "> Every orthogonal transformation in an $n$-dimensional embedding space is composed from at most $n$ reflections.\n",
    "\n",
    "**Invariant Decomposition**:\n",
    "\n",
    "> A product $U=u_1 u_2 \\cdots u_n \\in \\text{Pin}(p,q,r)$ of $n$ reflections $u_i$ can be decomposed into exactly $\\lceil \\frac n 2 \\rceil$ simple commuting factors. These are $k = \\lfloor \\frac n 2 \\rfloor$ bireflections, and, for odd $n$, one extra reflection.\n"
   ]
  },
  {
   "cell_type": "markdown",
   "id": "d1aa8b38-4ee6-4b91-95b4-e7743dd61c66",
   "metadata": {
    "editable": true,
    "slideshow": {
     "slide_type": "subslide"
    },
    "tags": []
   },
   "source": [
    "## Invariant Decomposition of $U \\in \\text{Pin}(p,q,r)$\n",
    "\n",
    "- **odd $n$**: $U = r R$, where $r$ is a single reflection and $R$ is a $2k$-reflection.\n",
    "  $$r = \\langle U \\rangle_1, \\qquad R = r^{-1} U = U r^{-1}, \\qquad r \\times R = \\tfrac{1}{2} [r, R] = 0 $$\n",
    "- **even $n$**: there exists a factorization of a $2k$-reflection $R$ into $k$ commuting bireflections $R_i$ such that\n",
    "  $$R = \\prod_{i=1}^k R_i = \\prod_{i=1}^k u_i v_i$$\n",
    "\n",
    "Every (simple) bireflection is of the form $R_i = \\alpha_i + \\beta_i b_i$, where $\\alpha_i, \\beta_i \\in \\mathbb{R}$ and $b_i^2 \\in \\mathbb{R}$. Hence this results in a rich variaty of multi-complex-like numbers!\n",
    "\n",
    "<div style=\"display: flex; width='100%'\">\n",
    "    <div>\n",
    "For all the algebraic details, consult our paper: Roelfs, M., De Keninck, S. <b>Graded Symmetry Groups: Plane and Simple</b>. AACA 33, 30 (2023).\n",
    "</div>\n",
    "    <div>\n",
    "<img style=\"float: right;\" src=\"https://github.com/tBuLi/willing-kingdon-clifford/blob/main/content/img/gsg_ps.png?raw=true\"/>\n",
    "        </div>\n",
    "</div>"
   ]
  },
  {
   "cell_type": "markdown",
   "id": "462c7b8f-7e3c-482d-853b-cdc7f9521f07",
   "metadata": {
    "editable": true,
    "slideshow": {
     "slide_type": "subslide"
    },
    "tags": []
   },
   "source": [
    "## Bivector split\n",
    "\n",
    "For a given $2k$-reflection $R = \\prod_{i=1}^k R_i = \\prod_{i=1}^k u_i v_i$, how do we actually find the **commuting** bireflections $R_i = u_i v_i$?"
   ]
  },
  {
   "cell_type": "markdown",
   "id": "333bdbad-8bb6-4c41-b698-e32b3baf4447",
   "metadata": {
    "editable": true,
    "slideshow": {
     "slide_type": ""
    },
    "tags": []
   },
   "source": [
    "Assuming the factorization exists, we know that each bireflection is of the form \n",
    "$$R_i = \\alpha_i + \\beta_i b_i, $$\n",
    "with $\\alpha_i, \\beta_i \\in \\mathbb{R}$ and $b_i$ a *simple* bivector: $b_i^2 = \\lambda_i \\in \\mathbb{R}$.\n",
    "\n",
    "So the bivector part of $R$ is a linear combination of the $b_i$:\n",
    "$$ \\langle R \\rangle_2 = \\sum_{i=1}^k (\\prod_{j \\neq i} \\alpha_j) \\beta_i b_i $$\n",
    "\n",
    "So the **invariant factorization** reduces to the **bivector split**:\n",
    "$$ B = b_1 + b_2 + \\ldots + b_k $$"
   ]
  },
  {
   "cell_type": "markdown",
   "id": "2f37d6ed-bb48-4a4e-9908-37813738458e",
   "metadata": {
    "editable": true,
    "slideshow": {
     "slide_type": "subslide"
    },
    "tags": []
   },
   "source": [
    "## Bivector Split\n",
    "\n",
    "*Question*: Given a bivector $B$, how do we split it into mutually commuting $b_i$?\n",
    "\n",
    "*Answer*: assume the solution $$ B = b_1 + b_2 + \\ldots + b_k $$ exists. \n",
    "Then the $b_i$ must be roots of\n",
    "$$ (b_1 - b_i) (b_2 - b_i) \\cdots (b_k - b_i) = 0. $$\n",
    "<div class=\"fragment\"  data-fragment-index=\"0\">\n",
    "Solve for $b_i$:\n",
    "</div>\n",
    "<div class=\"r-stack\">\n",
    "<div class=\"fragment current-visible\" data-fragment-index=\"0\">\n",
    "$$ b_i = \\frac{B + \\tfrac{1}{3! \\lambda_i} B \\wedge B \\wedge B + \\ldots}{1 + \\tfrac{1}{2! \\lambda_i} B \\wedge B  + \\ldots} $$\n",
    "</div>\n",
    "<div class=\"fragment\" data-fragment-index=\"1\">\n",
    "$$ b_i = \\frac{W_1 + \\tfrac{1}{\\lambda_i} W_3 + \\tfrac{1}{\\lambda_i^2} W_5 + \\ldots}{W_0 + \\tfrac{1}{\\lambda_i} W_2  + \\tfrac{1}{\\lambda_i^2} W_4 + \\ldots}, \\qquad  W_j = \\tfrac{1}{j!} \\langle B^j \\rangle_{2j}$$\n",
    "</div>\n",
    "</div>\n",
    "<div class=\"fragment\">\n",
    "The $\\lambda_i = b_i^2$ are the roots of\n",
    "$$0 = \\sum_{j=0}^k \\langle W_j^2 \\rangle_{0} (- \\lambda_i)^{k-j} $$\n",
    "</div>"
   ]
  },
  {
   "cell_type": "markdown",
   "id": "b3777f5d-93d7-446c-b197-b1bf6fcb98f0",
   "metadata": {
    "editable": true,
    "slideshow": {
     "slide_type": "subslide"
    },
    "tags": []
   },
   "source": [
    "## Bivector Split\n",
    "\n",
    "<div>\n",
    "    $$ b_i = \\frac{W_1 + \\tfrac{1}{\\lambda_i} W_3 + \\tfrac{1}{\\lambda_i^2} W_5 + \\ldots}{W_0 + \\tfrac{1}{\\lambda_i} W_2  + \\tfrac{1}{\\lambda_i^2} W_4 + \\ldots}, \\qquad W_j = \\tfrac{1}{j!} \\langle B^j \\rangle_{2j}, \\qquad \\sum_{j=0}^k \\langle W_j^2 \\rangle_{0} (- \\lambda_i)^{k-j} = 0 $$\n",
    "    $$ $$\n",
    "</div>\n",
    "\n",
    "The numerator and denominator of the $b_i$ formula are reminiscent of sine and cosine series.\n",
    "Can we explain this pattern? David enters the chat."
   ]
  },
  {
   "cell_type": "markdown",
   "id": "1db15270-134b-495b-ba5b-7f37c7e8335f",
   "metadata": {
    "editable": true,
    "slideshow": {
     "slide_type": "subslide"
    },
    "tags": []
   },
   "source": [
    "## Bivector Split\n",
    "\n",
    "Starting from the eigen-equation for the bivector $B$, we can extend this to all $W_j = \\tfrac{1}{j!} \\langle B^j \\rangle_{2j}$:\n",
    "$$ B \\cdot v_\\mu = \\mu v_\\mu \\implies W_j \\cdot v_\\mu = \\mu \\, W_{j-1} \\wedge v_\\mu $$\n",
    "\n",
    "<div class=\"fragment\">\n",
    "If we define the outer exponential \n",
    "$$ \\Lambda^B := 1 + B + \\tfrac{1}{2!} B \\wedge B + \\ldots, $$\n",
    "then can start from $W_k v_\\mu = W_k \\cdot v_\\mu$ and apply the lemma recursivelly, to find\n",
    "$$ B \\cdot v_\\mu = \\mu v_\\mu \\implies \\Lambda^{-B / \\mu} v_\\mu = 0 $$\n",
    "</div>\n",
    "<span class=\"fragment\">\n",
    "This only has non-trivial solutions when $\\Lambda^{B / \\mu} \\Lambda^{- B / \\mu} = 0$, so this is the polynomial in $\\lambda = \\mu^2$ that gives the eigenvalues.\n",
    "</span>\n",
    "<span class=\"fragment\">\n",
    "The bivector split can then be shown to be equivalent to \n",
    "    $$ b_i = \\frac{W_1 + \\tfrac{1}{\\lambda_i} W_3 + \\tfrac{1}{\\lambda_i^2} W_5 + \\ldots}{W_0 + \\tfrac{1}{\\lambda_i} W_2  + \\tfrac{1}{\\lambda_i^2} W_4 + \\ldots} \\qquad \\leftrightarrow \\qquad b_i = \\mu_i {\\text{t}}_\\wedge(B / \\mu_i) = \\mu_i \\frac{\\Lambda^{B / \\mu_i} - \\Lambda^{-B / \\mu_i}}{\\Lambda^{B / \\mu_i} + \\Lambda^{-B / \\mu_i}} $$\n",
    "    $$ \\sum_{j=0}^k \\langle W_j^2 \\rangle_{0} (- \\lambda_i)^{k-j} = 0 \\qquad \\leftrightarrow \\qquad \\Lambda^{B / \\mu_i} \\Lambda^{- B / \\mu_i} = 0 $$\n",
    "</span>"
   ]
  },
  {
   "cell_type": "markdown",
   "id": "559fea28-36ce-49c2-8749-4509aa7503ee",
   "metadata": {
    "editable": true,
    "slideshow": {
     "slide_type": "slide"
    },
    "tags": []
   },
   "source": [
    "# Spinors\n",
    "\n",
    "The *closed form* bivector split solution $b_i = \\mu_i {\\text{t}}_\\wedge(B / \\mu_i)$ can only be performed for unique eigenvalues $\\lambda_i = \\mu_i^2$. What happens for eigenvalues of algebraic multiplicity $m > 1$? \n",
    "\n",
    "Take e.g. a bivector \n",
    "\n",
    "$$ \\Sigma = b_1 + b_2 + \\ldots + b_k $$\n",
    "\n",
    "where $\\lambda := b_1^2 = b_2^2 = \\ldots = b_k^2$.\n",
    "\n",
    "Such a bivector (also known as a **spine**)\n",
    "- Generates an isoclinic rotation $ U = \\exp(\\Sigma)$\n",
    "- Has SU(k) as its isotropy group\n",
    "- Defines a pure spinor!"
   ]
  },
  {
   "cell_type": "markdown",
   "id": "8ea0606e-bb0c-4213-bed2-e712ead53d9e",
   "metadata": {
    "editable": true,
    "slideshow": {
     "slide_type": "subslide"
    },
    "tags": []
   },
   "source": [
    "## Intermezzo: Traditional Spinors\n",
    "\n",
    "Spinor representations of $\\mathbb{R}_{2k}$ are traditionally obtained by \n",
    "<ul>\n",
    "    <li class=\"fragment\" data-fragment-index=\"0\">switching to $\\mathbb{C}_{2k}$ 😞</li>\n",
    "    <li class=\"fragment\" data-fragment-index=\"1\">finding the eigenvectors $v_{\\mu_i}$ of $\\Sigma = b_1 + b_2 + \\ldots + b_k$. (This required complexification.)</li>\n",
    "    <li class=\"fragment\" data-fragment-index=\"2\">constructing the idempotent $$ \\boxplus = \\prod_{i=1}^k v_{+ \\mu_i}v_{- \\mu_i}$$</li>\n",
    "    <li class=\"fragment\" data-fragment-index=\"3\">The $2^k$ <i>complex</i> dimensional spinor space $S_\\mathbb{C}$ is then defined as $$ S_\\mathbb{C} =  \\{ X \\boxplus \\; \\vert \\; X \\in \\mathbb{C}_{2k} \\}  $$</li>\n",
    "</ul>\n",
    "\n",
    "<p class=\"fragment\" data-fragment-index=\"4\">\n",
    "<b>Algebraic Spinor</b>: \n",
    "For $U \\in SU(k)$, we have $U \\boxplus = \\boxplus \\widetilde{U} = 0$, and so $\\psi \\in S_\\mathbb{C}$ satisfies\n",
    "$$\\psi \\to \\psi' = U \\psi.$$\n",
    "Hence, spinors are said to transform one-sidedly under SU(k) transformations.\n",
    "</p>"
   ]
  },
  {
   "cell_type": "markdown",
   "id": "6463bf4a-ae57-4e74-b44f-150e81646b3e",
   "metadata": {
    "editable": true,
    "slideshow": {
     "slide_type": "subslide"
    },
    "tags": []
   },
   "source": [
    "## Intrinsic Spinors\n",
    "\n",
    "\n",
    "<ul>\n",
    "    <li>Foundational principle of the <i>plane-based mindset</i>: the behavior must come from the elements themselves, <i>not</i> the operators we define on them.</li>\n",
    "    <li class=\"fragment\" data-fragment-index=\"0\">This implies that there is no such thing as a one-sided transformation law: group theory demands that all elements transform under two sided conjugation $U \\psi \\widetilde{U}$.</li>\n",
    "    <li class=\"fragment\" data-fragment-index=\"1\">Instead of complexifying, we therefore need to ask a different question:\n",
    "is it possible to find elements directly within $\\mathbb{R}_{2k}$ that <i>intrinsically</i> satisfy the spinorial transformation law?</li>\n",
    "</ul>\n",
    "\n",
    "<br>\n",
    "<div class=\"fragment\">\n",
    "<b>Intrinsic Spinor</b>: For $U \\in SU(k)$, \n",
    "$$\\psi \\to \\psi' = U \\psi \\widetilde{U} = U \\psi$$\n",
    "</div>\n",
    "\n",
    "<div class=\"fragment\">\n",
    "Consider e.g. $i \\sigma_3 = \\begin{pmatrix}i & 0 \\\\ 0 & - i \\end{pmatrix}$, which would be the bivector $b_1 - b_2$.\n",
    "</div>\n",
    "\n",
    "<div class=\"fragment\">\n",
    "This simple example suggest that an intrinsic spinor must be incapable of distinguishing the commuting imaginary units $b_i$, and so we are looking for a projector $\\Box$ satisfying\n",
    "$$b_1 \\Box = b_2 \\Box = \\ldots = b_k \\Box \\ , $$\n",
    "such that \n",
    "$$ (b_1 - b_2)\\Box = 0$$\n",
    "</div>"
   ]
  },
  {
   "cell_type": "markdown",
   "id": "1a7ac7bb-cf82-45af-8b61-4d3594ee4180",
   "metadata": {
    "editable": true,
    "slideshow": {
     "slide_type": "subslide"
    },
    "tags": []
   },
   "source": [
    "## Spinors are Spine-ors!\n",
    "\n",
    "<b>Forgetful Idempotent</b>:\n",
    "$$\\Box = \\tfrac{1}{2^k} \\sum_{i < j} (1 - b_i b_j), \\qquad b_1 \\Box = b_2 \\Box = \\ldots = b_k \\Box \\ . $$\n",
    "The forgetful idempotent defines a real spinor space\n",
    "$$ S_\\mathbb{R} =  \\{ X \\Box \\; \\vert \\; X \\in \\mathbb{R}_{2k} \\}  $$\n",
    "of $2^{k+1}$ *real* dimensions and thus matching the $2^k$ *complex* dimensional spinor space found by the traditional method.\n",
    "\n",
    "<div class=\"fragment\">\n",
    "It turns out that the traditional $\\boxplus$ satisfies $i \\boxplus = b_1 \\boxplus = b_2 \\boxplus = \\ldots = b_k \\boxplus$, and hence additionally cannot distinguish the complex unit $i$ from the $b_i$.\n",
    "</div>\n",
    "\n",
    "<ol>\n",
    "    <li class=\"fragment\">$S_\\mathbb{R}$ has the <i>same dimensionality</i> as $S_\\mathbb{C}$, despite $\\mathbb{C}_{2k}$ being twice as large as $\\mathbb{R}_{2k}$. 🤯</li>\n",
    "    <li class=\"fragment\">Elements $\\psi \\in S_\\mathbb{R}$ satisfy $\\psi \\to \\psi' = U \\psi \\widetilde{U} = U \\psi$ and so are a (reducible) representation of SU(k).</li>\n",
    "    <li class=\"fragment\">Trigger warning: in fact, everything that makes spinors special is captured by $\\Box$, so it seems there was never any need for complexification in the first place. 🤯</li>\n",
    "    <li class=\"fragment\">All our geometric tools can be laid to bear in order to get a better understanding of spinors.</li>\n",
    "</ol>"
   ]
  },
  {
   "cell_type": "markdown",
   "id": "c485b24e-7bed-47a8-88a7-3a6f0644966f",
   "metadata": {
    "editable": true,
    "slideshow": {
     "slide_type": "subslide"
    },
    "tags": []
   },
   "source": [
    "## Outlook\n",
    "\n",
    "1. Apply this method to Lorentzian signatures $\\mathbb{R}_{1,d}$ such as Minkowski space\n",
    "2. Extend to multiple (anti-) commuting spines?\n",
    "3. Applications to Yang-Mills gauge theory: we potentially have a purely geometric explanation for local gauge invariance!"
   ]
  },
  {
   "cell_type": "markdown",
   "id": "83efa672-b673-4bca-bac5-6cc694c2a252",
   "metadata": {
    "editable": true,
    "slideshow": {
     "slide_type": "subslide"
    },
    "tags": []
   },
   "source": [
    "<img src=\"https://static-content.springer.com/esm/art%3A10.1007%2Fs00006-023-01269-9/MediaObjects/6_2023_1269_MOESM1_ESM.png\"></img>"
   ]
  },
  {
   "cell_type": "markdown",
   "id": "ffb7ddbc-7f15-4887-aaf3-88c0fe6d6d20",
   "metadata": {
    "editable": true,
    "slideshow": {
     "slide_type": "slide"
    },
    "tags": []
   },
   "source": [
    "## Closing Remarks"
   ]
  },
  {
   "cell_type": "markdown",
   "id": "dcd48cdd-f119-47f8-91ae-3180ac96e7f2",
   "metadata": {
    "editable": true,
    "slideshow": {
     "slide_type": ""
    },
    "tags": []
   },
   "source": [
    "<div style=\"display: flex; text-justify: auto; font-style: oblique;\" class=\"fragment r-stretch\" data-fragment-index=\"1\">\n",
    "    <p style=\"text-justify: auto; padding-right: 15px;\">L'application des mêmes idées de dualité peut s'étendre à la Mécanique. En effet, l'élément primitif des corps auquel on applique d'abord les premiers principes de cette science, est, comme dans la Géométrie ancienne, le point mathématique. \n",
    "Ne sommes-nous pas autorisés à penser, maintenant, qu'en prenant le plan pour l'élément de l'étendue, et non plus le point, on sera conduit à d'autres doctrines, faisant pour ainsi dire une nouvelle science?</p>\n",
    "    <p style=\"text-justify: auto; padding-left: 15px;\">The application of the same ideas of duality can be extended to Mechanics. Indeed, the primitive element of bodies to which the first principles of this science are applied is, as in ancient Geometry, the mathematical point. Are we not permitted to think, now, that by taking the plane for the basic element, and no longer the point, we shall be led to other doctrines, making, as it were, a new science?\n",
    "</p>\n",
    "</div>\n",
    "<p style=\"text-align: center;\" class=\"fragment\" data-fragment-index=\"1\"><cite>Michel Chasles (1875)</cite></p>\n",
    "\n",
    "<div style=\"display: flex; width='100%'\">\n",
    "    <ul>\n",
    "        <li>Roelfs, M., De Keninck, S. Graded Symmetry Groups: Plane and Simple. AACA 33, 30 (2023).</li>\n",
    "        <li>Eelbode, D., Roelfs, M., De Keninck, S. Outer and Eigen: Tangent Concepts (manuscript under preperation).</li>\n",
    "        <li>Roelfs, M., Eelbode, D., Small GUT Part 1: Electrostrong Unification on one generation of Standard Model Fermions within the real Clifford Algebra $\\mathbb{R}_6$ (manuscript under preperation).</li>\n",
    "        <li>https://bivector.net</li>\n",
    "    </ul>\n",
    "</div>"
   ]
  },
  {
   "cell_type": "markdown",
   "id": "cc377d0c-8570-46cb-ad71-0971162ad356",
   "metadata": {
    "editable": true,
    "slideshow": {
     "slide_type": "slide"
    },
    "tags": []
   },
   "source": [
    "## Back-up slides\n",
    "\n"
   ]
  },
  {
   "cell_type": "markdown",
   "id": "bae5f724-a449-4c5e-a17d-9b20a2ec95a9",
   "metadata": {
    "editable": true,
    "slideshow": {
     "slide_type": "subslide"
    },
    "tags": []
   },
   "source": [
    "## Conjugation\n",
    "\n",
    "How do we reflect the line $b$ over the $a$? Gauges show that we need the product $aba$.\n",
    "- Use the gauge degree of freedom in $ab = a'b'$ until $b' = a$, at which point $ a b a = (a' b') a  = a' ( b' a) = a'$"
   ]
  },
  {
   "cell_type": "code",
   "execution_count": 12,
   "id": "f71f636f-fc03-44a3-82fa-87cfbfff4e91",
   "metadata": {
    "ExecuteTime": {
     "end_time": "2024-11-24T10:42:41.478619Z",
     "start_time": "2024-11-24T10:42:41.459871Z"
    },
    "editable": true,
    "slideshow": {
     "slide_type": ""
    },
    "tags": []
   },
   "outputs": [
    {
     "data": {
      "application/vnd.jupyter.widget-view+json": {
       "model_id": "bce28fe079454484bc6ba11cac1e86d0",
       "version_major": 2,
       "version_minor": 0
      },
      "text/plain": [
       "VBox(children=(FloatSlider(value=0.0, max=1.0, min=-1.0, readout_format='.1f'), GraphWidget(cayley=[['1', 'e0'…"
      ]
     },
     "execution_count": 12,
     "metadata": {},
     "output_type": "execute_result"
    }
   ],
   "source": [
    "from animations.sw_graph import sw_slider\n",
    "\n",
    "sw_graph = alg3d.graph(\n",
    "    sw_graph_func,\n",
    "    **animated_options\n",
    ")\n",
    "ipy.VBox([sw_slider, sw_graph])"
   ]
  },
  {
   "cell_type": "markdown",
   "id": "e64804f9-0ee5-4c67-989f-3a44f4892dca",
   "metadata": {
    "editable": true,
    "slideshow": {
     "slide_type": "subslide"
    },
    "tags": []
   },
   "source": [
    "## Angle vs. Schmangle\n",
    "\n",
    "<iframe src=\"https://enki.ws/ganja.js/examples/coffeeshop.html#ZaNN9NWjY&fullscreen\" width=\"100%\" height=\"375px\" frameBorder=\"0\" alt=\"iframe\"></iframe>\n",
    "<span class=\"fragment\"></span>\n",
    "<span class=\"fragment\"></span>\n",
    "<span class=\"fragment\"></span>\n",
    "<span class=\"fragment\"></span>\n",
    "\n",
    "$$\\begin{aligned}\n",
    "\\psi(\\theta) &= e^{\\theta B} \\psi_0 \\\\\n",
    "\\blacktriangle(\\theta) &= \\psi(\\theta) \\blacktriangle \\widetilde{\\psi}(\\theta)\n",
    "\\end{aligned}\n",
    "$$\n",
    "\n",
    "<h4 style=\"text-align: center;\">720 degrees refers to the schmangle, not the angle!</h4>\n",
    "<p style=\"text-align: center; font-size: 75%\">\n",
    "The bireflection itself is still perfectly geometrical, and returns to its original position after a 360 degree rotation!\n",
    "Reflections have a front and a back! $\\text{SO}(n)$ is the half cover of the rotation group $\\text{Spin}(n)$.\n",
    "</p>"
   ]
  },
  {
   "cell_type": "markdown",
   "id": "40f240fb-e191-40a3-b828-25d2670b7fba",
   "metadata": {
    "editable": true,
    "slideshow": {
     "slide_type": "subslide"
    },
    "tags": []
   },
   "source": [
    "## A Realization of Euclidean Geometry\n",
    "\n",
    "We now have a dimension agnostic realization of (Euclidean) Geometry:\n",
    "\n",
    "<img src=\"https://s3.amazonaws.com/media-p.slid.es/uploads/1142925/images/10385552/1DPGA.png\" alt=\"1DPGA\" style=\"height:50px;\"/>\n",
    "\n",
    "<p class=\"fragment\">\n",
    "The <b>points</b> turned out to have been <b>lines</b> in the one-up space, but the line we could already see <b>remains a line</b>. So $1 \\to \\mathbf{e}_2$, and we get points as intersections:\n",
    "\n",
    "<img class=\"fragment\" src=\"https://s3.amazonaws.com/media-p.slid.es/uploads/1142925/images/10385571/2DPGA.png\" alt=\"2DPGA\" style=\"height:50px;\"/>\n",
    "</p>\n",
    "\n",
    "<p class=\"fragment\">\n",
    "The <b>lines</b> turned out to have been <b>planes</b> in the one-up space, but the plane we could already see <b>remains a plane</b>. So $1 \\to \\mathbf{e}_3$, and we get lines and points as intersections:\n",
    "\n",
    "<img class=\"fragment\" src=\"https://s3.amazonaws.com/media-p.slid.es/uploads/1142925/images/10385575/3DPGA.png\" alt=\"3DPGA\" style=\"height:50px;\"/>\n",
    "</p>"
   ]
  },
  {
   "cell_type": "markdown",
   "id": "abd858cc-17c9-4e69-a9a1-8501b5a1ed37",
   "metadata": {
    "editable": true,
    "slideshow": {
     "slide_type": "subslide"
    },
    "tags": []
   },
   "source": [
    "## Projection\n",
    "\n",
    "To project a geometric element $a$ onto an element $b$, the formula is always\n",
    "    $$ (a \\cdot b) b^{-1} $$"
   ]
  },
  {
   "cell_type": "code",
   "execution_count": 13,
   "id": "01497a35-2757-43bb-aed3-c05e427d223e",
   "metadata": {
    "ExecuteTime": {
     "end_time": "2024-11-24T10:42:35.231740Z",
     "start_time": "2024-11-24T10:42:35.221592Z"
    },
    "editable": true,
    "slideshow": {
     "slide_type": ""
    },
    "tags": []
   },
   "outputs": [],
   "source": [
    "# from animations.proj_graph import proj_slider\n",
    "# \n",
    "# proj_graph = alg3d.graph(\n",
    "#     proj_graph_func,\n",
    "#     **animated_options\n",
    "# )\n",
    "# ipy.VBox([proj_slider, proj_graph])"
   ]
  },
  {
   "cell_type": "markdown",
   "id": "dc54c6c8-9b86-4223-8fd2-42c5d6bf0238",
   "metadata": {
    "editable": true,
    "slideshow": {
     "slide_type": "fragment"
    },
    "tags": []
   },
   "source": [
    "<p style=\"text-align: center;\">Gauges explain the conjugation formula $aba^{-1}$ for $a,b \\in \\text{Pin}(p, q, r)$!</p>"
   ]
  },
  {
   "cell_type": "code",
   "execution_count": null,
   "id": "cb8827d2-385b-4bab-b9a9-f7cd1ca09181",
   "metadata": {
    "editable": true,
    "slideshow": {
     "slide_type": ""
    },
    "tags": []
   },
   "outputs": [],
   "source": []
  },
  {
   "cell_type": "code",
   "execution_count": null,
   "id": "82634c06-df49-48cb-9ae9-be806f58f4c2",
   "metadata": {
    "editable": true,
    "slideshow": {
     "slide_type": ""
    },
    "tags": []
   },
   "outputs": [],
   "source": []
  }
 ],
 "metadata": {
  "kernelspec": {
   "display_name": "Python 3 (ipykernel)",
   "language": "python",
   "name": "python3"
  },
  "language_info": {
   "codemirror_mode": {
    "name": "ipython",
    "version": 3
   },
   "file_extension": ".py",
   "mimetype": "text/x-python",
   "name": "python",
   "nbconvert_exporter": "python",
   "pygments_lexer": "ipython3",
   "version": "3.10.15"
  }
 },
 "nbformat": 4,
 "nbformat_minor": 5
}
