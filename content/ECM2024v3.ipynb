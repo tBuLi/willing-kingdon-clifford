{
 "cells": [
  {
   "cell_type": "code",
   "execution_count": 1,
   "id": "8bbbfc53-0ecb-421b-8e46-601d83ea3b83",
   "metadata": {
    "editable": true,
    "slideshow": {
     "slide_type": "skip"
    },
    "tags": []
   },
   "outputs": [
    {
     "name": "stdout",
     "output_type": "stream",
     "text": [
      "Note: you may need to restart the kernel to use updated packages.\n"
     ]
    }
   ],
   "source": [
    "%pip install -q kingdon anywidget==0.9.13"
   ]
  },
  {
   "cell_type": "markdown",
   "id": "bd7bccfa-9785-4fea-b91e-da424f7b9efd",
   "metadata": {
    "editable": true,
    "slideshow": {
     "slide_type": "slide"
    },
    "tags": []
   },
   "source": [
    "# Geometric Gauges: \n",
    "# Plane and Simple\n",
    "\n",
    "**<p style=\"text-align: right;\">Martin Roelfs</p>**\n",
    "<p style=\"text-align: right;\">University of Antwerp</p>"
   ]
  },
  {
   "cell_type": "code",
   "execution_count": 38,
   "id": "54927fb8-eeb7-4ab9-9caa-6eddd4d6babc",
   "metadata": {
    "editable": true,
    "slideshow": {
     "slide_type": "skip"
    },
    "tags": []
   },
   "outputs": [],
   "source": [
    "from kingdon import Algebra, MultiVector\n",
    "import numpy as np\n",
    "import itertools\n",
    "import timeit\n",
    "import ipywidgets as ipy\n",
    "from collections.abc import Callable\n",
    "\n",
    "alg3d = Algebra(3, 0, 1)\n",
    "\n",
    "options = dict(\n",
    "    lineWidth=4,\n",
    "    pointRadius=2.5,\n",
    "    fontSize=3,\n",
    ")\n",
    "animated_options = dict(animate=1, **options)\n",
    "clrs = [0xff9900, 0xfed290, 0x009977, 0x000000]"
   ]
  },
  {
   "cell_type": "code",
   "execution_count": 39,
   "id": "892f72ea-b92d-4de7-8193-ed3ae680576a",
   "metadata": {
    "editable": true,
    "slideshow": {
     "slide_type": "skip"
    },
    "tags": []
   },
   "outputs": [],
   "source": [
    "# https://enkimute.github.io/ganja.js/examples/coffeeshop.html#XOWMGemyJ\n",
    "\n",
    "# Initiate a shape\n",
    "np.random.seed(42)\n",
    "coords = np.ones((3, 5))\n",
    "coords[1:3] = np.random.uniform(0.5, 1.5, size=(2, 5))\n",
    "points1 = alg3d.vector(coords, keys=('e0', 'e1', 'e2')).dual()\n",
    "points2 = points1.map(lambda v: np.roll(v, 1, axis=-1))\n",
    "shape = list(zip(points1, points2))\n",
    "\n",
    "# Reflections\n",
    "PLANE = alg3d.vector(e3=1)\n",
    "origin = alg3d.blades.e0.dual() | PLANE\n",
    "p1 = alg3d.vector(e0=1, e1=0, e2=0).dual()\n",
    "p2 = alg3d.vector(e0=1, e1=0, e2=1).dual()\n",
    "# p3 = alg.vector(e0=1, e1=1, e2=0.3).dual()\n",
    "u = lambda: ((p1 & p2).normalized())\n",
    "L1 = alg3d.vector(e1=1).normalized() ^ PLANE\n",
    "L2 = alg3d.vector(e1=1, e2=0.5).normalized() ^ PLANE\n",
    "L3 = alg3d.vector(e1=1, e0=0.5).normalized() ^ PLANE\n",
    "\n",
    "pa = alg3d.vector(e0=1, e1=0.5, e2=0).dual()\n",
    "pb = alg3d.vector(e0=1, e1=-1.5, e2=0).dual()\n",
    "L4 = alg3d.vector(e2=1).normalized()\n",
    "\n",
    "line_point_end = alg3d.vector(e0=1, e1=2, e2=0).dual().normalized()\n",
    "line_point_begin = alg3d.vector(e0=2, e1=2, e2=0).dual().normalized()\n",
    "line_segment = [line_point_begin, line_point_end]"
   ]
  },
  {
   "cell_type": "code",
   "execution_count": 40,
   "id": "73cade8e-f43c-48c4-894b-a7a1539973ff",
   "metadata": {
    "editable": true,
    "slideshow": {
     "slide_type": "skip"
    },
    "tags": []
   },
   "outputs": [],
   "source": [
    "# Input for the graph showing point-reflections in 1D, tilting into 2D.\n",
    "line = (L4 ^ PLANE).normalized()\n",
    "T1 = alg3d.evenmv(e=1.0, e01=0.4)\n",
    "T2 = alg3d.evenmv(e=1.0, e03=-1.0)\n",
    "_begin_point_line = alg3d.evenmv(e=1.0, e01=-5) >> pa\n",
    "_end_point_line = alg3d.evenmv(e=1.0, e01=5) >> pa\n",
    "vanishing_point = ((line | pa) ^ L4) ^ alg3d.blades.e0\n",
    "\n",
    "grid_lines = [\n",
    "    [T1.reverse() >> (T2 >> pa), vanishing_point], \n",
    "    [T2.reverse() >> _begin_point_line, T2.reverse() >> _end_point_line]\n",
    "]\n",
    "for i in range(5):\n",
    "    gl1 = grid_lines[-2]\n",
    "    gl2 = grid_lines[-1]\n",
    "    grid_lines.append([T1 >> gl1[0], gl1[1]])\n",
    "    grid_lines.append([~T2 >> gl2[0], ~T2 >> gl2[1]])\n",
    "\n",
    "t0 = None\n",
    "def refl_1d_graph_func():\n",
    "    line_segment_a = [pa >> point for point in line_segment]\n",
    "    line_segment_b = [pb >> point for point in line_segment_a]\n",
    "    global t0\n",
    "    \n",
    "    if graph.fragment_widget.fragment == -1:\n",
    "        return [\n",
    "            [_begin_point_line, _end_point_line],\n",
    "            pa, 'a',\n",
    "            '<G stroke-width=\"0.05\">',\n",
    "            clrs[0],\n",
    "            line_segment,\n",
    "            line_segment[-1],\n",
    "            '</G>',\n",
    "        ]\n",
    "    elif graph.fragment_widget.fragment == 0:\n",
    "        return [\n",
    "            [_begin_point_line, _end_point_line],\n",
    "            pa, 'a',\n",
    "            '<G stroke-width=\"0.05\">',\n",
    "            clrs[0],\n",
    "            line_segment,\n",
    "            line_segment[-1],\n",
    "            '</G>',\n",
    "            '<G stroke-width=\"0.05\">',\n",
    "            clrs[2],\n",
    "            line_segment_a,\n",
    "            line_segment_a[-1],\n",
    "            '</G>',\n",
    "        ]\n",
    "    elif graph.fragment_widget.fragment == 1:\n",
    "        return [\n",
    "            [_begin_point_line, _end_point_line],\n",
    "            pa, 'a',\n",
    "            pb, 'b',\n",
    "            '<G stroke-width=\"0.05\">',\n",
    "            clrs[0],\n",
    "            line_segment,\n",
    "            line_segment[-1],\n",
    "            '</G>',\n",
    "            '<G stroke-width=\"0.05\">',\n",
    "            clrs[2],\n",
    "            line_segment_a,\n",
    "            line_segment_a[-1],\n",
    "            '</G>',\n",
    "            '<G stroke-width=\"0.05\">',\n",
    "            clrs[0],\n",
    "            line_segment_b,\n",
    "            line_segment_b[-1],\n",
    "            '</G>',\n",
    "        ]\n",
    "    elif graph.fragment_widget.fragment >= 2:\n",
    "        if t0 is None:\n",
    "            t0 = timeit.default_timer()\n",
    "\n",
    "        omega = -min((timeit.default_timer() - t0) / 25, np.pi / 20)\n",
    "        R = np.cos(omega) + line * np.sin(omega)\n",
    "        \n",
    "        return [\n",
    "            [_begin_point_line, _end_point_line],\n",
    "            '<G stroke-width=\"0.02\" stroke-opacity=\"0.5\">',\n",
    "            *[[R >> gl[0], R >> gl[1]] for gl in grid_lines],\n",
    "            '</G>',\n",
    "            '<G stroke-width=\"0.05\">',\n",
    "            pa, 'a',\n",
    "            pb, 'b',\n",
    "            '</G>',\n",
    "            '<G stroke-width=\"0.05\">',\n",
    "            clrs[0],\n",
    "            line_segment,\n",
    "            line_segment[-1],\n",
    "            '</G>',\n",
    "            '<G stroke-width=\"0.05\">',\n",
    "            clrs[2],\n",
    "            line_segment_a,\n",
    "            line_segment_a[-1],\n",
    "            '</G>',\n",
    "            '<G stroke-width=\"0.05\">',\n",
    "            clrs[0],\n",
    "            line_segment_b,\n",
    "            line_segment_b[-1],\n",
    "            '</G>',\n",
    "        ]"
   ]
  },
  {
   "cell_type": "code",
   "execution_count": 41,
   "id": "2b6a7e22-ca07-475d-b1fe-df74191f4da6",
   "metadata": {
    "editable": true,
    "slideshow": {
     "slide_type": "skip"
    },
    "tags": []
   },
   "outputs": [],
   "source": [
    "# Graph showing a single reflection in 2D.\n",
    "\n",
    "def refl_graph_func():\n",
    "    t = timeit.default_timer() / 50\n",
    "    # Create the reflected shape and the lines between them\n",
    "    R = np.cos(t) + origin*np.sin(t)\n",
    "    L1p = R >> L1\n",
    "    _rpoints1 = L1p >> points1\n",
    "    _rpoints2 = L1p >> points2\n",
    "    rshape = zip(_rpoints1, _rpoints2)\n",
    "    rlines = zip(_rpoints1, points1)\n",
    "    \n",
    "    return [\n",
    "        L1p,\n",
    "        clrs[0],\n",
    "        *shape, \n",
    "        clrs[2],\n",
    "        *rshape,\n",
    "        '<G stroke-width=\"0.002\">',clrs[0],\n",
    "        *rlines,\n",
    "        '</G>',\n",
    "    ]"
   ]
  },
  {
   "cell_type": "code",
   "execution_count": 42,
   "id": "5722f892-eaf2-472c-b880-93c3463c7684",
   "metadata": {
    "editable": true,
    "slideshow": {
     "slide_type": "skip"
    },
    "tags": []
   },
   "outputs": [],
   "source": [
    "# Interactive bireflections.\n",
    "\n",
    "def bi_refl_graph_func():\n",
    "    # Reflect the points once and then once more.\n",
    "    rpoints1 = u >> points1\n",
    "    rrpoints1 = L1 >> rpoints1\n",
    "    rpoints2 = u >> points2\n",
    "    rrpoints2 = L1 >> rpoints2\n",
    "    \n",
    "    # Create the reflected shape and the lines between them\n",
    "    rshape = zip(rpoints1, rpoints2)\n",
    "    rrshape = zip(rrpoints1, rrpoints2)\n",
    "    rlines = zip(rpoints1, points1)\n",
    "    rrlines = zip(rpoints1, rrpoints1)\n",
    "    \n",
    "    return [\n",
    "        p1, p2,\n",
    "        u,\n",
    "        L1,\n",
    "        clrs[0],\n",
    "        *shape, \n",
    "        '<G stroke-dasharray=\"0.02 0.02\">',clrs[1],\n",
    "        *rshape,\n",
    "        '</G>',\n",
    "        '<G stroke-width=\"0.002\">',clrs[0],\n",
    "        *rlines,\n",
    "        *rrlines,\n",
    "        '</G>',\n",
    "        clrs[2], \n",
    "        *rrshape,\n",
    "    ]\n",
    "\n",
    "def point_graph_func():\n",
    "    # Create the reflected shape and the lines between them\n",
    "    point_reflected_points1 = p1 >> points1\n",
    "    point_reflected_points2 = p1 >> points2\n",
    "    rshape = zip(point_reflected_points1, point_reflected_points2)\n",
    "    rlines = zip(point_reflected_points1, points1)\n",
    "    \n",
    "    return [\n",
    "        p1,\n",
    "        clrs[0],\n",
    "        *shape, \n",
    "        clrs[2],\n",
    "        *rshape,\n",
    "        '<G stroke-width=\"0.002\">',clrs[0],\n",
    "        *rlines,\n",
    "        '</G>',\n",
    "    ]"
   ]
  },
  {
   "cell_type": "code",
   "execution_count": 43,
   "id": "4373ac2f-897b-408a-9b64-db5867887c04",
   "metadata": {
    "editable": true,
    "slideshow": {
     "slide_type": "skip"
    },
    "tags": []
   },
   "outputs": [],
   "source": [
    "# Gauge degree in bireflections animation. # TODO: Show both rotation and translation.\n",
    "def _birefl_gauge_func(L1, L2, R0=None):\n",
    "    # R0 is the initial state.\n",
    "    # if R0:\n",
    "    #     L1 = R0 >> L1\n",
    "    #     L2 = R0 >> L2\n",
    "    #     _points1 = R0 >> points1\n",
    "    #     _points2 = R0 >> points2\n",
    "    #     _shape = list(zip(_points1, _points2))\n",
    "        \n",
    "    intersection = L1.cp(L2)\n",
    "    if not intersection**2:\n",
    "        R = lambda t: 1 + intersection*np.sin(5*t)\n",
    "    else:\n",
    "        R = lambda t: np.cos(t) + intersection*np.sin(t)\n",
    "        \n",
    "    def _graph_func():\n",
    "        t = timeit.default_timer() / 30\n",
    "        L1p = R(t) >> L1\n",
    "        L2p = R(t) >> L2\n",
    "        # Reflect the points once and then once more.\n",
    "        rpoints1 = L1p >> points1\n",
    "        rrpoints1 = L2p >> rpoints1\n",
    "        rpoints2 = L1p >> points2\n",
    "        rrpoints2 = L2p >> rpoints2\n",
    "        # Create the reflected shape and the lines between them\n",
    "        rshape = zip(rpoints1, rpoints2)\n",
    "        rrshape = zip(rrpoints1, rrpoints2)\n",
    "        rlines = zip(rpoints1, points1)\n",
    "        rrlines = zip(rpoints1, rrpoints1)\n",
    "        \n",
    "        return [\n",
    "            '<G stroke-opacity=\"0.4\">', clrs[-1],\n",
    "            L1p,\n",
    "            L2p,\n",
    "            '</G>',\n",
    "            0xff9900,\n",
    "            *shape, \n",
    "            '<G stroke-dasharray=\"0.02 0.02\">',0xfed290,\n",
    "            *rshape,\n",
    "            '</G>',\n",
    "            '<G stroke-width=\"0.002\">',0xff9900,\n",
    "            *rlines,\n",
    "            *rrlines,\n",
    "            '</G>',\n",
    "            0x009977, \n",
    "            *rrshape,\n",
    "        ]\n",
    "    return _graph_func\n",
    "\n",
    "Tleft = alg3d.evenmv(e=1.0, e01=-1.5)\n",
    "Tright = alg3d.evenmv(e=1.0, e01=1.5)\n",
    "\n",
    "_birefl_gauge_rot_func = _birefl_gauge_func(L1, L2, R0=Tleft)\n",
    "_birefl_gauge_trans_func = _birefl_gauge_func(L1, L3, R0=Tright)"
   ]
  },
  {
   "cell_type": "code",
   "execution_count": 44,
   "id": "a2ad2b9f-3cad-4d49-9482-afac4f081a37",
   "metadata": {
    "editable": true,
    "slideshow": {
     "slide_type": "skip"
    },
    "tags": []
   },
   "outputs": [],
   "source": [
    "# Product of two points, with sliders. # TODO: also show the 3D perspective?\n",
    "p1plane1 = alg3d.vector(e0=1.0, e1=1.0, e2=0.0).normalized()\n",
    "p1plane2 = alg3d.vector(e0=1.0, e1=0.0, e2=1.0).normalized()\n",
    "p2plane1 = alg3d.vector(e0=-1.0, e1=1.0, e2=0.0).normalized()\n",
    "p2plane2 = alg3d.vector(e0=-1.0, e1=0.0, e2=1.0).normalized()\n",
    "p1l1 = p1plane1 ^ PLANE\n",
    "p1l2 = p1plane2 ^ PLANE\n",
    "axis1 = p1plane1 ^ p1plane2\n",
    "p1 = axis1 ^ PLANE\n",
    "p2l1 = p2plane1 ^ PLANE\n",
    "p2l2 = p2plane2 ^ PLANE\n",
    "axis2 = p2plane1 ^ p2plane2\n",
    "p2 = axis2 ^ PLANE\n",
    "\n",
    "p1_slider = ipy.FloatSlider(\n",
    "    value=0.0,\n",
    "    min=-1.0,\n",
    "    max=1.0,\n",
    "    step=0.05,\n",
    "    description='',\n",
    "    disabled=False,\n",
    "    continuous_update=True,\n",
    "    orientation='horizontal',\n",
    "    readout=True,\n",
    "    readout_format='.1f',\n",
    ")\n",
    "p2_slider = ipy.FloatSlider(\n",
    "    value=0.0,\n",
    "    min=-1.0,\n",
    "    max=1.0,\n",
    "    step=0.05,\n",
    "    description='',\n",
    "    disabled=False,\n",
    "    continuous_update=True,\n",
    "    orientation='horizontal',\n",
    "    readout=True,\n",
    "    readout_format='.1f',\n",
    ")\n",
    "\n",
    "def points_gp_graph_func():\n",
    "    R1 = np.cos(0.25*np.pi*p1_slider.value) + axis1*np.sin(0.25*np.pi*p1_slider.value)\n",
    "    R2 = np.cos(0.25*np.pi*p2_slider.value) + axis2*np.sin(0.25*np.pi*p2_slider.value)\n",
    "    _p1l1 = R1 >> p1l1\n",
    "    _p1l2 = R1 >> p1l2\n",
    "    _p2l1 = R2 >> p2l1\n",
    "    _p2l2 = R2 >> p2l2\n",
    "    _p1plane1 = R1 >> p1plane1\n",
    "    _p2plane1 = R2 >> p2plane1\n",
    "    \n",
    "    # _p1 = _p1l1.cp(_p1l2) ^ PLANE\n",
    "    # _p2 = _p2l1.cp(_p2l2) ^ PLANE\n",
    "    _p1 = p1\n",
    "    _p2 = p2\n",
    "    if abs((_p1plane1 ^ _p2).dual().e) < 1e-3 and abs((_p2plane1 ^ _p1).dual().e) < 1e-3:\n",
    "        return [\n",
    "            clrs[0],\n",
    "            _p1l2, _p1, 'a',\n",
    "            '<G stroke-opacity=\"0.1\">',\n",
    "            _p1l1,\n",
    "            '</G>',\n",
    "            clrs[2],\n",
    "            _p2l2, _p2, \"b\",\n",
    "            '<G stroke-dasharray=\"0.1 0.1\" stroke-opacity=\"0.1\">',\n",
    "            _p2l1,\n",
    "            '</G>',\n",
    "        ]\n",
    "    return [\n",
    "        clrs[0],\n",
    "        _p1l1, _p1l2, _p1, 'a',\n",
    "        clrs[2],\n",
    "        _p2l1, _p2l2, _p2, \"b\",\n",
    "    ]\n"
   ]
  },
  {
   "cell_type": "code",
   "execution_count": 45,
   "id": "33a8c4b3-e638-47f4-8298-90c47c2e8470",
   "metadata": {
    "editable": true,
    "slideshow": {
     "slide_type": ""
    },
    "tags": []
   },
   "outputs": [],
   "source": [
    "sw_slider = ipy.FloatSlider(\n",
    "    value=0.0,\n",
    "    min=-1.0,\n",
    "    max=1.0,\n",
    "    step=0.05,\n",
    "    description='',\n",
    "    disabled=False,\n",
    "    continuous_update=True,\n",
    "    orientation='horizontal',\n",
    "    readout=True,\n",
    "    readout_format='.1f',\n",
    ")\n",
    "\n",
    "def sw_graph_func():\n",
    "    if sw_slider.value == 0.0:\n",
    "        return [\n",
    "            clrs[0],\n",
    "            L1, 'a',\n",
    "            clrs[2],\n",
    "            L2, \"b'\",\n",
    "            '<G stroke-dasharray=\"0.1 0.1\">', clrs[1],\n",
    "            L1, \"a'\",\n",
    "            '</G>',\n",
    "        ]\n",
    "    elif sw_slider.value < 1.0:\n",
    "        t = np.arccos((L1 | L2).e) * sw_slider.value\n",
    "        intersection = L1 ^ L2\n",
    "        R = np.cos(t) + intersection*np.sin(t)\n",
    "        L2p = R >> L2\n",
    "        L1p = R >> L1\n",
    "        \n",
    "        return [\n",
    "            clrs[0],\n",
    "            L1, 'a',\n",
    "            clrs[2],\n",
    "            L2p, \"b'\",\n",
    "            clrs[1],\n",
    "            L1p, \"a'\",\n",
    "        ]\n",
    "    else:\n",
    "        R = (L1 * L2).sqrt()\n",
    "        L2p = R >> L2\n",
    "        L1p = R >> L1\n",
    "        \n",
    "        return [\n",
    "            '<G fill-opacity=\"0.3\" stroke-opacity=\"0.1\">', \n",
    "            clrs[0],\n",
    "            L1, 'a',\n",
    "            '</G>',\n",
    "            '<G stroke-opacity=\"0.3\" fill-opacity=\"0.3\" stroke-dasharray=\"0.1 0.1\">', \n",
    "            clrs[2],\n",
    "            L2p, \"b'\",\n",
    "            '</G>',\n",
    "            clrs[0],\n",
    "            L1p, \"a'\",\n",
    "        ]"
   ]
  },
  {
   "cell_type": "code",
   "execution_count": 55,
   "id": "4e152d91-8dc0-41c6-946a-e2065e5c5a9e",
   "metadata": {
    "editable": true,
    "slideshow": {
     "slide_type": ""
    },
    "tags": []
   },
   "outputs": [],
   "source": [
    "import anywidget\n",
    "import traitlets\n",
    "\n",
    "from reveal_widgets import FragmentWidget\n",
    "from kingdon.graph import GraphWidget\n",
    "\n",
    "graph_funcs = {\n",
    "    (0, 0): lambda: [],\n",
    "    (1, 0): refl_1d_graph_func,\n",
    "    (1, 1): refl_graph_func,\n",
    "    (1, 2): bi_refl_graph_func,\n",
    "    (1, 3): _birefl_gauge_trans_func,\n",
    "    (1, 4): points_gp_graph_func,\n",
    "    (1, 5): sw_graph_func,\n",
    "}\n",
    "\n",
    "class RevealWidget(GraphWidget):\n",
    "    fragment_widget = traitlets.Instance(FragmentWidget, args=tuple(), kwargs=dict())\n",
    "    graph_funcs = traitlets.Dict({})\n",
    "\n",
    "    def __init__(self, *args, raw_subjects, **kwargs):\n",
    "        print(raw_subjects)\n",
    "        kwargs['graph_funcs'] = raw_subjects[0]\n",
    "        super().__init__(*args, raw_subjects=(raw_subjects[0][(0, 0)],), **kwargs)\n",
    "        self.set_notifiers()\n",
    "        \n",
    "    def set_notifiers(self):\n",
    "        self.fragment_widget.observe(self.changed_state, ['state', 'fragment'])\n",
    "        \n",
    "    def changed_state(self, change):\n",
    "        # print(change)\n",
    "        fw = change['owner']\n",
    "        slide_state = fw.state\n",
    "        if slide_state in self.graph_funcs:\n",
    "            self.raw_subjects = [self.graph_funcs[slide_state]]\n",
    "            self.pre_subjects = self.get_pre_subjects()\n",
    "            # self.subjects = self.get_subjects()\n",
    "            self.draggable_points_idxs = self.get_draggable_points_idxs()\n",
    "        # self.draggable_points = self.get_draggable_points()\n",
    "        \n",
    "\n",
    "# fragment_widget = FragmentWidget()\n",
    "# fragment_widget.slide = 1\n",
    "# fragment_widget.subslide = 0\n",
    "# fragment_widget.fragment = 1\n",
    "# fragment_widget"
   ]
  },
  {
   "cell_type": "code",
   "execution_count": 56,
   "id": "789ee0ff-47c8-4b78-b201-ed1fc3471df9",
   "metadata": {
    "editable": true,
    "slideshow": {
     "slide_type": ""
    },
    "tags": []
   },
   "outputs": [
    {
     "name": "stdout",
     "output_type": "stream",
     "text": [
      "({(0, 0): <function <lambda> at 0x11cf6a0e0>, (1, 0): <function refl_1d_graph_func at 0x11cf68e50>, (1, 1): <function refl_graph_func at 0x109a58c10>, (1, 2): <function bi_refl_graph_func at 0x11cf69900>, (1, 3): <function _birefl_gauge_func.<locals>._graph_func at 0x11cf3dab0>, (1, 4): <function points_gp_graph_func at 0x11cf689d0>, (1, 5): <function sw_graph_func at 0x11cf688b0>},)\n"
     ]
    }
   ],
   "source": [
    "# def nested_transform(subject, R):\n",
    "#     if isinstance(subject, (MultiVector, Callable)):\n",
    "#         return R >> subject\n",
    "#     elif isinstance(subject, (list, tuple)):\n",
    "#         return [nested_transform(s, R) for s in subject]\n",
    "#     return subject\n",
    "\n",
    "# def graph_func():\n",
    "#     \"\"\" Returns the right graph function on the basis of the currenty slide. \"\"\"\n",
    "#     if fragment_widget.slide_state == (1, 0):\n",
    "#         return refl_1d_graph_func()\n",
    "#     elif fragment_widget.slide_state == (1, 1):\n",
    "#         return refl_graph_func()\n",
    "#     elif fragment_widget.slide_state == (1, 2):\n",
    "#         if fragment_widget.fragment >= 1:\n",
    "#             return point_graph_func()\n",
    "#         return bi_refl_graph_func()\n",
    "#     elif fragment_widget.slide_state == (1, 3):\n",
    "#         # left = nested_transform(_birefl_gauge_rot_func(), Tleft)\n",
    "#         # right = nested_transform(_birefl_gauge_trans_func(), Tright)\n",
    "#         left = _birefl_gauge_rot_func()\n",
    "#         right = []#_birefl_gauge_trans_func()\n",
    "#         return [*left, *right]\n",
    "#     elif fragment_widget.slide_state == (1, 4):\n",
    "#         return points_gp_graph_func()\n",
    "#     elif fragment_widget.slide_state == (1, 5):\n",
    "#         return sw_graph_func()\n",
    "#     return [origin]\n",
    "\n",
    "# fragment_widget.observe(graph_func_selector, names=[\"slide\", \"subslide\", \"fragment\"])\n",
    "\n",
    "graph = alg3d.graph(\n",
    "    graph_funcs, **animated_options, graph_widget=RevealWidget\n",
    ")\n",
    "\n",
    "slide_slider = ipy.IntText(\n",
    "    value=graph.fragment_widget.slide,\n",
    "    description='Slide:',\n",
    "    disabled=False\n",
    ")\n",
    "subslide_slider = ipy.IntText(\n",
    "    value=graph.fragment_widget.subslide,\n",
    "    description='Subslide:',\n",
    "    disabled=False\n",
    ")\n",
    "fragment_slider = ipy.IntText(\n",
    "    value=graph.fragment_widget.fragment,\n",
    "    description='Fragment:',\n",
    "    disabled=False\n",
    ")\n",
    "_ = ipy.link((slide_slider, 'value'), (graph.fragment_widget, 'slide'))\n",
    "_ = ipy.link((subslide_slider, 'value'), (graph.fragment_widget, 'subslide'))\n",
    "_ = ipy.link((fragment_slider, 'value'), (graph.fragment_widget, 'fragment'))"
   ]
  },
  {
   "cell_type": "code",
   "execution_count": 61,
   "id": "da84f85e-b098-4a14-9f4c-98b06cce44d0",
   "metadata": {
    "editable": true,
    "slideshow": {
     "slide_type": ""
    },
    "tags": []
   },
   "outputs": [
    {
     "data": {
      "text/plain": [
       "((1, 2), [<function __main__.bi_refl_graph_func()>])"
      ]
     },
     "execution_count": 61,
     "metadata": {},
     "output_type": "execute_result"
    }
   ],
   "source": [
    "graph.fragment_widget.state, graph.raw_subjects"
   ]
  },
  {
   "cell_type": "code",
   "execution_count": 58,
   "id": "9101bba0-8137-4794-b2ff-bac2800b7ad2",
   "metadata": {
    "editable": true,
    "slideshow": {
     "slide_type": "skip"
    },
    "tags": []
   },
   "outputs": [
    {
     "data": {
      "application/vnd.jupyter.widget-view+json": {
       "model_id": "0bb24604711e44e29efe16e991d48ee0",
       "version_major": 2,
       "version_minor": 0
      },
      "text/plain": [
       "VBox(children=(IntText(value=0, description='Slide:'), IntText(value=0, description='Subslide:'), IntText(valu…"
      ]
     },
     "execution_count": 58,
     "metadata": {},
     "output_type": "execute_result"
    }
   ],
   "source": [
    "ipy.VBox([slide_slider, subslide_slider, fragment_slider, graph])"
   ]
  },
  {
   "cell_type": "markdown",
   "id": "fd51a160-a212-4913-b6e6-ed0b298a0be6",
   "metadata": {
    "editable": true,
    "slideshow": {
     "slide_type": "subslide"
    },
    "tags": []
   },
   "source": [
    "## Introduction\n",
    "\n",
    "- About Reflections"
   ]
  },
  {
   "cell_type": "markdown",
   "id": "d4b5f6d8-3b2a-4380-92ff-4945bfcf3e87",
   "metadata": {
    "editable": true,
    "slideshow": {
     "slide_type": "slide"
    },
    "tags": []
   },
   "source": [
    "## About Reflections\n",
    "\n",
    "<span class=\"fragment\">In $1$ dimension, a single point-reflection inverts all points on the line.<span class=\"fragment\">\n",
    "<span class=\"fragment\">Two point-reflections on the line make a translation along the line.</span>\n",
    "<p class=\"fragment\" style=\"text-align: center;\">But how do you know this scenario was 1d?</p>\n",
    "\n",
    "<p class=\"fragment\" style=\"text-align: center;\">\n",
    "As we go to higher dimensions, these properties should still hold: \n",
    "- one point-reflections inverts any line through that point.\n",
    "- two point-reflections to create a translation along the line.\n",
    "</p>"
   ]
  },
  {
   "cell_type": "code",
   "execution_count": null,
   "id": "b93a3c41-8b5c-4763-ab6a-328949cf593a",
   "metadata": {
    "editable": true,
    "slideshow": {
     "slide_type": ""
    },
    "tags": []
   },
   "outputs": [],
   "source": [
    "graph"
   ]
  },
  {
   "cell_type": "markdown",
   "id": "fb8e8a7d-16db-4f8f-8a2c-8cb14576b51d",
   "metadata": {
    "editable": true,
    "slideshow": {
     "slide_type": "subslide"
    },
    "tags": []
   },
   "source": [
    "In $d$ dimensions, a single reflection inverts the entire space except for the $d-1$ dimensional subspace in which we reflect."
   ]
  },
  {
   "cell_type": "code",
   "execution_count": null,
   "id": "087f3420-7fd9-45b9-9a1e-20616d0a8acb",
   "metadata": {
    "editable": true,
    "slideshow": {
     "slide_type": ""
    },
    "tags": []
   },
   "outputs": [],
   "source": [
    "graph"
   ]
  },
  {
   "cell_type": "markdown",
   "id": "d3c00217-4c20-4737-b8f4-7cf0f7da3acf",
   "metadata": {
    "editable": true,
    "slideshow": {
     "slide_type": "subslide"
    },
    "tags": []
   },
   "source": [
    "## Bireflections\n",
    "\n",
    "Two reflections can form a translation, a rotation, or a boost. These are all examples of **bireflections**."
   ]
  },
  {
   "cell_type": "code",
   "execution_count": null,
   "id": "39f3929c-5b83-48ed-ad26-5d461b708092",
   "metadata": {
    "editable": true,
    "slideshow": {
     "slide_type": ""
    },
    "tags": []
   },
   "outputs": [],
   "source": [
    "graph"
   ]
  },
  {
   "cell_type": "markdown",
   "id": "91b14d34-1271-4964-94d0-a1cb3318042d",
   "metadata": {
    "editable": true,
    "slideshow": {
     "slide_type": "fragment"
    },
    "tags": []
   },
   "source": [
    "- Identity is the special case of two identical reflections $\\implies$ Reflections are *involutary*.\n",
    "  > Doing the same reflection twice is the same as doing nothing"
   ]
  },
  {
   "cell_type": "markdown",
   "id": "2e19e2a8-6ee4-436c-ba80-f3270323de21",
   "metadata": {
    "editable": true,
    "slideshow": {
     "slide_type": "fragment"
    },
    "tags": []
   },
   "source": [
    "- Two orthogonal reflections are another special case, which is identical to a point reflection.\n",
    "  > A point(-reflection) **is** two orthogonal line(-reflection)s."
   ]
  },
  {
   "cell_type": "markdown",
   "id": "dfe8431e-c06e-491f-979a-3a67906526f6",
   "metadata": {
    "editable": true,
    "slideshow": {
     "slide_type": "fragment"
    },
    "tags": []
   },
   "source": [
    "<p style=\"text-align: center;\">All bireflections are <b>boring</b> plus <b>drastic</b>.</p>"
   ]
  },
  {
   "cell_type": "markdown",
   "id": "060c57de-1360-478e-84ba-1bc2561c3da2",
   "metadata": {
    "editable": true,
    "slideshow": {
     "slide_type": "subslide"
    },
    "tags": []
   },
   "source": [
    "## Bireflections have Geometric Gauges\n",
    "\n",
    "Given the input and output shape, you could reconstruct the bireflection between them. However, *you could never know which specific reflections were used to make that bireflection!* \n",
    "**<p style=\"text-align: center;\">Bireflections have a gauge degree of freedom!</p>**"
   ]
  },
  {
   "cell_type": "code",
   "execution_count": null,
   "id": "e0739f96-af14-4fbf-a914-3a1158a67ecc",
   "metadata": {
    "editable": true,
    "slideshow": {
     "slide_type": ""
    },
    "tags": []
   },
   "outputs": [],
   "source": [
    "graph"
   ]
  },
  {
   "cell_type": "markdown",
   "id": "649e3050-7c77-4539-a322-fc2bc5a8023e",
   "metadata": {
    "editable": true,
    "slideshow": {
     "slide_type": "subslide"
    },
    "tags": []
   },
   "source": [
    "## Product between two points\n",
    "\n",
    "The product between two points $a$ and $b$: $R = ab$."
   ]
  },
  {
   "cell_type": "code",
   "execution_count": null,
   "id": "580eaf97-c693-4874-a66c-993bd1d671dc",
   "metadata": {
    "editable": true,
    "slideshow": {
     "slide_type": ""
    },
    "tags": []
   },
   "outputs": [],
   "source": [
    "ipy.VBox([p1_slider, p2_slider, graph])"
   ]
  },
  {
   "cell_type": "markdown",
   "id": "2c908c9b-e9ac-4eb1-ad31-ad9d9b6ef751",
   "metadata": {
    "editable": true,
    "slideshow": {
     "slide_type": "fragment"
    },
    "tags": []
   },
   "source": [
    "The product of two points is a translation along the line $a \\vee b$! In fact, it is **twice** the translation from $a$ to $b$."
   ]
  },
  {
   "cell_type": "markdown",
   "id": "bcb5f0af-2ca1-4951-9c50-0f3c2395308e",
   "metadata": {
    "editable": true,
    "slideshow": {
     "slide_type": "subslide"
    },
    "tags": []
   },
   "source": [
    "## Cartan-Dieudonné theorem\n",
    "\n",
    "**Geometric Gauges** are the geometric mechanism behind the famous *Cartan-Dieudonné theorem*:\n",
    "> Every orthogonal transformation in an $n$-dimensional embedding space is composed from at most $n$ reflections. \n",
    "\n",
    "<iframe src=\"https://enkimute.github.io/ganja.js/examples/coffeeshop.html#Mqs0ezNVP&fullscreen\" width=\"100%\" height=\"100%\" frameBorder=\"0\" scrolling=\"no\"></iframe>"
   ]
  },
  {
   "cell_type": "markdown",
   "id": "3d7a3f8c-9b5e-4d82-b22a-a3307b46a947",
   "metadata": {
    "editable": true,
    "jp-MarkdownHeadingCollapsed": true,
    "slideshow": {
     "slide_type": "fragment"
    },
    "tags": []
   },
   "source": [
    "<p style=\"text-align: center;\">In fact: <b>Geometric Gauges explain all Products!</b></p>"
   ]
  },
  {
   "cell_type": "markdown",
   "id": "abd858cc-17c9-4e69-a9a1-8501b5a1ed37",
   "metadata": {
    "editable": true,
    "slideshow": {
     "slide_type": "subslide"
    },
    "tags": []
   },
   "source": [
    "## Inventing Conjugation\n",
    "\n",
    "How do we reflect the line $b$ over the $a$? Gauges show that we need the product $aba$.\n",
    "- Use the gauge degree of freedom in $ab = a'b'$ until $b' = a$, at which point $ a b a = (a' b') a  = a' ( b' a) = a'$"
   ]
  },
  {
   "cell_type": "code",
   "execution_count": null,
   "id": "01497a35-2757-43bb-aed3-c05e427d223e",
   "metadata": {
    "editable": true,
    "slideshow": {
     "slide_type": ""
    },
    "tags": []
   },
   "outputs": [],
   "source": [
    "ipy.VBox([sw_slider, graph])"
   ]
  },
  {
   "cell_type": "markdown",
   "id": "dc54c6c8-9b86-4223-8fd2-42c5d6bf0238",
   "metadata": {
    "editable": true,
    "slideshow": {
     "slide_type": "fragment"
    },
    "tags": []
   },
   "source": [
    "<p style=\"text-align: center;\">Gauges explain the conjugation formula $aba^{-1}$ for $a,b \\in \\text{Pin}(p, q, r)$!</p>"
   ]
  },
  {
   "cell_type": "markdown",
   "id": "9e11bcc8-5283-4ac5-a445-8ab08f4e31c2",
   "metadata": {
    "editable": true,
    "slideshow": {
     "slide_type": "subslide"
    },
    "tags": []
   },
   "source": [
    "## Algebra of Geometry\n",
    "\n",
    "<iframe src=\"https://enkimute.github.io/ganja.js/examples/coffeeshop.html#8lN3hOoNj&fullscreen\" width=\"100%\" height=\"100%\" frameBorder=\"0\" alt=\"iframe\"></iframe>"
   ]
  },
  {
   "cell_type": "markdown",
   "id": "71a8707b-0e48-464b-bfc9-c8331ae26063",
   "metadata": {
    "editable": true,
    "slideshow": {
     "slide_type": "slide"
    },
    "tags": []
   },
   "source": [
    "# Invariant Decomposition\n",
    "\n",
    "<iframe src=\"https://enkimute.github.io/ganja.js/examples/coffeeshop.html#ffeKS-07k&fullscreen\" width=\"100%\" height=\"100%\" frameBorder=\"0\" alt=\"iframe\"></iframe>"
   ]
  },
  {
   "cell_type": "markdown",
   "id": "cab46067-392d-417a-aa02-48f4ab79673f",
   "metadata": {
    "editable": true,
    "slideshow": {
     "slide_type": "fragment"
    },
    "tags": []
   },
   "source": [
    "fragement1"
   ]
  },
  {
   "cell_type": "markdown",
   "id": "5abbd54c-471a-4dc7-966c-95fa6f3944e5",
   "metadata": {
    "editable": true,
    "slideshow": {
     "slide_type": "fragment"
    },
    "tags": []
   },
   "source": [
    "fragement2"
   ]
  },
  {
   "cell_type": "markdown",
   "id": "fc0fc144-a2bd-422d-9872-fe42861ce143",
   "metadata": {
    "editable": true,
    "slideshow": {
     "slide_type": "fragment"
    },
    "tags": []
   },
   "source": [
    "fragement3"
   ]
  },
  {
   "cell_type": "markdown",
   "id": "82c52ef9-add3-4f43-8fd5-63e930574da4",
   "metadata": {
    "editable": true,
    "slideshow": {
     "slide_type": "slide"
    },
    "tags": []
   },
   "source": [
    "## First Principle"
   ]
  },
  {
   "cell_type": "markdown",
   "id": "2f37d6ed-bb48-4a4e-9908-37813738458e",
   "metadata": {
    "editable": true,
    "slideshow": {
     "slide_type": "slide"
    },
    "tags": []
   },
   "source": [
    "## Invariant Decomposition\n",
    "\n",
    "$$ b_i = \\frac{\\lambda_i B + \\tfrac{1}{3!} B \\wedge B \\wedge B}{\\lambda_i + \\tfrac{1}{2} B \\wedge B} $$"
   ]
  },
  {
   "cell_type": "markdown",
   "id": "ffb7ddbc-7f15-4887-aaf3-88c0fe6d6d20",
   "metadata": {
    "editable": true,
    "slideshow": {
     "slide_type": "slide"
    },
    "tags": []
   },
   "source": [
    "## Conclusion\n",
    "\n",
    "Live demo? This entire presentation has been a live demo!\n",
    "End by qouting Charles like in the GSG paper?\n",
    "\n",
    "\n",
    "Scan this QR code to try the kingdon teahouse:"
   ]
  },
  {
   "cell_type": "markdown",
   "id": "1d2ecdfd-8bc5-4c1b-ae67-08502fadf264",
   "metadata": {
    "editable": true,
    "slideshow": {
     "slide_type": "subslide"
    },
    "tags": []
   },
   "source": [
    "<iframe src=\"https://enkimute.github.io/ganja.js/examples/coffeeshop.html#XOWMGemyJ&fullscreen\" width=\"100%\" height=\"100%\" frameBorder=\"0\" alt=\"iframe\"></iframe>"
   ]
  },
  {
   "cell_type": "code",
   "execution_count": null,
   "id": "ea0c425a-8f61-417d-97e6-4833753ebcc0",
   "metadata": {
    "editable": true,
    "slideshow": {
     "slide_type": ""
    },
    "tags": []
   },
   "outputs": [],
   "source": []
  }
 ],
 "metadata": {
  "kernelspec": {
   "display_name": "Python 3 (ipykernel)",
   "language": "python",
   "name": "python3"
  },
  "language_info": {
   "codemirror_mode": {
    "name": "ipython",
    "version": 3
   },
   "file_extension": ".py",
   "mimetype": "text/x-python",
   "name": "python",
   "nbconvert_exporter": "python",
   "pygments_lexer": "ipython3",
   "version": "3.10.14"
  }
 },
 "nbformat": 4,
 "nbformat_minor": 5
}
