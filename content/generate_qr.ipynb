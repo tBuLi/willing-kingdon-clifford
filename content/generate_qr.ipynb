{
 "cells": [
  {
   "cell_type": "code",
   "execution_count": 20,
   "id": "81dfc995-68e3-42df-aed6-b1537ad67da5",
   "metadata": {
    "editable": true,
    "slideshow": {
     "slide_type": ""
    },
    "tags": []
   },
   "outputs": [],
   "source": [
    "import segno\n",
    "from urllib.request import urlopen\n",
    "from animations.config import clrs\n",
    "\n",
    "qrcode = segno.make_qr(\"https://tbuli.github.io/teahouse/lab/index.html?path=3DPGA%2Fex_3dpga_thinlens.ipynb\")\n",
    "# kingdon_url = urlopen(\"https://upload.wikimedia.org/wikipedia/commons/6/6e/PSM_V15_D156_William_Kingdon_Clifford.jpg\")\n",
    "# qrcode.to_artistic(\n",
    "#     background=kingdon_url,\n",
    "#     target=\"img/ex_3dpga_thinlens_qr.png\",\n",
    "#     scale=5,\n",
    "# )\n",
    "qrcode.save(\n",
    "    \"img/ex_3dpga_thinlens_qr.png\",\n",
    "    scale=5,\n",
    "    # light=f'#{hex(clrs[1])[2:]}',\n",
    "    dark=f'#{hex(clrs[1])[2:].zfill(6)}',\n",
    "    data_dark=f'#{hex(clrs[0])[2:].zfill(6)}',\n",
    ")"
   ]
  },
  {
   "cell_type": "code",
   "execution_count": null,
   "id": "9a76c955-4eee-471e-b038-074401a0eedc",
   "metadata": {},
   "outputs": [],
   "source": []
  }
 ],
 "metadata": {
  "kernelspec": {
   "display_name": "Python 3 (ipykernel)",
   "language": "python",
   "name": "python3"
  },
  "language_info": {
   "codemirror_mode": {
    "name": "ipython",
    "version": 3
   },
   "file_extension": ".py",
   "mimetype": "text/x-python",
   "name": "python",
   "nbconvert_exporter": "python",
   "pygments_lexer": "ipython3",
   "version": "3.10.14"
  }
 },
 "nbformat": 4,
 "nbformat_minor": 5
}
