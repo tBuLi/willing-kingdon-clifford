{
 "cells": [
  {
   "cell_type": "markdown",
   "id": "bd7bccfa-9785-4fea-b91e-da424f7b9efd",
   "metadata": {
    "editable": true,
    "slideshow": {
     "slide_type": "slide"
    },
    "tags": []
   },
   "source": [
    "# Geometric Gauges: Plane and Simple"
   ]
  },
  {
   "cell_type": "code",
   "execution_count": 1,
   "id": "8bbbfc53-0ecb-421b-8e46-601d83ea3b83",
   "metadata": {
    "editable": true,
    "slideshow": {
     "slide_type": "skip"
    },
    "tags": []
   },
   "outputs": [
    {
     "name": "stdout",
     "output_type": "stream",
     "text": [
      "Note: you may need to restart the kernel to use updated packages.\n"
     ]
    }
   ],
   "source": [
    "%pip install -q kingdon anywidget==0.9.13"
   ]
  },
  {
   "cell_type": "code",
   "execution_count": 2,
   "id": "54927fb8-eeb7-4ab9-9caa-6eddd4d6babc",
   "metadata": {
    "editable": true,
    "slideshow": {
     "slide_type": ""
    },
    "tags": []
   },
   "outputs": [],
   "source": [
    "from kingdon import Algebra\n",
    "import numpy as np\n",
    "import itertools\n",
    "import timeit\n",
    "import ipywidgets as ipy\n",
    "\n",
    "alg = Algebra(2, 0, 1)\n",
    "locals().update(alg.blades)\n",
    "\n",
    "options = dict(\n",
    "    lineWidth=4,\n",
    "    pointRadius=2.5,\n",
    "    fontSize=3,\n",
    "    scale=1,\n",
    ")\n",
    "animated_options = dict(animate=True, **options)\n",
    "clrs = [0xff9900, 0xfed290, 0x009977]"
   ]
  },
  {
   "cell_type": "code",
   "execution_count": 3,
   "id": "ef9308af-c534-4ec5-af5a-f1a986ab71e4",
   "metadata": {
    "editable": true,
    "slideshow": {
     "slide_type": ""
    },
    "tags": []
   },
   "outputs": [],
   "source": [
    "# Construct points and lines from coefficients\n",
    "point = lambda x, y: (e0 + x*e1 + y*e2).dual()\n",
    "line = lambda a, b, c: a*e1 + b*e2 + c*e0\n",
    "\n",
    "# The formulas for projection and rejection are the same for all elements of geometry in PGA\n",
    "project = lambda a, b: (a | b) / b\n",
    "reject = lambda a, b: (a | b)"
   ]
  },
  {
   "cell_type": "code",
   "execution_count": 4,
   "id": "892f72ea-b92d-4de7-8193-ed3ae680576a",
   "metadata": {
    "editable": true,
    "slideshow": {
     "slide_type": ""
    },
    "tags": []
   },
   "outputs": [],
   "source": [
    "# https://enkimute.github.io/ganja.js/examples/coffeeshop.html#XOWMGemyJ\n",
    "\n",
    "# Initiate a shape\n",
    "coords = np.ones((3, 5))\n",
    "coords[1:] = np.random.uniform(0.5, 1.5, size=(2, 5))\n",
    "points1 = alg.vector(coords).dual()\n",
    "points2 = points1.map(lambda v: np.roll(v, 1, axis=-1))\n",
    "shape = list(zip(points1, points2))\n",
    "\n",
    "# Reflections\n",
    "origin = alg.blades.e0.dual()\n",
    "p1 = alg.vector(e0=1, e1=0, e2=0).dual()\n",
    "p2 = alg.vector(e0=1, e1=0, e2=1).dual()\n",
    "p3 = alg.vector(e0=1, e1=1, e2=0.3).dual()\n",
    "u = lambda: (p1 & p2).normalized()\n",
    "L1 = alg.vector(e1=1).normalized()\n",
    "L2 = alg.vector(e1=1, e2=0.5).normalized()\n",
    "L3 = alg.vector(e1=1, e0=0.5).normalized()"
   ]
  },
  {
   "cell_type": "markdown",
   "id": "fd51a160-a212-4913-b6e6-ed0b298a0be6",
   "metadata": {
    "editable": true,
    "slideshow": {
     "slide_type": "subslide"
    },
    "tags": []
   },
   "source": [
    "## Introduction\n",
    "\n"
   ]
  },
  {
   "cell_type": "markdown",
   "id": "d4b5f6d8-3b2a-4380-92ff-4945bfcf3e87",
   "metadata": {
    "editable": true,
    "slideshow": {
     "slide_type": "slide"
    },
    "tags": []
   },
   "source": [
    "# About Reflections\n",
    "\n",
    "In $d$ dimensions, a single reflection inverts the entire space except for the $d-1$ dimensional subspace in which we reflect."
   ]
  },
  {
   "cell_type": "code",
   "execution_count": 5,
   "id": "2b6a7e22-ca07-475d-b1fe-df74191f4da6",
   "metadata": {
    "editable": true,
    "slideshow": {
     "slide_type": ""
    },
    "tags": []
   },
   "outputs": [
    {
     "data": {
      "application/vnd.jupyter.widget-view+json": {
       "model_id": "2ae71985146340759085d2a561d6dcff",
       "version_major": 2,
       "version_minor": 1
      },
      "text/plain": [
       "GraphWidget(cayley=[['1', 'e0', 'e1', 'e2', 'e01', 'e02', 'e12', 'e012'], ['e0', '0', 'e01', 'e02', '0', '0', …"
      ]
     },
     "execution_count": 5,
     "metadata": {},
     "output_type": "execute_result"
    }
   ],
   "source": [
    "def refl_graph_func():\n",
    "    t = timeit.default_timer() / 25\n",
    "    # Create the reflected shape and the lines between them\n",
    "    R = np.cos(t) + origin*np.sin(t)\n",
    "    L1p = R >> L1\n",
    "    _rpoints1 = L1p >> points1\n",
    "    _rpoints2 = L1p >> points2\n",
    "    rshape = zip(_rpoints1, _rpoints2)\n",
    "    rlines = zip(_rpoints1, points1)\n",
    "    \n",
    "    return [\n",
    "        L1p,\n",
    "        clrs[0],\n",
    "        *shape, \n",
    "        clrs[2],\n",
    "        *rshape,\n",
    "        '<G stroke-width=\"0.002\">',clrs[0],\n",
    "        *rlines,\n",
    "        '</G>',\n",
    "    ]\n",
    "\n",
    "refl_graph = alg.graph(\n",
    "    refl_graph_func, **animated_options\n",
    ")\n",
    "refl_graph\n",
    "# point_graph = alg.graph(\n",
    "#     point_graph_func,\n",
    "#     **options\n",
    "# )\n",
    "\n",
    "# grid = ipy.GridspecLayout(1, 2)\n",
    "# grid[0, 0] = refl_graph\n",
    "# grid[0, 1] = point_graph\n",
    "# grid"
   ]
  },
  {
   "cell_type": "markdown",
   "id": "d3c00217-4c20-4737-b8f4-7cf0f7da3acf",
   "metadata": {
    "editable": true,
    "slideshow": {
     "slide_type": "subslide"
    },
    "tags": []
   },
   "source": [
    "## Bireflections\n",
    "\n",
    "Two reflections can form a translation, a rotation, or a boost (in hyperbolic space). These are all examples of **bireflections**."
   ]
  },
  {
   "cell_type": "code",
   "execution_count": 6,
   "id": "5722f892-eaf2-472c-b880-93c3463c7684",
   "metadata": {
    "editable": true,
    "slideshow": {
     "slide_type": ""
    },
    "tags": []
   },
   "outputs": [],
   "source": [
    "def bi_refl_graph_func():\n",
    "    # Reflect the points once and then once more.\n",
    "    rpoints1 = u >> points1\n",
    "    rrpoints1 = L1 >> rpoints1\n",
    "    rpoints2 = u >> points2\n",
    "    rrpoints2 = L1 >> rpoints2\n",
    "    \n",
    "    # Create the reflected shape and the lines between them\n",
    "    rshape = zip(rpoints1, rpoints2)\n",
    "    rrshape = zip(rrpoints1, rrpoints2)\n",
    "    rlines = zip(rpoints1, points1)\n",
    "    rrlines = zip(rpoints1, rrpoints1)\n",
    "    \n",
    "    return [\n",
    "        p1, p2,\n",
    "        u,\n",
    "        L1,\n",
    "        clrs[0],\n",
    "        *shape, \n",
    "        '<G stroke-dasharray=\"0.02 0.02\">',clrs[1],\n",
    "        *rshape,\n",
    "        '</G>',\n",
    "        '<G stroke-width=\"0.002\">',clrs[0],\n",
    "        *rlines,\n",
    "        *rrlines,\n",
    "        '</G>',\n",
    "        clrs[2], \n",
    "        *rrshape,\n",
    "    ]\n",
    "\n",
    "def point_graph_func():\n",
    "    # Create the reflected shape and the lines between them\n",
    "    point_reflected_points1 = p1 >> points1\n",
    "    point_reflected_points2 = p1 >> points2\n",
    "    rshape = zip(point_reflected_points1, point_reflected_points2)\n",
    "    rlines = zip(point_reflected_points1, points1)\n",
    "    \n",
    "    return [\n",
    "        p1,\n",
    "        clrs[0],\n",
    "        *shape, \n",
    "        clrs[2],\n",
    "        *rshape,\n",
    "        '<G stroke-width=\"0.002\">',clrs[0],\n",
    "        *rlines,\n",
    "        '</G>',\n",
    "    ]"
   ]
  },
  {
   "cell_type": "code",
   "execution_count": 7,
   "id": "39f3929c-5b83-48ed-ad26-5d461b708092",
   "metadata": {
    "editable": true,
    "slideshow": {
     "slide_type": ""
    },
    "tags": []
   },
   "outputs": [
    {
     "data": {
      "application/vnd.jupyter.widget-view+json": {
       "model_id": "edf3921a242142b5918cb5845d2762de",
       "version_major": 2,
       "version_minor": 1
      },
      "text/plain": [
       "GraphWidget(cayley=[['1', 'e0', 'e1', 'e2', 'e01', 'e02', 'e12', 'e012'], ['e0', '0', 'e01', 'e02', '0', '0', …"
      ]
     },
     "execution_count": 7,
     "metadata": {},
     "output_type": "execute_result"
    }
   ],
   "source": [
    "bi_refl_graph = alg.graph(\n",
    "    bi_refl_graph_func,\n",
    "    **options\n",
    ")\n",
    "\n",
    "# point_graph = alg.graph(\n",
    "#     point_graph_func,\n",
    "#     **options\n",
    "# )\n",
    "\n",
    "bi_refl_graph\n",
    "# grid = ipy.GridspecLayout(1, 2)\n",
    "# grid[0, 0] = bi_refl_graph\n",
    "# grid[0, 1] = point_graph\n",
    "# grid"
   ]
  },
  {
   "cell_type": "markdown",
   "id": "91b14d34-1271-4964-94d0-a1cb3318042d",
   "metadata": {
    "editable": true,
    "slideshow": {
     "slide_type": "fragment"
    },
    "tags": []
   },
   "source": [
    "- Identity is the special case of two identical reflections $\\implies$ Reflections are *involutary*.\n",
    "  > Performing the same reflection twice is the same as doing nothing\n",
    "- Special case are two orthogonal reflections, which is identical to a point reflection.\n",
    "  > A point(-reflection) **is identical to** two orthogonal line(-reflection)s."
   ]
  },
  {
   "cell_type": "markdown",
   "id": "060c57de-1360-478e-84ba-1bc2561c3da2",
   "metadata": {
    "editable": true,
    "slideshow": {
     "slide_type": "subslide"
    },
    "tags": []
   },
   "source": [
    "## Bireflections have Geometric Gauges\n",
    "\n",
    "Given the input and output shape, you could reconstruct the bireflection between them. However, you could never know which specific reflections were used to make that bireflection! This means bireflections have a **gauge** degree of freedom!"
   ]
  },
  {
   "cell_type": "code",
   "execution_count": 8,
   "id": "4373ac2f-897b-408a-9b64-db5867887c04",
   "metadata": {
    "editable": true,
    "slideshow": {
     "slide_type": ""
    },
    "tags": []
   },
   "outputs": [
    {
     "data": {
      "application/vnd.jupyter.widget-view+json": {
       "model_id": "08abbe3263a447c293bcb97b8bd3db3f",
       "version_major": 2,
       "version_minor": 0
      },
      "text/plain": [
       "GridspecLayout(children=(GraphWidget(cayley=[['1', 'e0', 'e1', 'e2', 'e01', 'e02', 'e12', 'e012'], ['e0', '0',…"
      ]
     },
     "execution_count": 8,
     "metadata": {},
     "output_type": "execute_result"
    }
   ],
   "source": [
    "def graph_func(L1, L2):\n",
    "    intersection = L1 ^ L2\n",
    "    if not intersection**2:\n",
    "        R = lambda t: 1 + intersection*np.sin(5*t)\n",
    "    else:\n",
    "        R = lambda t: np.cos(t) + intersection*np.sin(t)\n",
    "        \n",
    "    def _graph_func():\n",
    "        t = timeit.default_timer() / 25\n",
    "        L1p = L1\n",
    "        L2p = R(t) >> L2\n",
    "        # Reflect the points once and then once more.\n",
    "        rpoints1 = L1p >> points1\n",
    "        rrpoints1 = L2p >> rpoints1\n",
    "        rpoints2 = L1p >> points2\n",
    "        rrpoints2 = L2p >> rpoints2\n",
    "        # Create the reflected shape and the lines between them\n",
    "        rshape = zip(rpoints1, rpoints2)\n",
    "        rrshape = zip(rrpoints1, rrpoints2)\n",
    "        rlines = zip(rpoints1, points1)\n",
    "        rrlines = zip(rpoints1, rrpoints1)\n",
    "        \n",
    "        return [\n",
    "            L1p,\n",
    "            L2p,\n",
    "            0xff9900,\n",
    "            *shape, \n",
    "            '<G stroke-dasharray=\"0.02 0.02\">',0xfed290,\n",
    "            *rshape,\n",
    "            '</G>',\n",
    "            '<G stroke-width=\"0.002\">',0xff9900,\n",
    "            *rlines,\n",
    "            *rrlines,\n",
    "            '</G>',\n",
    "            0x009977, \n",
    "            *rrshape,\n",
    "        ]\n",
    "    return _graph_func\n",
    "    \n",
    "rot_graph = alg.graph(\n",
    "    graph_func(L1, L2),\n",
    "    **animated_options\n",
    ")\n",
    "\n",
    "trans_graph = alg.graph(\n",
    "    graph_func(L1, L3),\n",
    "    **animated_options\n",
    ")\n",
    "\n",
    "grid = ipy.GridspecLayout(1, 2)\n",
    "grid[0, 0] = rot_graph\n",
    "grid[0, 1] = trans_graph\n",
    "grid"
   ]
  },
  {
   "cell_type": "markdown",
   "id": "bcb5f0af-2ca1-4951-9c50-0f3c2395308e",
   "metadata": {
    "editable": true,
    "slideshow": {
     "slide_type": "subslide"
    },
    "tags": []
   },
   "source": [
    "## Cartan-Dieudonné theorem\n",
    "\n",
    "**Geometric Gauges** are the geometric mechanism behind the famous *Cartan-Dieudonné theorem*:\n",
    "> Every orthogonal transformation in an $n$-dimensional embedding space is composed from at most $n$ reflections. \n",
    "\n",
    "<iframe src=\"https://enkimute.github.io/ganja.js/examples/coffeeshop.html#Mqs0ezNVP&fullscreen\" width=\"100%\" height=\"100%\" frameBorder=\"0\"></iframe>"
   ]
  },
  {
   "cell_type": "markdown",
   "id": "5a301f70-c0c0-4ae1-bc44-f4cfb0cd86aa",
   "metadata": {
    "editable": true,
    "slideshow": {
     "slide_type": "subslide"
    },
    "tags": []
   },
   "source": [
    "# Geometric Gauges explain all Products!\n",
    "\n",
    "## Sandwich\n"
   ]
  },
  {
   "cell_type": "markdown",
   "id": "71a8707b-0e48-464b-bfc9-c8331ae26063",
   "metadata": {
    "editable": true,
    "slideshow": {
     "slide_type": "slide"
    },
    "tags": []
   },
   "source": [
    "## First Principle"
   ]
  },
  {
   "cell_type": "markdown",
   "id": "2f37d6ed-bb48-4a4e-9908-37813738458e",
   "metadata": {
    "editable": true,
    "slideshow": {
     "slide_type": "slide"
    },
    "tags": []
   },
   "source": [
    "## Invariant Decomposition\n",
    "\n",
    "$$ b_i = \\frac{\\lambda_i B + \\tfrac{1}{3!} B \\wedge B \\wedge B}{\\lambda_i + \\tfrac{1}{2} B \\wedge B} $$"
   ]
  },
  {
   "cell_type": "markdown",
   "id": "ffb7ddbc-7f15-4887-aaf3-88c0fe6d6d20",
   "metadata": {
    "editable": true,
    "slideshow": {
     "slide_type": "slide"
    },
    "tags": []
   },
   "source": [
    "## Conclusion\n",
    "\n",
    "End by qouting Charles like in the GSG paper?"
   ]
  },
  {
   "cell_type": "markdown",
   "id": "1d2ecdfd-8bc5-4c1b-ae67-08502fadf264",
   "metadata": {
    "editable": true,
    "slideshow": {
     "slide_type": "subslide"
    },
    "tags": []
   },
   "source": [
    "<iframe src=\"https://enkimute.github.io/ganja.js/examples/coffeeshop.html#XOWMGemyJ&fullscreen\" width=\"100%\" height=\"100%\" frameBorder=\"0\"></iframe>"
   ]
  },
  {
   "cell_type": "code",
   "execution_count": null,
   "id": "ea0c425a-8f61-417d-97e6-4833753ebcc0",
   "metadata": {},
   "outputs": [],
   "source": []
  }
 ],
 "metadata": {
  "kernelspec": {
   "display_name": "Python 3 (ipykernel)",
   "language": "python",
   "name": "python3"
  },
  "language_info": {
   "codemirror_mode": {
    "name": "ipython",
    "version": 3
   },
   "file_extension": ".py",
   "mimetype": "text/x-python",
   "name": "python",
   "nbconvert_exporter": "python",
   "pygments_lexer": "ipython3",
   "version": "3.10.14"
  }
 },
 "nbformat": 4,
 "nbformat_minor": 5
}
