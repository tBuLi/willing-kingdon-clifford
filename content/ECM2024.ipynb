{
 "cells": [
  {
   "cell_type": "markdown",
   "id": "bd7bccfa-9785-4fea-b91e-da424f7b9efd",
   "metadata": {
    "editable": true,
    "slideshow": {
     "slide_type": "slide"
    },
    "tags": []
   },
   "source": [
    "# Geometric Gauges: Plane and Simple"
   ]
  },
  {
   "cell_type": "code",
   "execution_count": 1,
   "id": "8bbbfc53-0ecb-421b-8e46-601d83ea3b83",
   "metadata": {
    "editable": true,
    "slideshow": {
     "slide_type": "skip"
    },
    "tags": []
   },
   "outputs": [
    {
     "name": "stdout",
     "output_type": "stream",
     "text": [
      "Note: you may need to restart the kernel to use updated packages.\n"
     ]
    }
   ],
   "source": [
    "%pip install -q kingdon anywidget==0.9.13"
   ]
  },
  {
   "cell_type": "code",
   "execution_count": 12,
   "id": "54927fb8-eeb7-4ab9-9caa-6eddd4d6babc",
   "metadata": {
    "editable": true,
    "slideshow": {
     "slide_type": ""
    },
    "tags": []
   },
   "outputs": [],
   "source": [
    "from kingdon import Algebra\n",
    "import numpy as np\n",
    "import itertools\n",
    "import timeit\n",
    "import ipywidgets as ipy\n",
    "\n",
    "alg = Algebra(2, 0, 1)\n",
    "locals().update(alg.blades)\n",
    "\n",
    "options = dict(\n",
    "    lineWidth=4,\n",
    "    pointRadius=2.5,\n",
    "    fontSize=3,\n",
    "    scale=1,\n",
    ")\n",
    "animated_options = dict(animate=0, **options)\n",
    "clrs = [0xff9900, 0xfed290, 0x009977]"
   ]
  },
  {
   "cell_type": "code",
   "execution_count": 13,
   "id": "ef9308af-c534-4ec5-af5a-f1a986ab71e4",
   "metadata": {
    "editable": true,
    "slideshow": {
     "slide_type": ""
    },
    "tags": []
   },
   "outputs": [],
   "source": [
    "# Construct points and lines from coefficients\n",
    "point = lambda x, y: (e0 + x*e1 + y*e2).dual()\n",
    "line = lambda a, b, c: a*e1 + b*e2 + c*e0\n",
    "\n",
    "# The formulas for projection and rejection are the same for all elements of geometry in PGA\n",
    "project = lambda a, b: (a | b) / b\n",
    "reject = lambda a, b: (a | b)"
   ]
  },
  {
   "cell_type": "code",
   "execution_count": 14,
   "id": "892f72ea-b92d-4de7-8193-ed3ae680576a",
   "metadata": {
    "editable": true,
    "slideshow": {
     "slide_type": ""
    },
    "tags": []
   },
   "outputs": [],
   "source": [
    "# https://enkimute.github.io/ganja.js/examples/coffeeshop.html#XOWMGemyJ\n",
    "\n",
    "# Initiate a shape\n",
    "np.random.seed(42)\n",
    "coords = np.ones((3, 5))\n",
    "coords[1:] = np.random.uniform(0.5, 1.5, size=(2, 5))\n",
    "points1 = alg.vector(coords).dual()\n",
    "points2 = points1.map(lambda v: np.roll(v, 1, axis=-1))\n",
    "shape = list(zip(points1, points2))\n",
    "\n",
    "# Reflections\n",
    "origin = alg.blades.e0.dual()\n",
    "p1 = alg.vector(e0=1, e1=0, e2=0).dual()\n",
    "p2 = alg.vector(e0=1, e1=0, e2=1).dual()\n",
    "p3 = alg.vector(e0=1, e1=1, e2=0.3).dual()\n",
    "u = lambda: (p1 & p2).normalized()\n",
    "L1 = alg.vector(e1=1).normalized()\n",
    "L2 = alg.vector(e1=1, e2=0.5).normalized()\n",
    "L3 = alg.vector(e1=1, e0=0.5).normalized()\n",
    "L4 = alg.vector(e2=1).normalized()\n",
    "\n",
    "line_point_end = alg.vector(e0=1, e1=2, e2=0).dual().normalized()\n",
    "line_point_begin = alg.vector(e0=2, e1=2, e2=0).dual().normalized()\n",
    "line_segment = [line_point_begin, line_point_end]\n",
    "\n",
    "pa = alg.vector(e0=1, e1=0.5, e2=0).dual()\n",
    "pb = alg.vector(e0=1, e1=-1.5, e2=0).dual()"
   ]
  },
  {
   "cell_type": "markdown",
   "id": "fd51a160-a212-4913-b6e6-ed0b298a0be6",
   "metadata": {
    "editable": true,
    "slideshow": {
     "slide_type": "subslide"
    },
    "tags": []
   },
   "source": [
    "## Introduction\n",
    "\n",
    "- About Reflections"
   ]
  },
  {
   "cell_type": "markdown",
   "id": "d4b5f6d8-3b2a-4380-92ff-4945bfcf3e87",
   "metadata": {
    "editable": true,
    "slideshow": {
     "slide_type": "slide"
    },
    "tags": []
   },
   "source": [
    "# About Reflections\n",
    "\n",
    "In $1$ dimension, a single reflection .... Two point reflections on the line make a translation along the line."
   ]
  },
  {
   "cell_type": "code",
   "execution_count": 16,
   "id": "c2941c90-0534-4fe9-bbda-7c971c69d45d",
   "metadata": {},
   "outputs": [
    {
     "data": {
      "application/vnd.jupyter.widget-view+json": {
       "model_id": "65a9240a9e6340388791afe759f18d77",
       "version_major": 2,
       "version_minor": 0
      },
      "text/plain": [
       "VBox(children=(IntSlider(value=0, description='Reflections:', max=2), GraphWidget(cayley=[['1', 'e0', 'e1', 'e…"
      ]
     },
     "execution_count": 16,
     "metadata": {},
     "output_type": "execute_result"
    }
   ],
   "source": [
    "refl_1d_slider = ipy.IntSlider(\n",
    "    value=0,\n",
    "    min=0,\n",
    "    max=2,\n",
    "    step=1,\n",
    "    description='Reflections:',\n",
    "    disabled=False,\n",
    "    continuous_update=True,\n",
    "    orientation='horizontal',\n",
    "    readout=True,\n",
    "    readout_format='d',\n",
    ")\n",
    "\n",
    "def refl_1d_graph_func():\n",
    "    line_segment_a = [pa >> point for point in line_segment]\n",
    "    line_segment_b = [pb >> point for point in line_segment_a]\n",
    "\n",
    "    if refl_1d_slider.value == 0:\n",
    "        return [\n",
    "            L4,\n",
    "            pa, 'a',\n",
    "            '<G stroke-width=\"0.05\">',\n",
    "            clrs[0],\n",
    "            line_segment,\n",
    "            line_segment[-1],\n",
    "            '</G>',\n",
    "        ]\n",
    "    elif refl_1d_slider.value == 1:\n",
    "        return [\n",
    "            L4,\n",
    "            pa, 'a',\n",
    "            '<G stroke-width=\"0.05\">',\n",
    "            clrs[0],\n",
    "            line_segment,\n",
    "            line_segment[-1],\n",
    "            '</G>',\n",
    "            '<G stroke-width=\"0.05\">',\n",
    "            clrs[2],\n",
    "            line_segment_a,\n",
    "            line_segment_a[-1],\n",
    "            '</G>',\n",
    "        ]\n",
    "    elif refl_1d_slider.value == 2:\n",
    "        return [\n",
    "            L4,\n",
    "            pa, 'a',\n",
    "            pb, 'b',\n",
    "            '<G stroke-width=\"0.05\">',\n",
    "            clrs[0],\n",
    "            line_segment,\n",
    "            line_segment[-1],\n",
    "            '</G>',\n",
    "            '<G stroke-width=\"0.05\">',\n",
    "            clrs[2],\n",
    "            line_segment_a,\n",
    "            line_segment_a[-1],\n",
    "            '</G>',\n",
    "            '<G stroke-width=\"0.05\">',\n",
    "            clrs[0],\n",
    "            line_segment_b,\n",
    "            line_segment_b[-1],\n",
    "            '</G>',\n",
    "        ]\n",
    "\n",
    "refl_1d_graph = alg.graph(\n",
    "    refl_1d_graph_func, **animated_options\n",
    ")\n",
    "\n",
    "ipy.VBox([refl_1d_slider, refl_1d_graph])"
   ]
  },
  {
   "cell_type": "markdown",
   "id": "ef7cc63b-80d3-45eb-8e23-c4b57420da9f",
   "metadata": {
    "editable": true,
    "slideshow": {
     "slide_type": "fragment"
    },
    "tags": []
   },
   "source": [
    "As we go to higher dimensions, we would still like two point reflections to create a translation along the line."
   ]
  },
  {
   "cell_type": "markdown",
   "id": "fb8e8a7d-16db-4f8f-8a2c-8cb14576b51d",
   "metadata": {
    "editable": true,
    "slideshow": {
     "slide_type": "slide"
    },
    "tags": []
   },
   "source": [
    "In $d$ dimensions, a single reflection inverts the entire space except for the $d-1$ dimensional subspace in which we reflect."
   ]
  },
  {
   "cell_type": "code",
   "execution_count": 6,
   "id": "2b6a7e22-ca07-475d-b1fe-df74191f4da6",
   "metadata": {
    "editable": true,
    "slideshow": {
     "slide_type": ""
    },
    "tags": []
   },
   "outputs": [
    {
     "data": {
      "application/vnd.jupyter.widget-view+json": {
       "model_id": "3c2e13a5a4c7482fa8f17084a5edfb14",
       "version_major": 2,
       "version_minor": 1
      },
      "text/plain": [
       "GraphWidget(cayley=[['1', 'e0', 'e1', 'e2', 'e01', 'e02', 'e12', 'e012'], ['e0', '0', 'e01', 'e02', '0', '0', …"
      ]
     },
     "execution_count": 6,
     "metadata": {},
     "output_type": "execute_result"
    }
   ],
   "source": [
    "def refl_graph_func():\n",
    "    t = timeit.default_timer() / 50\n",
    "    # Create the reflected shape and the lines between them\n",
    "    R = np.cos(t) + origin*np.sin(t)\n",
    "    L1p = R >> L1\n",
    "    _rpoints1 = L1p >> points1\n",
    "    _rpoints2 = L1p >> points2\n",
    "    rshape = zip(_rpoints1, _rpoints2)\n",
    "    rlines = zip(_rpoints1, points1)\n",
    "    \n",
    "    return [\n",
    "        L1p,\n",
    "        clrs[0],\n",
    "        *shape, \n",
    "        clrs[2],\n",
    "        *rshape,\n",
    "        '<G stroke-width=\"0.002\">',clrs[0],\n",
    "        *rlines,\n",
    "        '</G>',\n",
    "    ]\n",
    "\n",
    "refl_graph = alg.graph(\n",
    "    refl_graph_func, **animated_options\n",
    ")\n",
    "refl_graph"
   ]
  },
  {
   "cell_type": "markdown",
   "id": "d3c00217-4c20-4737-b8f4-7cf0f7da3acf",
   "metadata": {
    "editable": true,
    "slideshow": {
     "slide_type": "subslide"
    },
    "tags": []
   },
   "source": [
    "## Bireflections\n",
    "\n",
    "Two reflections can form a translation, a rotation, or a boost. These are all examples of **bireflections**."
   ]
  },
  {
   "cell_type": "code",
   "execution_count": 7,
   "id": "5722f892-eaf2-472c-b880-93c3463c7684",
   "metadata": {
    "editable": true,
    "slideshow": {
     "slide_type": ""
    },
    "tags": []
   },
   "outputs": [],
   "source": [
    "def bi_refl_graph_func():\n",
    "    # Reflect the points once and then once more.\n",
    "    rpoints1 = u >> points1\n",
    "    rrpoints1 = L1 >> rpoints1\n",
    "    rpoints2 = u >> points2\n",
    "    rrpoints2 = L1 >> rpoints2\n",
    "    \n",
    "    # Create the reflected shape and the lines between them\n",
    "    rshape = zip(rpoints1, rpoints2)\n",
    "    rrshape = zip(rrpoints1, rrpoints2)\n",
    "    rlines = zip(rpoints1, points1)\n",
    "    rrlines = zip(rpoints1, rrpoints1)\n",
    "    \n",
    "    return [\n",
    "        p1, p2,\n",
    "        u,\n",
    "        L1,\n",
    "        clrs[0],\n",
    "        *shape, \n",
    "        '<G stroke-dasharray=\"0.02 0.02\">',clrs[1],\n",
    "        *rshape,\n",
    "        '</G>',\n",
    "        '<G stroke-width=\"0.002\">',clrs[0],\n",
    "        *rlines,\n",
    "        *rrlines,\n",
    "        '</G>',\n",
    "        clrs[2], \n",
    "        *rrshape,\n",
    "    ]\n",
    "\n",
    "def point_graph_func():\n",
    "    # Create the reflected shape and the lines between them\n",
    "    point_reflected_points1 = p1 >> points1\n",
    "    point_reflected_points2 = p1 >> points2\n",
    "    rshape = zip(point_reflected_points1, point_reflected_points2)\n",
    "    rlines = zip(point_reflected_points1, points1)\n",
    "    \n",
    "    return [\n",
    "        p1,\n",
    "        clrs[0],\n",
    "        *shape, \n",
    "        clrs[2],\n",
    "        *rshape,\n",
    "        '<G stroke-width=\"0.002\">',clrs[0],\n",
    "        *rlines,\n",
    "        '</G>',\n",
    "    ]"
   ]
  },
  {
   "cell_type": "code",
   "execution_count": 8,
   "id": "39f3929c-5b83-48ed-ad26-5d461b708092",
   "metadata": {
    "editable": true,
    "slideshow": {
     "slide_type": ""
    },
    "tags": []
   },
   "outputs": [
    {
     "data": {
      "application/vnd.jupyter.widget-view+json": {
       "model_id": "ecc3e96046274b53bb1e97d0a79bbcb2",
       "version_major": 2,
       "version_minor": 0
      },
      "text/plain": [
       "GridspecLayout(children=(GraphWidget(cayley=[['1', 'e0', 'e1', 'e2', 'e01', 'e02', 'e12', 'e012'], ['e0', '0',…"
      ]
     },
     "execution_count": 8,
     "metadata": {},
     "output_type": "execute_result"
    }
   ],
   "source": [
    "bi_refl_graph = alg.graph(\n",
    "    bi_refl_graph_func,\n",
    "    **options\n",
    ")\n",
    "\n",
    "point_graph = alg.graph(\n",
    "    point_graph_func,\n",
    "    **options\n",
    ")\n",
    "\n",
    "# bi_refl_graph\n",
    "grid = ipy.GridspecLayout(1, 2)\n",
    "grid[0, 0] = bi_refl_graph\n",
    "grid[0, 1] = point_graph\n",
    "grid"
   ]
  },
  {
   "cell_type": "markdown",
   "id": "91b14d34-1271-4964-94d0-a1cb3318042d",
   "metadata": {
    "editable": true,
    "slideshow": {
     "slide_type": "fragment"
    },
    "tags": []
   },
   "source": [
    "- Identity is the special case of two identical reflections $\\implies$ Reflections are *involutary*.\n",
    "  > Doing the same reflection twice is the same as doing nothing"
   ]
  },
  {
   "cell_type": "markdown",
   "id": "2e19e2a8-6ee4-436c-ba80-f3270323de21",
   "metadata": {
    "editable": true,
    "slideshow": {
     "slide_type": "fragment"
    },
    "tags": []
   },
   "source": [
    "- Two orthogonal reflections are another special case, which is identical to a point reflection.\n",
    "  > A point(-reflection) **is** two orthogonal line(-reflection)s."
   ]
  },
  {
   "cell_type": "markdown",
   "id": "dfe8431e-c06e-491f-979a-3a67906526f6",
   "metadata": {
    "editable": true,
    "slideshow": {
     "slide_type": "fragment"
    },
    "tags": []
   },
   "source": [
    "<p style=\"text-align: center;\">All bireflections are <b>boring</b> plus <b>drastic</b>.</p>"
   ]
  },
  {
   "cell_type": "markdown",
   "id": "060c57de-1360-478e-84ba-1bc2561c3da2",
   "metadata": {
    "editable": true,
    "slideshow": {
     "slide_type": "subslide"
    },
    "tags": []
   },
   "source": [
    "## Bireflections have Geometric Gauges\n",
    "\n",
    "Given the input and output shape, you could reconstruct the bireflection between them. However, you could never know which specific reflections were used to make that bireflection! \n",
    "**<p style=\"text-align: center;\">Bireflections have a gauge degree of freedom!</p>**"
   ]
  },
  {
   "cell_type": "code",
   "execution_count": 9,
   "id": "4373ac2f-897b-408a-9b64-db5867887c04",
   "metadata": {
    "editable": true,
    "slideshow": {
     "slide_type": ""
    },
    "tags": []
   },
   "outputs": [
    {
     "data": {
      "application/vnd.jupyter.widget-view+json": {
       "model_id": "35c0c49a94074e2a83d6ade47d6e2b14",
       "version_major": 2,
       "version_minor": 0
      },
      "text/plain": [
       "GridspecLayout(children=(GraphWidget(cayley=[['1', 'e0', 'e1', 'e2', 'e01', 'e02', 'e12', 'e012'], ['e0', '0',…"
      ]
     },
     "execution_count": 9,
     "metadata": {},
     "output_type": "execute_result"
    }
   ],
   "source": [
    "def graph_func(L1, L2):\n",
    "    intersection = L1 ^ L2\n",
    "    if not intersection**2:\n",
    "        R = lambda t: 1 + intersection*np.sin(5*t)\n",
    "    else:\n",
    "        R = lambda t: np.cos(t) + intersection*np.sin(t)\n",
    "        \n",
    "    def _graph_func():\n",
    "        t = timeit.default_timer() / 25\n",
    "        L1p = R(t) >> L1\n",
    "        L2p = R(t) >> L2\n",
    "        # Reflect the points once and then once more.\n",
    "        rpoints1 = L1p >> points1\n",
    "        rrpoints1 = L2p >> rpoints1\n",
    "        rpoints2 = L1p >> points2\n",
    "        rrpoints2 = L2p >> rpoints2\n",
    "        # Create the reflected shape and the lines between them\n",
    "        rshape = zip(rpoints1, rpoints2)\n",
    "        rrshape = zip(rrpoints1, rrpoints2)\n",
    "        rlines = zip(rpoints1, points1)\n",
    "        rrlines = zip(rpoints1, rrpoints1)\n",
    "        \n",
    "        return [\n",
    "            L1p,\n",
    "            L2p,\n",
    "            0xff9900,\n",
    "            *shape, \n",
    "            '<G stroke-dasharray=\"0.02 0.02\">',0xfed290,\n",
    "            *rshape,\n",
    "            '</G>',\n",
    "            '<G stroke-width=\"0.002\">',0xff9900,\n",
    "            *rlines,\n",
    "            *rrlines,\n",
    "            '</G>',\n",
    "            0x009977, \n",
    "            *rrshape,\n",
    "        ]\n",
    "    return _graph_func\n",
    "    \n",
    "rot_graph = alg.graph(\n",
    "    graph_func(L1, L2),\n",
    "    **animated_options\n",
    ")\n",
    "\n",
    "trans_graph = alg.graph(\n",
    "    graph_func(L1, L3),\n",
    "    **animated_options\n",
    ")\n",
    "\n",
    "grid = ipy.GridspecLayout(1, 2)\n",
    "grid[0, 0] = rot_graph\n",
    "grid[0, 1] = trans_graph\n",
    "grid"
   ]
  },
  {
   "cell_type": "markdown",
   "id": "bcb5f0af-2ca1-4951-9c50-0f3c2395308e",
   "metadata": {
    "editable": true,
    "slideshow": {
     "slide_type": "subslide"
    },
    "tags": []
   },
   "source": [
    "## Cartan-Dieudonné theorem\n",
    "\n",
    "**Geometric Gauges** are the geometric mechanism behind the famous *Cartan-Dieudonné theorem*:\n",
    "> Every orthogonal transformation in an $n$-dimensional embedding space is composed from at most $n$ reflections. \n",
    "\n",
    "<iframe src=\"https://enkimute.github.io/ganja.js/examples/coffeeshop.html#Mqs0ezNVP&fullscreen\" width=\"100%\" height=\"100%\" frameBorder=\"0\" scrolling=\"no\"></iframe>"
   ]
  },
  {
   "cell_type": "markdown",
   "id": "3d7a3f8c-9b5e-4d82-b22a-a3307b46a947",
   "metadata": {
    "editable": true,
    "slideshow": {
     "slide_type": "fragment"
    },
    "tags": []
   },
   "source": [
    "<p style=\"text-align: center;\">In fact: <b>Geometric Gauges explain all Products!</b></p>"
   ]
  },
  {
   "cell_type": "markdown",
   "id": "5a301f70-c0c0-4ae1-bc44-f4cfb0cd86aa",
   "metadata": {
    "editable": true,
    "slideshow": {
     "slide_type": "subslide"
    },
    "tags": []
   },
   "source": [
    "## Conjugation (a.k.a. Sandwich Product)\n",
    "\n",
    "Gauges explain the conjugation formula $aba^{-1}$ for $a,b \\in \\mathcal{G}$. \n",
    "Let's reflect the line $b$ in the line $a$: $aba$.\n",
    "- Use the gauge degree of freedom in $ab = a'b'$ until $b' = a$, at which point $ a b a = (a' b') a  = a' ( b' a) = a'$"
   ]
  },
  {
   "cell_type": "code",
   "execution_count": 10,
   "id": "01497a35-2757-43bb-aed3-c05e427d223e",
   "metadata": {
    "editable": true,
    "slideshow": {
     "slide_type": ""
    },
    "tags": []
   },
   "outputs": [
    {
     "data": {
      "application/vnd.jupyter.widget-view+json": {
       "model_id": "347f3df1276c4f4d94fc01de148254a8",
       "version_major": 2,
       "version_minor": 0
      },
      "text/plain": [
       "VBox(children=(FloatSlider(value=0.0, max=1.0, min=-1.0, readout_format='.1f', step=0.05), GraphWidget(cayley=…"
      ]
     },
     "execution_count": 10,
     "metadata": {},
     "output_type": "execute_result"
    }
   ],
   "source": [
    "sw_slider = ipy.FloatSlider(\n",
    "    value=0.0,\n",
    "    min=-1.0,\n",
    "    max=1.0,\n",
    "    step=0.05,\n",
    "    description='',\n",
    "    disabled=False,\n",
    "    continuous_update=True,\n",
    "    orientation='horizontal',\n",
    "    readout=True,\n",
    "    readout_format='.1f',\n",
    ")\n",
    "\n",
    "def sw_graph_func():\n",
    "    if sw_slider.value == 0.0:\n",
    "        return [\n",
    "            clrs[0],\n",
    "            L1, 'a',\n",
    "            clrs[2],\n",
    "            L2, \"b'\",\n",
    "            '<G stroke-dasharray=\"0.1 0.1\">', clrs[1],\n",
    "            L1, \"a'\",\n",
    "            '</G>',\n",
    "        ]\n",
    "    elif sw_slider.value < 1.0:\n",
    "        t = np.arccos((L1 | L2).e) * sw_slider.value\n",
    "        intersection = L1 ^ L2\n",
    "        R = np.cos(t) + intersection*np.sin(t)\n",
    "        L2p = R >> L2\n",
    "        L1p = R >> L1\n",
    "        \n",
    "        return [\n",
    "            clrs[0],\n",
    "            L1, 'a',\n",
    "            clrs[2],\n",
    "            L2p, \"b'\",\n",
    "            clrs[1],\n",
    "            L1p, \"a'\",\n",
    "        ]\n",
    "    else:\n",
    "        R = (L1 * L2).sqrt()\n",
    "        L2p = R >> L2\n",
    "        L1p = R >> L1\n",
    "        \n",
    "        return [\n",
    "            '<G fill-opacity=\"0.3\" stroke-opacity=\"0.1\">', \n",
    "            clrs[0],\n",
    "            L1, 'a',\n",
    "            '</G>',\n",
    "            '<G stroke-opacity=\"0.3\" fill-opacity=\"0.3\" stroke-dasharray=\"0.1 0.1\">', \n",
    "            clrs[2],\n",
    "            L2p, \"b'\",\n",
    "            '</G>',\n",
    "            clrs[0],\n",
    "            L1p, \"a'\",\n",
    "        ]\n",
    "    \n",
    "sw_graph = alg.graph(\n",
    "    sw_graph_func,\n",
    "    **animated_options,\n",
    ")\n",
    "\n",
    "\n",
    "ipy.VBox([sw_slider, sw_graph])"
   ]
  },
  {
   "cell_type": "markdown",
   "id": "dc54c6c8-9b86-4223-8fd2-42c5d6bf0238",
   "metadata": {
    "editable": true,
    "slideshow": {
     "slide_type": "subslide"
    },
    "tags": []
   },
   "source": [
    "## Product between two points\n",
    "\n",
    "The product between two points $a$ and $b$: $R = ab$."
   ]
  },
  {
   "cell_type": "code",
   "execution_count": 11,
   "id": "580eaf97-c693-4874-a66c-993bd1d671dc",
   "metadata": {},
   "outputs": [
    {
     "data": {
      "application/vnd.jupyter.widget-view+json": {
       "model_id": "e98cea89af024af6b0ef103ff983cf33",
       "version_major": 2,
       "version_minor": 0
      },
      "text/plain": [
       "VBox(children=(FloatSlider(value=0.0, max=1.0, min=-1.0, readout_format='.1f', step=0.05), FloatSlider(value=0…"
      ]
     },
     "execution_count": 11,
     "metadata": {},
     "output_type": "execute_result"
    }
   ],
   "source": [
    "p1_slider = ipy.FloatSlider(\n",
    "    value=0.0,\n",
    "    min=-1.0,\n",
    "    max=1.0,\n",
    "    step=0.05,\n",
    "    description='',\n",
    "    disabled=False,\n",
    "    continuous_update=True,\n",
    "    orientation='horizontal',\n",
    "    readout=True,\n",
    "    readout_format='.1f',\n",
    ")\n",
    "p2_slider = ipy.FloatSlider(\n",
    "    value=0.0,\n",
    "    min=-1.0,\n",
    "    max=1.0,\n",
    "    step=0.05,\n",
    "    description='',\n",
    "    disabled=False,\n",
    "    continuous_update=True,\n",
    "    orientation='horizontal',\n",
    "    readout=True,\n",
    "    readout_format='.1f',\n",
    ")\n",
    "\n",
    "p1l1 = alg.vector(e0=1.0, e1=1.0, e2=0.0).normalized()\n",
    "p1l2 = alg.vector(e0=1.0, e1=0.0, e2=1.0).normalized()\n",
    "p1 = p1l1 ^ p1l2\n",
    "p2l1 = alg.vector(e0=-1.0, e1=1.0, e2=0.0).normalized()\n",
    "p2l2 = alg.vector(e0=-1.0, e1=0.0, e2=1.0).normalized()\n",
    "p2 = p2l1 ^ p2l2\n",
    "\n",
    "def points_gp_graph_func():\n",
    "    R1 = np.cos(0.25*np.pi*p1_slider.value) + p1*np.sin(0.25*np.pi*p1_slider.value)\n",
    "    R2 = np.cos(0.25*np.pi*p2_slider.value) + p2*np.sin(0.25*np.pi*p2_slider.value)\n",
    "    _p1l1 = R1 >> p1l1\n",
    "    _p1l2 = R1 >> p1l2\n",
    "    _p2l1 = R2 >> p2l1\n",
    "    _p2l2 = R2 >> p2l2\n",
    "    \n",
    "    _p1 = _p1l1 ^ _p1l2\n",
    "    _p2 = _p2l1 ^ _p2l2\n",
    "    if abs((_p1l1 ^ _p2).dual().e) < 1e-3 and abs((_p2l1 ^ _p1).dual().e) < 1e-3:\n",
    "        return [\n",
    "            clrs[0],\n",
    "            _p1l2, _p1, 'a',\n",
    "            '<G stroke-opacity=\"0.1\">',\n",
    "            _p1l1,\n",
    "            '</G>',\n",
    "            clrs[2],\n",
    "            _p2l2, _p2, \"b\",\n",
    "            '<G stroke-dasharray=\"0.1 0.1\" stroke-opacity=\"0.1\">',\n",
    "            _p2l1,\n",
    "            '</G>',\n",
    "        ]\n",
    "    return [\n",
    "        clrs[0],\n",
    "        _p1l1, _p1l2, _p1, 'a',\n",
    "        clrs[2],\n",
    "        _p2l1, _p2l2, _p2, \"b\",\n",
    "    ]\n",
    "    \n",
    "points_gp_graph = alg.graph(\n",
    "    points_gp_graph_func,\n",
    "    **options, animate=1,\n",
    ")\n",
    "\n",
    "\n",
    "ipy.VBox([p1_slider, p2_slider, points_gp_graph])"
   ]
  },
  {
   "cell_type": "markdown",
   "id": "2c908c9b-e9ac-4eb1-ad31-ad9d9b6ef751",
   "metadata": {
    "editable": true,
    "slideshow": {
     "slide_type": "fragment"
    },
    "tags": []
   },
   "source": [
    "The product of two points is a translation along the line $a \\vee b$! In fact, it is **twice** the translation from $a$ to $b$."
   ]
  },
  {
   "cell_type": "markdown",
   "id": "9e11bcc8-5283-4ac5-a445-8ab08f4e31c2",
   "metadata": {
    "editable": true,
    "slideshow": {
     "slide_type": "subslide"
    },
    "tags": []
   },
   "source": [
    "## Algebra of Geometry\n",
    "\n",
    "<iframe src=\"https://enkimute.github.io/ganja.js/examples/coffeeshop.html#8lN3hOoNj&fullscreen\" width=\"100%\" height=\"100%\" frameBorder=\"0\" alt=\"iframe\"></iframe>"
   ]
  },
  {
   "cell_type": "markdown",
   "id": "71a8707b-0e48-464b-bfc9-c8331ae26063",
   "metadata": {
    "editable": true,
    "slideshow": {
     "slide_type": "slide"
    },
    "tags": []
   },
   "source": [
    "# Invariant Decomposition\n",
    "\n",
    "<iframe src=\"https://enkimute.github.io/ganja.js/examples/coffeeshop.html#ffeKS-07k&fullscreen\" width=\"100%\" height=\"100%\" frameBorder=\"0\" alt=\"iframe\"></iframe>"
   ]
  },
  {
   "cell_type": "markdown",
   "id": "cab46067-392d-417a-aa02-48f4ab79673f",
   "metadata": {
    "editable": true,
    "slideshow": {
     "slide_type": "fragment"
    },
    "tags": []
   },
   "source": [
    "fragement1"
   ]
  },
  {
   "cell_type": "markdown",
   "id": "5abbd54c-471a-4dc7-966c-95fa6f3944e5",
   "metadata": {
    "editable": true,
    "slideshow": {
     "slide_type": "fragment"
    },
    "tags": []
   },
   "source": [
    "fragement2"
   ]
  },
  {
   "cell_type": "markdown",
   "id": "fc0fc144-a2bd-422d-9872-fe42861ce143",
   "metadata": {
    "editable": true,
    "slideshow": {
     "slide_type": "fragment"
    },
    "tags": []
   },
   "source": [
    "fragement3"
   ]
  },
  {
   "cell_type": "markdown",
   "id": "82c52ef9-add3-4f43-8fd5-63e930574da4",
   "metadata": {
    "editable": true,
    "slideshow": {
     "slide_type": "slide"
    },
    "tags": []
   },
   "source": [
    "## First Principle"
   ]
  },
  {
   "cell_type": "markdown",
   "id": "2f37d6ed-bb48-4a4e-9908-37813738458e",
   "metadata": {
    "editable": true,
    "slideshow": {
     "slide_type": "slide"
    },
    "tags": []
   },
   "source": [
    "## Invariant Decomposition\n",
    "\n",
    "$$ b_i = \\frac{\\lambda_i B + \\tfrac{1}{3!} B \\wedge B \\wedge B}{\\lambda_i + \\tfrac{1}{2} B \\wedge B} $$"
   ]
  },
  {
   "cell_type": "markdown",
   "id": "ffb7ddbc-7f15-4887-aaf3-88c0fe6d6d20",
   "metadata": {
    "editable": true,
    "slideshow": {
     "slide_type": "slide"
    },
    "tags": []
   },
   "source": [
    "## Conclusion\n",
    "\n",
    "Live demo? This entire presentation has been a live demo!\n",
    "End by qouting Charles like in the GSG paper?"
   ]
  },
  {
   "cell_type": "markdown",
   "id": "1d2ecdfd-8bc5-4c1b-ae67-08502fadf264",
   "metadata": {
    "editable": true,
    "slideshow": {
     "slide_type": "subslide"
    },
    "tags": []
   },
   "source": [
    "<iframe src=\"https://enkimute.github.io/ganja.js/examples/coffeeshop.html#XOWMGemyJ&fullscreen\" width=\"100%\" height=\"100%\" frameBorder=\"0\" alt=\"iframe\"></iframe>"
   ]
  },
  {
   "cell_type": "code",
   "execution_count": null,
   "id": "ea0c425a-8f61-417d-97e6-4833753ebcc0",
   "metadata": {
    "editable": true,
    "slideshow": {
     "slide_type": ""
    },
    "tags": []
   },
   "outputs": [],
   "source": []
  }
 ],
 "metadata": {
  "kernelspec": {
   "display_name": "Python 3 (ipykernel)",
   "language": "python",
   "name": "python3"
  },
  "language_info": {
   "codemirror_mode": {
    "name": "ipython",
    "version": 3
   },
   "file_extension": ".py",
   "mimetype": "text/x-python",
   "name": "python",
   "nbconvert_exporter": "python",
   "pygments_lexer": "ipython3",
   "version": "3.10.14"
  }
 },
 "nbformat": 4,
 "nbformat_minor": 5
}
