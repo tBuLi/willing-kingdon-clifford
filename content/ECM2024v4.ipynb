{
 "cells": [
  {
   "cell_type": "code",
   "execution_count": 1,
   "id": "8bbbfc53-0ecb-421b-8e46-601d83ea3b83",
   "metadata": {
    "editable": true,
    "slideshow": {
     "slide_type": "skip"
    },
    "tags": []
   },
   "outputs": [
    {
     "name": "stdout",
     "output_type": "stream",
     "text": [
      "Note: you may need to restart the kernel to use updated packages.\n"
     ]
    }
   ],
   "source": [
    "%pip install -q kingdon anywidget==0.9.13"
   ]
  },
  {
   "cell_type": "markdown",
   "id": "bd7bccfa-9785-4fea-b91e-da424f7b9efd",
   "metadata": {
    "editable": true,
    "slideshow": {
     "slide_type": "slide"
    },
    "tags": []
   },
   "source": [
    "# Geometric Gauges: \n",
    "# Plane and Simple\n",
    "\n",
    "**<p style=\"text-align: right;\">Martin Roelfs</p>**\n",
    "<p style=\"text-align: right;\">University of Antwerp</p>"
   ]
  },
  {
   "cell_type": "code",
   "execution_count": 2,
   "id": "79c0a81f-1313-48ed-a9b5-40f84c486f83",
   "metadata": {},
   "outputs": [
    {
     "data": {
      "application/vnd.jupyter.widget-view+json": {
       "model_id": "4f68776abe00416689a2d9ae9a7801e9",
       "version_major": 2,
       "version_minor": 1
      },
      "text/plain": [
       "FragmentWidget(state=(0, 0))"
      ]
     },
     "execution_count": 2,
     "metadata": {},
     "output_type": "execute_result"
    }
   ],
   "source": [
    "from reveal_widgets import FragmentWidget\n",
    "\n",
    "fragment_widget = FragmentWidget()\n",
    "# fragment_widget.state = (1, 0)\n",
    "# fragment_widget.subslide = 0\n",
    "# fragment_widget.fragment = 1\n",
    "fragment_widget"
   ]
  },
  {
   "cell_type": "code",
   "execution_count": 3,
   "id": "a074071a-026c-433d-ba52-28dc29f3d9ec",
   "metadata": {},
   "outputs": [],
   "source": [
    "import ipywidgets as ipy\n",
    "\n",
    "from animations import (\n",
    "    refl_1d_graph_func_0,\n",
    "    refl_1d_graph_func_1,\n",
    "    refl_1d_graph_func_2,\n",
    "    refl_1d_graph_func_3,\n",
    "    refl_2d_graph_func,\n",
    "    birefl_graph_func,\n",
    "    point_refl_graph_func,\n",
    "    birefl_gauge_rot_func,\n",
    "    birefl_gauge_trans_func,\n",
    "    points_gp_graph_func,\n",
    "    sw_graph_func,\n",
    ")\n",
    "from animations.config import alg3d, animated_options, clrs"
   ]
  },
  {
   "cell_type": "markdown",
   "id": "fd51a160-a212-4913-b6e6-ed0b298a0be6",
   "metadata": {
    "editable": true,
    "slideshow": {
     "slide_type": "subslide"
    },
    "tags": []
   },
   "source": [
    "## Introduction\n",
    "\n",
    "- About Reflections"
   ]
  },
  {
   "cell_type": "markdown",
   "id": "d4b5f6d8-3b2a-4380-92ff-4945bfcf3e87",
   "metadata": {
    "editable": true,
    "slideshow": {
     "slide_type": "slide"
    },
    "tags": []
   },
   "source": [
    "## About Reflections\n",
    "\n",
    "<span class=\"fragment\">In $1$ dimension, a single point-reflection inverts all points on the line.<span class=\"fragment\">\n",
    "<span class=\"fragment\">Two point-reflections on the line make a translation along the line.</span>\n",
    "<p class=\"fragment\" style=\"text-align: center;\">But how do you know this scenario was 1d?</p>\n",
    "\n",
    "<p class=\"fragment\" style=\"text-align: center;\">\n",
    "As we go to higher dimensions, these properties should still hold: \n",
    "- one point-reflections inverts any line through that point.\n",
    "- two point-reflections to create a translation along the line.\n",
    "</p>"
   ]
  },
  {
   "cell_type": "code",
   "execution_count": 4,
   "id": "73cade8e-f43c-48c4-894b-a7a1539973ff",
   "metadata": {
    "editable": true,
    "slideshow": {
     "slide_type": "skip"
    },
    "tags": []
   },
   "outputs": [
    {
     "data": {
      "application/vnd.jupyter.widget-view+json": {
       "model_id": "4e9d86e194724ddbbd30789ae5bbffe9",
       "version_major": 2,
       "version_minor": 1
      },
      "text/plain": [
       "GraphWidget(cayley=[['1', 'e0', 'e1', 'e2', 'e3', 'e01', 'e02', 'e03', 'e12', 'e13', 'e23', 'e012', 'e013', 'e…"
      ]
     },
     "execution_count": 4,
     "metadata": {},
     "output_type": "execute_result"
    }
   ],
   "source": [
    "def refl_1d_graph_func():\n",
    "    if fragment_widget.fragment == 0:\n",
    "        return refl_1d_graph_func_1()\n",
    "    elif fragment_widget.fragment == 1:\n",
    "        return refl_1d_graph_func_2()\n",
    "    elif fragment_widget.fragment == 2:\n",
    "        return refl_1d_graph_func_3()\n",
    "    else:\n",
    "        return refl_1d_graph_func_0()\n",
    "\n",
    "alg3d.graph(\n",
    "    refl_1d_graph_func,\n",
    "    **animated_options\n",
    ")"
   ]
  },
  {
   "cell_type": "markdown",
   "id": "fb8e8a7d-16db-4f8f-8a2c-8cb14576b51d",
   "metadata": {
    "editable": true,
    "slideshow": {
     "slide_type": "subslide"
    },
    "tags": []
   },
   "source": [
    "In $d$ dimensions, a single reflection inverts the entire space except for the $d-1$ dimensional subspace in which we reflect."
   ]
  },
  {
   "cell_type": "code",
   "execution_count": 5,
   "id": "087f3420-7fd9-45b9-9a1e-20616d0a8acb",
   "metadata": {
    "editable": true,
    "slideshow": {
     "slide_type": ""
    },
    "tags": []
   },
   "outputs": [
    {
     "data": {
      "application/vnd.jupyter.widget-view+json": {
       "model_id": "9634681ede5a424788c8ebe02f0da96b",
       "version_major": 2,
       "version_minor": 1
      },
      "text/plain": [
       "GraphWidget(cayley=[['1', 'e0', 'e1', 'e2', 'e3', 'e01', 'e02', 'e03', 'e12', 'e13', 'e23', 'e012', 'e013', 'e…"
      ]
     },
     "execution_count": 5,
     "metadata": {},
     "output_type": "execute_result"
    }
   ],
   "source": [
    "alg3d.graph(\n",
    "    refl_2d_graph_func,\n",
    "    **animated_options\n",
    ")"
   ]
  },
  {
   "cell_type": "markdown",
   "id": "d3c00217-4c20-4737-b8f4-7cf0f7da3acf",
   "metadata": {
    "editable": true,
    "slideshow": {
     "slide_type": "subslide"
    },
    "tags": []
   },
   "source": [
    "## Bireflections\n",
    "\n",
    "Two reflections can form a translation, a rotation, or a boost. These are all examples of **bireflections**."
   ]
  },
  {
   "cell_type": "code",
   "execution_count": 6,
   "id": "39f3929c-5b83-48ed-ad26-5d461b708092",
   "metadata": {
    "editable": true,
    "slideshow": {
     "slide_type": ""
    },
    "tags": []
   },
   "outputs": [
    {
     "data": {
      "application/vnd.jupyter.widget-view+json": {
       "model_id": "3a9dda3e836c415fb060d01618a95b0a",
       "version_major": 2,
       "version_minor": 1
      },
      "text/plain": [
       "GraphWidget(cayley=[['1', 'e0', 'e1', 'e2', 'e3', 'e01', 'e02', 'e03', 'e12', 'e13', 'e23', 'e012', 'e013', 'e…"
      ]
     },
     "execution_count": 6,
     "metadata": {},
     "output_type": "execute_result"
    }
   ],
   "source": [
    "alg3d.graph(\n",
    "    birefl_graph_func,\n",
    "    **animated_options\n",
    ")"
   ]
  },
  {
   "cell_type": "markdown",
   "id": "91b14d34-1271-4964-94d0-a1cb3318042d",
   "metadata": {
    "editable": true,
    "slideshow": {
     "slide_type": "fragment"
    },
    "tags": []
   },
   "source": [
    "- Identity is the special case of two identical reflections $\\implies$ Reflections are *involutary*.\n",
    "  > Doing the same reflection twice is the same as doing nothing"
   ]
  },
  {
   "cell_type": "markdown",
   "id": "2e19e2a8-6ee4-436c-ba80-f3270323de21",
   "metadata": {
    "editable": true,
    "slideshow": {
     "slide_type": "fragment"
    },
    "tags": []
   },
   "source": [
    "- Two orthogonal reflections are another special case, which is identical to a point reflection.\n",
    "  > A point(-reflection) **is** two orthogonal line(-reflection)s."
   ]
  },
  {
   "cell_type": "markdown",
   "id": "060c57de-1360-478e-84ba-1bc2561c3da2",
   "metadata": {
    "editable": true,
    "slideshow": {
     "slide_type": "subslide"
    },
    "tags": []
   },
   "source": [
    "## Bireflections have Geometric Gauges\n",
    "\n",
    "Given the input and output shape, you could reconstruct the bireflection between them. However, *you could never know which specific reflections were used to make that bireflection!* \n",
    "**<p style=\"text-align: center;\">Bireflections have a gauge degree of freedom!</p>**"
   ]
  },
  {
   "cell_type": "code",
   "execution_count": 7,
   "id": "e0739f96-af14-4fbf-a914-3a1158a67ecc",
   "metadata": {
    "editable": true,
    "slideshow": {
     "slide_type": ""
    },
    "tags": []
   },
   "outputs": [
    {
     "data": {
      "application/vnd.jupyter.widget-view+json": {
       "model_id": "3eddc91d7f2b41799787b0e788a0c048",
       "version_major": 2,
       "version_minor": 0
      },
      "text/plain": [
       "GridspecLayout(children=(GraphWidget(cayley=[['1', 'e0', 'e1', 'e2', 'e3', 'e01', 'e02', 'e03', 'e12', 'e13', …"
      ]
     },
     "execution_count": 7,
     "metadata": {},
     "output_type": "execute_result"
    }
   ],
   "source": [
    "grid = ipy.GridspecLayout(1, 2)\n",
    "grid[0, 0] = alg3d.graph(\n",
    "    birefl_gauge_rot_func,\n",
    "    **animated_options\n",
    ")\n",
    "grid[0, 1] = alg3d.graph(\n",
    "    birefl_gauge_trans_func,\n",
    "    **animated_options\n",
    ")\n",
    "grid"
   ]
  },
  {
   "cell_type": "markdown",
   "id": "649e3050-7c77-4539-a322-fc2bc5a8023e",
   "metadata": {
    "editable": true,
    "slideshow": {
     "slide_type": "subslide"
    },
    "tags": []
   },
   "source": [
    "## Product between two points\n",
    "\n",
    "The product between two points $a$ and $b$: $R = ab$."
   ]
  },
  {
   "cell_type": "code",
   "execution_count": 9,
   "id": "580eaf97-c693-4874-a66c-993bd1d671dc",
   "metadata": {
    "editable": true,
    "slideshow": {
     "slide_type": ""
    },
    "tags": []
   },
   "outputs": [
    {
     "data": {
      "application/vnd.jupyter.widget-view+json": {
       "model_id": "f9cdfd957ae84b0eb90f1b7e4f9a641a",
       "version_major": 2,
       "version_minor": 0
      },
      "text/plain": [
       "VBox(children=(FloatSlider(value=0.0, max=1.0, min=-1.0, readout_format='.1f', step=0.05), FloatSlider(value=0…"
      ]
     },
     "execution_count": 9,
     "metadata": {},
     "output_type": "execute_result"
    }
   ],
   "source": [
    "from animations.points_gp_graph import p1_slider, p2_slider\n",
    "\n",
    "points_gp_graph = alg3d.graph(\n",
    "    points_gp_graph_func,\n",
    "    **animated_options\n",
    ")\n",
    "\n",
    "ipy.VBox([p1_slider, p2_slider, points_gp_graph])"
   ]
  },
  {
   "cell_type": "markdown",
   "id": "2c908c9b-e9ac-4eb1-ad31-ad9d9b6ef751",
   "metadata": {
    "editable": true,
    "slideshow": {
     "slide_type": "fragment"
    },
    "tags": []
   },
   "source": [
    "The product of two points is a translation along the line $a \\vee b$! In fact, it is **twice** the translation from $a$ to $b$."
   ]
  },
  {
   "cell_type": "markdown",
   "id": "bcb5f0af-2ca1-4951-9c50-0f3c2395308e",
   "metadata": {
    "editable": true,
    "slideshow": {
     "slide_type": "subslide"
    },
    "tags": []
   },
   "source": [
    "## Cartan-Dieudonné theorem\n",
    "\n",
    "**Geometric Gauges** are the geometric mechanism behind the famous *Cartan-Dieudonné theorem*:\n",
    "> Every orthogonal transformation in an $n$-dimensional embedding space is composed from at most $n$ reflections. \n",
    "\n",
    "<iframe src=\"https://enkimute.github.io/ganja.js/examples/coffeeshop.html#Mqs0ezNVP&fullscreen\" width=\"100%\" height=\"100%\" frameBorder=\"0\" scrolling=\"no\"></iframe>"
   ]
  },
  {
   "cell_type": "markdown",
   "id": "3d7a3f8c-9b5e-4d82-b22a-a3307b46a947",
   "metadata": {
    "editable": true,
    "jp-MarkdownHeadingCollapsed": true,
    "slideshow": {
     "slide_type": "fragment"
    },
    "tags": []
   },
   "source": [
    "<p style=\"text-align: center;\">In fact: <b>Geometric Gauges explain all Products!</b></p>"
   ]
  },
  {
   "cell_type": "markdown",
   "id": "abd858cc-17c9-4e69-a9a1-8501b5a1ed37",
   "metadata": {
    "editable": true,
    "slideshow": {
     "slide_type": "subslide"
    },
    "tags": []
   },
   "source": [
    "## Inventing Conjugation\n",
    "\n",
    "How do we reflect the line $b$ over the $a$? Gauges show that we need the product $aba$.\n",
    "- Use the gauge degree of freedom in $ab = a'b'$ until $b' = a$, at which point $ a b a = (a' b') a  = a' ( b' a) = a'$"
   ]
  },
  {
   "cell_type": "code",
   "execution_count": 11,
   "id": "01497a35-2757-43bb-aed3-c05e427d223e",
   "metadata": {
    "editable": true,
    "slideshow": {
     "slide_type": ""
    },
    "tags": []
   },
   "outputs": [
    {
     "data": {
      "application/vnd.jupyter.widget-view+json": {
       "model_id": "23caa7ce9db64b36bac45401413fdfd8",
       "version_major": 2,
       "version_minor": 0
      },
      "text/plain": [
       "VBox(children=(FloatSlider(value=0.0, max=1.0, min=-1.0, readout_format='.1f', step=0.05), GraphWidget(cayley=…"
      ]
     },
     "execution_count": 11,
     "metadata": {},
     "output_type": "execute_result"
    }
   ],
   "source": [
    "from animations.sw_graph import sw_slider\n",
    "\n",
    "sw_graph = alg3d.graph(\n",
    "    sw_graph_func,\n",
    "    **animated_options\n",
    ")\n",
    "ipy.VBox([sw_slider, sw_graph])"
   ]
  },
  {
   "cell_type": "markdown",
   "id": "dc54c6c8-9b86-4223-8fd2-42c5d6bf0238",
   "metadata": {
    "editable": true,
    "slideshow": {
     "slide_type": "fragment"
    },
    "tags": []
   },
   "source": [
    "<p style=\"text-align: center;\">Gauges explain the conjugation formula $aba^{-1}$ for $a,b \\in \\text{Pin}(p, q, r)$!</p>"
   ]
  },
  {
   "cell_type": "markdown",
   "id": "9e11bcc8-5283-4ac5-a445-8ab08f4e31c2",
   "metadata": {
    "editable": true,
    "slideshow": {
     "slide_type": "subslide"
    },
    "tags": []
   },
   "source": [
    "## Algebra of Geometry\n",
    "\n",
    "<iframe src=\"https://enkimute.github.io/ganja.js/examples/coffeeshop.html#8lN3hOoNj&fullscreen\" width=\"100%\" height=\"100%\" frameBorder=\"0\" alt=\"iframe\"></iframe>"
   ]
  },
  {
   "cell_type": "markdown",
   "id": "71a8707b-0e48-464b-bfc9-c8331ae26063",
   "metadata": {
    "editable": true,
    "slideshow": {
     "slide_type": "slide"
    },
    "tags": []
   },
   "source": [
    "# Invariant Decomposition\n",
    "\n",
    "<iframe src=\"https://enkimute.github.io/ganja.js/examples/coffeeshop.html#ffeKS-07k&fullscreen\" width=\"100%\" height=\"100%\" frameBorder=\"0\" alt=\"iframe\"></iframe>\n",
    "<span class=\"fragment\"></span>\n",
    "<span class=\"fragment\"></span>\n",
    "<span class=\"fragment\"></span>"
   ]
  },
  {
   "cell_type": "markdown",
   "id": "82c52ef9-add3-4f43-8fd5-63e930574da4",
   "metadata": {
    "editable": true,
    "slideshow": {
     "slide_type": "slide"
    },
    "tags": []
   },
   "source": [
    "## First Principle"
   ]
  },
  {
   "cell_type": "markdown",
   "id": "2f37d6ed-bb48-4a4e-9908-37813738458e",
   "metadata": {
    "editable": true,
    "slideshow": {
     "slide_type": "slide"
    },
    "tags": []
   },
   "source": [
    "## Invariant Decomposition\n",
    "\n",
    "$$ b_i = \\frac{\\lambda_i B + \\tfrac{1}{3!} B \\wedge B \\wedge B}{\\lambda_i + \\tfrac{1}{2} B \\wedge B} $$"
   ]
  },
  {
   "cell_type": "markdown",
   "id": "ffb7ddbc-7f15-4887-aaf3-88c0fe6d6d20",
   "metadata": {
    "editable": true,
    "slideshow": {
     "slide_type": "slide"
    },
    "tags": []
   },
   "source": [
    "## Conclusion\n",
    "\n",
    "Live demo? This entire presentation has been a live demo!\n",
    "End by qouting Charles like in the GSG paper?\n",
    "\n",
    "\n",
    "Scan this QR code to try the kingdon teahouse:"
   ]
  },
  {
   "cell_type": "markdown",
   "id": "1d2ecdfd-8bc5-4c1b-ae67-08502fadf264",
   "metadata": {
    "editable": true,
    "slideshow": {
     "slide_type": "subslide"
    },
    "tags": []
   },
   "source": [
    "<iframe src=\"https://enkimute.github.io/ganja.js/examples/coffeeshop.html#XOWMGemyJ&fullscreen\" width=\"100%\" height=\"100%\" frameBorder=\"0\" alt=\"iframe\"></iframe>"
   ]
  },
  {
   "cell_type": "code",
   "execution_count": null,
   "id": "ea0c425a-8f61-417d-97e6-4833753ebcc0",
   "metadata": {
    "editable": true,
    "slideshow": {
     "slide_type": ""
    },
    "tags": []
   },
   "outputs": [],
   "source": []
  }
 ],
 "metadata": {
  "kernelspec": {
   "display_name": "Python 3 (ipykernel)",
   "language": "python",
   "name": "python3"
  },
  "language_info": {
   "codemirror_mode": {
    "name": "ipython",
    "version": 3
   },
   "file_extension": ".py",
   "mimetype": "text/x-python",
   "name": "python",
   "nbconvert_exporter": "python",
   "pygments_lexer": "ipython3",
   "version": "3.10.14"
  }
 },
 "nbformat": 4,
 "nbformat_minor": 5
}
