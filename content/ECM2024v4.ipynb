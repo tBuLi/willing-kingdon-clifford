{
 "cells": [
  {
   "cell_type": "code",
   "execution_count": 1,
   "id": "8bbbfc53-0ecb-421b-8e46-601d83ea3b83",
   "metadata": {
    "editable": true,
    "slideshow": {
     "slide_type": "skip"
    },
    "tags": []
   },
   "outputs": [
    {
     "name": "stdout",
     "output_type": "stream",
     "text": [
      "Note: you may need to restart the kernel to use updated packages.\n"
     ]
    }
   ],
   "source": [
    "%pip install -q kingdon anywidget==0.9.13"
   ]
  },
  {
   "cell_type": "markdown",
   "id": "bd7bccfa-9785-4fea-b91e-da424f7b9efd",
   "metadata": {
    "editable": true,
    "slideshow": {
     "slide_type": "slide"
    },
    "tags": []
   },
   "source": [
    "# Geometric Gauges: \n",
    "# Plane and Simple\n",
    "\n",
    "**<p style=\"text-align: right;\">Martin Roelfs</p>**\n",
    "<p style=\"text-align: right;\">University of Antwerp</p>"
   ]
  },
  {
   "cell_type": "code",
   "execution_count": 2,
   "id": "79c0a81f-1313-48ed-a9b5-40f84c486f83",
   "metadata": {},
   "outputs": [
    {
     "data": {
      "application/vnd.jupyter.widget-view+json": {
       "model_id": "456b212a175946589b1ccd0f317c4b10",
       "version_major": 2,
       "version_minor": 1
      },
      "text/plain": [
       "FragmentWidget(state=[0, 0])"
      ]
     },
     "execution_count": 2,
     "metadata": {},
     "output_type": "execute_result"
    }
   ],
   "source": [
    "from reveal_widgets import FragmentWidget\n",
    "\n",
    "fragment_widget = FragmentWidget()\n",
    "# fragment_widget.state = (1, 0)\n",
    "# fragment_widget.fragment = 1\n",
    "fragment_widget"
   ]
  },
  {
   "cell_type": "code",
   "execution_count": 3,
   "id": "a074071a-026c-433d-ba52-28dc29f3d9ec",
   "metadata": {},
   "outputs": [],
   "source": [
    "import ipywidgets as ipy\n",
    "\n",
    "from animations import (\n",
    "    refl_1d_graph_func_0,\n",
    "    refl_1d_graph_func_1,\n",
    "    refl_1d_graph_func_2,\n",
    "    refl_1d_graph_func_3,\n",
    "    refl_2d_graph_func,\n",
    "    birefl_graph_func,\n",
    "    point_refl_graph_func,\n",
    "    birefl_gauge_rot_func,\n",
    "    birefl_gauge_trans_func,\n",
    "    points_gp_graph_func,\n",
    "    sw_graph_func,\n",
    "    birefl_iden_graph_func,\n",
    "    birefl_point_graph_func,\n",
    ")\n",
    "from animations.config import alg3d, animated_options, options, clrs"
   ]
  },
  {
   "cell_type": "markdown",
   "id": "fd51a160-a212-4913-b6e6-ed0b298a0be6",
   "metadata": {
    "editable": true,
    "slideshow": {
     "slide_type": "subslide"
    },
    "tags": []
   },
   "source": [
    "## Introduction\n",
    "\n",
    "- About Reflections"
   ]
  },
  {
   "cell_type": "markdown",
   "id": "d4b5f6d8-3b2a-4380-92ff-4945bfcf3e87",
   "metadata": {
    "editable": true,
    "slideshow": {
     "slide_type": "slide"
    },
    "tags": []
   },
   "source": [
    "## About Reflections\n",
    "\n",
    "Consider reflections in $1$ dimension.\n",
    "<span class=\"fragment\">In $1$ dimension, a single point-reflection inverts all points on the line.<span class=\"fragment\">\n"
   ]
  },
  {
   "cell_type": "code",
   "execution_count": 4,
   "id": "73cade8e-f43c-48c4-894b-a7a1539973ff",
   "metadata": {
    "editable": true,
    "slideshow": {
     "slide_type": "skip"
    },
    "tags": []
   },
   "outputs": [
    {
     "data": {
      "application/vnd.jupyter.widget-view+json": {
       "model_id": "0dab2b6eedb74d6b94d1d5378092b4c0",
       "version_major": 2,
       "version_minor": 1
      },
      "text/plain": [
       "GraphWidget(cayley=[['1', 'e0', 'e1', 'e2', 'e3', 'e01', 'e02', 'e03', 'e12', 'e13', 'e23', 'e012', 'e013', 'e…"
      ]
     },
     "execution_count": 4,
     "metadata": {},
     "output_type": "execute_result"
    }
   ],
   "source": [
    "def refl_1d_graph_func():\n",
    "    if fragment_widget.fragment == 0:\n",
    "        return refl_1d_graph_func_1()\n",
    "    elif fragment_widget.fragment == 1:\n",
    "        return refl_1d_graph_func_2()\n",
    "    elif fragment_widget.fragment == 2:\n",
    "        return refl_1d_graph_func_3()\n",
    "    return refl_1d_graph_func_0()\n",
    "\n",
    "alg3d.graph(\n",
    "    refl_1d_graph_func,\n",
    "    **animated_options\n",
    ")"
   ]
  },
  {
   "cell_type": "markdown",
   "id": "5d0cdd24-138a-4f06-a96d-9eb11d9c7314",
   "metadata": {
    "editable": true,
    "slideshow": {
     "slide_type": ""
    },
    "tags": []
   },
   "source": [
    "<span class=\"fragment\">Two point-reflections on the line make a translation along the line over *twice the distance between the points*.</span>\n",
    "**<p class=\"fragment\" style=\"text-align: center;\">But how do you know this scenario was 1d?</p>**"
   ]
  },
  {
   "cell_type": "markdown",
   "id": "b203090d-a1e2-493b-95d2-e8adb07ddb67",
   "metadata": {
    "editable": true,
    "slideshow": {
     "slide_type": "fragment"
    },
    "tags": []
   },
   "source": [
    "As we go to higher dimensions, these properties should still hold: \n",
    "- one point-reflections inverts any line through that point.\n",
    "- two point-reflections to create a translation along the line."
   ]
  },
  {
   "cell_type": "markdown",
   "id": "fb8e8a7d-16db-4f8f-8a2c-8cb14576b51d",
   "metadata": {
    "editable": true,
    "slideshow": {
     "slide_type": "subslide"
    },
    "tags": []
   },
   "source": [
    "In $d$ dimensions, a single reflection inverts the entire space except for the $d-1$ dimensional subspace in which we reflect."
   ]
  },
  {
   "cell_type": "code",
   "execution_count": 5,
   "id": "087f3420-7fd9-45b9-9a1e-20616d0a8acb",
   "metadata": {
    "editable": true,
    "slideshow": {
     "slide_type": ""
    },
    "tags": []
   },
   "outputs": [
    {
     "data": {
      "application/vnd.jupyter.widget-view+json": {
       "model_id": "ac4bbc21495541c8a2911137fd210f22",
       "version_major": 2,
       "version_minor": 1
      },
      "text/plain": [
       "GraphWidget(cayley=[['1', 'e0', 'e1', 'e2', 'e3', 'e01', 'e02', 'e03', 'e12', 'e13', 'e23', 'e012', 'e013', 'e…"
      ]
     },
     "execution_count": 5,
     "metadata": {},
     "output_type": "execute_result"
    }
   ],
   "source": [
    "alg3d.graph(\n",
    "    refl_2d_graph_func,\n",
    "    **options\n",
    ")"
   ]
  },
  {
   "cell_type": "markdown",
   "id": "d3c00217-4c20-4737-b8f4-7cf0f7da3acf",
   "metadata": {
    "editable": true,
    "slideshow": {
     "slide_type": "subslide"
    },
    "tags": []
   },
   "source": [
    "## Bireflections\n",
    "\n",
    "Two reflections can form a translation, a rotation, or a boost. These are all examples of **bireflections**."
   ]
  },
  {
   "cell_type": "code",
   "execution_count": 6,
   "id": "e0739f96-af14-4fbf-a914-3a1158a67ecc",
   "metadata": {
    "editable": true,
    "slideshow": {
     "slide_type": ""
    },
    "tags": []
   },
   "outputs": [
    {
     "data": {
      "application/vnd.jupyter.widget-view+json": {
       "model_id": "443a777b075a4e22b9004988dee0812b",
       "version_major": 2,
       "version_minor": 0
      },
      "text/plain": [
       "GridspecLayout(children=(GraphWidget(cayley=[['1', 'e0', 'e1', 'e2', 'e3', 'e01', 'e02', 'e03', 'e12', 'e13', …"
      ]
     },
     "execution_count": 6,
     "metadata": {},
     "output_type": "execute_result"
    }
   ],
   "source": [
    "grid_bireflections = ipy.GridspecLayout(1, 2)\n",
    "grid_bireflections[0, 0] = alg3d.graph(\n",
    "    birefl_gauge_rot_func,\n",
    "    **animated_options\n",
    ")\n",
    "grid_bireflections[0, 1] = alg3d.graph(\n",
    "    birefl_gauge_trans_func,\n",
    "    **animated_options\n",
    ")\n",
    "grid_bireflections"
   ]
  },
  {
   "cell_type": "markdown",
   "id": "f80cb5b9-6a82-4299-a320-99bd45b7827d",
   "metadata": {
    "editable": true,
    "slideshow": {
     "slide_type": "subslide"
    },
    "tags": []
   },
   "source": [
    "## Honorable Bireflections"
   ]
  },
  {
   "cell_type": "code",
   "execution_count": 7,
   "id": "39f3929c-5b83-48ed-ad26-5d461b708092",
   "metadata": {
    "editable": true,
    "slideshow": {
     "slide_type": ""
    },
    "tags": []
   },
   "outputs": [
    {
     "data": {
      "application/vnd.jupyter.widget-view+json": {
       "model_id": "93cf3b7a1a894965bc51a72687c13fd3",
       "version_major": 2,
       "version_minor": 0
      },
      "text/plain": [
       "GridspecLayout(children=(GraphWidget(cayley=[['1', 'e0', 'e1', 'e2', 'e3', 'e01', 'e02', 'e03', 'e12', 'e13', …"
      ]
     },
     "execution_count": 7,
     "metadata": {},
     "output_type": "execute_result"
    }
   ],
   "source": [
    "grid = ipy.GridspecLayout(1, 2)\n",
    "grid[0, 0] = alg3d.graph(\n",
    "    birefl_iden_graph_func,\n",
    "    **options\n",
    ")\n",
    "grid[0, 1] = alg3d.graph(\n",
    "    birefl_point_graph_func,\n",
    "    **options\n",
    ")\n",
    "grid"
   ]
  },
  {
   "cell_type": "code",
   "execution_count": 8,
   "id": "80d785eb-8df3-49dd-9b64-ec2bdffd2c26",
   "metadata": {
    "editable": true,
    "slideshow": {
     "slide_type": ""
    },
    "tags": []
   },
   "outputs": [],
   "source": [
    "# grid = ipy.GridspecLayout(1, 2)\n",
    "# grid[0, 0] = alg3d.graph(\n",
    "#     birefl_graph_func,\n",
    "#     **options\n",
    "# )\n",
    "# grid[0, 1] = alg3d.graph(\n",
    "#     point_refl_graph_func,\n",
    "#     **options\n",
    "# )\n",
    "# grid"
   ]
  },
  {
   "cell_type": "markdown",
   "id": "91b14d34-1271-4964-94d0-a1cb3318042d",
   "metadata": {
    "editable": true,
    "slideshow": {
     "slide_type": "fragment"
    },
    "tags": []
   },
   "source": [
    "- Identity is an even number of identical reflections since reflections are involutary.\n",
    "  > Identity is a $2k$-reflection"
   ]
  },
  {
   "cell_type": "markdown",
   "id": "2e19e2a8-6ee4-436c-ba80-f3270323de21",
   "metadata": {
    "editable": true,
    "slideshow": {
     "slide_type": "fragment"
    },
    "tags": []
   },
   "source": [
    "- Two orthogonal reflections are identical to a point reflection.          \n",
    "  > A point(-reflection) **is** two orthogonal line(-reflection)s."
   ]
  },
  {
   "cell_type": "markdown",
   "id": "060c57de-1360-478e-84ba-1bc2561c3da2",
   "metadata": {
    "editable": true,
    "slideshow": {
     "slide_type": "subslide"
    },
    "tags": []
   },
   "source": [
    "## Bireflections have Geometric Gauges\n",
    "\n",
    "Given the input and output shape, you could reconstruct the bireflection between them. However, *you could never know which specific reflections were used to make that bireflection!* "
   ]
  },
  {
   "cell_type": "code",
   "execution_count": 9,
   "id": "64ac7b3a-4bf6-42e5-b43c-a51f106ddec9",
   "metadata": {},
   "outputs": [
    {
     "data": {
      "application/vnd.jupyter.widget-view+json": {
       "model_id": "443a777b075a4e22b9004988dee0812b",
       "version_major": 2,
       "version_minor": 0
      },
      "text/plain": [
       "GridspecLayout(children=(GraphWidget(cayley=[['1', 'e0', 'e1', 'e2', 'e3', 'e01', 'e02', 'e03', 'e12', 'e13', …"
      ]
     },
     "execution_count": 9,
     "metadata": {},
     "output_type": "execute_result"
    }
   ],
   "source": [
    "grid_bireflections"
   ]
  },
  {
   "cell_type": "markdown",
   "id": "b6fe67c7-2b5a-4488-9f0c-886aad887d6d",
   "metadata": {},
   "source": [
    "**<p style=\"text-align: center;\">Bireflections have a gauge degree of freedom!</p>**"
   ]
  },
  {
   "cell_type": "markdown",
   "id": "649e3050-7c77-4539-a322-fc2bc5a8023e",
   "metadata": {
    "editable": true,
    "slideshow": {
     "slide_type": "subslide"
    },
    "tags": []
   },
   "source": [
    "## Product between two points\n",
    "\n",
    "The product between two points $a$ and $b$: $R = ab$."
   ]
  },
  {
   "cell_type": "code",
   "execution_count": 10,
   "id": "580eaf97-c693-4874-a66c-993bd1d671dc",
   "metadata": {
    "editable": true,
    "slideshow": {
     "slide_type": ""
    },
    "tags": []
   },
   "outputs": [
    {
     "data": {
      "application/vnd.jupyter.widget-view+json": {
       "model_id": "944d88b22cd446e8b19e07cf6bb1939f",
       "version_major": 2,
       "version_minor": 0
      },
      "text/plain": [
       "VBox(children=(FloatSlider(value=0.0, max=1.0, min=-1.0, readout_format='.1f', step=0.05), FloatSlider(value=0…"
      ]
     },
     "execution_count": 10,
     "metadata": {},
     "output_type": "execute_result"
    }
   ],
   "source": [
    "from animations.points_gp_graph import p1_slider, p2_slider\n",
    "\n",
    "points_gp_graph = alg3d.graph(\n",
    "    points_gp_graph_func,\n",
    "    **animated_options\n",
    ")\n",
    "\n",
    "ipy.VBox([p1_slider, p2_slider, points_gp_graph])"
   ]
  },
  {
   "cell_type": "markdown",
   "id": "2c908c9b-e9ac-4eb1-ad31-ad9d9b6ef751",
   "metadata": {
    "editable": true,
    "slideshow": {
     "slide_type": "fragment"
    },
    "tags": []
   },
   "source": [
    "The product of two points is a translation along the line $a \\vee b$! In fact, it is **twice** the translation from $a$ to $b$. This is the same as in 1 dimension!"
   ]
  },
  {
   "cell_type": "markdown",
   "id": "f70e0174-c19b-425a-b4e3-d5e16907a960",
   "metadata": {
    "editable": true,
    "slideshow": {
     "slide_type": "subslide"
    },
    "tags": []
   },
   "source": [
    "## Formulating (a realization of) Geometry\n",
    "\n",
    "- Well known: reflections are involutary:\n",
    "  $$ r r X r^{-1} r^{-1}= r^2 X r^{-2} = X$$\n",
    "  I.e. $r^2 = \\pm 1$. **This goes for point-, line-, plane-reflections alike**.\n",
    "- In a Clifford (Geometric) Algebra, products of orthogonal vectors square to scalars:\n",
    "$$ A = v_1 \\wedge v_2 \\wedge \\cdots \\wedge v_k \\implies A^2 \\in \\mathbb{R} $$\n",
    "- It is well-known that the products of vectors in a Clifford Algebra are elements of $\\text{Pin}(p,q,r)$.\n",
    "\n",
    "These statements result in an algebraic representation of the afor mentioned geometrical concepts if\n",
    "> The grade-1 vectors are identified with hyperplanes, instead of with arrows pointing at points!\n",
    "\n"
   ]
  },
  {
   "cell_type": "markdown",
   "id": "166b5bcc-a43d-4c74-806b-09b4fdc90ae5",
   "metadata": {
    "editable": true,
    "slideshow": {
     "slide_type": "subslide"
    },
    "tags": []
   },
   "source": [
    "## Formulating (a realization of) Geometry\n",
    "\n",
    "The equation of a hyperplane in $\\mathbb{R}^{p,q}$ \n",
    "    $$ a_1 x_1 + a_2 x_2 + \\ldots + a_n x_n = -b$$\n",
    "with $n = p + q$\n",
    "can be represented as a vector in a Clifford algebra of dimension $d=n+1$:\n",
    "$$ a_1 \\mathbb{e}_1 + \\mathbb{e}_2 x_2 + \\ldots + \\mathbb{e}_n \\mathbb{e}_n + b \\mathbb{e}_0,$$\n",
    "where $\\mathbb{e}_i$ are the basis vectors of the algebra.\n",
    "\n",
    "<span class=\"fragment\">\n",
    "Depending on the sign of $\\mathbb{e}_0$ we get different geometries:\n",
    "    <ul>\n",
    "        <li class=\"fragment\">$\\mathbb{e}_0^2 = 1$: Eliptic Projective Geometric Algebra (PGA)</li>\n",
    "        <li class=\"fragment\">$\\mathbb{e}_0^2 = -1$: Hyperbolic PGA</li>\n",
    "        <li class=\"fragment\">$\\mathbb{e}_0^2 = 0$: <b>Euclidean</b> PGA</li>\n",
    "    </ul>\n",
    "</span>\n",
    "\n",
    "<p class=\"fragment\">\n",
    "Intuition for $\\mathbb{e}_0^2 = 0$: it represents the (hyper)plane at infinity, in which you cannot reflect.\n",
    "</p>\n"
   ]
  },
  {
   "cell_type": "markdown",
   "id": "40f240fb-e191-40a3-b828-25d2670b7fba",
   "metadata": {
    "editable": true,
    "slideshow": {
     "slide_type": "subslide"
    },
    "tags": []
   },
   "source": [
    "## A Realization of Euclidean Geometry\n",
    "\n",
    "We can now formulate a dimension agnostic realization of (Euclidean) Geometry:\n",
    "\n",
    "<img src=\"https://s3.amazonaws.com/media-p.slid.es/uploads/1142925/images/10385552/1DPGA.png\" alt=\"1DPGA\" style=\"height:50px;\"/>\n",
    "\n",
    "<p class=\"fragment\">\n",
    "The <b>points</b> turned out to have been <b>lines</b> in the one-up space, but the line we could already see <b>remains a line</b>. So $1 \\to \\mathbf{e}_2$, and we get points as intersections:\n",
    "\n",
    "<img class=\"fragment\" src=\"https://s3.amazonaws.com/media-p.slid.es/uploads/1142925/images/10385571/2DPGA.png\" alt=\"2DPGA\" style=\"height:50px;\"/>\n",
    "</p>\n",
    "\n",
    "<p class=\"fragment\">\n",
    "The <b>lines</b> turned out to have been <b>planes</b> in the one-up space, but the plane we could already see <b>remains a plane</b>. So $1 \\to \\mathbf{e}_3$, and we get lines and points as intersections:\n",
    "\n",
    "<img class=\"fragment\" src=\"https://s3.amazonaws.com/media-p.slid.es/uploads/1142925/images/10385575/3DPGA.png\" alt=\"3DPGA\" style=\"height:50px;\"/>\n",
    "</p>"
   ]
  },
  {
   "cell_type": "markdown",
   "id": "9e11bcc8-5283-4ac5-a445-8ab08f4e31c2",
   "metadata": {
    "editable": true,
    "slideshow": {
     "slide_type": "subslide"
    },
    "tags": []
   },
   "source": [
    "## Algebra of Geometry\n",
    "\n",
    "<!--<iframe src=\"https://enkimute.github.io/ganja.js/examples/coffeeshop.html#8lN3hOoNj&fullscreen\" width=\"100%\" height=\"100%\" frameBorder=\"0\" alt=\"iframe\"></iframe>-->\n",
    "<img src=\"https://s3.amazonaws.com/media-p.slid.es/uploads/1013487/images/9831082/pasted-from-clipboard.png\" alt=\"algebra_of_geometry\" />\n"
   ]
  },
  {
   "cell_type": "markdown",
   "id": "bcb5f0af-2ca1-4951-9c50-0f3c2395308e",
   "metadata": {
    "editable": true,
    "slideshow": {
     "slide_type": "slide"
    },
    "tags": []
   },
   "source": [
    "## Geometric Gauges Supercharge Geometric Intuition\n",
    "\n",
    "**Geometric Gauges** are the mechanism behind \n",
    "- all products between geometric elements (points, lines, planes etc.).\n",
    "- conjugation.\n",
    "- the famous *Cartan-Dieudonné theorem*.\n",
    "- the *invariant decomposition theorem*.\n",
    "\n",
    "Geometric Gauges allow one to answer complicated algebraic questions by levering ones visual cortex."
   ]
  },
  {
   "cell_type": "markdown",
   "id": "845a605f-23b2-483b-8932-30d6eb623346",
   "metadata": {
    "editable": true,
    "slideshow": {
     "slide_type": "subslide"
    },
    "tags": []
   },
   "source": [
    "## Cartan-Dieudonné theorem\n",
    "\n",
    "**Geometric Gauges** are the geometric mechanism behind the famous *Cartan-Dieudonné theorem*:\n",
    "> Every orthogonal transformation in an $n$-dimensional embedding space is composed from at most $n$ reflections. \n",
    "\n",
    "<iframe src=\"https://enkimute.github.io/ganja.js/examples/coffeeshop.html#Mqs0ezNVP&fullscreen\" width=\"100%\" height=\"100%\" frameBorder=\"0\" scrolling=\"no\"></iframe>"
   ]
  },
  {
   "cell_type": "markdown",
   "id": "3d7a3f8c-9b5e-4d82-b22a-a3307b46a947",
   "metadata": {
    "editable": true,
    "jp-MarkdownHeadingCollapsed": true,
    "slideshow": {
     "slide_type": "fragment"
    },
    "tags": []
   },
   "source": [
    "<p style=\"text-align: center;\">In fact: <b>Geometric Gauges explain all Products!</b></p>"
   ]
  },
  {
   "cell_type": "markdown",
   "id": "abd858cc-17c9-4e69-a9a1-8501b5a1ed37",
   "metadata": {
    "editable": true,
    "slideshow": {
     "slide_type": "subslide"
    },
    "tags": []
   },
   "source": [
    "## Inventing Conjugation\n",
    "\n",
    "How do we reflect the line $b$ over the $a$? Gauges show that we need the product $aba$.\n",
    "- Use the gauge degree of freedom in $ab = a'b'$ until $b' = a$, at which point $ a b a = (a' b') a  = a' ( b' a) = a'$"
   ]
  },
  {
   "cell_type": "code",
   "execution_count": 11,
   "id": "01497a35-2757-43bb-aed3-c05e427d223e",
   "metadata": {
    "editable": true,
    "slideshow": {
     "slide_type": ""
    },
    "tags": []
   },
   "outputs": [
    {
     "data": {
      "application/vnd.jupyter.widget-view+json": {
       "model_id": "6fd11a7f74c34a3da9c20a301ca8ccc7",
       "version_major": 2,
       "version_minor": 0
      },
      "text/plain": [
       "VBox(children=(FloatSlider(value=0.0, max=1.0, min=-1.0, readout_format='.1f', step=0.05), GraphWidget(cayley=…"
      ]
     },
     "execution_count": 11,
     "metadata": {},
     "output_type": "execute_result"
    }
   ],
   "source": [
    "from animations.sw_graph import sw_slider\n",
    "\n",
    "sw_graph = alg3d.graph(\n",
    "    sw_graph_func,\n",
    "    **animated_options\n",
    ")\n",
    "ipy.VBox([sw_slider, sw_graph])"
   ]
  },
  {
   "cell_type": "markdown",
   "id": "dc54c6c8-9b86-4223-8fd2-42c5d6bf0238",
   "metadata": {
    "editable": true,
    "slideshow": {
     "slide_type": "fragment"
    },
    "tags": []
   },
   "source": [
    "<p style=\"text-align: center;\">Gauges explain the conjugation formula $aba^{-1}$ for $a,b \\in \\text{Pin}(p, q, r)$!</p>"
   ]
  },
  {
   "cell_type": "markdown",
   "id": "71a8707b-0e48-464b-bfc9-c8331ae26063",
   "metadata": {
    "editable": true,
    "slideshow": {
     "slide_type": "subslide"
    },
    "tags": []
   },
   "source": [
    "## Invariant Decomposition Theorem\n",
    "\n",
    "<iframe src=\"https://enkimute.github.io/ganja.js/examples/coffeeshop.html#ffeKS-07k&fullscreen\" width=\"100%\" height=\"100%\" frameBorder=\"0\" alt=\"iframe\"></iframe>\n",
    "<span class=\"fragment\"></span>\n",
    "<span class=\"fragment\"></span>\n",
    "<span class=\"fragment\"></span>"
   ]
  },
  {
   "cell_type": "markdown",
   "id": "a84a1e90-b40b-49cd-9c0f-16972ed74687",
   "metadata": {
    "editable": true,
    "slideshow": {
     "slide_type": "slide"
    },
    "tags": []
   },
   "source": [
    "# Invariant Decomposition\n",
    "\n",
    "<iframe src=\"https://enkimute.github.io/ganja.js/examples/coffeeshop.html#ffeKS-07k&fullscreen\" width=\"100%\" height=\"100%\" frameBorder=\"0\" alt=\"iframe\"></iframe>\n",
    "<span class=\"fragment\"></span>\n",
    "<span class=\"fragment\"></span>\n",
    "<span class=\"fragment\"></span>"
   ]
  },
  {
   "cell_type": "markdown",
   "id": "82c52ef9-add3-4f43-8fd5-63e930574da4",
   "metadata": {
    "editable": true,
    "slideshow": {
     "slide_type": "slide"
    },
    "tags": []
   },
   "source": [
    "## First Principle"
   ]
  },
  {
   "cell_type": "markdown",
   "id": "2f37d6ed-bb48-4a4e-9908-37813738458e",
   "metadata": {
    "editable": true,
    "slideshow": {
     "slide_type": "slide"
    },
    "tags": []
   },
   "source": [
    "## Invariant Decomposition\n",
    "\n",
    "$$ b_i = \\frac{\\lambda_i B + \\tfrac{1}{3!} B \\wedge B \\wedge B}{\\lambda_i + \\tfrac{1}{2} B \\wedge B} $$"
   ]
  },
  {
   "cell_type": "markdown",
   "id": "ffb7ddbc-7f15-4887-aaf3-88c0fe6d6d20",
   "metadata": {
    "editable": true,
    "slideshow": {
     "slide_type": "slide"
    },
    "tags": []
   },
   "source": [
    "## Conclusion\n",
    "\n",
    "Does it work? This entire presentation has been a live demo! All the animations were made using simple expressions.\n",
    "End by qouting Charles like in the GSG paper?\n",
    "\n",
    "\n",
    "Scan this QR code to try the kingdon teahouse:"
   ]
  },
  {
   "cell_type": "markdown",
   "id": "1d2ecdfd-8bc5-4c1b-ae67-08502fadf264",
   "metadata": {
    "editable": true,
    "slideshow": {
     "slide_type": "subslide"
    },
    "tags": []
   },
   "source": [
    "<iframe src=\"https://enkimute.github.io/ganja.js/examples/coffeeshop.html#XOWMGemyJ&fullscreen\" width=\"100%\" height=\"100%\" frameBorder=\"0\" alt=\"iframe\"></iframe>"
   ]
  },
  {
   "cell_type": "code",
   "execution_count": null,
   "id": "ea0c425a-8f61-417d-97e6-4833753ebcc0",
   "metadata": {
    "editable": true,
    "slideshow": {
     "slide_type": ""
    },
    "tags": []
   },
   "outputs": [],
   "source": []
  }
 ],
 "metadata": {
  "kernelspec": {
   "display_name": "Python 3 (ipykernel)",
   "language": "python",
   "name": "python3"
  },
  "language_info": {
   "codemirror_mode": {
    "name": "ipython",
    "version": 3
   },
   "file_extension": ".py",
   "mimetype": "text/x-python",
   "name": "python",
   "nbconvert_exporter": "python",
   "pygments_lexer": "ipython3",
   "version": "3.10.14"
  }
 },
 "nbformat": 4,
 "nbformat_minor": 5
}
