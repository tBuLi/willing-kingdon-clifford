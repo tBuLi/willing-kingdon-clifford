{
 "cells": [
  {
   "cell_type": "markdown",
   "id": "b465f477-43da-449b-9652-70d5e96d74ed",
   "metadata": {},
   "source": [
    "# First slide\n",
    "\n",
    "This is my first slide.\n",
    "\n",
    "$$ f(x) = x^2 $$"
   ]
  },
  {
   "cell_type": "code",
   "execution_count": 1,
   "id": "54927fb8-eeb7-4ab9-9caa-6eddd4d6babc",
   "metadata": {},
   "outputs": [],
   "source": [
    "from kingdon import Algebra\n",
    "\n",
    "alg = Algebra(2, 0, 1)\n",
    "locals().update(alg.blades)"
   ]
  },
  {
   "cell_type": "code",
   "execution_count": 2,
   "id": "ef9308af-c534-4ec5-af5a-f1a986ab71e4",
   "metadata": {},
   "outputs": [],
   "source": [
    "# Construct points and lines from coefficients\n",
    "point = lambda x, y: (e0 + x*e1 + y*e2).dual()\n",
    "line = lambda a, b, c: a*e1 + b*e2 + c*e0\n",
    "\n",
    "# The formulas for projection and rejection are the same for all elements of geometry in PGA\n",
    "project = lambda a, b: (a | b) / b\n",
    "reject = lambda a, b: (a | b)"
   ]
  },
  {
   "cell_type": "code",
   "execution_count": 3,
   "id": "a1b7edae-fdc8-4431-bf5d-59982f6de152",
   "metadata": {},
   "outputs": [],
   "source": [
    "A = point(1, 1)\n",
    "B = point(-1, 1)\n",
    "C = point(-1, -1)\n",
    "AC = A & C"
   ]
  },
  {
   "cell_type": "code",
   "execution_count": 4,
   "id": "1b8e39f6-8773-4c51-9355-28dbe644de3c",
   "metadata": {},
   "outputs": [
    {
     "data": {
      "application/vnd.jupyter.widget-view+json": {
       "model_id": "235d60fcb243493b8909b5dd8de0cb64",
       "version_major": 2,
       "version_minor": 1
      },
      "text/plain": [
       "GraphWidget(cayley=[['1', 'e0', 'e1', 'e2', 'e01', 'e02', 'e12', 'e012'], ['e0', '0', 'e01', 'e02', '0', '0', …"
      ]
     },
     "execution_count": 4,
     "metadata": {},
     "output_type": "execute_result"
    }
   ],
   "source": [
    "alg.graph(\n",
    "    0xD0FFE1, [A,B,C],\n",
    "    0x882288, project(B, AC), \"project B onto AC\",\n",
    "    0x882288, project(AC, B), \"project AC onto B\",\n",
    "    0x008844, reject(AC, B),  \"reject AC from B\",\n",
    "    0x00AA88, AC, \"AC\",\n",
    "    0x224488, A, \"A\", B, \"B\", C, \"C\",\n",
    "    lineWidth=3, grid=1, labels=1\n",
    ")"
   ]
  },
  {
   "cell_type": "code",
   "execution_count": null,
   "id": "89c3e654-36fc-44de-a2b7-913bcf2c7524",
   "metadata": {},
   "outputs": [],
   "source": []
  }
 ],
 "metadata": {
  "kernelspec": {
   "display_name": "Python 3 (ipykernel)",
   "language": "python",
   "name": "python3"
  },
  "language_info": {
   "codemirror_mode": {
    "name": "ipython",
    "version": 3
   },
   "file_extension": ".py",
   "mimetype": "text/x-python",
   "name": "python",
   "nbconvert_exporter": "python",
   "pygments_lexer": "ipython3",
   "version": "3.11.9"
  }
 },
 "nbformat": 4,
 "nbformat_minor": 5
}
