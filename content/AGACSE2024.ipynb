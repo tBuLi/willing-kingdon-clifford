{
 "cells": [
  {
   "cell_type": "code",
   "execution_count": 1,
   "id": "8bbbfc53-0ecb-421b-8e46-601d83ea3b83",
   "metadata": {
    "editable": true,
    "slideshow": {
     "slide_type": "skip"
    },
    "tags": []
   },
   "outputs": [
    {
     "name": "stdout",
     "output_type": "stream",
     "text": [
      "Note: you may need to restart the kernel to use updated packages.\n"
     ]
    }
   ],
   "source": [
    "%pip install -q kingdon anywidget==0.9.13"
   ]
  },
  {
   "cell_type": "markdown",
   "id": "bd7bccfa-9785-4fea-b91e-da424f7b9efd",
   "metadata": {
    "editable": true,
    "slideshow": {
     "slide_type": "slide"
    },
    "tags": []
   },
   "source": [
    "# The \n",
    "# Willing `Kingdon` Clifford\n",
    "# Algebra Library\n",
    "\n",
    "**<p style=\"text-align: right;\">Martin Roelfs</p>**\n",
    "<p style=\"text-align: right;\">Flanders Make, University of Antwerp</p>"
   ]
  },
  {
   "cell_type": "code",
   "execution_count": 2,
   "id": "9ca11294-7da6-4229-bc57-b99cea30f2d4",
   "metadata": {},
   "outputs": [
    {
     "data": {
      "application/javascript": [
       "require(\n",
       "    {\n",
       "      // it makes sense to wait a little bit when you are loading\n",
       "      // reveal from a cdn in a slow connection environment\n",
       "      waitSeconds: 15\n",
       "    },\n",
       "    [\n",
       "      \"https://unpkg.com/reveal.js@5.1.0/dist/reveal.js\",\n",
       "      \"https://unpkg.com/reveal.js@5.1.0/plugin/notes/notes.js\"\n",
       "    ],\n",
       "\n",
       "    function(Reveal, RevealNotes){\n",
       "        function broadcast(event) {\n",
       "            var cur = Reveal.getIndices();\n",
       "            console.log('current', cur);\n",
       "            var iFrames = [...document.querySelectorAll('iframe')].filter(x=>x.src);\n",
       "            iFrames.forEach(iFrame=>iFrame.contentWindow.postMessage([cur.h, cur.v, cur.f]+'',\"*\"));\n",
       "            \n",
       "        };\n",
       "        \n",
       "        Reveal.addEventListener('fragmentshown', broadcast);\n",
       "        Reveal.addEventListener('fragmenthidden', broadcast);\n",
       "        Reveal.addEventListener('slidetransitionend', broadcast);\n",
       "    }\n",
       ");\n"
      ],
      "text/plain": [
       "<IPython.core.display.Javascript object>"
      ]
     },
     "metadata": {},
     "output_type": "display_data"
    }
   ],
   "source": [
    "%%js\n",
    "require(\n",
    "    {\n",
    "      // it makes sense to wait a little bit when you are loading\n",
    "      // reveal from a cdn in a slow connection environment\n",
    "      waitSeconds: 15\n",
    "    },\n",
    "    [\n",
    "      \"https://unpkg.com/reveal.js@5.1.0/dist/reveal.js\",\n",
    "      \"https://unpkg.com/reveal.js@5.1.0/plugin/notes/notes.js\"\n",
    "    ],\n",
    "\n",
    "    function(Reveal, RevealNotes){\n",
    "        function broadcast(event) {\n",
    "            var cur = Reveal.getIndices();\n",
    "            console.log('current', cur);\n",
    "            var iFrames = [...document.querySelectorAll('iframe')].filter(x=>x.src);\n",
    "            iFrames.forEach(iFrame=>iFrame.contentWindow.postMessage([cur.h, cur.v, cur.f]+'',\"*\"));\n",
    "            \n",
    "        };\n",
    "        \n",
    "        Reveal.addEventListener('fragmentshown', broadcast);\n",
    "        Reveal.addEventListener('fragmenthidden', broadcast);\n",
    "        Reveal.addEventListener('slidetransitionend', broadcast);\n",
    "    }\n",
    ");"
   ]
  },
  {
   "cell_type": "code",
   "execution_count": 3,
   "id": "79c0a81f-1313-48ed-a9b5-40f84c486f83",
   "metadata": {},
   "outputs": [
    {
     "data": {
      "application/vnd.jupyter.widget-view+json": {
       "model_id": "9e28e8878be24598a7acc474b356d962",
       "version_major": 2,
       "version_minor": 1
      },
      "text/plain": [
       "FragmentWidget(state=[0, 0])"
      ]
     },
     "execution_count": 3,
     "metadata": {},
     "output_type": "execute_result"
    }
   ],
   "source": [
    "import reveal_widgets\n",
    "\n",
    "fragment_widget = reveal_widgets.FragmentWidget()\n",
    "fragment_widget"
   ]
  },
  {
   "cell_type": "code",
   "execution_count": 4,
   "id": "a074071a-026c-433d-ba52-28dc29f3d9ec",
   "metadata": {
    "editable": true,
    "slideshow": {
     "slide_type": ""
    },
    "tags": []
   },
   "outputs": [],
   "source": [
    "import ipywidgets as ipy\n",
    "\n",
    "from animations import (\n",
    "    graph_mechanism_func,\n",
    ")\n",
    "from animations.config import alg2d, options, animated_options\n",
    "\n",
    "from animations.mechanism import tangent_widget, recompute_widget, mechanism_widget"
   ]
  },
  {
   "cell_type": "markdown",
   "id": "fd51a160-a212-4913-b6e6-ed0b298a0be6",
   "metadata": {
    "editable": true,
    "slideshow": {
     "slide_type": "subslide"
    },
    "tags": []
   },
   "source": [
    "## Introduction\n",
    "\n",
    "- Why another GA library?\n",
    "  - Design Philosophy\n",
    "  - Basic Examples\n",
    "- Inner Workings\n",
    "- Industrial Examples\n",
    "- Get started"
   ]
  },
  {
   "cell_type": "markdown",
   "id": "bf72ee77-2c00-4bda-947e-e594b740900c",
   "metadata": {
    "editable": true,
    "slideshow": {
     "slide_type": "slide"
    },
    "tags": []
   },
   "source": [
    "## Why Another GA Library\n",
    "\n",
    "- Python is very popular with the scientific community\n",
    "  - ease of use\n",
    "  - rapid prototyping\n",
    "  - rich ecosystem of (scientific) tooling"
   ]
  },
  {
   "cell_type": "markdown",
   "id": "061ee39f-028f-4fab-bc40-1ee8bf2a9e74",
   "metadata": {
    "editable": true,
    "slideshow": {
     "slide_type": "fragment"
    },
    "tags": []
   },
   "source": [
    "- Several python GA libraries already exist\n",
    "  - `clifford` numerical GA package\n",
    "  - `galgebra` symbolic package\n",
    "  - `tfga` tensor-flow package\n",
    "  - `numga` JAX/numpy backends"
   ]
  },
  {
   "cell_type": "markdown",
   "id": "4e5ea015-a564-436c-94ac-178241d29235",
   "metadata": {
    "editable": true,
    "slideshow": {
     "slide_type": "fragment"
    },
    "tags": []
   },
   "source": [
    "These libraries are all very good within their area of specialization. However, to truly match the principles of Python, it should be possible to incrementally improve your algorithms from symbolic to numeric to arrays to PyTorch tensors and beyond."
   ]
  },
  {
   "cell_type": "markdown",
   "id": "7da9331e-a331-4222-bac5-3d18d406d983",
   "metadata": {
    "editable": true,
    "slideshow": {
     "slide_type": "subslide"
    },
    "tags": []
   },
   "source": [
    "## `kingdon` Design Philosophy\n",
    "\n",
    "`kingdon` was developed with the following goals in mind:\n",
    "- Easy to use API.\n",
    "- Rapid prototyping.\n",
    "  - Visualization: `ganja.js` enabled graphics in jupyter notebooks.\n",
    "- Input agnostic: symbols, floats, tensors, etc.\n",
    "  - If it supports $+, -, *$ and optionally $/$ and $\\sqrt{}$ then it is a valid coefficient for a multivector.\n",
    "- Performance: symbolic code generation and just-in-time compilation.\n",
    "\n",
    "> **Add GA to any workflow**\n"
   ]
  },
  {
   "cell_type": "markdown",
   "id": "c37080a8-aa72-4c05-a548-4262c948f79b",
   "metadata": {
    "editable": true,
    "slideshow": {
     "slide_type": "subslide"
    },
    "tags": []
   },
   "source": [
    "## Basic Examples"
   ]
  },
  {
   "cell_type": "markdown",
   "id": "df171f76-a704-41a2-a44e-1266b2ad113b",
   "metadata": {
    "editable": true,
    "slideshow": {
     "slide_type": "subslide"
    },
    "tags": []
   },
   "source": [
    "## Inner Workings\n",
    "\n",
    "Let's explain the inner workings of `kingdon` by means of a simple example:\n",
    "Within $\\mathbb{R}_{2, 0, 1}$ (2DPGA) consider the inner product between a bivector $B$ and a vector $v$:\n",
    "$$ w = B \\cdot v $$\n",
    "\n",
    "To perform this computation symbolically with `kingdon` looks as follows:\n",
    "```python\n",
    ">>> from kingdon import Algebra\n",
    ">>> \n",
    ">>> alg = Algebra(2, 0, 1)\n",
    ">>> B = alg.bivector(name='B')\n",
    ">>> v = alg.vector(name='v')\n",
    ">>> B | v\n",
    "(B01*v1 + B02*v2) 𝐞₀ + (B12*v2) 𝐞₁ + (-B12*v1) 𝐞₂\n",
    "```"
   ]
  },
  {
   "cell_type": "markdown",
   "id": "210f012d-7be2-49ef-bd05-600adf1ff111",
   "metadata": {
    "editable": true,
    "slideshow": {
     "slide_type": "subslide"
    },
    "tags": []
   },
   "source": [
    "## Inner Workings\n",
    "\n",
    "- Binary representation of basis blades:\n",
    "  <table style=\"border-collapse: collapse; border:1px solid black\">\n",
    "  <tr style=\"border-collapse: collapse; border:1px solid black\">\n",
    "      <th style=\"\">blades</th>\n",
    "      <th style=\"background-color:#88FF88\">1</th>\n",
    "      <th style=\"background-color:#CCCCFF\">𝐞₀</th>\n",
    "      <th style=\"background-color:#CCCCFF\">𝐞₁</th>\n",
    "      <th style=\"background-color:#CCCCFF\">𝐞₂</th>\n",
    "      <th style=\"background-color:#FFCCCC\">𝐞₀₁</th>\n",
    "      <th style=\"background-color:#FFCCCC\">𝐞₀₂</th>\n",
    "      <th style=\"background-color:#FFCCCC\">𝐞₁₂</th>\n",
    "      <th style=\"background-color:#FFCCFF\">𝐞₀₁₂</th>\n",
    "    </tr>\n",
    "    <tr style=\"border-collapse: collapse; border:1px solid black\">\n",
    "      <th style=\"\">keys</th>\n",
    "      <td style=\"background-color:#EEFFEE\">000</td>\n",
    "      <td style=\"background-color:#EEFFEE\">001</td>\n",
    "      <td style=\"background-color:#EEFFEE\">010</td>\n",
    "      <td style=\"background-color:#EEFFEE\">100</td>\n",
    "      <td style=\"background-color:#EEFFEE\">011</td>\n",
    "      <td style=\"background-color:#EEFFEE\">101</td>\n",
    "      <td style=\"background-color:#EEFFEE\">110</td>\n",
    "      <td style=\"background-color:#EEFFEE\">111</td>\n",
    "    </tr>\n",
    "  </table>\n",
    "- `kingdon` multivectors are mappings of key/value pairs:\n",
    "    ```python\n",
    "    >>> v = alg.vector(name='v')\n",
    "    >>> v.keys()\n",
    "    (1, 2, 4)\n",
    "    >>> v.values()\n",
    "    [v0, v1, v2]\n",
    "    ```"
   ]
  },
  {
   "cell_type": "code",
   "execution_count": 5,
   "id": "f66ac10f-491d-4c8c-acfd-d0363e5ce6d6",
   "metadata": {
    "editable": true,
    "slideshow": {
     "slide_type": "skip"
    },
    "tags": []
   },
   "outputs": [
    {
     "data": {
      "text/plain": [
       "(B01*v1 + B02*v2) 𝐞₀ + (B12*v2) 𝐞₁ + (-B12*v1) 𝐞₂"
      ]
     },
     "execution_count": 5,
     "metadata": {},
     "output_type": "execute_result"
    }
   ],
   "source": [
    "from kingdon import Algebra\n",
    "alg = Algebra(2, 0, 1)\n",
    "\n",
    "colors = ['#88FF88', '#CCCCFF', '#FFCCCC', '#FFCCFF']\n",
    "\n",
    "table = '<tr style=\"border-collapse: collapse; border:1px solid black\">\\n'\n",
    "table += f'  <th style=\"\">blades</th>\\n'\n",
    "for k, v in alg.canon2bin.items():\n",
    "    table += f'  <th style=\"background-color:{colors[len(k) - 1]}\">{alg._bin2canon_prettystr[v]}</th>\\n'\n",
    "table += '</tr>\\n'\n",
    "table += '<tr style=\"border-collapse: collapse; border:1px solid black\">\\n'\n",
    "table += f'  <th style=\"\">keys</th>\\n'\n",
    "for v in alg.canon2bin.values():\n",
    "    table += f'  <td style=\"background-color:#EEFFEE\">{bin(v)[2:].zfill(3)}</td>\\n'\n",
    "table += '</tr>'\n",
    "# table += '<tr>\\n'\n",
    "# for v in alg.canon2bin.values():\n",
    "#     table += f'  <td style=\"background-color:#EEFFEE\">{v}</td>\\n'\n",
    "# table += '</tr>'\n",
    "# print(table)\n",
    "\n",
    "# x = alg.vector(name='x')\n",
    "# x.values()\n",
    "\n",
    "\n",
    "B = alg.bivector(name='B')\n",
    "v = alg.vector(name='v')\n",
    "B | v\n",
    "# import inspect\n",
    "# print(inspect.getsource(alg.ip[B.keys(), v.keys()][1]))\n",
    "# keys_out, func = alg.ip[B.keys(), v.keys()]\n",
    "# alg.mutivector(\n",
    "#     keys=keys_out,\n",
    "#     values=func(B.values(), v.values())\n",
    "# )"
   ]
  },
  {
   "cell_type": "markdown",
   "id": "669ea479-e582-4515-8735-ab63b8089d03",
   "metadata": {
    "editable": true,
    "slideshow": {
     "slide_type": "subslide"
    },
    "tags": []
   },
   "source": [
    "## Inner Workings\n",
    "\n",
    "The `kingdon` internals are lazy: code is only generated once it is needed.\n",
    "```python\n",
    ">>> alg = Algebra(2, 0, 1)\n",
    ">>> alg.ip\n",
    "OperatorDict(codegen=<function codegen_ip at 0x0000025BFE604DC0>, ..., operator_dict={})\n",
    "```\n",
    "Executing `B | v` will cause the inner-product code to be generated and excecuted with `B` and `v` as input. Now the generated code will be stored and re-used next time:\n",
    "```python\n",
    ">>> alg.ip\n",
    "OperatorDict(codegen=<function codegen_ip at 0x0000025BFE604DC0>, ..., operator_dict={((3, 5, 6), (1, 2, 4)): ((1, 2, 4), <function codegen_ip_112_x_14 at 0x0000025BFFCF7880>)})\n",
    "```\n",
    "The generated code is \n",
    "```python\n",
    "def codegen_ip_112_x_14(A, B):\n",
    "    [a01, a02, a12] = A\n",
    "    [b0, b1, b2] = B\n",
    "    return [a01*b1+a02*b2, a12*b2, -a12*b1]\n",
    "```\n",
    "So we see that *`kingdon` uses the \"sparsity\" of the input* and performs *symbolic optimization*."
   ]
  },
  {
   "cell_type": "code",
   "execution_count": 6,
   "id": "c21fe7e5-8bc0-4183-93ab-16190f7beb2d",
   "metadata": {
    "editable": true,
    "slideshow": {
     "slide_type": "skip"
    },
    "tags": []
   },
   "outputs": [],
   "source": [
    "# `B | v` is equivalent to\n",
    "# ```python\n",
    "# keys_out, func = alg.ip[B.keys(), v.keys()]\n",
    "# alg.multivector(keys=keys_out, values=func(B.values(), v.values()))\n",
    "# ```"
   ]
  },
  {
   "cell_type": "markdown",
   "id": "12bfefb7-99ac-4a2e-a0d1-0bcb14a02f4e",
   "metadata": {
    "editable": true,
    "slideshow": {
     "slide_type": "subslide"
    },
    "tags": []
   },
   "source": [
    "## Inner Workings\n",
    "\n",
    "Advanced customization:\n",
    "- `graded` mode to reduce the number of types.\n",
    "  - In the future this will be expanded to a more advanced typing system.\n",
    "- `cse` to eliminate common subexpressions\n",
    "- `wrapper` function to decorate the generated code with, e.g.\n",
    "   ```python\n",
    "   @numba.njit\n",
    "   def codegen_ip_112_x_14(A, B):\n",
    "       [a01, a02, a12] = A\n",
    "       [b0, b1, b2] = B\n",
    "       return [a01*b1+a02*b2, a12*b2, -a12*b1]\n",
    "   ```\n",
    "- `simp_func` is a filter function that is applied after every call, e.g. `sympy.simplify` in symbolic mode or `lambda x: abs(x) > 1e-9` for numerical input.\n",
    "- `symbolcls`/`codegen_symbolcls` specify the symbol class to use during codegen and when making symbolic multivectors."
   ]
  },
  {
   "cell_type": "markdown",
   "id": "948e6474-46f9-4065-beca-a42d2b077ae7",
   "metadata": {
    "editable": true,
    "slideshow": {
     "slide_type": "slide"
    },
    "tags": []
   },
   "source": [
    "# Industrial Examples\n",
    "\n",
    "Flanders Make is a strategic research centre for the make industry in the Flanders region of Belgium.\n",
    "\n",
    "I'd like to share with you the usage of `kingdon` in two projects at Flanders Make:\n",
    "- Aandrijflijn Concept Optimalisatie (**AnCoOpt**). Goal: [...] to develop [...] tools and methods to convert a customer request into an optimal machine concept for electrically driven positioning applications. A machine concept is optimal when it allows to minimize the machine component costs, energy consumption, material use in further detailed design and at the same time maximize the performance (speed, precision, etc.).\n",
    "- Tolerance Design Optimization (**ToleDO**). Goal: provide a novel workflow and toolchain to enable engineers to obtain the best performance of their designs at a minimal production cost, by showing the impact of key manufacturing tolerances on functional performance early in the design phase. "
   ]
  },
  {
   "cell_type": "markdown",
   "id": "78a6f2c1-a375-401d-a053-0301a397648b",
   "metadata": {
    "editable": true,
    "slideshow": {
     "slide_type": "subslide"
    },
    "tags": []
   },
   "source": [
    "## AnCoOpt\n",
    "\n",
    "Together with Michiel Haemers I am responsible for the concept generation.\n",
    "\n",
    "- Use GA to generate topologies and initial coordinates.\n",
    "- Use GA to calculate end effectuater positions.\n",
    "- Look Away, Steven, Matrices: there will be some Linear Algebra.\n",
    "\n",
    "> LAPyGAGA\n"
   ]
  },
  {
   "cell_type": "markdown",
   "id": "151d3f42-f79e-4d9d-afe2-f8257ae73161",
   "metadata": {
    "editable": true,
    "slideshow": {
     "slide_type": "subslide"
    },
    "tags": []
   },
   "source": [
    "## AnCoOpt"
   ]
  },
  {
   "cell_type": "code",
   "execution_count": 7,
   "id": "c65d462c-b0d3-49ae-ad95-c6a4ba741c52",
   "metadata": {
    "editable": true,
    "slideshow": {
     "slide_type": ""
    },
    "tags": []
   },
   "outputs": [
    {
     "data": {
      "application/vnd.jupyter.widget-view+json": {
       "model_id": "5c4971b1aacf4c3e98254ab2b1d805ba",
       "version_major": 2,
       "version_minor": 0
      },
      "text/plain": [
       "GridspecLayout(children=(Dropdown(layout=Layout(grid_area='widget001'), options=(('Diamond', 0), ('Fivebar', 1…"
      ]
     },
     "execution_count": 7,
     "metadata": {},
     "output_type": "execute_result"
    }
   ],
   "source": [
    "camera = alg2d.evenmv(e=1, e01=0.4, e02=0.2)\n",
    "\n",
    "graph_mechanism = alg2d.graph(\n",
    "    graph_mechanism_func,\n",
    "    **options,\n",
    "    height='300px',\n",
    "    scale=6,\n",
    "    camera=camera,\n",
    ")\n",
    "grid = ipy.GridspecLayout(9, 3, height='350px')\n",
    "grid[0, 0] = mechanism_widget\n",
    "grid[0, 1] = recompute_widget\n",
    "grid[0, 2] = tangent_widget\n",
    "grid[1:, :] = graph_mechanism\n",
    "grid"
   ]
  },
  {
   "cell_type": "markdown",
   "id": "b24688c5-6174-418c-a5b5-4b75e16a2c91",
   "metadata": {
    "editable": true,
    "slideshow": {
     "slide_type": "subslide"
    },
    "tags": []
   },
   "source": [
    "## ToleDO"
   ]
  },
  {
   "cell_type": "markdown",
   "id": "b8d9a731-6e4b-4bd0-912b-a7e8f03138e2",
   "metadata": {
    "editable": true,
    "slideshow": {
     "slide_type": "slide"
    },
    "tags": []
   },
   "source": [
    "# Get Started\n",
    "\n",
    "Just like `ganja.js` has its coffeeshop, `kingdon` has its teahouse.\n",
    "(Ganja usage is tolerated in the Teahouse.)"
   ]
  },
  {
   "cell_type": "code",
   "execution_count": null,
   "id": "2fe0c6f6-0607-4f17-a146-715365b30c6f",
   "metadata": {
    "editable": true,
    "slideshow": {
     "slide_type": ""
    },
    "tags": []
   },
   "outputs": [],
   "source": []
  }
 ],
 "metadata": {
  "kernelspec": {
   "display_name": "Python 3 (ipykernel)",
   "language": "python",
   "name": "python3"
  },
  "language_info": {
   "codemirror_mode": {
    "name": "ipython",
    "version": 3
   },
   "file_extension": ".py",
   "mimetype": "text/x-python",
   "name": "python",
   "nbconvert_exporter": "python",
   "pygments_lexer": "ipython3",
   "version": "3.10.14"
  }
 },
 "nbformat": 4,
 "nbformat_minor": 5
}
