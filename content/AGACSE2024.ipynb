{
 "cells": [
  {
   "cell_type": "code",
   "execution_count": 1,
   "id": "8bbbfc53-0ecb-421b-8e46-601d83ea3b83",
   "metadata": {
    "editable": true,
    "slideshow": {
     "slide_type": "skip"
    },
    "tags": []
   },
   "outputs": [
    {
     "name": "stdout",
     "output_type": "stream",
     "text": [
      "Note: you may need to restart the kernel to use updated packages.\n"
     ]
    }
   ],
   "source": [
    "%pip install -q kingdon anywidget==0.9.13"
   ]
  },
  {
   "cell_type": "markdown",
   "id": "bd7bccfa-9785-4fea-b91e-da424f7b9efd",
   "metadata": {
    "editable": true,
    "slideshow": {
     "slide_type": "slide"
    },
    "tags": []
   },
   "source": [
    "# The \n",
    "# Willing `Kingdon` Clifford\n",
    "# Algebra Library\n",
    "\n",
    "**<p style=\"text-align: right;\">Martin Roelfs</p>**\n",
    "<p style=\"text-align: right;\">Flanders Make, University of Antwerp</p>"
   ]
  },
  {
   "cell_type": "code",
   "execution_count": 2,
   "id": "79c0a81f-1313-48ed-a9b5-40f84c486f83",
   "metadata": {},
   "outputs": [
    {
     "data": {
      "application/vnd.jupyter.widget-view+json": {
       "model_id": "cf4502584ba44f3fa75b603965fbb9b5",
       "version_major": 2,
       "version_minor": 1
      },
      "text/plain": [
       "FragmentWidget(state=[0, 0])"
      ]
     },
     "execution_count": 2,
     "metadata": {},
     "output_type": "execute_result"
    }
   ],
   "source": [
    "import reveal_widgets\n",
    "\n",
    "fragment_widget = reveal_widgets.FragmentWidget()\n",
    "fragment_widget"
   ]
  },
  {
   "cell_type": "code",
   "execution_count": 3,
   "id": "a074071a-026c-433d-ba52-28dc29f3d9ec",
   "metadata": {
    "editable": true,
    "slideshow": {
     "slide_type": ""
    },
    "tags": []
   },
   "outputs": [],
   "source": [
    "import ipywidgets as ipy\n",
    "from traitlets import validate\n",
    "from kingdon import Algebra\n",
    "\n",
    "from animations import (\n",
    "    graph_mechanism_func, graph_usecase_func, graph_guess_func,\n",
    "    lens_graph_func_0,\n",
    "    lens_graph_func_1,\n",
    "    lens_graph_func_2,\n",
    "    lens_graph_func_3,\n",
    ")\n",
    "from animations.config import alg2d, options, animated_options, alg3d\n",
    "\n",
    "from animations.mechanism import tangent_widget, recompute_widget, mechanism_widget"
   ]
  },
  {
   "cell_type": "markdown",
   "id": "fd51a160-a212-4913-b6e6-ed0b298a0be6",
   "metadata": {
    "editable": true,
    "slideshow": {
     "slide_type": "subslide"
    },
    "tags": []
   },
   "source": [
    "## Introduction\n",
    "\n",
    "- Why another GA library?\n",
    "  - Design Philosophy\n",
    "  - Basic Examples\n",
    "- Inner Workings\n",
    "- Industrial Examples\n",
    "- Get started with `kingdon`"
   ]
  },
  {
   "cell_type": "markdown",
   "id": "bf72ee77-2c00-4bda-947e-e594b740900c",
   "metadata": {
    "editable": true,
    "slideshow": {
     "slide_type": "slide"
    },
    "tags": []
   },
   "source": [
    "## Why Another GA Library\n",
    "\n",
    "- Python is very popular with the scientific community\n",
    "  - ease of use\n",
    "  - rapid prototyping\n",
    "  - rich ecosystem of (scientific) tooling"
   ]
  },
  {
   "cell_type": "markdown",
   "id": "061ee39f-028f-4fab-bc40-1ee8bf2a9e74",
   "metadata": {
    "editable": true,
    "slideshow": {
     "slide_type": "fragment"
    },
    "tags": []
   },
   "source": [
    "- Several python GA libraries already exist\n",
    "  - `clifford` numerical GA package\n",
    "  - `galgebra` symbolic package\n",
    "  - `tfga` tensor-flow package\n",
    "  - `numga` JAX/numpy backends"
   ]
  },
  {
   "cell_type": "markdown",
   "id": "4e5ea015-a564-436c-94ac-178241d29235",
   "metadata": {
    "editable": true,
    "slideshow": {
     "slide_type": "fragment"
    },
    "tags": []
   },
   "source": [
    "These libraries are all very good within their area of specialization. However, in keeping with the principles of Python, we'd like to\n",
    "> **Add GA to any workflow**"
   ]
  },
  {
   "cell_type": "markdown",
   "id": "7da9331e-a331-4222-bac5-3d18d406d983",
   "metadata": {
    "editable": true,
    "slideshow": {
     "slide_type": "subslide"
    },
    "tags": []
   },
   "source": [
    "## `kingdon` Design Philosophy\n",
    "\n",
    "`kingdon` was developed with the following goals in mind:\n",
    "- Easy to use API.\n",
    "- Rapid prototyping.\n",
    "  - Visualization: `ganja.js` enabled graphics in jupyter notebooks.\n",
    "- Input agnostic: symbols, floats, tensors, etc.\n",
    "  - If it supports $+, -, *$ and optionally $/$ and $\\sqrt{}$ then it is a valid coefficient for a multivector.\n",
    "- Performance: symbolic code generation and just-in-time compilation.\n",
    "\n",
    "> **Add GA to any workflow**\n"
   ]
  },
  {
   "cell_type": "markdown",
   "id": "c37080a8-aa72-4c05-a548-4262c948f79b",
   "metadata": {
    "editable": true,
    "slideshow": {
     "slide_type": "subslide"
    },
    "tags": []
   },
   "source": [
    "<h2 class=\"r-fit-text\">Basic Examples</h2>"
   ]
  },
  {
   "cell_type": "markdown",
   "id": "0288ce2e-11a7-4031-9644-53cc745699d7",
   "metadata": {
    "editable": true,
    "slideshow": {
     "slide_type": "subslide"
    },
    "tags": []
   },
   "source": [
    "### Dimension Agnostic Thinking\n",
    "\n",
    "<span class=\"r-stack\">\n",
    "<h4 class=\"fragment current-visible\" data-fragment-index=\"1\">Thin Lens (Paraxial Approx.): Imaging a point in 2D</h3>\n",
    "<h4 class=\"fragment current-visible\" data-fragment-index=\"2\">Thin Lens (Paraxial Approx.): Imaging a point in 3D Spherical lens</h3>\n",
    "<h4 class=\"fragment current-visible\" data-fragment-index=\"3\">Thin Lens (Paraxial Approx.): Imaging a line  in 3D Spherical lens</h3>\n",
    "<h4 class=\"fragment\" data-fragment-index=\"4\">Thin Lens (Paraxial Approx.): Imaging a point in 3D Cylindrical lens</h3>\n",
    "</span>"
   ]
  },
  {
   "cell_type": "code",
   "execution_count": 4,
   "id": "f8b23225-9d38-471a-bd37-b2a64d5948d5",
   "metadata": {
    "editable": true,
    "slideshow": {
     "slide_type": ""
    },
    "tags": []
   },
   "outputs": [
    {
     "data": {
      "application/vnd.jupyter.widget-view+json": {
       "model_id": "ee29795477b2464787fdca2923326ef6",
       "version_major": 2,
       "version_minor": 0
      },
      "text/plain": [
       "GridspecLayout(children=(GraphWidget(cayley=[['1', 'e0', 'e1', 'e2', 'e3', 'e01', 'e02', 'e03', 'e12', 'e13', …"
      ]
     },
     "execution_count": 4,
     "metadata": {},
     "output_type": "execute_result"
    }
   ],
   "source": [
    "lens_code = ipy.HTML(\"\"\"\n",
    "<link rel=\"stylesheet\" href=\"https://github.com/hakimel/reveal.js/tree/master/plugin/highlight/monokai.css\" />\n",
    "<script src=\"https://github.com/hakimel/reveal.js/tree/master/plugin/highlight/highlight.js\"></script>\n",
    "<script>\n",
    "  Reveal.initialize({\n",
    "    plugins: [RevealHighlight],\n",
    "  });\n",
    "</script>\n",
    "\n",
    "<div class=\"r-stack\">\n",
    "<pre class=\"fragment current-visible\" data-fragment-index=\"0\"><code data-trim data-noescape>\n",
    "d = 2\n",
    "alg = Algebra(d, 0, 1)\n",
    "globals().update(alg.blades)\n",
    "\n",
    "# Properties of the lens\n",
    "lens = e1\n",
    "center_point = e0.dual()\n",
    "focal = (e0 + -0.8*e1).dual()\n",
    "center = e0.dual()\n",
    "\n",
    "# object to image\n",
    "world = (e0 - 2*e1 - e2).dual()\n",
    "\n",
    "wc = world & center\n",
    "wf = world & focal\n",
    "wfl = wf ^ lens\n",
    "wfl_dot_l = wfl | (center_point & wfl)\n",
    "img = wfl_dot_l ^ wc\n",
    "\n",
    "alg.graph(\n",
    "    world,\n",
    "    axis, lens, center, focal, 'f',\n",
    "    wf, wc, wfl, lens | wfl,\n",
    "    img,\n",
    ")\n",
    "</code></pre>\n",
    "\n",
    "<pre class=\"fragment current-visible\" data-fragment-index=\"1\"><code data-trim data-noescape data-line-numbers=\"7\">\n",
    "<b>d = 3</b>\n",
    "alg = Algebra(d, 0, 1)\n",
    "globals().update(alg.blades)\n",
    "\n",
    "# Properties of the lens\n",
    "lens = e1\n",
    "center_point = e0.dual()\n",
    "focal = (e0 + -0.8*e1).dual()\n",
    "center = e0.dual()\n",
    "\n",
    "# object to image\n",
    "world = (e0 - 2*e1 - e2).dual()\n",
    "\n",
    "wc = world & center\n",
    "wf = world & focal\n",
    "wfl = wf ^ lens\n",
    "wfl_dot_l = wfl | (center_point & wfl)\n",
    "img = wfl_dot_l ^ wc\n",
    "\n",
    "alg.graph(\n",
    "    world,\n",
    "    axis, lens, center, focal, 'f',\n",
    "    wf, wc, wfl, lens | wfl,\n",
    "    img,\n",
    ")\n",
    "</code></pre>\n",
    "\n",
    "<pre class=\"fragment current-visible\" data-fragment-index=\"2\"><code data-trim data-noescape data-line-numbers=\"7\">\n",
    "d = 3\n",
    "alg = Algebra(d, 0, 1)\n",
    "globals().update(alg.blades)\n",
    "\n",
    "# Properties of the lens\n",
    "lens = e1\n",
    "center_point = e0.dual()\n",
    "focal = (e0 + -0.8*e1).dual()\n",
    "center = e0.dual()\n",
    "\n",
    "# object to image\n",
    "<b>world = (e12 + 2*e02 - e01).dual()</b>\n",
    "\n",
    "wc = world & center\n",
    "wf = world & focal\n",
    "wfl = wf ^ lens\n",
    "wfl_dot_l = wfl | (center_point & wfl)\n",
    "img = wfl_dot_l ^ wc\n",
    "\n",
    "alg.graph(\n",
    "    world,\n",
    "    axis, lens, center, focal, 'f',\n",
    "    wf, wc, wfl, lens | wfl,\n",
    "    img,\n",
    ")\n",
    "</code></pre>\n",
    "\n",
    "</code></pre>\n",
    "<pre class=\"fragment\" data-fragment-index=\"3\"><code data-trim data-noescape data-line-numbers=\"7\">\n",
    "d = 3\n",
    "alg = Algebra(d, 0, 1)\n",
    "globals().update(alg.blades)\n",
    "\n",
    "# Properties of the lens\n",
    "lens = e1\n",
    "center_point = e0.dual()\n",
    "<b>focal = e12 + 0.8*e02\n",
    "center = e12</b>\n",
    "\n",
    "# object to image\n",
    "world = (e0 - 2*e1 - e2).dual()\n",
    "\n",
    "wc = world & center\n",
    "wf = world & focal\n",
    "wfl = wf ^ lens\n",
    "wfl_dot_l = wfl | (center_point & wfl)\n",
    "img = wfl_dot_l ^ wc\n",
    "\n",
    "alg.graph(\n",
    "    world,\n",
    "    axis, lens, center, focal, 'f',\n",
    "    wf, wc, wfl, lens | wfl,\n",
    "    img,\n",
    ")\n",
    "</code></pre>\n",
    "</div>\n",
    "\"\"\"\n",
    ")\n",
    "\n",
    "def lens_graph_func():\n",
    "    if fragment_widget.fragment == 1:\n",
    "        return lens_graph_func_1()\n",
    "    if fragment_widget.fragment == 2:\n",
    "        return lens_graph_func_2()\n",
    "    elif fragment_widget.fragment == 3:\n",
    "        return lens_graph_func_3()\n",
    "    return lens_graph_func_0()\n",
    "\n",
    "lens_graph = alg3d.graph(\n",
    "    lens_graph_func,\n",
    "    **animated_options,\n",
    "    camera=alg3d.evenmv(e=1, e13=0.1, e23=-0.1).normalized(),\n",
    "    height='400px',\n",
    "    width='600px'\n",
    ")\n",
    "grid_lens = ipy.GridspecLayout(1, 2)\n",
    "grid_lens[0, 0] = lens_graph\n",
    "grid_lens[0, 1] = lens_code\n",
    "grid_lens"
   ]
  },
  {
   "cell_type": "markdown",
   "id": "fa7b7096-c933-44b1-a5f8-fdb341389eec",
   "metadata": {
    "editable": true,
    "slideshow": {
     "slide_type": "subslide"
    },
    "tags": []
   },
   "source": [
    "### Automatic Differentiation\n",
    "\n",
    "Dual numbers $\\mathbb{R}_{0,0,1}$ can be used for automatic differentiation:\n",
    "```python\n",
    ">>> from kingdon import Algebra\n",
    ">>> dualalg = Algebra(r=1)\n",
    ">>> x = dualalg.multivector(e='x', e0=1)\n",
    ">>> x\n",
    "x + 1 𝐞₀\n",
    "\n",
    ">>> x**3\n",
    "(x**3) + (3*x**2) 𝐞₀\n",
    "```\n",
    "<span class=\"fragment\">And because dual numbers support $+, -, *, /$ and $\\sqrt{}$, we can use them as multivector coefficients in other algebras!</span>\n",
    "<span class=\"fragment\">\n",
    "\n",
    "```python\n",
    ">>> alg = Algebra(3, 0, 1)\n",
    ">>> tvals = numpy.linspace(0, 3)\n",
    ">>> t = alg.multivector(e=dualalg.multivector(e=tvals, e0=1))\n",
    ">>> R = (t * alg.blades.e12).exp(...)\n",
    "```\n",
    "\n",
    "More on this later...\n",
    "</span>\n"
   ]
  },
  {
   "cell_type": "markdown",
   "id": "df171f76-a704-41a2-a44e-1266b2ad113b",
   "metadata": {
    "editable": true,
    "slideshow": {
     "slide_type": "subslide"
    },
    "tags": []
   },
   "source": [
    "## Inner Workings\n",
    "\n",
    "Let's explain the inner workings of `kingdon` by means of a simple example:\n",
    "Within $\\mathbb{R}_{2, 0, 1}$ (2DPGA) consider the inner product between a bivector $B$ and a vector $v$:\n",
    "$$ w = B \\cdot v $$\n",
    "\n",
    "To perform this computation symbolically with `kingdon` looks as follows:\n",
    "```python\n",
    ">>> from kingdon import Algebra\n",
    "\n",
    ">>> alg = Algebra(2, 0, 1)\n",
    ">>> B = alg.bivector(name='B')\n",
    ">>> B\n",
    "B01 𝐞₀₁ + B02 𝐞₀₂ + B12 𝐞₁₂\n",
    "\n",
    ">>> v = alg.vector(name='v')\n",
    ">>> v\n",
    "v0 𝐞₀ + v1 𝐞₁ + v2 𝐞₂\n",
    "\n",
    ">>> B | v\n",
    "(B01*v1 + B02*v2) 𝐞₀ + (B12*v2) 𝐞₁ + (-B12*v1) 𝐞₂\n",
    "```"
   ]
  },
  {
   "cell_type": "markdown",
   "id": "210f012d-7be2-49ef-bd05-600adf1ff111",
   "metadata": {
    "editable": true,
    "slideshow": {
     "slide_type": "subslide"
    },
    "tags": []
   },
   "source": [
    "## Inner Workings\n",
    "\n",
    "Binary representation of basis blades:\n",
    "  <table style=\"border-collapse: collapse; border:1px solid black\">\n",
    "  <tr style=\"border-collapse: collapse; border:1px solid black\">\n",
    "      <th style=\"\">blades</th>\n",
    "      <th style=\"background-color:#88FF88\">1</th>\n",
    "      <th style=\"background-color:#CCCCFF\">𝐞₀</th>\n",
    "      <th style=\"background-color:#CCCCFF\">𝐞₁</th>\n",
    "      <th style=\"background-color:#CCCCFF\">𝐞₂</th>\n",
    "      <th style=\"background-color:#FFCCCC\">𝐞₀₁</th>\n",
    "      <th style=\"background-color:#FFCCCC\">𝐞₀₂</th>\n",
    "      <th style=\"background-color:#FFCCCC\">𝐞₁₂</th>\n",
    "      <th style=\"background-color:#FFCCFF\">𝐞₀₁₂</th>\n",
    "    </tr>\n",
    "    <tr style=\"border-collapse: collapse; border:1px solid black\">\n",
    "      <th style=\"\">keys</th>\n",
    "      <td style=\"background-color:#EEFFEE\">000</td>\n",
    "      <td style=\"background-color:#EEFFEE\">001</td>\n",
    "      <td style=\"background-color:#EEFFEE\">010</td>\n",
    "      <td style=\"background-color:#EEFFEE\">100</td>\n",
    "      <td style=\"background-color:#EEFFEE\">011</td>\n",
    "      <td style=\"background-color:#EEFFEE\">101</td>\n",
    "      <td style=\"background-color:#EEFFEE\">110</td>\n",
    "      <td style=\"background-color:#EEFFEE\">111</td>\n",
    "    </tr>\n",
    "  </table>\n",
    "  \n",
    "`kingdon` multivectors are mappings of key/value pairs:\n",
    "<table>\n",
    "<tr>\n",
    "<th>vector</th>\n",
    "<th>bivector</th>\n",
    "</tr>\n",
    "<tr>\n",
    "<td>\n",
    "\n",
    "    \n",
    "```python\n",
    ">>> v = alg.vector(name='v')\n",
    ">>> v\n",
    "v0 𝐞₀ + v1 𝐞₁ + v2 𝐞₂\n",
    ">>> v.keys()\n",
    "(1, 2, 4)\n",
    ">>> v.values()\n",
    "[v0, v1, v2]\n",
    "```\n",
    "\n",
    "</td>\n",
    "<td>\n",
    "\n",
    "```python\n",
    ">>> B = alg.bivector(name='B')\n",
    ">>> B\n",
    "B01 𝐞₀₁ + B02 𝐞₀₂ + B12 𝐞₁₂\n",
    ">>> B.keys()\n",
    "(3, 5, 6)\n",
    ">>> B.values()\n",
    "[B01, B02, B12]\n",
    "```\n",
    "\n",
    "</td>\n",
    "</tr>\n",
    "</table>"
   ]
  },
  {
   "cell_type": "code",
   "execution_count": 5,
   "id": "f66ac10f-491d-4c8c-acfd-d0363e5ce6d6",
   "metadata": {
    "editable": true,
    "slideshow": {
     "slide_type": "skip"
    },
    "tags": []
   },
   "outputs": [
    {
     "data": {
      "text/plain": [
       "[B01, B02, B12]"
      ]
     },
     "execution_count": 5,
     "metadata": {},
     "output_type": "execute_result"
    }
   ],
   "source": [
    "from kingdon import Algebra\n",
    "alg = Algebra(2, 0, 1)\n",
    "\n",
    "colors = ['#88FF88', '#CCCCFF', '#FFCCCC', '#FFCCFF']\n",
    "\n",
    "table = '<tr style=\"border-collapse: collapse; border:1px solid black\">\\n'\n",
    "table += f'  <th style=\"\">blades</th>\\n'\n",
    "for k, v in alg.canon2bin.items():\n",
    "    table += f'  <th style=\"background-color:{colors[len(k) - 1]}\">{alg._bin2canon_prettystr[v]}</th>\\n'\n",
    "table += '</tr>\\n'\n",
    "table += '<tr style=\"border-collapse: collapse; border:1px solid black\">\\n'\n",
    "table += f'  <th style=\"\">keys</th>\\n'\n",
    "for v in alg.canon2bin.values():\n",
    "    table += f'  <td style=\"background-color:#EEFFEE\">{bin(v)[2:].zfill(3)}</td>\\n'\n",
    "table += '</tr>'\n",
    "# table += '<tr>\\n'\n",
    "# for v in alg.canon2bin.values():\n",
    "#     table += f'  <td style=\"background-color:#EEFFEE\">{v}</td>\\n'\n",
    "# table += '</tr>'\n",
    "# print(table)\n",
    "\n",
    "# x = alg.vector(name='x')\n",
    "# x.values()\n",
    "\n",
    "\n",
    "B = alg.bivector(name='B')\n",
    "v = alg.vector(name='v')\n",
    "B.values()\n",
    "# import inspect\n",
    "# print(inspect.getsource(alg.ip[B.keys(), v.keys()][1]))\n",
    "# keys_out, func = alg.ip[B.keys(), v.keys()]\n",
    "# alg.mutivector(\n",
    "#     keys=keys_out,\n",
    "#     values=func(B.values(), v.values())\n",
    "# )"
   ]
  },
  {
   "cell_type": "markdown",
   "id": "669ea479-e582-4515-8735-ab63b8089d03",
   "metadata": {
    "editable": true,
    "slideshow": {
     "slide_type": "subslide"
    },
    "tags": []
   },
   "source": [
    "## Inner Workings\n",
    "\n",
    "The `kingdon` internals are lazy: code is only generated once it is needed.\n",
    "```python\n",
    ">>> alg = Algebra(2, 0, 1)\n",
    ">>> alg.ip\n",
    "OperatorDict(codegen=<function codegen_ip at 0x0000025BFE604DC0>, ..., operator_dict={})\n",
    "```\n",
    "<div class=\"fragment\">Executing <code>B | v</code> will cause the code to be generated and excecuted with <code>B</code> and <code>v</code> as input. </div>\n",
    "<div class=\"fragment\">Now the generated code will be stored and re-used next time:\n",
    "\n",
    "```python\n",
    "    >>> alg.ip\n",
    "OperatorDict(codegen=<function codegen_ip at 0x0000025BFE604DC0>, ..., operator_dict={\n",
    "    ((3, 5, 6), (1, 2, 4)): ((1, 2, 4), <function codegen_ip_112_x_14 at 0x...>)\n",
    "})\n",
    "```\n",
    "\n",
    "</div>\n",
    "<div class=\"fragment\">\n",
    "The generated code is \n",
    "\n",
    "```python\n",
    "def codegen_ip_112_x_14(A, B):\n",
    "    [a01, a02, a12] = A\n",
    "    [b0, b1, b2] = B\n",
    "    return [a01*b1+a02*b2, a12*b2, -a12*b1]\n",
    "```\n",
    "\n",
    "`kingdon` uses the \"sparsity\" of the input (and performs *symbolic optimization* when applicable).\n",
    "\n",
    "</div>\n",
    "<div class=\"fragment\">\n",
    "    Combinatorial hell? Yes in theory, no in practice.\n",
    "</div>"
   ]
  },
  {
   "cell_type": "code",
   "execution_count": 6,
   "id": "c21fe7e5-8bc0-4183-93ab-16190f7beb2d",
   "metadata": {
    "editable": true,
    "slideshow": {
     "slide_type": "skip"
    },
    "tags": []
   },
   "outputs": [],
   "source": [
    "# `B | v` is equivalent to\n",
    "# ```python\n",
    "# keys_out, func = alg.ip[B.keys(), v.keys()]\n",
    "# alg.multivector(keys=keys_out, values=func(B.values(), v.values()))\n",
    "# ```"
   ]
  },
  {
   "cell_type": "markdown",
   "id": "12bfefb7-99ac-4a2e-a0d1-0bcb14a02f4e",
   "metadata": {
    "editable": true,
    "slideshow": {
     "slide_type": "subslide"
    },
    "tags": []
   },
   "source": [
    "## Inner Workings\n",
    "\n",
    "Advanced customization:\n",
    "- `graded` mode to reduce the number of types.\n",
    "  - In the future this will be expanded to a more advanced typing system.\n",
    "- `cse` to eliminate common subexpressions\n",
    "- `wrapper` function to decorate the generated code with, e.g.\n",
    "    ```python\n",
    "    @numba.njit\n",
    "    def codegen_ip_112_x_14(A, B):\n",
    "       [a01, a02, a12] = A\n",
    "       [b0, b1, b2] = B\n",
    "       return [a01*b1+a02*b2, a12*b2, -a12*b1]\n",
    "    ```\n",
    "- `simp_func` is a filter function that is applied after every call, e.g. `sympy.simplify` in symbolic mode or `lambda x: abs(x) > 1e-9` for numerical input.\n",
    "- `symbolcls`/`codegen_symbolcls` specify the symbol class to use during codegen and when making symbolic multivectors."
   ]
  },
  {
   "cell_type": "markdown",
   "id": "948e6474-46f9-4065-beca-a42d2b077ae7",
   "metadata": {
    "editable": true,
    "slideshow": {
     "slide_type": "slide"
    },
    "tags": []
   },
   "source": [
    "# Industrial Examples\n",
    "\n",
    "Flanders Make is a strategic research centre for the make industry in the Flanders region of Belgium.\n",
    "\n",
    "I'd like to share with you the usage of `kingdon` in two projects at Flanders Make:\n",
    "- Aandrijflijn Concept Optimalisatie (**AnCoOpt**). Goal: [...] to develop [...] tools and methods to **convert a customer request into an optimal machine concept for electrically driven positioning applications**. A machine concept is optimal when it allows to minimize the machine component costs, energy consumption, material use in further detailed design and at the same time maximize the performance (speed, precision, etc.).\n",
    "- Tolerance Design Optimization (**ToleDO**). Goal: provide a novel workflow and toolchain to enable engineers to **obtain the best performance** of their designs at a **minimal production cost**, by showing the **impact of key manufacturing tolerances** on functional performance early in the design phase. "
   ]
  },
  {
   "cell_type": "markdown",
   "id": "78a6f2c1-a375-401d-a053-0301a397648b",
   "metadata": {
    "editable": true,
    "slideshow": {
     "slide_type": "subslide"
    },
    "tags": []
   },
   "source": [
    "## AnCoOpt\n",
    "\n",
    "<video controls width=\"400\" style=\"margin-left: auto; margin-right: auto;\">\n",
    "  <source src=\"./media/nedschroef_2.mp4\" type=\"video/mp4\" />\n",
    "</video>\n",
    "<video controls width=\"400\" style=\"margin-left: auto; margin-right: auto;\">\n",
    "  <source src=\"./media/covid_ventilator_2.mp4\" type=\"video/mp4\" />\n",
    "</video>\n",
    "<video controls width=\"400\" style=\"margin-left: auto; margin-right: auto;\">\n",
    "  <source src=\"./media/nedschroef.mp4\" type=\"video/mp4\" />\n",
    "</video>\n",
    "<video controls width=\"400\" style=\"margin-left: auto; margin-right: auto;\">\n",
    "  <source src=\"./media/covid_ventilator.mp4\" type=\"video/mp4\" />\n",
    "</video>\n",
    "\n",
    "Nedschroef & covid ventilator examples\n",
    "\n"
   ]
  },
  {
   "cell_type": "markdown",
   "id": "f28bf612-ce1f-4af0-a959-ac012c3a6af9",
   "metadata": {
    "editable": true,
    "slideshow": {
     "slide_type": "subslide"
    },
    "tags": []
   },
   "source": [
    "## AnCoOpt\n",
    "\n",
    "![image info](./img/ancoopt_wps.png)\n"
   ]
  },
  {
   "cell_type": "markdown",
   "id": "07106b5f-fc9d-4e84-bcac-6b6dc97f230d",
   "metadata": {
    "editable": true,
    "slideshow": {
     "slide_type": "skip"
    },
    "tags": []
   },
   "source": [
    "## AnCoOpt\n",
    "\n",
    "Together with Michiel Haemers I am responsible for the concept generation.\n",
    "\n",
    "- Use GA to generate topologies and initial coordinates.\n",
    "- Use GA to calculate end effectuater positions.\n",
    "- Look Away, Steven, Matrices: there will be some Linear Algebra.\n",
    "\n",
    "> LAPyGAGA\n"
   ]
  },
  {
   "cell_type": "markdown",
   "id": "151d3f42-f79e-4d9d-afe2-f8257ae73161",
   "metadata": {
    "editable": true,
    "slideshow": {
     "slide_type": "subslide"
    },
    "tags": []
   },
   "source": [
    "## AnCoOpt\n",
    "\n",
    "<span class=\"fragment\" data-fragment-index=\"0\"></span>\n",
    "<span class=\"fragment\" data-fragment-index=\"1\"></span>\n",
    "<span class=\"fragment\" data-fragment-index=\"2\"></span>"
   ]
  },
  {
   "cell_type": "code",
   "execution_count": 7,
   "id": "c65d462c-b0d3-49ae-ad95-c6a4ba741c52",
   "metadata": {
    "editable": true,
    "slideshow": {
     "slide_type": ""
    },
    "tags": []
   },
   "outputs": [
    {
     "data": {
      "application/vnd.jupyter.widget-view+json": {
       "model_id": "4e5a9bf6460f4340ad48675ebb933841",
       "version_major": 2,
       "version_minor": 0
      },
      "text/plain": [
       "Tab(children=(GraphWidget(cayley=[['1', 'e0', 'e1', 'e2', 'e01', 'e02', 'e12', 'e012'], ['e0', '0', 'e01', 'e0…"
      ]
     },
     "execution_count": 7,
     "metadata": {},
     "output_type": "execute_result"
    }
   ],
   "source": [
    "camera = alg2d.evenmv(e=1, e01=0.4, e02=0.2)\n",
    "\n",
    "graph_usecase = alg2d.graph(\n",
    "    graph_usecase_func,\n",
    "    **options,\n",
    "    height='300px',\n",
    "    scale=6,\n",
    "    camera=camera,\n",
    ")\n",
    "graph_guess = alg2d.graph(\n",
    "    graph_guess_func,\n",
    "    **options,\n",
    "    height='300px',\n",
    "    scale=6,\n",
    "    camera=camera,\n",
    ")\n",
    "grid_guess = ipy.GridspecLayout(9, 3, height='350px')\n",
    "grid_guess[0, 0] = mechanism_widget\n",
    "grid_guess[1:, :] = graph_guess\n",
    "grid_guess\n",
    "\n",
    "def redraw_graph(change):\n",
    "    graph_guess._handle_custom_msg(data={'type': 'update_mvs'}, buffers=[])\n",
    "mechanism_widget.observe(redraw_graph, names='value')\n",
    "recompute_widget.on_click(redraw_graph)\n",
    "\n",
    "graph_mechanism = alg2d.graph(\n",
    "    graph_mechanism_func,\n",
    "    **animated_options,\n",
    "    height='300px',\n",
    "    scale=6,\n",
    "    camera=camera,\n",
    ")\n",
    "grid = ipy.GridspecLayout(9, 3, height='350px')\n",
    "grid[0, 0] = mechanism_widget\n",
    "grid[0, 1] = recompute_widget\n",
    "grid[0, 2] = tangent_widget\n",
    "grid[1:, :] = graph_mechanism\n",
    "grid\n",
    "\n",
    "children = [graph_usecase, grid_guess, grid]\n",
    "titles = ['usecase', 'initial guess', 'fit']\n",
    "tab = ipy.Tab(children=children, titles=titles)\n",
    "def validate_fragment_change(proposal):\n",
    "    if proposal['value'] < 0:\n",
    "        return 0\n",
    "    elif proposal['value'] >= len(children):\n",
    "        return len(children) - 1\n",
    "    return proposal['value']\n",
    "tab._validate_fragment = validate('selected_index')(validate_fragment_change)\n",
    "ipy.jslink((fragment_widget, 'fragment'), (tab, 'selected_index'))\n",
    "\n",
    "\n",
    "tab"
   ]
  },
  {
   "attachments": {},
   "cell_type": "markdown",
   "id": "d29c7d81-a766-4295-8bd6-fec2f8f3f81c",
   "metadata": {
    "editable": true,
    "slideshow": {
     "slide_type": "subslide"
    },
    "tags": []
   },
   "source": [
    "## ToleDO\n",
    "### Tolerance Analysis\n",
    "\n",
    "Core idea: add up all the tolerances between parts to find their influence on the *Functional Requirement* (FR). E.g. the parallelism of the two shafts in the gearbox.\n",
    "<div style=\"margin-left: auto; margin-right: auto;\">\n",
    "<figure style=\"float: left;\">\n",
    "  <img src=\"./img/toledo/gearbox.png\" height=\"300px\" width=\"300px\"/>\n",
    "</figure>\n",
    "<figure style=\"float: left;\">\n",
    "  <img src=\"./img/toledo/liaison_graph.png\" height=\"300px\" width=\"300px\"/>\n",
    "</figure>\n",
    "</div>"
   ]
  },
  {
   "attachments": {},
   "cell_type": "markdown",
   "id": "d669b982-f6a2-4a5d-ad1e-83596860b764",
   "metadata": {
    "editable": true,
    "slideshow": {
     "slide_type": "subslide"
    },
    "tags": []
   },
   "source": [
    "## ToleDO\n",
    "### Tolerance Analysis: Unified Jacobian Torsor Method\n",
    "\n",
    "Core principle: represent each tolerance zones using a torsor (screw):\n",
    "$$ T = \\begin{pmatrix} \n",
    "u \\\\\n",
    "v \\\\\n",
    "w \\\\\n",
    "\\alpha \\\\\n",
    "\\beta \\\\\n",
    "\\gamma\n",
    "\\end{pmatrix} \n",
    "\\qquad\n",
    "\\rightarrow\n",
    "\\qquad\n",
    "T = u \\mathbf{e}_{01} + v \\mathbf{e}_{02} + w \\mathbf{e}_{03} + \\alpha \\mathbf{e}_{23} + \\beta \\mathbf{e}_{13} + \\gamma \\mathbf{e}_{12}\n",
    "$$\n",
    "\n",
    "<img class=\"average\" src=\"./img/toledo/tz.png\" height=\"200px\" style=\"display: block; margin-left: auto; margin-right: auto; width: 50%;\"/>"
   ]
  },
  {
   "attachments": {},
   "cell_type": "markdown",
   "id": "bbc297a8-741a-4535-9cb6-c75fa2605a85",
   "metadata": {
    "editable": true,
    "slideshow": {
     "slide_type": "subslide"
    },
    "tags": []
   },
   "source": [
    "## ToleDO\n",
    "### PGA based Tolerance Analysis (Publication Pending)\n",
    "\n",
    "- Unifies different approaches in literature:\n",
    "  - when acting on lines, we recover the *Unified Jacobian Torsor Method*\n",
    "  - when acting on points, we recover the *Matrix Method*\n",
    "  <img class=\"average\" src=\"./img/algebra_of_geometry.png\" height=\"200px\" style=\"display: block; margin-left: auto; margin-right: auto; width: 50%;\"/>\n",
    "- Correctly accounts for the impact of each Tolerance Zone on the final Functional Requirement.\n",
    "- **Novel**: PGA allows generalization to angular functional requirement.\n"
   ]
  },
  {
   "attachments": {},
   "cell_type": "markdown",
   "id": "a2257010-6ddd-4c91-8057-48c8da84a95d",
   "metadata": {
    "editable": true,
    "slideshow": {
     "slide_type": "subslide"
    },
    "tags": []
   },
   "source": [
    "## ToleDO\n",
    "### PGA based Tolerance Analysis (Publication Pending)\n",
    "\n",
    "<img class=\"average\" src=\"./img/toledo/fr_analysis.png\" style=\"display: block; margin-left: auto; margin-right: auto; width: 100%;\"/>\n"
   ]
  },
  {
   "cell_type": "markdown",
   "id": "b8d9a731-6e4b-4bd0-912b-a7e8f03138e2",
   "metadata": {
    "editable": true,
    "slideshow": {
     "slide_type": "slide"
    },
    "tags": []
   },
   "source": [
    "<h2 class=\"r-fit-text\">Live Demo?</h2>"
   ]
  },
  {
   "cell_type": "markdown",
   "id": "f9952cd7-2500-466f-a462-75a9690f45f8",
   "metadata": {
    "editable": true,
    "slideshow": {
     "slide_type": "fragment"
    },
    "tags": []
   },
   "source": [
    "<p class=\"r-fit-text\" style=\"text-align: center;\">This whole presentation has been a live demo!</p>"
   ]
  },
  {
   "cell_type": "markdown",
   "id": "2a7bea62-a9ae-460f-8350-203309640297",
   "metadata": {
    "editable": true,
    "slideshow": {
     "slide_type": "slide"
    },
    "tags": []
   },
   "source": [
    "# Get Started with `kingdon`\n",
    "\n",
    "- Just like `ganja.js` has its coffeeshop, `kingdon` has its teahouse: https://tbuli.github.io/teahouse/.\n",
    "\n",
    "  ![teahouse](img/teahouse.png)\n",
    "  \n",
    "  Ganja usage is tolerated in the Teahouse!\n",
    "- Or just install using `pip install kingdon`!"
   ]
  },
  {
   "cell_type": "markdown",
   "id": "3a50c9fe-e7f6-4346-a17c-5ab3560ef9ad",
   "metadata": {
    "editable": true,
    "slideshow": {
     "slide_type": "slide"
    },
    "tags": []
   },
   "source": [
    "# BACK-UP SLIDES"
   ]
  },
  {
   "attachments": {},
   "cell_type": "markdown",
   "id": "b24688c5-6174-418c-a5b5-4b75e16a2c91",
   "metadata": {
    "editable": true,
    "slideshow": {
     "slide_type": "subslide"
    },
    "tags": []
   },
   "source": [
    "## ToleDO\n",
    "### Tolerance Analysis\n",
    "\n",
    "<div style=\"width:600px;\">\n",
    "<figure class=\"left\" style=\"float:left\">\n",
    "  <img class=\"top\" src=\"./img/toledo/stackup1.png\" height=\"300px\" width=\"300px\"/>\n",
    "</figure>\n",
    "\n",
    "<figure class=\"right\" style=\"float:left\">\n",
    "  <img class=\"average\" src=\"./img/toledo/stackup2.png\" height=\"300px\" width=\"300px\"/>\n",
    "</figure>\n",
    "</div>\n",
    "\n",
    "\n",
    "Common technique: Stack-up analysis. Stack-up is typically done in 1D or 2D, e.g. with the advanced tool that is Excel.\n",
    "\n",
    "Stack-up software is readily available, with some going up to 3D.\n",
    "Inventor Tolerance Analysis, Creo EZ Tolerance Analysis, 3DCS Variation Analyst (Dedicated software)\n",
    "\n",
    "**We want to go beyond 1D stack-up analysis**"
   ]
  },
  {
   "attachments": {},
   "cell_type": "markdown",
   "id": "bf9bf322-4bf9-4011-bf4f-65bec3b213d4",
   "metadata": {
    "editable": true,
    "slideshow": {
     "slide_type": "subslide"
    },
    "tags": []
   },
   "source": [
    "## ToleDO\n",
    "### Tolerance Analysis: Unified Jacobian Torsor Method\n",
    "\n",
    "The Functional Requirement is then found by summing up all the tolerance zones:\n",
    "<div style=\"margin-left: auto; margin-right: auto;\">\n",
    "<figure style=\"float: left;\">\n",
    "  <img class=\"average\" src=\"./img/toledo/ujtm.png\" height=\"300px\" width=\"300px\"/>\n",
    "</figure>\n",
    "<figure style=\"float: left;\">\n",
    "  <img class=\"average\" src=\"./img/toledo/jacobian_matrix.png\" height=\"300px\" width=\"300px\"/>\n",
    "</figure>\n",
    "</div>\n",
    "\n",
    "<b class=\"fragment\">Screw torsors, we can do this with PGA!</b>"
   ]
  },
  {
   "cell_type": "code",
   "execution_count": null,
   "id": "e9162406-fa2c-4ec3-8b7c-accf3f8b3126",
   "metadata": {},
   "outputs": [],
   "source": []
  }
 ],
 "metadata": {
  "kernelspec": {
   "display_name": "Python 3 (ipykernel)",
   "language": "python",
   "name": "python3"
  },
  "language_info": {
   "codemirror_mode": {
    "name": "ipython",
    "version": 3
   },
   "file_extension": ".py",
   "mimetype": "text/x-python",
   "name": "python",
   "nbconvert_exporter": "python",
   "pygments_lexer": "ipython3",
   "version": "3.10.14"
  }
 },
 "nbformat": 4,
 "nbformat_minor": 5
}
