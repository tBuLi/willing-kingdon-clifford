{
 "cells": [
  {
   "cell_type": "markdown",
   "id": "bd7bccfa-9785-4fea-b91e-da424f7b9efd",
   "metadata": {
    "editable": true,
    "slideshow": {
     "slide_type": "slide"
    },
    "tags": []
   },
   "source": [
    "# First slide\n",
    "\n",
    "<iframe src=\"https://enki.ws/ganja.js/examples/coffeeshop.html#pga2d_points_and_lines&fullscreen\" title=\"W3Schools Free Online Web Tutorials\"></iframe>\n",
    "\n",
    "$$ f(x) $$"
   ]
  },
  {
   "cell_type": "code",
   "execution_count": 1,
   "id": "8bbbfc53-0ecb-421b-8e46-601d83ea3b83",
   "metadata": {
    "editable": true,
    "slideshow": {
     "slide_type": "skip"
    },
    "tags": []
   },
   "outputs": [
    {
     "name": "stdout",
     "output_type": "stream",
     "text": [
      "Note: you may need to restart the kernel to use updated packages.\n"
     ]
    }
   ],
   "source": [
    "%pip install -q kingdon anywidget==0.9.13"
   ]
  },
  {
   "cell_type": "code",
   "execution_count": 1,
   "id": "24a8dc9f-f9de-4dab-ab0a-b72dc81c818b",
   "metadata": {
    "editable": true,
    "slideshow": {
     "slide_type": "subslide"
    },
    "tags": []
   },
   "outputs": [
    {
     "data": {
      "text/html": [
       "\n",
       "        <iframe\n",
       "            width=\"700\"\n",
       "            height=\"350\"\n",
       "            src=\"https://enki.ws/ganja.js/examples/coffeeshop.html#pga2d_points_and_lines&fullscreen\"\n",
       "            frameborder=\"0\"\n",
       "            allowfullscreen\n",
       "            \n",
       "        ></iframe>\n",
       "        "
      ],
      "text/plain": [
       "<IPython.lib.display.IFrame at 0x1a6e64de140>"
      ]
     },
     "execution_count": 1,
     "metadata": {},
     "output_type": "execute_result"
    }
   ],
   "source": [
    "from IPython.display import IFrame\n",
    "IFrame('https://enki.ws/ganja.js/examples/coffeeshop.html#pga2d_points_and_lines&fullscreen', width=700, height=350)"
   ]
  },
  {
   "cell_type": "code",
   "execution_count": 2,
   "id": "54927fb8-eeb7-4ab9-9caa-6eddd4d6babc",
   "metadata": {
    "editable": true,
    "slideshow": {
     "slide_type": ""
    },
    "tags": []
   },
   "outputs": [],
   "source": [
    "from kingdon import Algebra\n",
    "\n",
    "alg = Algebra(2, 0, 1)\n",
    "locals().update(alg.blades)"
   ]
  },
  {
   "cell_type": "code",
   "execution_count": 3,
   "id": "ef9308af-c534-4ec5-af5a-f1a986ab71e4",
   "metadata": {
    "editable": true,
    "slideshow": {
     "slide_type": ""
    },
    "tags": []
   },
   "outputs": [],
   "source": [
    "# Construct points and lines from coefficients\n",
    "point = lambda x, y: (e0 + x*e1 + y*e2).dual()\n",
    "line = lambda a, b, c: a*e1 + b*e2 + c*e0\n",
    "\n",
    "# The formulas for projection and rejection are the same for all elements of geometry in PGA\n",
    "project = lambda a, b: (a | b) / b\n",
    "reject = lambda a, b: (a | b)"
   ]
  },
  {
   "cell_type": "code",
   "execution_count": 4,
   "id": "a1b7edae-fdc8-4431-bf5d-59982f6de152",
   "metadata": {
    "editable": true,
    "slideshow": {
     "slide_type": ""
    },
    "tags": []
   },
   "outputs": [],
   "source": [
    "A = point(1, 1)\n",
    "B = point(-1, 1)\n",
    "C = point(-1, -1)\n",
    "AC = A & C"
   ]
  },
  {
   "cell_type": "code",
   "execution_count": 6,
   "id": "1b8e39f6-8773-4c51-9355-28dbe644de3c",
   "metadata": {
    "editable": false,
    "slideshow": {
     "slide_type": "fragment"
    },
    "tags": []
   },
   "outputs": [
    {
     "data": {
      "application/vnd.jupyter.widget-view+json": {
       "model_id": "58d5b2aaf28c4b4280f6d22491c2bb14",
       "version_major": 2,
       "version_minor": 1
      },
      "text/plain": [
       "GraphWidget(cayley=[['1', 'e0', 'e1', 'e2', 'e01', 'e02', 'e12', 'e012'], ['e0', '0', 'e01', 'e02', '0', '0', …"
      ]
     },
     "execution_count": 6,
     "metadata": {},
     "output_type": "execute_result"
    }
   ],
   "source": [
    "alg.graph(\n",
    "    0xD0FFE1, [A,B,C],\n",
    "    0x882288, project(B, AC), \"project B onto AC\",\n",
    "    0x882288, project(AC, B), \"project AC onto B\",\n",
    "    0x008844, reject(AC, B),  \"reject AC from B\",\n",
    "    0x00AA88, AC, \"AC\",\n",
    "    0x224488, A, \"A\", B, \"B\", C, \"C\",\n",
    "    lineWidth=3, grid=1, labels=1\n",
    ")"
   ]
  },
  {
   "cell_type": "code",
   "execution_count": null,
   "id": "89c3e654-36fc-44de-a2b7-913bcf2c7524",
   "metadata": {
    "editable": true,
    "slideshow": {
     "slide_type": ""
    },
    "tags": []
   },
   "outputs": [],
   "source": []
  }
 ],
 "metadata": {
  "kernelspec": {
   "display_name": "Python 3 (ipykernel)",
   "language": "python",
   "name": "python3"
  },
  "language_info": {
   "codemirror_mode": {
    "name": "ipython",
    "version": 3
   },
   "file_extension": ".py",
   "mimetype": "text/x-python",
   "name": "python",
   "nbconvert_exporter": "python",
   "pygments_lexer": "ipython3",
   "version": "3.10.14"
  }
 },
 "nbformat": 4,
 "nbformat_minor": 5
}
