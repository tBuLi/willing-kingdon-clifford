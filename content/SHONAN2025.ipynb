{
 "cells": [
  {
   "cell_type": "code",
   "execution_count": 1,
   "id": "8bbbfc53-0ecb-421b-8e46-601d83ea3b83",
   "metadata": {
    "editable": true,
    "slideshow": {
     "slide_type": "skip"
    },
    "tags": []
   },
   "outputs": [
    {
     "name": "stdout",
     "output_type": "stream",
     "text": [
      "Note: you may need to restart the kernel to use updated packages.\n"
     ]
    }
   ],
   "source": [
    "%pip install -q kingdon anywidget==0.9.13 ipywidgets==8.1.3"
   ]
  },
  {
   "cell_type": "markdown",
   "id": "bd7bccfa-9785-4fea-b91e-da424f7b9efd",
   "metadata": {
    "editable": true,
    "slideshow": {
     "slide_type": "slide"
    },
    "tags": []
   },
   "source": [
    "# Workshop: The Power of Geometric Algebra in Modern Computer Vision\n",
    "\n",
    "**<p style=\"text-align: right;\">Martin Roelfs</p>**\n",
    "<p style=\"text-align: right;\">University of Antwerp & Flanders Make</p>"
   ]
  },
  {
   "cell_type": "code",
   "execution_count": 2,
   "id": "9ca11294-7da6-4229-bc57-b99cea30f2d4",
   "metadata": {
    "ExecuteTime": {
     "end_time": "2025-05-04T09:33:14.890424Z",
     "start_time": "2025-05-04T09:33:14.886437Z"
    },
    "editable": true,
    "slideshow": {
     "slide_type": ""
    },
    "tags": []
   },
   "outputs": [
    {
     "data": {
      "application/javascript": [
       "require(\n",
       "    {\n",
       "      // it makes sense to wait a little bit when you are loading\n",
       "      // reveal from a cdn in a slow connection environment\n",
       "      waitSeconds: 15\n",
       "    },\n",
       "    [\n",
       "      \"https://unpkg.com/reveal.js@5.1.0/dist/reveal.js\",\n",
       "      \"https://unpkg.com/reveal.js@5.1.0/plugin/notes/notes.js\"\n",
       "    ],\n",
       "\n",
       "    function(Reveal, RevealNotes){\n",
       "        function broadcast(event) {\n",
       "            var cur = Reveal.getIndices();\n",
       "            console.log('current', cur);\n",
       "            var iFrames = [...document.querySelectorAll('iframe')].filter(x=>x.src);\n",
       "            iFrames.forEach(iFrame=>iFrame.contentWindow.postMessage([cur.h, cur.v, cur.f]+'',\"*\"));\n",
       "            \n",
       "        };\n",
       "        \n",
       "        Reveal.addEventListener('fragmentshown', broadcast);\n",
       "        Reveal.addEventListener('fragmenthidden', broadcast);\n",
       "        Reveal.addEventListener('slidetransitionend', broadcast);\n",
       "    }\n",
       ");\n"
      ],
      "text/plain": [
       "<IPython.core.display.Javascript object>"
      ]
     },
     "metadata": {},
     "output_type": "display_data"
    }
   ],
   "source": [
    "%%js\n",
    "require(\n",
    "    {\n",
    "      // it makes sense to wait a little bit when you are loading\n",
    "      // reveal from a cdn in a slow connection environment\n",
    "      waitSeconds: 15\n",
    "    },\n",
    "    [\n",
    "      \"https://unpkg.com/reveal.js@5.1.0/dist/reveal.js\",\n",
    "      \"https://unpkg.com/reveal.js@5.1.0/plugin/notes/notes.js\"\n",
    "    ],\n",
    "\n",
    "    function(Reveal, RevealNotes){\n",
    "        function broadcast(event) {\n",
    "            var cur = Reveal.getIndices();\n",
    "            console.log('current', cur);\n",
    "            var iFrames = [...document.querySelectorAll('iframe')].filter(x=>x.src);\n",
    "            iFrames.forEach(iFrame=>iFrame.contentWindow.postMessage([cur.h, cur.v, cur.f]+'',\"*\"));\n",
    "            \n",
    "        };\n",
    "        \n",
    "        Reveal.addEventListener('fragmentshown', broadcast);\n",
    "        Reveal.addEventListener('fragmenthidden', broadcast);\n",
    "        Reveal.addEventListener('slidetransitionend', broadcast);\n",
    "    }\n",
    ");"
   ]
  },
  {
   "cell_type": "code",
   "execution_count": 3,
   "id": "79c0a81f-1313-48ed-a9b5-40f84c486f83",
   "metadata": {
    "ExecuteTime": {
     "end_time": "2025-05-04T09:33:15.526706Z",
     "start_time": "2025-05-04T09:33:15.226797Z"
    },
    "editable": true,
    "slideshow": {
     "slide_type": ""
    },
    "tags": []
   },
   "outputs": [
    {
     "data": {
      "application/vnd.jupyter.widget-view+json": {
       "model_id": "80eedcd8aa0842e8914ff15df00882f0",
       "version_major": 2,
       "version_minor": 1
      },
      "text/plain": [
       "FragmentWidget(state=[0, 0])"
      ]
     },
     "execution_count": 3,
     "metadata": {},
     "output_type": "execute_result"
    }
   ],
   "source": [
    "import reveal_widgets\n",
    "\n",
    "fragment_widget = reveal_widgets.FragmentWidget()\n",
    "fragment_widget"
   ]
  },
  {
   "cell_type": "code",
   "execution_count": 4,
   "id": "a074071a-026c-433d-ba52-28dc29f3d9ec",
   "metadata": {
    "ExecuteTime": {
     "end_time": "2025-05-04T09:33:16.208094Z",
     "start_time": "2025-05-04T09:33:16.129522Z"
    },
    "editable": true,
    "slideshow": {
     "slide_type": ""
    },
    "tags": []
   },
   "outputs": [],
   "source": [
    "import ipywidgets as ipy\n",
    "\n",
    "from animations import (\n",
    "    refl_1d_graph_func_0,\n",
    "    refl_1d_graph_func_1,\n",
    "    refl_1d_graph_func_2,\n",
    "    refl_1d_graph_func_3,\n",
    "    refl_2d_graph_func,\n",
    "    birefl_graph_func,\n",
    "    point_refl_graph_func,\n",
    "    birefl_gauge_rot_func,\n",
    "    birefl_gauge_trans_func,\n",
    "    points_gp_graph_func,\n",
    "    points_gp_graph_func_3d,\n",
    "    proj_graph_func,\n",
    "    sw_graph_func,\n",
    "    birefl_iden_graph_func,\n",
    "    birefl_point_graph_func,\n",
    "    lens_graph_func_0,\n",
    "    lens_graph_func_1,\n",
    "    lens_graph_func_2,\n",
    "    lens_graph_func_3,\n",
    ")\n",
    "from animations.config import alg3d, animated_options, options, clrs"
   ]
  },
  {
   "cell_type": "markdown",
   "id": "fd51a160-a212-4913-b6e6-ed0b298a0be6",
   "metadata": {
    "editable": true,
    "slideshow": {
     "slide_type": "subslide"
    },
    "tags": []
   },
   "source": [
    "## Introduction\n",
    "\n",
    "- About Reflections\n",
    "  - Geometric properties of reflections\n",
    "  - Rediscovery of Clifford (Geometric) Algebras as the Algebra of (Euclidean) Geometry\n",
    "- Dimension Agnostic Thinking\n",
    "- Get started with `kingdon`"
   ]
  },
  {
   "cell_type": "markdown",
   "id": "d4b5f6d8-3b2a-4380-92ff-4945bfcf3e87",
   "metadata": {
    "editable": true,
    "slideshow": {
     "slide_type": "slide"
    },
    "tags": []
   },
   "source": [
    "## Point-Reflections in $d \\geq 1$ dimension(s)\n",
    "\n",
    "Consider reflections in $1$ dimension.\n",
    "<span class=\"fragment\" data-fragment-index=\"0\">In $1$ dimension, a single point-reflection transforms all points on the line apart from the point in which we reflect.<span class=\"fragment\">\n"
   ]
  },
  {
   "cell_type": "code",
   "execution_count": 5,
   "id": "73cade8e-f43c-48c4-894b-a7a1539973ff",
   "metadata": {
    "ExecuteTime": {
     "end_time": "2025-05-04T09:33:20.193430Z",
     "start_time": "2025-05-04T09:33:20.154600Z"
    },
    "editable": true,
    "slideshow": {
     "slide_type": ""
    },
    "tags": []
   },
   "outputs": [
    {
     "data": {
      "application/vnd.jupyter.widget-view+json": {
       "model_id": "8684bee067b34e9da47f60d85ef07bbd",
       "version_major": 2,
       "version_minor": 1
      },
      "text/plain": [
       "GraphWidget(cayley=[['1', 'e0', 'e1', 'e2', 'e3', 'e01', 'e02', 'e03', 'e12', 'e13', 'e23', 'e012', 'e013', 'e…"
      ]
     },
     "execution_count": 5,
     "metadata": {},
     "output_type": "execute_result"
    }
   ],
   "source": [
    "def refl_1d_graph_func():\n",
    "    if fragment_widget.fragment == -1:\n",
    "        return refl_1d_graph_func_0()\n",
    "    if fragment_widget.fragment == 0:\n",
    "        return refl_1d_graph_func_1()\n",
    "    elif fragment_widget.fragment == 1:\n",
    "        return refl_1d_graph_func_2()\n",
    "    return refl_1d_graph_func_3()\n",
    "\n",
    "alg3d.graph(\n",
    "    refl_1d_graph_func,\n",
    "    **animated_options\n",
    ")"
   ]
  },
  {
   "cell_type": "markdown",
   "id": "0c382594-6cf5-4367-abc2-0c41c03d2319",
   "metadata": {
    "editable": true,
    "slideshow": {
     "slide_type": ""
    },
    "tags": []
   },
   "source": [
    "<span class=\"fragment\" data-fragment-index=\"1\">Two point-reflections on the line make a translation along the line over <i>twice the distance between the points</i>.</span>\n",
    "\n",
    "**<p class=\"fragment\" data-fragment-index=\"2\" style=\"text-align: center;\">But how do you know this scenario was 1d?</p>**"
   ]
  },
  {
   "cell_type": "markdown",
   "id": "fb8e8a7d-16db-4f8f-8a2c-8cb14576b51d",
   "metadata": {
    "editable": true,
    "slideshow": {
     "slide_type": "subslide"
    },
    "tags": []
   },
   "source": [
    "## Line-Reflections in $d \\geq 2$ dimensions\n",
    "\n",
    "In $2$ or more dimensions, a single line-reflection transforms the entire space except for the $1$ dimensional subspace in which we reflect."
   ]
  },
  {
   "cell_type": "code",
   "execution_count": 6,
   "id": "087f3420-7fd9-45b9-9a1e-20616d0a8acb",
   "metadata": {
    "ExecuteTime": {
     "end_time": "2025-05-04T09:33:25.785114Z",
     "start_time": "2025-05-04T09:33:25.775214Z"
    },
    "editable": true,
    "slideshow": {
     "slide_type": ""
    },
    "tags": []
   },
   "outputs": [
    {
     "data": {
      "application/vnd.jupyter.widget-view+json": {
       "model_id": "ba416d5b433c46b99c9a60edc25f2269",
       "version_major": 2,
       "version_minor": 1
      },
      "text/plain": [
       "GraphWidget(cayley=[['1', 'e0', 'e1', 'e2', 'e3', 'e01', 'e02', 'e03', 'e12', 'e13', 'e23', 'e012', 'e013', 'e…"
      ]
     },
     "execution_count": 6,
     "metadata": {},
     "output_type": "execute_result"
    }
   ],
   "source": [
    "alg3d.graph(\n",
    "    refl_2d_graph_func,\n",
    "    **options\n",
    ")"
   ]
  },
  {
   "cell_type": "markdown",
   "id": "d3c00217-4c20-4737-b8f4-7cf0f7da3acf",
   "metadata": {
    "editable": true,
    "slideshow": {
     "slide_type": "subslide"
    },
    "tags": []
   },
   "source": [
    "## Bireflections\n",
    "\n",
    "Two reflections can form a translation, a rotation, or a boost, *over twice the distance between the reflections*. These are all examples of **bireflections**."
   ]
  },
  {
   "cell_type": "code",
   "execution_count": 7,
   "id": "e0739f96-af14-4fbf-a914-3a1158a67ecc",
   "metadata": {
    "ExecuteTime": {
     "end_time": "2025-05-04T09:33:29.351064Z",
     "start_time": "2025-05-04T09:33:29.338504Z"
    },
    "editable": true,
    "slideshow": {
     "slide_type": ""
    },
    "tags": []
   },
   "outputs": [
    {
     "data": {
      "application/vnd.jupyter.widget-view+json": {
       "model_id": "426d03026d734ebd99d45855c76acba8",
       "version_major": 2,
       "version_minor": 0
      },
      "text/plain": [
       "GridspecLayout(children=(GraphWidget(cayley=[['1', 'e0', 'e1', 'e2', 'e3', 'e01', 'e02', 'e03', 'e12', 'e13', …"
      ]
     },
     "execution_count": 7,
     "metadata": {},
     "output_type": "execute_result"
    }
   ],
   "source": [
    "grid_bireflections = ipy.GridspecLayout(1, 2)\n",
    "grid_bireflections[0, 0] = alg3d.graph(\n",
    "    birefl_gauge_rot_func,\n",
    "    **animated_options,\n",
    "    height='300px'\n",
    ")\n",
    "grid_bireflections[0, 1] = alg3d.graph(\n",
    "    birefl_gauge_trans_func,\n",
    "    **animated_options,\n",
    "    height='300px'\n",
    ")\n",
    "grid_bireflections"
   ]
  },
  {
   "cell_type": "markdown",
   "id": "060c57de-1360-478e-84ba-1bc2561c3da2",
   "metadata": {
    "editable": true,
    "slideshow": {
     "slide_type": "fragment"
    },
    "tags": []
   },
   "source": [
    "Given the input and output shape, you could reconstruct the bireflection between them. However, *you could never know which specific reflections were used to make that bireflection!* "
   ]
  },
  {
   "cell_type": "markdown",
   "id": "b6fe67c7-2b5a-4488-9f0c-886aad887d6d",
   "metadata": {
    "editable": true,
    "slideshow": {
     "slide_type": ""
    },
    "tags": []
   },
   "source": [
    "**<p style=\"text-align: center;\">Bireflections have a gauge degree of freedom!</p>**"
   ]
  },
  {
   "cell_type": "markdown",
   "id": "f80cb5b9-6a82-4299-a320-99bd45b7827d",
   "metadata": {
    "editable": true,
    "slideshow": {
     "slide_type": "subslide"
    },
    "tags": []
   },
   "source": [
    "## Bireflections: Honorable Mentions"
   ]
  },
  {
   "cell_type": "code",
   "execution_count": 8,
   "id": "39f3929c-5b83-48ed-ad26-5d461b708092",
   "metadata": {
    "ExecuteTime": {
     "end_time": "2025-05-04T09:33:34.590010Z",
     "start_time": "2025-05-04T09:33:34.574546Z"
    },
    "editable": true,
    "slideshow": {
     "slide_type": ""
    },
    "tags": []
   },
   "outputs": [
    {
     "data": {
      "application/vnd.jupyter.widget-view+json": {
       "model_id": "2642a7e5240e4735bbadfcd2eb649b2e",
       "version_major": 2,
       "version_minor": 0
      },
      "text/plain": [
       "GridspecLayout(children=(GraphWidget(cayley=[['1', 'e0', 'e1', 'e2', 'e3', 'e01', 'e02', 'e03', 'e12', 'e13', …"
      ]
     },
     "execution_count": 8,
     "metadata": {},
     "output_type": "execute_result"
    }
   ],
   "source": [
    "grid_honorable = ipy.GridspecLayout(1, 2, height='300px')\n",
    "grid_honorable[0, 0] = alg3d.graph(\n",
    "    birefl_iden_graph_func,\n",
    "    **animated_options,\n",
    "    height='300px'\n",
    ")\n",
    "grid_honorable[0, 1] = alg3d.graph(\n",
    "    birefl_point_graph_func,\n",
    "    **animated_options,\n",
    "    height='300px'\n",
    ")\n",
    "grid_honorable"
   ]
  },
  {
   "cell_type": "markdown",
   "id": "91b14d34-1271-4964-94d0-a1cb3318042d",
   "metadata": {
    "editable": true,
    "slideshow": {
     "slide_type": "fragment"
    },
    "tags": []
   },
   "source": [
    "- Identity is an even number of identical reflections since reflections are involutary.\n",
    "  > Identity is a $2k$-reflection"
   ]
  },
  {
   "cell_type": "markdown",
   "id": "2e19e2a8-6ee4-436c-ba80-f3270323de21",
   "metadata": {
    "editable": true,
    "slideshow": {
     "slide_type": "fragment"
    },
    "tags": []
   },
   "source": [
    "- Two orthogonal line-reflections are identical to a point-reflection.          \n",
    "  > A point **is** two orthogonal lines!"
   ]
  },
  {
   "cell_type": "markdown",
   "id": "649e3050-7c77-4539-a322-fc2bc5a8023e",
   "metadata": {
    "editable": true,
    "slideshow": {
     "slide_type": "subslide"
    },
    "tags": []
   },
   "source": [
    "## Product between two points\n",
    "\n",
    "The product between two points $a$ and $b$: $R = ab$."
   ]
  },
  {
   "cell_type": "code",
   "execution_count": 9,
   "id": "580eaf97-c693-4874-a66c-993bd1d671dc",
   "metadata": {
    "ExecuteTime": {
     "end_time": "2025-05-04T09:34:18.932638Z",
     "start_time": "2025-05-04T09:34:18.923501Z"
    },
    "editable": true,
    "slideshow": {
     "slide_type": ""
    },
    "tags": []
   },
   "outputs": [
    {
     "data": {
      "application/vnd.jupyter.widget-view+json": {
       "model_id": "dd8db8d783894f36adf4dd0b83760e42",
       "version_major": 2,
       "version_minor": 0
      },
      "text/plain": [
       "VBox(children=(FloatSlider(value=0.0, max=1.0, min=-1.0, readout_format='.1f', step=0.05), FloatSlider(value=0…"
      ]
     },
     "execution_count": 9,
     "metadata": {},
     "output_type": "execute_result"
    }
   ],
   "source": [
    "from animations.points_gp_graph import p1_slider, p2_slider\n",
    "\n",
    "def points_gp_graph_func_fragmented():\n",
    "    global fragment_widget\n",
    "    if fragment_widget.fragment >= 1:\n",
    "        return points_gp_graph_func_3d()\n",
    "    \n",
    "    return points_gp_graph_func()\n",
    "\n",
    "points_gp_graph = alg3d.graph(\n",
    "    points_gp_graph_func_fragmented,\n",
    "    **animated_options,\n",
    ")\n",
    "\n",
    "ipy.VBox([p1_slider, p2_slider, points_gp_graph])"
   ]
  },
  {
   "cell_type": "markdown",
   "id": "2c908c9b-e9ac-4eb1-ad31-ad9d9b6ef751",
   "metadata": {
    "editable": true,
    "slideshow": {
     "slide_type": ""
    },
    "tags": []
   },
   "source": [
    "<span class=\"r-stack\">\n",
    "<p class=\"fragment current-visible\" data-fragment-index=\"0\">The product of two points is a translation along the line $a \\vee b$! In fact, it is **twice** the translation from $a$ to $b$. This is the same as in 1 dimension!</p>\n",
    "<p class=\"fragment\" data-fragment-index=\"1\">But how do you know this was 2D!?</p>\n",
    "</span>"
   ]
  },
  {
   "cell_type": "markdown",
   "id": "f70e0174-c19b-425a-b4e3-d5e16907a960",
   "metadata": {
    "editable": true,
    "slideshow": {
     "slide_type": "subslide"
    },
    "tags": []
   },
   "source": [
    "## Formulating (a realization of) Geometry\n",
    "\n",
    "<ul>\n",
    "    <li>Reflections are involutary: $r^2 = \\pm 1$. <b>This goes for point-, line-, plane-reflections alike</b>.</li>\n",
    "    <li class=\"fragment\">In a Clifford (Geometric) Algebra, products of orthogonal vectors square to scalars:\n",
    "$$ A = v_1 \\wedge v_2 \\wedge \\cdots \\wedge v_k \\implies A^2 \\in \\mathbb{R} $$</li>\n",
    "    <li class=\"fragment\">It is well-known that the products of vectors in a Clifford Algebra $\\mathbb{R}_{p,q,r}$ are elements of $\\text{Pin}(p,q,r)$.</li>\n",
    "</ul>\n"
   ]
  },
  {
   "cell_type": "markdown",
   "id": "6c99d6e4-f9a2-495b-af3a-24385595e0e0",
   "metadata": {
    "editable": true,
    "slideshow": {
     "slide_type": "fragment"
    },
    "tags": []
   },
   "source": [
    "These statements result in an algebraic representation of the aforementioned geometrical concepts if\n",
    "> The grade-1 vectors are identified with hyperplanes, instead of with arrows pointing at points!"
   ]
  },
  {
   "cell_type": "markdown",
   "id": "166b5bcc-a43d-4c74-806b-09b4fdc90ae5",
   "metadata": {
    "editable": true,
    "slideshow": {
     "slide_type": "subslide"
    },
    "tags": []
   },
   "source": [
    "## Formulating (a realization of) Geometry\n",
    "\n",
    "The equation of a hyperplane in $\\mathbb{R}^{p,q}$ \n",
    "    $$ a_1 x_1 + a_2 x_2 + \\ldots + a_n x_n = -b$$\n",
    "with $n = p + q$\n",
    "can be represented as a vector $v$ in a Clifford algebra of dimension $d=n+1$:\n",
    "$$ v = a_1 \\mathbf{e}_1 + a_2 \\mathbf{e}_2 + \\ldots + a_n \\mathbf{e}_n + b \\mathbf{e}_0,$$\n",
    "where $\\mathbf{e}_i$ are the basis vectors of the algebra.\n",
    "\n",
    "<span class=\"fragment\">\n",
    "Depending on the sign of $\\mathbf{e}_0$ we get different geometries:\n",
    "    <ul>\n",
    "        <li>$\\mathbf{e}_0^2 = 1$: Elliptic Projective Geometric Algebra (PGA)</li>\n",
    "        <li>$\\mathbf{e}_0^2 = -1$: Hyperbolic PGA</li>\n",
    "        <li class=\"fragment r-frame\">$\\mathbf{e}_0^2 = 0$: <b>Euclidean</b> PGA</li>\n",
    "    </ul>\n",
    "</span>\n",
    "\n",
    "<p class=\"fragment\">\n",
    "Intuition for $\\mathbf{e}_0^2 = 0$: it represents the (hyper)plane at infinity, in which you cannot reflect.\n",
    "</p>\n"
   ]
  },
  {
   "cell_type": "markdown",
   "id": "9e11bcc8-5283-4ac5-a445-8ab08f4e31c2",
   "metadata": {
    "editable": true,
    "slideshow": {
     "slide_type": "subslide"
    },
    "tags": []
   },
   "source": [
    "## Algebra of Geometry\n",
    "\n",
    "<!--<iframe src=\"https://enkimute.github.io/ganja.js/examples/coffeeshop.html#8lN3hOoNj&fullscreen\" width=\"100%\" height=\"300px\" frameBorder=\"0\" alt=\"iframe\"></iframe>-->\n",
    "<img src=\"https://s3.amazonaws.com/media-p.slid.es/uploads/1013487/images/9831082/pasted-from-clipboard.png\" alt=\"algebra_of_geometry\" />\n"
   ]
  },
  {
   "cell_type": "markdown",
   "id": "30997d0d-03cf-415e-a1b8-74614a34fc89",
   "metadata": {
    "editable": true,
    "slideshow": {
     "slide_type": "fragment"
    },
    "tags": []
   },
   "source": [
    "**<p style=\"text-align: center;\">Points are not some boring zero-dimensional quantity that is hardly worth mentioning;<br> rather they have internal structure and a local $\\text{Spin}(p,q)$ gauge group. </p>**"
   ]
  },
  {
   "cell_type": "markdown",
   "id": "abd858cc-17c9-4e69-a9a1-8501b5a1ed37",
   "metadata": {
    "editable": true,
    "slideshow": {
     "slide_type": "subslide"
    },
    "tags": []
   },
   "source": [
    "## Projection\n",
    "\n",
    "To project a geometric element $a$ onto an element $b$, the formula is always\n",
    "    $$ (a \\cdot b) b^{-1} $$"
   ]
  },
  {
   "cell_type": "code",
   "execution_count": 10,
   "id": "01497a35-2757-43bb-aed3-c05e427d223e",
   "metadata": {
    "editable": true,
    "slideshow": {
     "slide_type": ""
    },
    "tags": []
   },
   "outputs": [
    {
     "data": {
      "application/vnd.jupyter.widget-view+json": {
       "model_id": "51a27ac952f54513a46139ada4884489",
       "version_major": 2,
       "version_minor": 0
      },
      "text/plain": [
       "VBox(children=(FloatSlider(value=0.0, max=1.0, min=-1.0, readout_format='.1f'), Dropdown(description='Display:…"
      ]
     },
     "execution_count": 10,
     "metadata": {},
     "output_type": "execute_result"
    }
   ],
   "source": [
    "from animations.proj_graph import proj_slider, proj_selector\n",
    "\n",
    "proj_graph = alg3d.graph(\n",
    "    proj_graph_func,\n",
    "    **animated_options\n",
    ")\n",
    "ipy.VBox([proj_slider, proj_selector, proj_graph])"
   ]
  },
  {
   "cell_type": "markdown",
   "id": "a7d57fdb-a4f5-40b6-8b41-9a42ee184b14",
   "metadata": {
    "editable": true,
    "slideshow": {
     "slide_type": ""
    },
    "tags": []
   },
   "source": [
    "<span class=\"r-stack\">\n",
    "<p class=\"fragment current-visible\" data-fragment-index=\"0\">The inner product of two points $a$ and $b$ is the line $a \\cdot b$.</p>\n",
    "<p class=\"fragment current-visible\" data-fragment-index=\"1\">The product $(a \\cdot b)b$ is the point $a$ projected onto the line $b$. (In `kingdon`, this is simply `a @ b`.)</p>\n",
    "<p class=\"fragment\" data-fragment-index=\"2\">The product $(a \\cdot b)a$ is the line $b$ projected onto the point $a$. (In `kingdon`, this is simply `b @ a`.)</p>\n",
    "</span>"
   ]
  },
  {
   "cell_type": "markdown",
   "id": "fec5e724-42af-480f-935b-5f0e3ce177cb",
   "metadata": {
    "editable": true,
    "slideshow": {
     "slide_type": "subslide"
    },
    "tags": []
   },
   "source": [
    "## Dimension Agnostic Thinking\n",
    "\n",
    "<span class=\"r-stack\">\n",
    "<h4 class=\"fragment current-visible\" data-fragment-index=\"1\">Thin Lens (Paraxial Approx.): Imaging a point in 2D</h3>\n",
    "<h4 class=\"fragment current-visible\" data-fragment-index=\"2\">Thin Lens (Paraxial Approx.): Imaging a point in 3D Spherical lens</h3>\n",
    "<h4 class=\"fragment current-visible\" data-fragment-index=\"3\">Thin Lens (Paraxial Approx.): Imaging a line  in 3D Spherical lens</h3>\n",
    "<h4 class=\"fragment\" data-fragment-index=\"4\">Thin Lens (Paraxial Approx.): Imaging a point in 3D Cylindrical lens</h3>\n",
    "</span>"
   ]
  },
  {
   "cell_type": "code",
   "execution_count": 11,
   "id": "63ade504-296d-41ce-b099-3dc9963c595f",
   "metadata": {
    "editable": true,
    "slideshow": {
     "slide_type": ""
    },
    "tags": []
   },
   "outputs": [
    {
     "data": {
      "application/vnd.jupyter.widget-view+json": {
       "model_id": "04ccc62ad72646ffaf051f90fd722c74",
       "version_major": 2,
       "version_minor": 0
      },
      "text/plain": [
       "GridspecLayout(children=(GraphWidget(cayley=[['1', 'e0', 'e1', 'e2', 'e3', 'e01', 'e02', 'e03', 'e12', 'e13', …"
      ]
     },
     "execution_count": 11,
     "metadata": {},
     "output_type": "execute_result"
    }
   ],
   "source": [
    "lens_code = ipy.HTML(\"\"\"\n",
    "<link rel=\"stylesheet\" href=\"https://github.com/hakimel/reveal.js/tree/master/plugin/highlight/monokai.css\" />\n",
    "<script src=\"https://github.com/hakimel/reveal.js/tree/master/plugin/highlight/highlight.js\"></script>\n",
    "<script>\n",
    "  Reveal.initialize({\n",
    "    plugins: [RevealHighlight],\n",
    "  });\n",
    "</script>\n",
    "\n",
    "<div class=\"r-stack\">\n",
    "<pre class=\"fragment current-visible\" data-fragment-index=\"0\"><code data-trim data-noescape>\n",
    "d = 2\n",
    "alg = Algebra(d, 0, 1)\n",
    "globals().update(alg.blades)\n",
    "\n",
    "# Properties of the lens\n",
    "lens = e1\n",
    "center_point = e0.dual()\n",
    "focal = (e0 + -0.8*e1).dual()\n",
    "center = e0.dual()\n",
    "\n",
    "# object to image\n",
    "world = (e0 - 2*e1 - e2).dual()\n",
    "\n",
    "wc = world & center\n",
    "wf = world & focal\n",
    "wfl = wf ^ lens\n",
    "wfl_dot_l = wfl | (center_point & wfl)\n",
    "img = wfl_dot_l ^ wc\n",
    "</code></pre>\n",
    "\n",
    "<pre class=\"fragment current-visible\" data-fragment-index=\"1\"><code data-trim data-noescape data-line-numbers=\"7\">\n",
    "<b>d = 3</b>\n",
    "alg = Algebra(d, 0, 1)\n",
    "globals().update(alg.blades)\n",
    "\n",
    "# Properties of the lens\n",
    "lens = e1\n",
    "center_point = e0.dual()\n",
    "focal = (e0 + -0.8*e1).dual()\n",
    "center = e0.dual()\n",
    "\n",
    "# object to image\n",
    "world = (e0 - 2*e1 - e2).dual()\n",
    "\n",
    "wc = world & center\n",
    "wf = world & focal\n",
    "wfl = wf ^ lens\n",
    "wfl_dot_l = wfl | (center_point & wfl)\n",
    "img = wfl_dot_l ^ wc\n",
    "</code></pre>\n",
    "\n",
    "<pre class=\"fragment current-visible\" data-fragment-index=\"2\"><code data-trim data-noescape data-line-numbers=\"7\">\n",
    "d = 3\n",
    "alg = Algebra(d, 0, 1)\n",
    "globals().update(alg.blades)\n",
    "\n",
    "# Properties of the lens\n",
    "lens = e1\n",
    "center_point = e0.dual()\n",
    "focal = (e0 + -0.8*e1).dual()\n",
    "center = e0.dual()\n",
    "\n",
    "# object to image\n",
    "<b>world = (e12 + 2*e02 - e01).dual()</b>\n",
    "\n",
    "wc = world & center\n",
    "wf = world & focal\n",
    "wfl = wf ^ lens\n",
    "wfl_dot_l = wfl | (center_point & wfl)\n",
    "img = wfl_dot_l ^ wc\n",
    "</code></pre>\n",
    "\n",
    "</code></pre>\n",
    "<pre class=\"fragment\" data-fragment-index=\"3\"><code data-trim data-noescape data-line-numbers=\"7\">\n",
    "d = 3\n",
    "alg = Algebra(d, 0, 1)\n",
    "globals().update(alg.blades)\n",
    "\n",
    "# Properties of the lens\n",
    "lens = e1\n",
    "center_point = e0.dual()\n",
    "<b>focal = e12 + 0.8*e02\n",
    "center = e12</b>\n",
    "\n",
    "# object to image\n",
    "world = (e0 - 2*e1 - e2).dual()\n",
    "\n",
    "wc = world & center\n",
    "wf = world & focal\n",
    "wfl = wf ^ lens\n",
    "wfl_dot_l = wfl | (center_point & wfl)\n",
    "img = wfl_dot_l ^ wc\n",
    "</code></pre>\n",
    "</div>\n",
    "\n",
    "<div style=\"display: flex; text-justify: auto;\">\n",
    "    <p style=\"vertical-align: middle;\">These animations run live! Scan to convince yourself!</p>\n",
    "    <img src=\"https://github.com/tBuLi/willing-kingdon-clifford/blob/main/content/img/ex_3dpga_thinlens_qr.png?raw=true\"/>\n",
    "</div>\n",
    "\"\"\"\n",
    ")\n",
    "\n",
    "def lens_graph_func():\n",
    "    if fragment_widget.fragment == 1:\n",
    "        return lens_graph_func_1()\n",
    "    if fragment_widget.fragment == 2:\n",
    "        return lens_graph_func_2()\n",
    "    elif fragment_widget.fragment == 3:\n",
    "        return lens_graph_func_3()\n",
    "    return lens_graph_func_0()\n",
    "\n",
    "lens_graph = alg3d.graph(\n",
    "    lens_graph_func,\n",
    "    **animated_options,\n",
    "    camera=alg3d.evenmv(e=1, e13=0.1, e23=-0.1).normalized(),\n",
    "    height='400px',\n",
    "    width='600px'\n",
    ")\n",
    "grid_lens = ipy.GridspecLayout(1, 2)\n",
    "grid_lens[0, 0] = lens_graph\n",
    "grid_lens[0, 1] = lens_code\n",
    "grid_lens"
   ]
  },
  {
   "cell_type": "markdown",
   "id": "9350445d-f3c3-4cd1-a315-c0e0fa062e72",
   "metadata": {
    "editable": true,
    "slideshow": {
     "slide_type": ""
    },
    "tags": []
   },
   "source": [
    "## The Power of Geometric Algebra in Modern Computer Vision?\n",
    "\n",
    "- Write dimension agnostic code*\n",
    "- The algebra does all the bookkeeping for you\n",
    "- All the animations shown during this talk are just a few *mathematical expressions* big"
   ]
  },
  {
   "cell_type": "markdown",
   "id": "10d22f29-a7d6-4e6f-b0db-830b618287d6",
   "metadata": {
    "editable": true,
    "slideshow": {
     "slide_type": "slide"
    },
    "tags": []
   },
   "source": [
    "## `kingdon` Design Philosophy\n",
    "\n",
    "`kingdon` was developed with the following goals in mind:\n",
    "- Easy to use API.\n",
    "- Rapid prototyping.\n",
    "  - Visualization: `ganja.js` enabled graphics in jupyter notebooks.\n",
    "- Input agnostic: symbols, floats, tensors, etc.\n",
    "  - If it supports $+, -, *$ and optionally $/$ and $\\sqrt{}$ then it is a valid coefficient for a multivector.\n",
    "- Performance: symbolic code generation and just-in-time compilation.\n",
    "\n",
    "> **Add GA to any workflow**\n"
   ]
  },
  {
   "cell_type": "markdown",
   "id": "dadbed19-f3c2-4c6a-81fa-667078a6e9cd",
   "metadata": {
    "editable": true,
    "slideshow": {
     "slide_type": "slide"
    },
    "tags": []
   },
   "source": [
    "# Workshop\n",
    "\n",
    "- (Optional) For those who already have a working python setup and want to work locally, simply install `kingdon` using\n",
    "<pre><code data-trim data-noescape>\n",
    "pip install kingdon\n",
    "</code></pre>\n",
    "\n",
    "- Go to [https://github.com/tBuLi/kingdon](https://github.com/tBuLi/kingdon) and follow the link to the Teahouse.\n",
    "- (Optional) Leave a 🌟 if you want to help make `kingdon` more popular\n",
    "- Start with exercise \"Spider 1\""
   ]
  },
  {
   "cell_type": "code",
   "execution_count": null,
   "id": "82634c06-df49-48cb-9ae9-be806f58f4c2",
   "metadata": {
    "editable": true,
    "slideshow": {
     "slide_type": ""
    },
    "tags": []
   },
   "outputs": [],
   "source": []
  }
 ],
 "metadata": {
  "kernelspec": {
   "display_name": "Python 3 (ipykernel)",
   "language": "python",
   "name": "python3"
  },
  "language_info": {
   "codemirror_mode": {
    "name": "ipython",
    "version": 3
   },
   "file_extension": ".py",
   "mimetype": "text/x-python",
   "name": "python",
   "nbconvert_exporter": "python",
   "pygments_lexer": "ipython3",
   "version": "3.10.15"
  }
 },
 "nbformat": 4,
 "nbformat_minor": 5
}
