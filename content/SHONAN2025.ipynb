{
 "cells": [
  {
   "cell_type": "code",
   "execution_count": 1,
   "id": "8bbbfc53-0ecb-421b-8e46-601d83ea3b83",
   "metadata": {
    "editable": true,
    "slideshow": {
     "slide_type": "skip"
    },
    "tags": []
   },
   "outputs": [
    {
     "name": "stdout",
     "output_type": "stream",
     "text": [
      "Note: you may need to restart the kernel to use updated packages.\n"
     ]
    }
   ],
   "source": [
    "%pip install -q kingdon anywidget==0.9.13 ipywidgets==8.1.3"
   ]
  },
  {
   "cell_type": "markdown",
   "id": "bd7bccfa-9785-4fea-b91e-da424f7b9efd",
   "metadata": {
    "editable": true,
    "slideshow": {
     "slide_type": "skip"
    },
    "tags": []
   },
   "source": [
    "# Workshop: The Power of Geometric Algebra in Modern Computer Vision\n",
    "\n",
    "**<p style=\"text-align: right;\">Martin Roelfs</p>**\n",
    "<p style=\"text-align: right;\">University of Antwerp & Flanders Make</p>"
   ]
  },
  {
   "cell_type": "markdown",
   "id": "4415853d-dc9d-4491-9d55-fb264e8d48d7",
   "metadata": {
    "editable": true,
    "slideshow": {
     "slide_type": "slide"
    },
    "tags": []
   },
   "source": [
    "# Workshop Geometric Algebra\n",
    "\n",
    "**<p style=\"text-align: right;\">Martin Roelfs</p>**\n",
    "<p style=\"text-align: right;\">Flanders Make</p>"
   ]
  },
  {
   "cell_type": "code",
   "execution_count": 1,
   "id": "9ca11294-7da6-4229-bc57-b99cea30f2d4",
   "metadata": {
    "ExecuteTime": {
     "end_time": "2025-05-04T09:33:14.890424Z",
     "start_time": "2025-05-04T09:33:14.886437Z"
    },
    "editable": true,
    "slideshow": {
     "slide_type": ""
    },
    "tags": []
   },
   "outputs": [
    {
     "data": {
      "application/javascript": [
       "require(\n",
       "    {\n",
       "      // it makes sense to wait a little bit when you are loading\n",
       "      // reveal from a cdn in a slow connection environment\n",
       "      waitSeconds: 15\n",
       "    },\n",
       "    [\n",
       "      \"https://unpkg.com/reveal.js@5.1.0/dist/reveal.js\",\n",
       "      \"https://unpkg.com/reveal.js@5.1.0/plugin/notes/notes.js\",\n",
       "    ],\n",
       "\n",
       "    function(Reveal, RevealNotes){\n",
       "        function broadcast(event) {\n",
       "            var cur = Reveal.getIndices();\n",
       "            console.log('current', cur);\n",
       "            var iFrames = [...document.querySelectorAll('iframe')].filter(x=>x.src);\n",
       "            iFrames.forEach(iFrame=>iFrame.contentWindow.postMessage([cur.h, cur.v, cur.f]+'',\"*\"));\n",
       "            \n",
       "        };\n",
       "        \n",
       "        Reveal.addEventListener('fragmentshown', broadcast);\n",
       "        Reveal.addEventListener('fragmenthidden', broadcast);\n",
       "        Reveal.addEventListener('slidetransitionend', broadcast);\n",
       "    }\n",
       ");\n"
      ],
      "text/plain": [
       "<IPython.core.display.Javascript object>"
      ]
     },
     "metadata": {},
     "output_type": "display_data"
    }
   ],
   "source": [
    "%%js\n",
    "require(\n",
    "    {\n",
    "      // it makes sense to wait a little bit when you are loading\n",
    "      // reveal from a cdn in a slow connection environment\n",
    "      waitSeconds: 15\n",
    "    },\n",
    "    [\n",
    "      \"https://unpkg.com/reveal.js@5.1.0/dist/reveal.js\",\n",
    "      \"https://unpkg.com/reveal.js@5.1.0/plugin/notes/notes.js\",\n",
    "    ],\n",
    "\n",
    "    function(Reveal, RevealNotes){\n",
    "        function broadcast(event) {\n",
    "            var cur = Reveal.getIndices();\n",
    "            console.log('current', cur);\n",
    "            var iFrames = [...document.querySelectorAll('iframe')].filter(x=>x.src);\n",
    "            iFrames.forEach(iFrame=>iFrame.contentWindow.postMessage([cur.h, cur.v, cur.f]+'',\"*\"));\n",
    "            \n",
    "        };\n",
    "        \n",
    "        Reveal.addEventListener('fragmentshown', broadcast);\n",
    "        Reveal.addEventListener('fragmenthidden', broadcast);\n",
    "        Reveal.addEventListener('slidetransitionend', broadcast);\n",
    "    }\n",
    ");"
   ]
  },
  {
   "cell_type": "code",
   "execution_count": 2,
   "id": "79c0a81f-1313-48ed-a9b5-40f84c486f83",
   "metadata": {
    "ExecuteTime": {
     "end_time": "2025-05-04T09:33:15.526706Z",
     "start_time": "2025-05-04T09:33:15.226797Z"
    },
    "editable": true,
    "slideshow": {
     "slide_type": ""
    },
    "tags": []
   },
   "outputs": [
    {
     "data": {
      "application/vnd.jupyter.widget-view+json": {
       "model_id": "665ac9d49e0b4d6098b2d3e1a755c310",
       "version_major": 2,
       "version_minor": 1
      },
      "text/plain": [
       "FragmentWidget(state=[0, 0])"
      ]
     },
     "execution_count": 2,
     "metadata": {},
     "output_type": "execute_result"
    }
   ],
   "source": [
    "import reveal_widgets\n",
    "\n",
    "fragment_widget = reveal_widgets.FragmentWidget()\n",
    "fragment_widget"
   ]
  },
  {
   "cell_type": "code",
   "execution_count": 3,
   "id": "a074071a-026c-433d-ba52-28dc29f3d9ec",
   "metadata": {
    "ExecuteTime": {
     "end_time": "2025-05-04T09:33:16.208094Z",
     "start_time": "2025-05-04T09:33:16.129522Z"
    },
    "editable": true,
    "slideshow": {
     "slide_type": ""
    },
    "tags": []
   },
   "outputs": [],
   "source": [
    "import ipywidgets as ipy\n",
    "\n",
    "from animations import (\n",
    "    refl_1d_graph_func_0,\n",
    "    refl_1d_graph_func_1,\n",
    "    refl_1d_graph_func_2,\n",
    "    refl_1d_graph_func_3,\n",
    "    refl_2d_graph_func,\n",
    "    birefl_graph_func,\n",
    "    point_refl_graph_func,\n",
    "    birefl_gauge_rot_func,\n",
    "    birefl_gauge_trans_func,\n",
    "    points_gp_graph_func,\n",
    "    points_gp_graph_func_3d,\n",
    "    proj_graph_func,\n",
    "    sw_graph_func,\n",
    "    birefl_iden_graph_func,\n",
    "    birefl_point_graph_func,\n",
    "    lens_graph_func_0,\n",
    "    lens_graph_func_1,\n",
    "    lens_graph_func_2,\n",
    "    lens_graph_func_3,\n",
    "    lens_graph_intro_func_0,\n",
    "    lens_graph_intro_func_1,\n",
    "    lens_graph_intro_func_2,\n",
    "    lens_graph_intro_func_3,\n",
    "    lens_graph_intro_func_4,\n",
    "    lens_graph_intro_func_5,\n",
    "    lens_graph_intro_func_6,\n",
    "    lens_graph_intro_func_01,\n",
    "    lens_graph_intro_func_02,\n",
    "    lens_graph_intro_func_03,\n",
    "    lens_graph_intro_func_04,\n",
    ")\n",
    "from animations.config import alg2d, alg3d, animated_options, options, clrs"
   ]
  },
  {
   "cell_type": "markdown",
   "id": "fd51a160-a212-4913-b6e6-ed0b298a0be6",
   "metadata": {
    "editable": true,
    "slideshow": {
     "slide_type": "subslide"
    },
    "tags": []
   },
   "source": [
    "# Table of Content\n",
    "\n",
    "## Part 1: Introduction\n",
    "\n",
    "- About Reflections\n",
    "  - Geometric properties of reflections\n",
    "  - Rediscovery of Geometric Algebras as the Algebra of (Euclidean) Geometry\n",
    "- Geometrical Products\n",
    "- Dimension Agnostic Thinking\n",
    "\n",
    "## Part 2: Workshop\n",
    "\n",
    "- Get started with `kingdon`\n",
    "- Hands-on workshop using the `kingdon` teahouse"
   ]
  },
  {
   "cell_type": "markdown",
   "id": "d4b5f6d8-3b2a-4380-92ff-4945bfcf3e87",
   "metadata": {
    "editable": true,
    "slideshow": {
     "slide_type": "slide"
    },
    "tags": []
   },
   "source": [
    "## Point-Reflections in $d \\geq 1$ dimension(s)\n",
    "\n",
    "Consider reflections in $1$ dimension.\n",
    "<span class=\"fragment\" data-fragment-index=\"0\">In $1$ dimension, a single point-reflection transforms all points on the line apart from the point in which we reflect.<span class=\"fragment\">\n"
   ]
  },
  {
   "cell_type": "code",
   "execution_count": 4,
   "id": "73cade8e-f43c-48c4-894b-a7a1539973ff",
   "metadata": {
    "ExecuteTime": {
     "end_time": "2025-05-04T09:33:20.193430Z",
     "start_time": "2025-05-04T09:33:20.154600Z"
    },
    "editable": true,
    "slideshow": {
     "slide_type": ""
    },
    "tags": []
   },
   "outputs": [
    {
     "data": {
      "application/vnd.jupyter.widget-view+json": {
       "model_id": "1594cc875acb4d29bedb62926ae10de1",
       "version_major": 2,
       "version_minor": 1
      },
      "text/plain": [
       "GraphWidget(cayley=[['1', 'e0', 'e1', 'e2', 'e3', 'e01', 'e02', 'e03', 'e12', 'e13', 'e23', 'e012', 'e013', 'e…"
      ]
     },
     "execution_count": 4,
     "metadata": {},
     "output_type": "execute_result"
    }
   ],
   "source": [
    "def refl_1d_graph_func():\n",
    "    if fragment_widget.fragment == -1:\n",
    "        return refl_1d_graph_func_0()\n",
    "    if fragment_widget.fragment == 0:\n",
    "        return refl_1d_graph_func_1()\n",
    "    elif fragment_widget.fragment == 1:\n",
    "        return refl_1d_graph_func_2()\n",
    "    return refl_1d_graph_func_3()\n",
    "\n",
    "alg3d.graph(\n",
    "    refl_1d_graph_func,\n",
    "    **animated_options\n",
    ")"
   ]
  },
  {
   "cell_type": "markdown",
   "id": "0c382594-6cf5-4367-abc2-0c41c03d2319",
   "metadata": {
    "editable": true,
    "slideshow": {
     "slide_type": ""
    },
    "tags": []
   },
   "source": [
    "<span class=\"fragment\" data-fragment-index=\"1\">Two point-reflections on the line make a translation along the line over <i>twice the distance between the points</i>.</span>\n",
    "\n",
    "**<p class=\"fragment\" data-fragment-index=\"2\" style=\"text-align: center;\">But how do you know this scenario was 1d?</p>**"
   ]
  },
  {
   "cell_type": "markdown",
   "id": "fb8e8a7d-16db-4f8f-8a2c-8cb14576b51d",
   "metadata": {
    "editable": true,
    "slideshow": {
     "slide_type": "subslide"
    },
    "tags": []
   },
   "source": [
    "## Line-Reflections in $d \\geq 2$ dimensions\n",
    "\n",
    "In $2$ or more dimensions, a single line-reflection transforms the entire space except for the $1$ dimensional subspace in which we reflect."
   ]
  },
  {
   "cell_type": "code",
   "execution_count": 5,
   "id": "087f3420-7fd9-45b9-9a1e-20616d0a8acb",
   "metadata": {
    "ExecuteTime": {
     "end_time": "2025-05-04T09:33:25.785114Z",
     "start_time": "2025-05-04T09:33:25.775214Z"
    },
    "editable": true,
    "slideshow": {
     "slide_type": ""
    },
    "tags": []
   },
   "outputs": [
    {
     "data": {
      "application/vnd.jupyter.widget-view+json": {
       "model_id": "de72a36f1d39418483f4a3f457fb9bdd",
       "version_major": 2,
       "version_minor": 1
      },
      "text/plain": [
       "GraphWidget(cayley=[['1', 'e0', 'e1', 'e2', 'e3', 'e01', 'e02', 'e03', 'e12', 'e13', 'e23', 'e012', 'e013', 'e…"
      ]
     },
     "execution_count": 5,
     "metadata": {},
     "output_type": "execute_result"
    }
   ],
   "source": [
    "alg3d.graph(\n",
    "    refl_2d_graph_func,\n",
    "    **options\n",
    ")"
   ]
  },
  {
   "cell_type": "markdown",
   "id": "d3c00217-4c20-4737-b8f4-7cf0f7da3acf",
   "metadata": {
    "editable": true,
    "slideshow": {
     "slide_type": "subslide"
    },
    "tags": []
   },
   "source": [
    "## Bireflections\n",
    "\n",
    "Two reflections can form a translation, a rotation, or a boost, *over twice the distance between the reflections*. These are all examples of **bireflections**."
   ]
  },
  {
   "cell_type": "code",
   "execution_count": 6,
   "id": "e0739f96-af14-4fbf-a914-3a1158a67ecc",
   "metadata": {
    "ExecuteTime": {
     "end_time": "2025-05-04T09:33:29.351064Z",
     "start_time": "2025-05-04T09:33:29.338504Z"
    },
    "editable": true,
    "slideshow": {
     "slide_type": ""
    },
    "tags": []
   },
   "outputs": [
    {
     "data": {
      "application/vnd.jupyter.widget-view+json": {
       "model_id": "d4d5981a318041279d6bb6b62a08edcd",
       "version_major": 2,
       "version_minor": 0
      },
      "text/plain": [
       "GridspecLayout(children=(GraphWidget(cayley=[['1', 'e0', 'e1', 'e2', 'e3', 'e01', 'e02', 'e03', 'e12', 'e13', …"
      ]
     },
     "execution_count": 6,
     "metadata": {},
     "output_type": "execute_result"
    }
   ],
   "source": [
    "grid_bireflections = ipy.GridspecLayout(1, 2)\n",
    "grid_bireflections[0, 0] = alg3d.graph(\n",
    "    birefl_gauge_rot_func,\n",
    "    **animated_options,\n",
    "    height='300px'\n",
    ")\n",
    "grid_bireflections[0, 1] = alg3d.graph(\n",
    "    birefl_gauge_trans_func,\n",
    "    **animated_options,\n",
    "    height='300px'\n",
    ")\n",
    "grid_bireflections"
   ]
  },
  {
   "cell_type": "markdown",
   "id": "060c57de-1360-478e-84ba-1bc2561c3da2",
   "metadata": {
    "editable": true,
    "slideshow": {
     "slide_type": "fragment"
    },
    "tags": []
   },
   "source": [
    "Given the input and output shape, you could reconstruct the bireflection between them. However, *you could never know which specific reflections were used to make that bireflection!* "
   ]
  },
  {
   "cell_type": "markdown",
   "id": "b6fe67c7-2b5a-4488-9f0c-886aad887d6d",
   "metadata": {
    "editable": true,
    "slideshow": {
     "slide_type": ""
    },
    "tags": []
   },
   "source": [
    "**<p style=\"text-align: center;\">Bireflections have a gauge degree of freedom!</p>**"
   ]
  },
  {
   "cell_type": "markdown",
   "id": "f80cb5b9-6a82-4299-a320-99bd45b7827d",
   "metadata": {
    "editable": true,
    "slideshow": {
     "slide_type": "subslide"
    },
    "tags": []
   },
   "source": [
    "## Bireflections: Honorable Mentions"
   ]
  },
  {
   "cell_type": "code",
   "execution_count": 7,
   "id": "39f3929c-5b83-48ed-ad26-5d461b708092",
   "metadata": {
    "ExecuteTime": {
     "end_time": "2025-05-04T09:33:34.590010Z",
     "start_time": "2025-05-04T09:33:34.574546Z"
    },
    "editable": true,
    "slideshow": {
     "slide_type": ""
    },
    "tags": []
   },
   "outputs": [
    {
     "data": {
      "application/vnd.jupyter.widget-view+json": {
       "model_id": "1adb6e38c27144cfa37007fd7eda74c6",
       "version_major": 2,
       "version_minor": 0
      },
      "text/plain": [
       "GridspecLayout(children=(GraphWidget(cayley=[['1', 'e0', 'e1', 'e2', 'e3', 'e01', 'e02', 'e03', 'e12', 'e13', …"
      ]
     },
     "execution_count": 7,
     "metadata": {},
     "output_type": "execute_result"
    }
   ],
   "source": [
    "grid_honorable = ipy.GridspecLayout(1, 2, height='300px')\n",
    "grid_honorable[0, 0] = alg3d.graph(\n",
    "    birefl_iden_graph_func,\n",
    "    **animated_options,\n",
    "    height='300px'\n",
    ")\n",
    "grid_honorable[0, 1] = alg3d.graph(\n",
    "    birefl_point_graph_func,\n",
    "    **animated_options,\n",
    "    height='300px'\n",
    ")\n",
    "grid_honorable"
   ]
  },
  {
   "cell_type": "markdown",
   "id": "91b14d34-1271-4964-94d0-a1cb3318042d",
   "metadata": {
    "editable": true,
    "slideshow": {
     "slide_type": "fragment"
    },
    "tags": []
   },
   "source": [
    "- Identity is an even number of identical reflections since reflections are involutary.\n",
    "  > Identity is a $2k$-reflection"
   ]
  },
  {
   "cell_type": "markdown",
   "id": "2e19e2a8-6ee4-436c-ba80-f3270323de21",
   "metadata": {
    "editable": true,
    "slideshow": {
     "slide_type": "fragment"
    },
    "tags": []
   },
   "source": [
    "- Two orthogonal line-reflections are identical to a point-reflection.          \n",
    "  > A point **is** two orthogonal lines!"
   ]
  },
  {
   "cell_type": "markdown",
   "id": "649e3050-7c77-4539-a322-fc2bc5a8023e",
   "metadata": {
    "editable": true,
    "slideshow": {
     "slide_type": "subslide"
    },
    "tags": []
   },
   "source": [
    "## Product between two points\n",
    "\n",
    "The product between two points $a$ and $b$: $R = ab$."
   ]
  },
  {
   "cell_type": "code",
   "execution_count": 8,
   "id": "580eaf97-c693-4874-a66c-993bd1d671dc",
   "metadata": {
    "ExecuteTime": {
     "end_time": "2025-05-04T09:34:18.932638Z",
     "start_time": "2025-05-04T09:34:18.923501Z"
    },
    "editable": true,
    "slideshow": {
     "slide_type": ""
    },
    "tags": []
   },
   "outputs": [
    {
     "data": {
      "application/vnd.jupyter.widget-view+json": {
       "model_id": "d34cedf0c39b413c8428ff4a25ff1ae7",
       "version_major": 2,
       "version_minor": 0
      },
      "text/plain": [
       "VBox(children=(FloatSlider(value=0.0, max=1.0, min=-1.0, readout_format='.1f', step=0.05), FloatSlider(value=0…"
      ]
     },
     "execution_count": 8,
     "metadata": {},
     "output_type": "execute_result"
    }
   ],
   "source": [
    "from animations.points_gp_graph import p1_slider, p2_slider\n",
    "\n",
    "def points_gp_graph_func_fragmented():\n",
    "    global fragment_widget\n",
    "    if fragment_widget.fragment >= 1:\n",
    "        return points_gp_graph_func_3d()\n",
    "    \n",
    "    return points_gp_graph_func()\n",
    "\n",
    "points_gp_graph = alg3d.graph(\n",
    "    points_gp_graph_func_fragmented,\n",
    "    **animated_options,\n",
    ")\n",
    "\n",
    "ipy.VBox([p1_slider, p2_slider, points_gp_graph])"
   ]
  },
  {
   "cell_type": "code",
   "execution_count": null,
   "id": "f726c7f3f125fb5c",
   "metadata": {
    "editable": true,
    "slideshow": {
     "slide_type": ""
    },
    "tags": []
   },
   "outputs": [],
   "source": []
  },
  {
   "cell_type": "markdown",
   "id": "2c908c9b-e9ac-4eb1-ad31-ad9d9b6ef751",
   "metadata": {
    "editable": true,
    "slideshow": {
     "slide_type": ""
    },
    "tags": []
   },
   "source": [
    "<span class=\"r-stack\">\n",
    "<p class=\"fragment current-visible\" data-fragment-index=\"0\">The product of two points is a translation along the line $a \\vee b$! In fact, it is <b>twice</b> the translation from $a$ to $b$. This is the same as in 1 dimension!</p>\n",
    "<p class=\"fragment\" data-fragment-index=\"1\">But how do you know this was 2D!?</p>\n",
    "</span>"
   ]
  },
  {
   "cell_type": "markdown",
   "id": "cc41606b-2cc9-4b0d-8dc6-b2e2c7d65f95",
   "metadata": {
    "editable": true,
    "jp-MarkdownHeadingCollapsed": true,
    "slideshow": {
     "slide_type": "subslide"
    },
    "tags": []
   },
   "source": [
    "## Orthogonal Reflections\n",
    "\n",
    "<center> \n",
    "    We've been sloppy: reflections have a front and a back.\n",
    "    <span class=\"r-stack\">\n",
    "    <span data-markdown class=\"fragment current-visible\" >If we gauge until $a' = b$, then we have $b' = -a$.</span>\n",
    "    <span data-markdown class=\"fragment current-visible\" >If we gauge until $b' = a$, then we have $a' = -b$.</span>\n",
    "    <span data-markdown class=\"fragment\">Bireflection $ba$ is the same as $a(-b)$ and $(-a)b$.</span>\n",
    "    </span>\n",
    "</center>\n",
    "\n",
    "<iframe src=\"https://enki.ws/ganja.js/examples/coffeeshop.html#ql1uiJYLHe&fullscreen\" width=\"100%\" height=\"375px\" frameBorder=\"0\" alt=\"iframe\"></iframe>\n",
    "\n",
    "<div style=\"display: flex; gap: 1em; align-items: flex-start;\">\n",
    "  <div style=\"flex: 1;\">\n",
    "  <div class=\"r-frame fragment\">\n",
    "<center>  \n",
    "<span data-markdown >Orthogonal reflections anti-commute: $$ba = -ab$$</span>\n",
    "</center>\n",
    "</div>\n",
    "  </div>\n",
    "  <div style=\"flex: 1;\">\n",
    "    <div class=\"r-frame fragment\">\n",
    "<center>  \n",
    "<span data-markdown >Collorary: point-reflections square to $-1$! $$(ab)^2 = (ab)ab = -baab = - a^2 b^2 = -1$$</span>\n",
    "</center>\n",
    "</div>\n",
    "  </div>\n",
    "</div>\n",
    "\n",
    "\n",
    "\n",
    "\n",
    "\n",
    "\n"
   ]
  },
  {
   "cell_type": "markdown",
   "id": "f70e0174-c19b-425a-b4e3-d5e16907a960",
   "metadata": {
    "editable": true,
    "slideshow": {
     "slide_type": "subslide"
    },
    "tags": []
   },
   "source": [
    "## Formulating (a realization of) Geometry\n",
    "\n",
    "<ol>\n",
    "    <li>Reflections are involutary: $r^2 = \\pm 1$. <b>This goes for point-, line-, plane-reflections alike</b>.\n",
    "    <ul>\n",
    "        <li class=\"fragment\">Fundamental reflections square to $1$.</li>\n",
    "        <li class=\"fragment\">Othogonal fundamental reflections anti-commute: $ab = -ba$.</li>\n",
    "    </ul>\n",
    "    </li>\n",
    "    <li class=\"fragment\"><b>By definition</b> a Geometric (Clifford) Algebra $\\mathbb{R}_{pqr}$ of $n$ = $p+q+r$ dimensions has $n$ anti-commuting basis vectors $\\mathbf{e}_i$, of which $p$ are positive basis vectors $\\mathbf{e}_i^2 = 1$, $q$ are negative basis vectors $\\mathbf{e}_i^2 = -1$, and $r$ are null basis vectors $\\mathbf{e}_i^2 = 0$. \n",
    "    <ul>\n",
    "        <li class=\"fragment\">Basis vectors $\\mathbf{e}_i$ square to $\\{+1,-1,0\\}$</li>\n",
    "        <li class=\"fragment\">Basis vectors anti-commute: $\\mathbf{e}_i \\mathbf{e}_j=-\\mathbf{e}_j \\mathbf{e}_i,\\; \\text{where } i \\neq j. $</li>\n",
    "    </ul>\n",
    "    </li>\n",
    "</ol>\n"
   ]
  },
  {
   "cell_type": "markdown",
   "id": "6c99d6e4-f9a2-495b-af3a-24385595e0e0",
   "metadata": {
    "editable": true,
    "slideshow": {
     "slide_type": "fragment"
    },
    "tags": []
   },
   "source": [
    "The first statement is a subset of the second, and so (Euclidean) geometry can be modelled perfectly with a Geometric Algebra!\n",
    "> The grade-1 vectors of a GA are identified with hyperplanes, instead of with arrows pointing at points!"
   ]
  },
  {
   "cell_type": "markdown",
   "id": "166b5bcc-a43d-4c74-806b-09b4fdc90ae5",
   "metadata": {
    "editable": true,
    "slideshow": {
     "slide_type": "subslide"
    },
    "tags": []
   },
   "source": [
    "## Formulating (a realization of) Geometry\n",
    "\n",
    "The equation of a hyperplane in $\\mathbb{R}^{p,q}$ \n",
    "    $$ a_1 x_1 + a_2 x_2 + \\ldots + a_d x_d = -b$$\n",
    "with $d = p + q$\n",
    "can be represented as a vector $a$ in a Geometric Algebra of dimension $n=d+1$:\n",
    "<div style=\"display: flex; gap: 1em; align-items: flex-start;\">\n",
    "  <div data-markdown style=\"flex: 1;\">\n",
    "$$ a = a_1 \\mathbf{e}_1 + a_2 \\mathbf{e}_2 + \\ldots + a_d \\mathbf{e}_d + b \\mathbf{e}_0$$\n",
    "  </div>\n",
    "  <div style=\"flex: 1;\">\n",
    "    <pre>\n",
    ">>> alg = Algebra(p, q, r)\n",
    ">>> a = alg.vector(name='a')\n",
    "    </pre>\n",
    "  </div>\n",
    "</div>\n",
    "where $\\mathbf{e}_i$ are the basis vectors of the algebra.\n",
    "\n",
    "<span class=\"fragment\">\n",
    "Depending on the sign of $\\mathbf{e}_0$ we get different geometries:\n",
    "    <ul>\n",
    "        <li>$\\mathbf{e}_0^2 = 1$: Elliptic Projective Geometric Algebra (PGA) $\\mathbb{R}_{p+1,q}$ </li>\n",
    "        <li>$\\mathbf{e}_0^2 = -1$: Hyperbolic PGA $\\mathbb{R}_{p,q+1}$</li>\n",
    "        <li class=\"fragment r-frame\">$\\mathbf{e}_0^2 = 0$: <b>Euclidean</b> PGA $\\mathbb{R}_{p,q,1}$</li>\n",
    "    </ul>\n",
    "</span>\n",
    "\n",
    "<p class=\"fragment\">\n",
    "Intuition for $\\mathbf{e}_0^2 = 0$: it represents the (hyper)plane at infinity, in which you cannot reflect.\n",
    "</p>\n"
   ]
  },
  {
   "cell_type": "markdown",
   "id": "9e11bcc8-5283-4ac5-a445-8ab08f4e31c2",
   "metadata": {
    "editable": true,
    "slideshow": {
     "slide_type": "subslide"
    },
    "tags": []
   },
   "source": [
    "## Periodic Table of Geometry\n",
    "\n",
    "<iframe src=\"https://enkimute.github.io/ganja.js/examples/coffeeshop.html#j_NX50Tsxz&fullscreen\" width=\"100%\" height=\"400px\" frameBorder=\"0\" alt=\"iframe\"></iframe>\n",
    "<!-- <img src=\"https://s3.amazonaws.com/media-p.slid.es/uploads/1013487/images/9831082/pasted-from-clipboard.png\" alt=\"algebra_of_geometry\" /> -->\n"
   ]
  },
  {
   "cell_type": "markdown",
   "id": "2f76d0c6-f0e6-4391-8293-32aef8e558c4",
   "metadata": {
    "editable": true,
    "slideshow": {
     "slide_type": "slide"
    },
    "tags": []
   },
   "source": [
    "<h2 class=\"r-fit-text\">Geometrical Products</h2>"
   ]
  },
  {
   "cell_type": "markdown",
   "id": "56ea8e56-e679-44a2-bb4a-c4da40f45b51",
   "metadata": {
    "editable": true,
    "slideshow": {
     "slide_type": "subslide"
    },
    "tags": []
   },
   "source": [
    "## Visualizing PGA: The Meet / Outer Product\n",
    "\n",
    "<div style=\"display: flex; gap: 1em; align-items: flex-start;\">\n",
    "  <div data-markdown style=\"flex: 4;\">\n",
    "  \n",
    "  $$\n",
    "  \\small\n",
    "  \\begin{aligned}\n",
    "  &( a_1 \\mathbf e_{1} + b_1 \\mathbf e_{2} + c_1 \\mathbf e_{0} ) \\wedge (  a_2 \\mathbf e_{1} +  b_2 \\mathbf e_{2} +  c_2\\mathbf e_{0} ) \\\\\n",
    "  &= (c_1 a_2 -a_1 c_2 )\\mathbf e_{01} + (b_1 c_2 -c_1 b_2 )\\mathbf e_{20} + (a_1 b_2 -b_1 a_2 )\\mathbf e_{12}\n",
    "  \\end{aligned}\n",
    "  $$\n",
    "\n",
    "  </div>\n",
    "  <div style=\"flex: 6;\">\n",
    "    <pre>\n",
    ">>> u = pga2d.vector(e1='a1', e2='b1', e0='c1')\n",
    ">>> v = pga2d.vector(e1='a2', e2='b2', e0='c2')\n",
    ">>> u ^ v\n",
    "(-a1*c2 + a2*c1) 𝐞₀₁ + (-b1*c2 + b2*c1) 𝐞₀₂ + (a1*b2 - a2*b1) 𝐞₁₂\n",
    "    </pre>\n",
    "  </div>\n",
    "</div>\n",
    "\n",
    "<iframe class=\"fragment\" src=\"https://enkimute.github.io/ganja.js/examples/coffeeshop.html#-VM5TH2bGN&fullscreen\" width=\"100%\" height=\"300px\" frameBorder=\"0\" scrolling=\"no\"></iframe>\n",
    "\n",
    "<p class=\"fragment\">The meet of two lines is a point, the meet of two planes is a line, the meet of a line and a plane is a point...</p>\n",
    "\n",
    "<blockquote class=\"fragment\">\n",
    "    Mathematician: The <b>meet</b> identifies <b>orthogonal</b> reflections.<br>\n",
    "    Engineer: The <b>meet intersects</b> elements<br>\n",
    "</blockquote>"
   ]
  },
  {
   "cell_type": "markdown",
   "id": "b92f9566-0728-4ecc-b7cb-4d8368ed1c75",
   "metadata": {
    "editable": true,
    "slideshow": {
     "slide_type": "subslide"
    },
    "tags": []
   },
   "source": [
    "## Visualizing PGA: The Meet / Outer Product\n",
    "\n",
    "<div style=\"display: flex; gap: 1em; align-items: flex-start;\">\n",
    "  <div data-markdown style=\"flex: 4;\">\n",
    "  \n",
    "  $$\n",
    "  \\small\n",
    "  \\begin{aligned}\n",
    "  &( a_1 \\mathbf e_{1} + b_1 \\mathbf e_{2} + c_1 \\mathbf e_{0} ) \\wedge (  a_2 \\mathbf e_{1} +  b_2 \\mathbf e_{2} +  c_2\\mathbf e_{0} ) \\\\\n",
    "  &= (c_1 a_2 -a_1 c_2 )\\mathbf e_{01} + (b_1 c_2 -c_1 b_2 )\\mathbf e_{20} + (a_1 b_2 -b_1 a_2 )\\mathbf e_{12}\n",
    "  \\end{aligned}\n",
    "  $$\n",
    "\n",
    "  </div>\n",
    "  <div style=\"flex: 6;\">\n",
    "    <pre>\n",
    ">>> u = pga2d.vector(e1='a1', e2='b1', e0='c1')\n",
    ">>> v = pga2d.vector(e1='a2', e2='b2', e0='c2')\n",
    ">>> u ^ v\n",
    "(-a1*c2 + a2*c1) 𝐞₀₁ + (-b1*c2 + b2*c1) 𝐞₀₂ + (a1*b2 - a2*b1) 𝐞₁₂\n",
    "    </pre>\n",
    "  </div>\n",
    "</div>\n",
    "\n",
    "<blockquote>\n",
    "    Mathematician: The <b>meet</b> identifies <b>orthogonal</b> reflections.<br>\n",
    "    Engineer: The <b>meet intersects</b> elements<br>\n",
    "</blockquote>\n",
    "\n",
    "PGA is a homogenous space, meaning that elements are determined only up to normalization. \n",
    "For example, the point $u \\wedge v$ is the same as\n",
    "$$ \\small (c_1 a_2 -a_1 c_2 )\\mathbf e_{01} + (b_1 c_2 -c_1 b_2 )\\mathbf e_{20} + (a_1 b_2 -b_1 a_2 )\\mathbf e_{12} \\propto \\frac{(c_1 a_2 -a_1 c_2 )}{(a_1 b_2 -b_1 a_2 )}\\mathbf e_{01} + \\frac{(b_1 c_2 -c_1 b_2 )}{(a_1 b_2 -b_1 a_2 )}\\mathbf e_{20} + \\mathbf e_{12}$$\n",
    "\n",
    "<div data-markdown class=\"fragment\">\n",
    "In 2DPGA you can *directly* make a point at $(x, y)$ in one of two ways:\n",
    "    \n",
    "\n",
    "<div style=\"display: flex; gap: 1em; align-items: flex-start;\">\n",
    "  <div data-markdown style=\"flex: 4;\">\n",
    "  \n",
    "  $$\n",
    "  \\small\n",
    "  \\begin{aligned}\n",
    "  p &= y \\mathbf e_{01} + x \\mathbf e_{20} + \\mathbf e_{12} \\\\ \n",
    "  p &= \\star(x \\mathbf e_{1} + y \\mathbf e_{2} + \\mathbf e_{0})\n",
    "  \\end{aligned} \\leftrightarrow \\begin{pmatrix} x \\\\ y \\\\ 1 \\end{pmatrix}\n",
    "  $$\n",
    "\n",
    "  </div>\n",
    "  <div style=\"flex: 6;\">\n",
    "    <pre>\n",
    ">>> p = pga2d.vector(e01='y', e20='x', e12=1)\n",
    ">>> p = pga2d.vector(e1='x', e2='y', e0=1).dual()  # pseudovector\n",
    "    </pre>\n",
    "  </div>\n",
    "</div>\n",
    "</div>"
   ]
  },
  {
   "cell_type": "markdown",
   "id": "abd858cc-17c9-4e69-a9a1-8501b5a1ed37",
   "metadata": {
    "editable": true,
    "slideshow": {
     "slide_type": "subslide"
    },
    "tags": []
   },
   "source": [
    "## Visualizing PGA: The Geometric Product\n",
    "\n",
    "<div style=\"display: flex; gap: 1em; align-items: flex-start;\">\n",
    "  <div data-markdown style=\"flex: 4;\">\n",
    "  \n",
    "  $$\n",
    "  \\small\n",
    "  \\begin{aligned}\n",
    "  &( x_1 \\mathbf e_{20} + y_1 \\mathbf e_{01} + \\mathbf e_{12} )(  x_2 \\mathbf e_{20} +  y_2 \\mathbf e_{01} + \\mathbf e_{12} ) \\\\\n",
    "  &= -1 + ( x_1 -x_2 )\\mathbf e_{01} + ( y_1 -y_2 )\\mathbf e_{20}\n",
    "  \\end{aligned}\n",
    "  $$\n",
    "\n",
    "  </div>\n",
    "  <div style=\"flex: 6;\">\n",
    "    <pre>\n",
    ">>> u = pga2d.vector(e1='x1', e2='y1', e0=1).dual()\n",
    ">>> v = pga2d.vector(e1='x2', e2='y2', e0=1).dual()\n",
    ">>> u * v\n",
    "-1 + (x1 - x2) 𝐞₀₁ + (y1 - y2) 𝐞₀₂\n",
    "    </pre>\n",
    "  </div>\n",
    "</div>\n",
    "\n",
    "<iframe class=\"fragment\" src=\"https://enkimute.github.io/ganja.js/examples/coffeeshop.html#SMTFvYqr0S&fullscreen\" width=\"100%\" height=\"300px\" frameBorder=\"0\" scrolling=\"no\"></iframe>\n",
    "\n",
    "<p class=\"fragment\">The product between two parallel lines is a translation, the product of two intersecting lines is a rotation...</p>\n",
    "\n",
    "<blockquote class=\"fragment\">\n",
    "    Mathematician: The <b>product</b> eliminates <b>identical</b> reflections<br>\n",
    "    Engineer: The <b>product composes</b> elements into transformations.<br>\n",
    "</blockquote>\n"
   ]
  },
  {
   "cell_type": "markdown",
   "id": "61d75208-e856-4165-8b3a-cc5c2b089d96",
   "metadata": {
    "editable": true,
    "slideshow": {
     "slide_type": "subslide"
    },
    "tags": []
   },
   "source": [
    "## Visualizing PGA: The Inner Product\n",
    "\n",
    "<div style=\"display: flex; gap: 1em; align-items: flex-start;\">\n",
    "  <div data-markdown style=\"flex: 4;\">\n",
    "  \n",
    "  $$\n",
    "  \\small\n",
    "  \\begin{aligned}\n",
    "  &( x \\mathbf e_{20} + y \\mathbf e_{01} + \\mathbf e_{12} )\\cdot(  a \\mathbf e_{1} +  b \\mathbf e_{2} +  c \\mathbf e_{0} ) \\\\\n",
    "  &=  b  \\mathbf e_1 -  a  \\mathbf e_2 + (y a  - x b ) \\mathbf e_0\n",
    "  \\end{aligned}\n",
    "  $$\n",
    "\n",
    "  </div>\n",
    "  <div style=\"flex: 6;\">\n",
    "    <pre>\n",
    ">>> u = pga2d.vector(e1='x', e2='y', e0=1).dual()\n",
    ">>> v = pga2d.vector(e1='a', e2='b', e0='c')\n",
    ">>> u|v\n",
    "(a*y - b*x) 𝐞₀ + b 𝐞₁ + (-a) 𝐞₂\n",
    "    </pre>\n",
    "  </div>\n",
    "</div>\n",
    "\n",
    "<iframe class=\"fragment\" src=\"https://enkimute.github.io/ganja.js/examples/coffeeshop.html#0dR0JvhQta&fullscreen&fullscreen\" width=\"100%\" height=\"300px\" frameBorder=\"0\" scrolling=\"no\"></iframe>\n",
    "\n",
    "<blockquote class=\"fragment\">\n",
    "    Mathematician: The <b>inner product</b> retains <b>orthogonal</b> reflections<br>\n",
    "    Engineer: The <b>inner product</b> finds the orthogonal part.\n",
    "</blockquote>"
   ]
  },
  {
   "cell_type": "markdown",
   "id": "f4e03de4-c015-42f1-bf8f-c843563c0f0f",
   "metadata": {
    "editable": true,
    "slideshow": {
     "slide_type": "subslide"
    },
    "tags": []
   },
   "source": [
    "## Visualizing PGA: The Join / Regressive Product\n",
    "\n",
    "<div style=\"display: flex; gap: 1em; align-items: flex-start;\">\n",
    "  <div data-markdown style=\"flex: 4;\">\n",
    "  \n",
    "  $$\n",
    "  \\small\n",
    "  \\begin{aligned}\n",
    "  &( x_1 \\mathbf e_{20} + y_1 \\mathbf e_{01} + \\mathbf e_{12} )\\vee (  x_2 \\mathbf e_{20} +  y_2 \\mathbf e_{01} + \\mathbf e_{12} ) \\\\\n",
    "  &= (x_1 y_2 -y_1 x_2 )\\mathbf e_0 + (y_1 - y_2 )\\mathbf e_1 + ( x_2 -x_1 )\\mathbf e_2\n",
    "  \\end{aligned}\n",
    "  $$\n",
    "\n",
    "  </div>\n",
    "  <div style=\"flex: 6;\">\n",
    "    <pre>\n",
    ">>> u = pga2d.vector(e1='x1', e2='y1', e0=1).dual()\n",
    ">>> v = pga2d.vector(e1='x2', e2='y2', e0=1).dual()\n",
    ">>> u&v\n",
    "(x1*y2 - x2*y1) 𝐞₀ + (y1 - y2) 𝐞₁ + (-x1 + x2) 𝐞₂\n",
    "    </pre>\n",
    "  </div>\n",
    "</div>\n",
    "\n",
    "\n",
    "<iframe class=\"fragment\" src=\"https://enkimute.github.io/ganja.js/examples/coffeeshop.html#IUSJJDkYKS&fullscreen\" width=\"100%\" height=\"300px\" frameBorder=\"0\" scrolling=\"no\"></iframe>\n",
    "\n",
    "<p class=\"fragment\">The join of two points is a line, the join of a line and a point is a plane...</p>\n",
    "\n",
    "<blockquote class=\"fragment\">\n",
    "    Mathematician: The <b>join</b> retains <b>identical</b> reflections<br>\n",
    "    Engineer: The <b>join</b> joins elements together.\n",
    "</blockquote>"
   ]
  },
  {
   "cell_type": "markdown",
   "id": "10d8ed96-4a26-49d1-8be7-7a1277c1d867",
   "metadata": {
    "editable": true,
    "slideshow": {
     "slide_type": "subslide"
    },
    "tags": []
   },
   "source": [
    "## Visualizing PGA: Projection\n",
    "\n",
    "To project a geometric element $a$ onto an element $b$, the formula is **always**\n",
    "\n",
    "<div style=\"display: flex; gap: 1em; align-items: flex-start;\">\n",
    "  <div data-markdown style=\"flex: 4;\">\n",
    "  \n",
    "  $$\n",
    "  \\begin{aligned}\n",
    "  (a \\cdot b) b^{-1}\n",
    "  \\end{aligned}\n",
    "  $$\n",
    "\n",
    "  </div>\n",
    "  <div style=\"flex: 6;\">\n",
    "    <pre>\n",
    ">>> a = pga2d.vector(e1='x1', e2='y1', e0=1).dual()\n",
    ">>> b = pga2d.vector(e1='a', e2='b', e0='c')\n",
    ">>> b @ a\n",
    "(-a*x1 - b*y1) 𝐞₀ + a 𝐞₁ + b 𝐞₂\n",
    "    </pre>\n",
    "  </div>\n",
    "</div>"
   ]
  },
  {
   "cell_type": "code",
   "execution_count": 9,
   "id": "01497a35-2757-43bb-aed3-c05e427d223e",
   "metadata": {
    "editable": true,
    "slideshow": {
     "slide_type": "fragment"
    },
    "tags": []
   },
   "outputs": [
    {
     "data": {
      "application/vnd.jupyter.widget-view+json": {
       "model_id": "0a2c66abb03b4f4e947417634a9a86f3",
       "version_major": 2,
       "version_minor": 0
      },
      "text/plain": [
       "VBox(children=(FloatSlider(value=0.0, max=1.0, min=-1.0, readout_format='.1f'), Dropdown(description='Display:…"
      ]
     },
     "execution_count": 9,
     "metadata": {},
     "output_type": "execute_result"
    }
   ],
   "source": [
    "from animations.proj_graph import proj_slider, proj_selector\n",
    "\n",
    "proj_graph = alg3d.graph(\n",
    "    proj_graph_func,\n",
    "    **animated_options\n",
    ")\n",
    "ipy.VBox([proj_slider, proj_selector, proj_graph])"
   ]
  },
  {
   "cell_type": "markdown",
   "id": "830a23f6-d970-4a05-94db-c4fe0e07c65e",
   "metadata": {
    "editable": true,
    "slideshow": {
     "slide_type": "subslide"
    },
    "tags": []
   },
   "source": [
    "## Visualizing PGA: Reflection of a Point\n",
    "\n",
    "To transform an element $a$ by an element $b$, the formula is **always**\n",
    "<div style=\"display: flex; gap: 1em; align-items: flex-start;\">\n",
    "  <div data-markdown style=\"flex: 4;\">\n",
    "  \n",
    "  $$\n",
    "  \\begin{aligned}\n",
    "  b a b^{-1}\n",
    "  \\end{aligned}\n",
    "  $$\n",
    "\n",
    "  </div>\n",
    "  <div style=\"flex: 6;\">\n",
    "    <pre>\n",
    ">>> a = pga2d.vector(e1='x1', e2='y1', e0=1).dual()\n",
    ">>> b = pga2d.vector(e1='a', e2='b', e0='c')\n",
    ">>> b >> a\n",
    "    </pre>\n",
    "  </div>\n",
    "</div>\n",
    "\n",
    "<p class=\"fragment\">\n",
    "Let's reflect the point $bc$ in the line $a$, in which case this formula becomes $a (bc) a$.\n",
    "</p>\n",
    "<iframe class=\"fragment\" src=\"https://enkimute.github.io/ganja.js/examples/coffeeshop.html#a-wuqLRRtq&fullscreen\" width=\"100%\" height=\"300px\" frameBorder=\"0\" scrolling=\"no\"></iframe>\n",
    "\n"
   ]
  },
  {
   "cell_type": "markdown",
   "id": "e683762a-5798-4052-b463-cb80c558b2c4",
   "metadata": {
    "editable": true,
    "slideshow": {
     "slide_type": "subslide"
    },
    "tags": []
   },
   "source": [
    "## Visualizing PGA: Square Root of a Transformation\n",
    "\n",
    "The transformation from $a$ to $b$ is **always**\n",
    "<div style=\"display: flex; gap: 1em; align-items: flex-start;\">\n",
    "  <div data-markdown style=\"flex: 4;\">\n",
    "  \n",
    "  $$\n",
    "  \\begin{aligned}\n",
    "  \\sqrt{b a^{-1}}\n",
    "  \\end{aligned}\n",
    "  $$\n",
    "\n",
    "  </div>\n",
    "  <div style=\"flex: 6;\">\n",
    "    <pre>\n",
    ">>> b = pga2d.vector(name='b')\n",
    ">>> a = pga2d.vector(name='a')\n",
    ">>> (b/a).sqrt()\n",
    "    </pre>\n",
    "  </div>\n",
    "</div>\n",
    "\n"
   ]
  },
  {
   "cell_type": "code",
   "execution_count": 10,
   "id": "a123d600-dd67-4e2d-a3d8-b3da692b76e2",
   "metadata": {
    "editable": true,
    "slideshow": {
     "slide_type": ""
    },
    "tags": []
   },
   "outputs": [
    {
     "data": {
      "application/vnd.jupyter.widget-view+json": {
       "model_id": "ff711c1b9b634516bdffdd80514c7ff8",
       "version_major": 2,
       "version_minor": 1
      },
      "text/plain": [
       "GraphWidget(cayley=[['1', 'e0', 'e1', 'e2', 'e01', 'e02', 'e12', 'e012'], ['e0', '0', 'e01', 'e02', '0', '0', …"
      ]
     },
     "execution_count": 10,
     "metadata": {},
     "output_type": "execute_result"
    }
   ],
   "source": [
    "from animations import sqrt_graph_func_0, sqrt_graph_func_1, sqrt_graph_func_2, sqrt_graph_func_3\n",
    "\n",
    "def sqrt_graph_func():\n",
    "    if fragment_widget.fragment <= 0:\n",
    "        return sqrt_graph_func_0()\n",
    "    if fragment_widget.fragment == 1:\n",
    "        return sqrt_graph_func_1()\n",
    "    elif fragment_widget.fragment in (2, 3):\n",
    "        return sqrt_graph_func_2()\n",
    "    return sqrt_graph_func_3()\n",
    "\n",
    "sqrt_graph = alg2d.graph(\n",
    "    sqrt_graph_func,\n",
    "    **animated_options, height='300px',\n",
    ")\n",
    "\n",
    "sqrt_graph"
   ]
  },
  {
   "cell_type": "markdown",
   "id": "7146c250-3288-49e8-b530-5d238e1942df",
   "metadata": {},
   "source": [
    "<span data-markdown class=\"r-stack\">\n",
    "    <span data-markdown class=\"fragment current-visible\" data-fragment-index=\"0\">To transform $a$ into $b$, try $ R = b a^{-1} $</span>\n",
    "    <span data-markdown class=\"fragment current-visible\" data-fragment-index=\"1\">But the bireflection $ R = b a^{-1}$ transforms over twice the angle 😢, $ R a R^{-1} $</span>\n",
    "    <span data-markdown class=\"fragment current-visible\" data-fragment-index=\"2\">The solution is to use the bisector $ a + b $ instead.</span>\n",
    "    <span data-markdown class=\"fragment current-visible\" data-fragment-index=\"3\">$ \\sqrt{R} \\propto (a + b) a^{-1} = a a^{-1} + b a^{-1} = 1 + R $ </span>\n",
    "    <span data-markdown class=\"fragment current-visible\" data-fragment-index=\"4\">The square root is always $ \\sqrt{R} = \\overline{1 + R} $!</span>\n",
    "    <span data-markdown class=\"fragment\" data-fragment-index=\"5\">In <code>kingdon</code> the square root is easily computed as <code>R.sqrt()</code> or <code>(1 + R).normalized()</code></span>\n",
    "</span>"
   ]
  },
  {
   "cell_type": "markdown",
   "id": "ddc3a855-4c87-44fa-99ae-9ba4381e7c2c",
   "metadata": {
    "editable": true,
    "slideshow": {
     "slide_type": "subslide"
    },
    "tags": []
   },
   "source": [
    "## VGA\n",
    "\n",
    "The reflection mindset also works in VGA $\\mathbb{R}_{p, q}$, where we only have **reflections through the origin**.\n",
    "\n",
    "<iframe src=\"https://enkimute.github.io/ganja.js/examples/coffeeshop.html#pK6IXdQUyy&fullscreen\" width=\"100%\" height=\"400px\" frameBorder=\"0\" alt=\"iframe\"></iframe>\n",
    "<!-- <img src=\"https://s3.amazonaws.com/media-p.slid.es/uploads/1013487/images/9831082/pasted-from-clipboard.png\" alt=\"algebra_of_geometry\" /> -->\n"
   ]
  },
  {
   "cell_type": "markdown",
   "id": "b84303f6-2078-4601-b39d-80daace86a2a",
   "metadata": {
    "editable": true,
    "slideshow": {
     "slide_type": "subslide"
    },
    "tags": []
   },
   "source": [
    "## CGA\n",
    "\n",
    "The reflection mindset also works in CGA $\\mathbb{R}_{d+1, 1}$, where plane reflections become **sphere inversions**.\n",
    "In PGA $\\mathbb{R}_{d, 0, 1}$ two points join in a line, e.g. $\\ell = p_1 \\vee p_2$. In CGA $\\mathbb{R}_{d+1, 1}$ three points join into a circle, e.g. $c = p_1 \\vee p_2 \\vee p_3$.\n",
    "\n",
    "<iframe class=\"fragment\" src=\"https://enkimute.github.io/ganja.js/examples/coffeeshop.html#0jFtBdv_Wc&fullscreen\" width=\"100%\" height=\"300px\" frameBorder=\"0\" scrolling=\"no\"></iframe>\n",
    "\n",
    "<blockquote class=\"fragment\">\n",
    "    The reflection mindset does not just work for \"flat\" things.\n",
    "</blockquote>"
   ]
  },
  {
   "cell_type": "markdown",
   "id": "df9de7e5-f33e-4709-80bb-eaae5c0e3bd6",
   "metadata": {
    "editable": true,
    "slideshow": {
     "slide_type": "slide"
    },
    "tags": []
   },
   "source": [
    "# Reflections all the way down\n",
    "\n",
    "Geometry really is reflections all the way down! \n",
    "\n",
    "> Elements = Transformations\n",
    "\n",
    "> **Conjugation** or **group action** is just composition of reflections! $$aba^{-1} = (ab) a^{-1}$$\n",
    "\n",
    "> Geometric gauges allow you to reason about geometry\n",
    "\n",
    "Great, but why am I telling you all this? Let's put this knowledge to use."
   ]
  },
  {
   "cell_type": "markdown",
   "id": "fec5e724-42af-480f-935b-5f0e3ce177cb",
   "metadata": {
    "editable": true,
    "slideshow": {
     "slide_type": "subslide"
    },
    "tags": []
   },
   "source": [
    "## Dimension Agnostic Thinking\n",
    "\n",
    "Let's put our knowledge to use: consider the paraxial approximation of the thin lens equation.\n",
    "\n",
    "$$ \\boxed{ d_i = (\\frac{1}{f} - \\frac{1}{d_0})^{-1} \\qquad h_i = - \\frac{d_i}{d_0}h_0 } $$\n",
    "\n",
    "<img class=\"r-frame\" src=\"https://media.slid.es/uploads/1013487/images/9830018/pasted-from-clipboard.png\">"
   ]
  },
  {
   "cell_type": "markdown",
   "id": "ce1c7b7e-e2ca-4b38-8fdd-459fefb14a03",
   "metadata": {
    "editable": true,
    "slideshow": {
     "slide_type": "subslide"
    },
    "tags": []
   },
   "source": [
    "## Dimension Agnostic Thinking\n",
    "\n",
    "Let's put our knowledge to use: consider the paraxial approximation of the thin lens equation.\n",
    "\n",
    "$$ \\boxed{ d_i = (\\frac{1}{f} - \\frac{1}{d_0})^{-1} \\qquad h_i = - \\frac{d_i}{d_0}h_0 } $$\n"
   ]
  },
  {
   "cell_type": "code",
   "execution_count": 11,
   "id": "28a0f05d-134d-4dba-ac6d-8dd09f2b7f0c",
   "metadata": {
    "editable": true,
    "slideshow": {
     "slide_type": ""
    },
    "tags": []
   },
   "outputs": [
    {
     "data": {
      "application/vnd.jupyter.widget-view+json": {
       "model_id": "40d9aa7927e54a89822269fd794d0622",
       "version_major": 2,
       "version_minor": 1
      },
      "text/plain": [
       "GraphWidget(cayley=[['1', 'e0', 'e1', 'e2', 'e01', 'e02', 'e12', 'e012'], ['e0', '0', 'e01', 'e02', '0', '0', …"
      ]
     },
     "execution_count": 11,
     "metadata": {},
     "output_type": "execute_result"
    }
   ],
   "source": [
    "def lens_graph_preintro_func():\n",
    "    if fragment_widget.fragment == -1:\n",
    "        return lens_graph_intro_func_0()\n",
    "    if fragment_widget.fragment == 0:\n",
    "        return lens_graph_intro_func_01()\n",
    "    elif fragment_widget.fragment == 1:\n",
    "        return lens_graph_intro_func_02()\n",
    "    elif fragment_widget.fragment == 2:\n",
    "        return lens_graph_intro_func_03()\n",
    "    return lens_graph_intro_func_04()\n",
    "\n",
    "alg2d.graph(\n",
    "    lens_graph_preintro_func,\n",
    "    **animated_options, height='300px', camera=alg2d.evenmv(e=1, e12=0.03)\n",
    ")"
   ]
  },
  {
   "cell_type": "markdown",
   "id": "3f3bbc8a-6277-431d-8ef6-f5b44f609215",
   "metadata": {
    "editable": true,
    "slideshow": {
     "slide_type": ""
    },
    "tags": []
   },
   "source": [
    "<span class=\"r-stack\">\n",
    "    <span data-markdown class=\"fragment current-visible\" data-fragment-index=\"1\"></span>\n",
    "    <span data-markdown class=\"fragment current-visible\" data-fragment-index=\"2\"></span>\n",
    "    <span data-markdown class=\"fragment current-visible\" data-fragment-index=\"3\"></span>\n",
    "    <span data-markdown class=\"fragment current-visible\" data-fragment-index=\"4\">$$\\hat{a} = \\overline{\\vec{c} - \\vec{f}}, \\qquad \\vec{b} = \\vec{c} - \\vec{w}$$</span>\n",
    "    <span data-markdown class=\"fragment\" data-fragment-index=\"5\">$$\n",
    "        \\begin{aligned}\\hat{a} &= \\overline{\\vec{c} - \\vec{f}}, \\qquad \\vec{b} = \\vec{c} - \\vec{w} \\\\\n",
    "        d_0 &= \\hat{a} \\cdot \\vec{b} , \\qquad h_0 = \\hat{\\ell} \\cdot \\vec{b}\n",
    "        \\end{aligned}\n",
    "        $$</span>\n",
    "</span>"
   ]
  },
  {
   "cell_type": "markdown",
   "id": "42d0049e-a152-4443-9e28-fc44a63ce91a",
   "metadata": {
    "editable": true,
    "slideshow": {
     "slide_type": "subslide"
    },
    "tags": []
   },
   "source": [
    "## Dimension Agnostic Thinking\n",
    "\n",
    "- $a b$: The <b>product composes</b> elements into transformations.\n",
    "- $a \\cdot b$: The <b>inner product</b> finds the orthogonal part.\n",
    "- $a \\vee b$: The <b>join</b> joins elements together.\n",
    "- $a \\wedge b$: The <b>meet intersects</b> elements.\n",
    "\n",
    "<span class=\"r-stack\">\n",
    "    <span data-markdown class=\"fragment current-visible\" data-fragment-index=\"1\">Input</span>\n",
    "    <span data-markdown class=\"fragment current-visible\" data-fragment-index=\"2\">$$ w \\vee c $$</span>\n",
    "    <span data-markdown class=\"fragment current-visible\" data-fragment-index=\"3\">$$ w \\vee c \\qquad w \\vee f $$</span>\n",
    "    <span data-markdown class=\"fragment current-visible\" data-fragment-index=\"4\">$$ w \\vee c \\qquad (w \\vee f) \\wedge \\ell $$</span>\n",
    "    <span data-markdown class=\"fragment current-visible\" data-fragment-index=\"5\">$$ w \\vee c \\qquad ((w \\vee f) \\wedge \\ell) \\cdot \\ell $$</span>\n",
    "    <span data-markdown class=\"fragment\" data-fragment-index=\"6\">$$ (w \\vee c) \\wedge [((w \\vee f) \\wedge \\ell) \\cdot \\ell] $$</span>\n",
    "</span>"
   ]
  },
  {
   "cell_type": "code",
   "execution_count": 12,
   "id": "95fdf7ad-4243-4e76-9478-b9d55c5b1665",
   "metadata": {},
   "outputs": [
    {
     "data": {
      "application/vnd.jupyter.widget-view+json": {
       "model_id": "6a5fe0ecbad74540b684e6b9789bec8a",
       "version_major": 2,
       "version_minor": 1
      },
      "text/plain": [
       "GraphWidget(cayley=[['1', 'e0', 'e1', 'e2', 'e01', 'e02', 'e12', 'e012'], ['e0', '0', 'e01', 'e02', '0', '0', …"
      ]
     },
     "execution_count": 12,
     "metadata": {},
     "output_type": "execute_result"
    }
   ],
   "source": [
    "def lens_graph_intro_func():\n",
    "    if fragment_widget.fragment == -1:\n",
    "        return lens_graph_intro_func_0()\n",
    "    if fragment_widget.fragment == 0:\n",
    "        return lens_graph_intro_func_1()\n",
    "    elif fragment_widget.fragment == 1:\n",
    "        return lens_graph_intro_func_2()\n",
    "    elif fragment_widget.fragment == 2:\n",
    "        return lens_graph_intro_func_3()\n",
    "    elif fragment_widget.fragment == 3:\n",
    "        return lens_graph_intro_func_4()\n",
    "    elif fragment_widget.fragment == 4:\n",
    "        return lens_graph_intro_func_5()\n",
    "    return lens_graph_intro_func_6()\n",
    "\n",
    "alg2d.graph(\n",
    "    lens_graph_intro_func,\n",
    "    **animated_options\n",
    ")"
   ]
  },
  {
   "cell_type": "markdown",
   "id": "31750fe7-3583-4bce-abbe-e529874a0c09",
   "metadata": {
    "editable": true,
    "slideshow": {
     "slide_type": "subslide"
    },
    "tags": []
   },
   "source": [
    "## Dimension Agnostic Thinking\n",
    "\n",
    "<span class=\"r-stack\">\n",
    "<h4 class=\"fragment current-visible\" data-fragment-index=\"1\">Thin Lens (Paraxial Approx.): Imaging a point in 2D</h3>\n",
    "<h4 class=\"fragment current-visible\" data-fragment-index=\"2\">Thin Lens (Paraxial Approx.): Imaging a point in 3D Spherical lens</h3>\n",
    "<h4 class=\"fragment current-visible\" data-fragment-index=\"3\">Thin Lens (Paraxial Approx.): Imaging a line  in 3D Spherical lens</h3>\n",
    "<h4 class=\"fragment\" data-fragment-index=\"4\">Thin Lens (Paraxial Approx.): Imaging a point in 3D Cylindrical lens</h3>\n",
    "</span>"
   ]
  },
  {
   "cell_type": "code",
   "execution_count": 13,
   "id": "63ade504-296d-41ce-b099-3dc9963c595f",
   "metadata": {
    "editable": true,
    "slideshow": {
     "slide_type": ""
    },
    "tags": []
   },
   "outputs": [
    {
     "data": {
      "application/vnd.jupyter.widget-view+json": {
       "model_id": "df5dd7d6b3ca40259e8f738c0b4f962e",
       "version_major": 2,
       "version_minor": 0
      },
      "text/plain": [
       "GridspecLayout(children=(GraphWidget(cayley=[['1', 'e0', 'e1', 'e2', 'e3', 'e01', 'e02', 'e03', 'e12', 'e13', …"
      ]
     },
     "execution_count": 13,
     "metadata": {},
     "output_type": "execute_result"
    }
   ],
   "source": [
    "lens_code = ipy.HTML(\"\"\"\n",
    "<link rel=\"stylesheet\" href=\"https://github.com/hakimel/reveal.js/tree/master/plugin/highlight/monokai.css\" />\n",
    "<script src=\"https://github.com/hakimel/reveal.js/tree/master/plugin/highlight/highlight.js\"></script>\n",
    "<script>\n",
    "  Reveal.initialize({\n",
    "    plugins: [RevealHighlight],\n",
    "  });\n",
    "</script>\n",
    "\n",
    "<div class=\"r-stack\">\n",
    "<pre class=\"fragment current-visible\" data-fragment-index=\"0\"><code data-trim data-noescape>\n",
    "d = 2\n",
    "alg = Algebra(d, 0, 1)\n",
    "globals().update(alg.blades)\n",
    "\n",
    "# Properties of the lens\n",
    "lens = e1\n",
    "center_point = e0.dual()\n",
    "focal = (e0 + -0.8*e1).dual()\n",
    "center = e0.dual()\n",
    "\n",
    "# object to image\n",
    "world = (e0 - 2*e1 - e2).dual()\n",
    "\n",
    "wc = world & center\n",
    "wf = world & focal\n",
    "wfl = wf ^ lens\n",
    "wfl_dot_l = wfl | (center_point & wfl)\n",
    "img = wfl_dot_l ^ wc\n",
    "</code></pre>\n",
    "\n",
    "<pre class=\"fragment current-visible\" data-fragment-index=\"1\"><code data-trim data-noescape data-line-numbers=\"7\">\n",
    "<b>d = 3</b>\n",
    "alg = Algebra(d, 0, 1)\n",
    "globals().update(alg.blades)\n",
    "\n",
    "# Properties of the lens\n",
    "lens = e1\n",
    "center_point = e0.dual()\n",
    "focal = (e0 + -0.8*e1).dual()\n",
    "center = e0.dual()\n",
    "\n",
    "# object to image\n",
    "world = (e0 - 2*e1 - e2).dual()\n",
    "\n",
    "wc = world & center\n",
    "wf = world & focal\n",
    "wfl = wf ^ lens\n",
    "wfl_dot_l = wfl | (center_point & wfl)\n",
    "img = wfl_dot_l ^ wc\n",
    "</code></pre>\n",
    "\n",
    "<pre class=\"fragment current-visible\" data-fragment-index=\"2\"><code data-trim data-noescape data-line-numbers=\"7\">\n",
    "d = 3\n",
    "alg = Algebra(d, 0, 1)\n",
    "globals().update(alg.blades)\n",
    "\n",
    "# Properties of the lens\n",
    "lens = e1\n",
    "center_point = e0.dual()\n",
    "focal = (e0 + -0.8*e1).dual()\n",
    "center = e0.dual()\n",
    "\n",
    "# object to image\n",
    "<b>world = (e12 + 2*e02 - e01).dual()</b>\n",
    "\n",
    "wc = world & center\n",
    "wf = world & focal\n",
    "wfl = wf ^ lens\n",
    "wfl_dot_l = wfl | (center_point & wfl)\n",
    "img = wfl_dot_l ^ wc\n",
    "</code></pre>\n",
    "\n",
    "</code></pre>\n",
    "<pre class=\"fragment\" data-fragment-index=\"3\"><code data-trim data-noescape data-line-numbers=\"7\">\n",
    "d = 3\n",
    "alg = Algebra(d, 0, 1)\n",
    "globals().update(alg.blades)\n",
    "\n",
    "# Properties of the lens\n",
    "lens = e1\n",
    "center_point = e0.dual()\n",
    "<b>focal = e12 + 0.8*e02\n",
    "center = e12</b>\n",
    "\n",
    "# object to image\n",
    "world = (e0 - 2*e1 - e2).dual()\n",
    "\n",
    "wc = world & center\n",
    "wf = world & focal\n",
    "wfl = wf ^ lens\n",
    "wfl_dot_l = wfl | (center_point & wfl)\n",
    "img = wfl_dot_l ^ wc\n",
    "</code></pre>\n",
    "</div>\n",
    "\n",
    "<div style=\"display: flex; text-justify: auto;\">\n",
    "    <p style=\"vertical-align: middle;\">These animations run live! Scan to convince yourself!</p>\n",
    "    <img src=\"https://github.com/tBuLi/willing-kingdon-clifford/blob/main/content/img/ex_3dpga_thinlens_qr.png?raw=true\"/>\n",
    "</div>\n",
    "\"\"\"\n",
    ")\n",
    "\n",
    "def lens_graph_func():\n",
    "    if fragment_widget.fragment == 1:\n",
    "        return lens_graph_func_1()\n",
    "    if fragment_widget.fragment == 2:\n",
    "        return lens_graph_func_2()\n",
    "    elif fragment_widget.fragment == 3:\n",
    "        return lens_graph_func_3()\n",
    "    return lens_graph_func_0()\n",
    "\n",
    "lens_graph = alg3d.graph(\n",
    "    lens_graph_func,\n",
    "    **animated_options,\n",
    "    camera=alg3d.evenmv(e=1, e13=0.1, e23=-0.1).normalized(),\n",
    "    height='400px',\n",
    "    width='600px'\n",
    ")\n",
    "grid_lens = ipy.GridspecLayout(1, 2)\n",
    "grid_lens[0, 0] = lens_graph\n",
    "grid_lens[0, 1] = lens_code\n",
    "grid_lens"
   ]
  },
  {
   "cell_type": "markdown",
   "id": "9350445d-f3c3-4cd1-a315-c0e0fa062e72",
   "metadata": {
    "editable": true,
    "slideshow": {
     "slide_type": "slide"
    },
    "tags": []
   },
   "source": [
    "## The Power of Geometric Algebra in Computation?\n",
    "\n",
    "- Write dimension agnostic code*\n",
    "- Binary operators with clear geometric meaning allow for consise expression of geometrical concepts\n",
    "  - All the animations shown during this talk are just a few *mathematical expressions* big\n",
    "- The algebra does all the bookkeeping for you: focus on the geometry of the algorithm, not the implementation details\n",
    "- Gut your codebase\n",
    "- **Discover completely new algorithms**, such as the thin lens example"
   ]
  },
  {
   "cell_type": "markdown",
   "id": "add374c0-9b3d-4750-98f5-1c5f984afbcc",
   "metadata": {
    "editable": true,
    "slideshow": {
     "slide_type": "slide"
    },
    "tags": []
   },
   "source": [
    "<h2 class=\"r-fit-text\">Part 2</h2>"
   ]
  },
  {
   "cell_type": "markdown",
   "id": "cb90d6fb-95ae-4fec-a3d9-7bf57737f268",
   "metadata": {
    "editable": true,
    "slideshow": {
     "slide_type": "subslide"
    },
    "tags": []
   },
   "source": [
    "## `kingdon` Design Philosophy\n",
    "\n",
    "`kingdon` was developed with the following goals in mind:\n",
    "- Easy to use API.\n",
    "- Rapid prototyping.\n",
    "  - Visualization: `ganja.js` enabled graphics in jupyter notebooks.\n",
    "- Input agnostic: symbols, floats, tensors, etc.\n",
    "  - If it supports $+, -, *$ and optionally $/$ and $\\sqrt{}$ then it is a valid coefficient for a multivector.\n",
    "- Performance: symbolic code generation and just-in-time compilation.\n",
    "\n",
    "> **Add GA to any workflow**\n",
    "\n",
    "(This whole talk was a jupyter notebook with kingdon graphics.)\n"
   ]
  },
  {
   "cell_type": "markdown",
   "id": "dadbed19-f3c2-4c6a-81fa-667078a6e9cd",
   "metadata": {
    "editable": true,
    "slideshow": {
     "slide_type": "subslide"
    },
    "tags": []
   },
   "source": [
    "# Workshop\n",
    "\n",
    "<img src=\"img/kingdon_instructions.png\" alt=\"algebra_of_geometry\" />\n",
    "\n",
    "- Go to [https://github.com/tBuLi/kingdon](https://github.com/tBuLi/kingdon) and follow the link to the Teahouse.\n",
    "- (Optional) Leave a 🌟 on github if you want to help make `kingdon` more popular\n",
    "- Start with exercise \"Spider 1\""
   ]
  },
  {
   "cell_type": "markdown",
   "id": "35ad486399628a73",
   "metadata": {
    "editable": true,
    "slideshow": {
     "slide_type": "subslide"
    },
    "tags": []
   },
   "source": [
    "<section>\n",
    "  <table style=\"width: 100%; table-layout: fixed; border-collapse: collapse;\">\n",
    "    <tr>\n",
    "      <td style=\"padding: 10px; vertical-align: top;\">\n",
    "        <h4>Product</h4>\n",
    "        Compose the elements $a$ and $b$.\n",
    "        <center>$ab \\quad$<code>a * b</code></center>\n",
    "        <iframe src=\"https://enkimute.github.io/ganja.js/examples/coffeeshop.html#SMTFvYqr0S&fullscreen\" width=\"100%\" height=\"200\" style=\"border: none;\"></iframe>\n",
    "      </td>\n",
    "      <td style=\"padding: 10px; vertical-align: top;\">\n",
    "        <h4>Inner product</h4>\n",
    "        Orthogonal part of $a$ and $b$.\n",
    "        <center>$a \\cdot b \\quad$<code>a | b</code></center>\n",
    "        <iframe src=\"https://enkimute.github.io/ganja.js/examples/coffeeshop.html#YFk_L6Ikn3&fullscreen\" width=\"100%\" height=\"200\" style=\"border: none;\"></iframe>\n",
    "      </td>\n",
    "      <td style=\"padding: 10px; vertical-align: top;\">\n",
    "        <h4>Group Action</h4>\n",
    "        Apply $b$ to $a$ as a transformation.\n",
    "        <center>$bab^{-1} \\quad$<code>a >> b</code></center>\n",
    "        <iframe src=\"https://enkimute.github.io/ganja.js/examples/coffeeshop.html#op9N4wLE8L&fullscreen\" width=\"100%\" height=\"200\" style=\"border: none;\"></iframe>\n",
    "      </td>\n",
    "    </tr>\n",
    "    <tr>\n",
    "      <td style=\"padding: 10px; vertical-align: top;\">\n",
    "        <h4>Meet / Outer Product</h4>\n",
    "        Intersect the elements $a$ and $b$.\n",
    "        <center>$a \\wedge b \\quad$<code>a ^ b</code></center>\n",
    "        <iframe src=\"https://enkimute.github.io/ganja.js/examples/coffeeshop.html#-VM5TH2bGN&fullscreen\" width=\"100%\" height=\"200\" style=\"border: none;\"></iframe>\n",
    "      </td>\n",
    "      <td style=\"padding: 10px; vertical-align: top;\">\n",
    "        <h4>Join / Regressive Product</h4>\n",
    "        Join the elements $a$ and $b$.\n",
    "        <center>$a \\vee b \\quad$<code>a & b</code></center>\n",
    "        <iframe src=\"https://enkimute.github.io/ganja.js/examples/coffeeshop.html#KZV_u3MW_v&fullscreen\" width=\"100%\" height=\"200\" style=\"border: none;\"></iframe>\n",
    "      </td>\n",
    "      <td style=\"padding: 10px; vertical-align: top;\">\n",
    "        <h4>Projection</h4>\n",
    "        Project $a$ on $b$.\n",
    "        <center>$(a\\cdot b)b^{-1} \\quad$<code>a @ b</code></center>\n",
    "        <iframe src=\"https://enkimute.github.io/ganja.js/examples/coffeeshop.html#ZxD1dER4ho&fullscreen\" width=\"100%\" height=\"200\" style=\"border: none;\"></iframe>\n",
    "      </td>\n",
    "    </tr>\n",
    "  </table>\n",
    "</section>\n"
   ]
  },
  {
   "cell_type": "markdown",
   "id": "cd6fdfe6-fda6-4fac-8926-09ca6fb55159",
   "metadata": {
    "editable": true,
    "slideshow": {
     "slide_type": "slide"
    },
    "tags": []
   },
   "source": [
    "# Back-up Slides"
   ]
  },
  {
   "cell_type": "markdown",
   "id": "10d22f29-a7d6-4e6f-b0db-830b618287d6",
   "metadata": {
    "editable": true,
    "slideshow": {
     "slide_type": "skip"
    },
    "tags": []
   },
   "source": [
    "# GLULookAt\n",
    "\n",
    "<div style=\"-webkit-column-count: 2; -moz-column-count: 2; column-count: 2; -webkit-column-rule: 1px dotted #e0e0e0; -moz-column-rule: 1px dotted #e0e0e0; column-rule: 1px dotted #e0e0e0;\">\n",
    "    <div style=\"display: inline-block;\">\n",
    "        <h3>Reference</h3>\n",
    "        <pre><code class=\"language-c\">void GLAPIENTRY\n",
    "gluLookAt(GLdouble eyex, GLdouble eyey, GLdouble eyez, \n",
    "          GLdouble centerx, GLdouble centery, GLdouble centerz, \n",
    "          GLdouble upx, GLdouble upy, GLdouble upz) {\n",
    "            \n",
    "    float forward[3], side[3], up[3];\n",
    "    GLfloat m[4][4];\n",
    "\n",
    "    forward[0] = centerx - eyex;\n",
    "    forward[1] = centery - eyey;\n",
    "    forward[2] = centerz - eyez;\n",
    "\n",
    "    up[0] = upx;\n",
    "    up[1] = upy;\n",
    "    up[2] = upz;\n",
    "\n",
    "    normalize(forward);\n",
    "\n",
    "    /* Side = forward x up */\n",
    "    cross(forward, up, side);\n",
    "    normalize(side);\n",
    "\n",
    "    /* Recompute up as: up = side x forward */\n",
    "    cross(side, forward, up);\n",
    "\n",
    "    __gluMakeIdentityf(&m[0][0]);\n",
    "    m[0][0] = side[0];\n",
    "    m[1][0] = side[1];\n",
    "    m[2][0] = side[2];\n",
    "\n",
    "    m[0][1] = up[0];\n",
    "    m[1][1] = up[1];\n",
    "    m[2][1] = up[2];\n",
    "\n",
    "    m[0][2] = -forward[0];\n",
    "    m[1][2] = -forward[1];\n",
    "    m[2][2] = -forward[2];\n",
    "\n",
    "    glMultMatrixf(&m[0][0]);\n",
    "    glTranslated(-eyex, -eyey, -eyez);\n",
    "}\n",
    "</code></pre>\n",
    "    </div>\n",
    "    <div style=\"display: inline-block;\">\n",
    "        <h2>Bad</h2>\n",
    "        <pre><code class=\"language-c\">int foo (void) {\n",
    "    int i;\n",
    "}\n",
    "</code></pre>\n",
    "    </div>\n",
    "</div>"
   ]
  },
  {
   "cell_type": "markdown",
   "id": "e428a434-46f0-44a5-a5a2-b071b8277a66",
   "metadata": {
    "editable": true,
    "slideshow": {
     "slide_type": "subslide"
    },
    "tags": []
   },
   "source": [
    "## Visualizing PGA: Cartan-Dieudonné\n",
    "\n",
    "Geometric gauges make it easy to reason about these products!\n",
    "- The **product** eliminates **identical** reflections.\n",
    "- The **inner product** retains orthogonal reflections.\n",
    "- The **join** retains **identical** reflections.\n",
    "- The **meet** identifies **orthogonal** reflections.\n",
    "\n",
    "<iframe class=\"fragement\" src=\"https://enkimute.github.io/ganja.js/examples/coffeeshop.html#6k_WTdeizV&fullscreen\" width=\"100%\" height=\"300px\" frameBorder=\"0\" scrolling=\"no\"></iframe>\n",
    "\n"
   ]
  },
  {
   "cell_type": "markdown",
   "id": "e686e982-7003-4c75-8626-4f96c0c922c6",
   "metadata": {
    "editable": true,
    "slideshow": {
     "slide_type": "subslide"
    },
    "tags": []
   },
   "source": [
    "## Visualizing PGA: Cartan-Dieudonné\n",
    "\n",
    "Geometric gauges make it easy to reason about these products!\n",
    "- The **product** eliminates **identical** reflections.\n",
    "- The **inner product** retains orthogonal reflections.\n",
    "- The **join** retains **identical** reflections.\n",
    "- The **meet** identifies **orthogonal** reflections.\n",
    "\n",
    "<iframe class=\"fragement\" src=\"https://enkimute.github.io/ganja.js/examples/coffeeshop.html#sbpHWjCHDc&fullscreen\" width=\"100%\" height=\"300px\" frameBorder=\"0\" scrolling=\"no\"></iframe>\n",
    "\n"
   ]
  },
  {
   "cell_type": "markdown",
   "id": "0f43e0a5-de26-4744-b55b-945de5988bd9",
   "metadata": {
    "editable": true,
    "jp-MarkdownHeadingCollapsed": true,
    "slideshow": {
     "slide_type": "skip"
    },
    "tags": []
   },
   "source": [
    "<!-- ## Orthogonal Reflections\n",
    "\n",
    "*What is the square of two orthogonal reflections?* We've been sloppy: reflections have a front and a back.\n",
    "\n",
    "<div style=\"display: flex; gap: 1em; align-items: flex-start;\">\n",
    "  <div data-markdown style=\"flex: 1;\">\n",
    "  \n",
    "<span class=\"r-stack\">\n",
    "    <span data-markdown class=\"fragment current-visible\" data-fragment-index=\"0\">Doing the same reflection twice is identity: $a^2 =b^2 = 1$</span>\n",
    "    <span data-markdown class=\"fragment current-visible\" data-fragment-index=\"1\">$$ab$$</span>\n",
    "    <span data-markdown class=\"fragment current-visible\" data-fragment-index=\"2\">$$(ab)^2 = -1$$</span>\n",
    "    <span data-markdown class=\"fragment current-visible\" data-fragment-index=\"3\">$$(ab)^2 = -1$$</span>\n",
    "    <span data-markdown class=\"fragment current-visible\" data-fragment-index=\"4\">$$(ab)^3 = (- a)b = -ab$$</span>\n",
    "    <span data-markdown class=\"fragment current-visible\" data-fragment-index=\"5\">$$(ab)^4 = (- ab) ab = 1$$</span>\n",
    "    <span data-markdown class=\"fragment\" data-fragment-index=\"6\">$$\\begin{aligned}(ab)^4 = (- ab) ab &= 1 \\\\ ba ab &= 1 \\end{aligned} \\quad \\biggl\\} \\quad ba = - ab$$</span>\n",
    "</span>\n",
    "\n",
    "  </div>\n",
    "  <div style=\"flex: 1;\">\n",
    "    \n",
    "<span class=\"r-stack\">\n",
    "    <span data-markdown class=\"fragment current-visible\" data-fragment-index=\"0\">$$\\theta_{ab} = 0, \\qquad \\theta_\\triangle = 0$$</span>\n",
    "    <span data-markdown class=\"fragment current-visible\" data-fragment-index=\"1\">$$\\theta_{ab} = 90^\\circ, \\qquad \\theta_\\triangle = 180^\\circ $$</span>\n",
    "    <span data-markdown class=\"fragment current-visible\" data-fragment-index=\"2\">$$\\theta_{ab} = 180^\\circ, \\qquad \\theta_\\triangle = 360^\\circ $$</span>\n",
    "    <span data-markdown class=\"fragment current-visible\" data-fragment-index=\"3\">$$\\theta_{ab} = 180^\\circ, \\qquad \\theta_\\triangle = 360^\\circ $$</span>\n",
    "    <span data-markdown class=\"fragment current-visible\" data-fragment-index=\"4\">$$\\theta_{ab} = 270^\\circ, \\qquad \\theta_\\triangle = 540^\\circ $$</span>\n",
    "    <span data-markdown class=\"fragment current-visible\" data-fragment-index=\"5\">$$\\theta_{ab} = 360^\\circ, \\qquad \\theta_\\triangle = 720^\\circ $$</span>\n",
    "    <span data-markdown class=\"fragment\" data-fragment-index=\"6\">$$\\theta_{ab} = -90^\\circ, \\qquad \\theta_\\triangle = -180^\\circ $$</span>\n",
    "</span>\n",
    "\n",
    "  </div>\n",
    "</div>\n",
    "\n",
    "<iframe src=\"https://enki.ws/ganja.js/examples/coffeeshop.html#ZaNN9NWjY&fullscreen\" width=\"100%\" height=\"375px\" frameBorder=\"0\" alt=\"iframe\"></iframe>\n",
    "\n",
    "\n",
    "<div style=\"display: flex; gap: 1em; align-items: flex-start;\">\n",
    "  <div class=\"r-frame fragment\" data-fragment-index=\"3\" data-markdown style=\"flex: 45;\">\n",
    "  <center>\n",
    "  <span data-markdown>Orthogonal reflections satisfy $(ab)^2 = -1$</span>\n",
    "  </center>\n",
    "  </div>\n",
    "  <div class=\"r-frame fragment\" data-fragment-index=\"7\" style=\"flex: 55;\">\n",
    "  <center>  \n",
    "  <span data-markdown >Orthogonal reflections anti-commute: $-ab = ba$</span>\n",
    "  </center>\n",
    "  </div>\n",
    "</div> -->"
   ]
  },
  {
   "cell_type": "markdown",
   "id": "7f4d1894-2d33-428b-a559-2aba40e7a688",
   "metadata": {
    "editable": true,
    "slideshow": {
     "slide_type": "subslide"
    },
    "tags": []
   },
   "source": [
    "# Table of Content\n",
    "\n",
    "3DPGA subsumes\n",
    "- 3D vector dot and cross product $$v = \\begin{pmatrix} x & y & z \\end{pmatrix} \\rightarrow v = x \\mathbf{e}_1 + y \\mathbf{e}_2 + y \\mathbf{e}_3$$\n",
    "- Homogenous coordinates\n",
    "- Screw theory"
   ]
  },
  {
   "cell_type": "code",
   "execution_count": null,
   "id": "82634c06-df49-48cb-9ae9-be806f58f4c2",
   "metadata": {
    "editable": true,
    "slideshow": {
     "slide_type": ""
    },
    "tags": []
   },
   "outputs": [],
   "source": []
  }
 ],
 "metadata": {
  "kernelspec": {
   "display_name": "Python 3 (ipykernel)",
   "language": "python",
   "name": "python3"
  },
  "language_info": {
   "codemirror_mode": {
    "name": "ipython",
    "version": 3
   },
   "file_extension": ".py",
   "mimetype": "text/x-python",
   "name": "python",
   "nbconvert_exporter": "python",
   "pygments_lexer": "ipython3",
   "version": "3.10.15"
  }
 },
 "nbformat": 4,
 "nbformat_minor": 5
}
