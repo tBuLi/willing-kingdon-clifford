{
 "cells": [
  {
   "cell_type": "code",
   "execution_count": 1,
   "id": "6087de39-ef55-4638-817a-b701cad7aeca",
   "metadata": {},
   "outputs": [],
   "source": [
    "from animations import (\n",
    "    refl_1d_graph_func_0,\n",
    "    refl_1d_graph_func_1,\n",
    "    refl_1d_graph_func_2,\n",
    "    refl_1d_graph_func_3,\n",
    "    refl_2d_graph_func,\n",
    "    birefl_graph_func,\n",
    "    point_refl_graph_func,\n",
    "    birefl_gauge_rot_func,\n",
    "    birefl_gauge_trans_func,\n",
    "    points_gp_graph_func,\n",
    "    sw_graph_func,\n",
    "    birefl_iden_graph_func,\n",
    "    birefl_point_graph_func,\n",
    ")\n",
    "from animations.config import alg3d, animated_options, options"
   ]
  },
  {
   "cell_type": "code",
   "execution_count": 2,
   "id": "a5bcd4c8-bf1f-4683-85ea-cc8a1ab6056f",
   "metadata": {},
   "outputs": [
    {
     "data": {
      "application/vnd.jupyter.widget-view+json": {
       "model_id": "099e4eab9b84477faa21ea0f89103f33",
       "version_major": 2,
       "version_minor": 1
      },
      "text/plain": [
       "GraphWidget(cayley=[['1', 'e0', 'e1', 'e2', 'e3', 'e01', 'e02', 'e03', 'e12', 'e13', 'e23', 'e012', 'e013', 'e…"
      ]
     },
     "execution_count": 2,
     "metadata": {},
     "output_type": "execute_result"
    }
   ],
   "source": [
    "alg3d.graph(\n",
    "    birefl_point_graph_func,\n",
    "    **options\n",
    ")"
   ]
  },
  {
   "cell_type": "code",
   "execution_count": null,
   "id": "f4151cbc-abd7-4159-a90c-e7047ed305d5",
   "metadata": {},
   "outputs": [],
   "source": []
  }
 ],
 "metadata": {
  "kernelspec": {
   "display_name": "Python 3 (ipykernel)",
   "language": "python",
   "name": "python3"
  },
  "language_info": {
   "codemirror_mode": {
    "name": "ipython",
    "version": 3
   },
   "file_extension": ".py",
   "mimetype": "text/x-python",
   "name": "python",
   "nbconvert_exporter": "python",
   "pygments_lexer": "ipython3",
   "version": "3.10.14"
  }
 },
 "nbformat": 4,
 "nbformat_minor": 5
}
